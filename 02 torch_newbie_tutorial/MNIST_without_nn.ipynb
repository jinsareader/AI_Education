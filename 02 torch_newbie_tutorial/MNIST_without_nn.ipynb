{
 "cells": [
  {
   "cell_type": "code",
   "execution_count": 3,
   "id": "070caf32-d0f2-4bdf-a82b-21308b5290bf",
   "metadata": {},
   "outputs": [],
   "source": [
    "import torch\n",
    "import torch.nn as nn\n",
    "import torchvision.datasets as datasets\n",
    "import torchvision.transforms as transforms\n",
    "from torch.utils.data import DataLoader"
   ]
  },
  {
   "cell_type": "code",
   "execution_count": 2,
   "id": "4dfbeab2-53ab-4e25-bba7-72f0360c8536",
   "metadata": {},
   "outputs": [
    {
     "name": "stderr",
     "output_type": "stream",
     "text": [
      "100%|█████████████████████████████████████████████████████████████████████████████| 9.91M/9.91M [00:03<00:00, 2.94MB/s]\n",
      "100%|██████████████████████████████████████████████████████████████████████████████| 28.9k/28.9k [00:00<00:00, 157kB/s]\n",
      "100%|██████████████████████████████████████████████████████████████████████████████| 1.65M/1.65M [00:07<00:00, 223kB/s]\n",
      "100%|█████████████████████████████████████████████████████████████████████████████| 4.54k/4.54k [00:00<00:00, 8.96MB/s]\n"
     ]
    }
   ],
   "source": [
    "# 데이터 불러오기\n",
    "\n",
    "train = datasets.MNIST(root = \"/data\", train = True, transform = transforms.ToTensor(), download = True)\n",
    "test = datasets.MNIST(root = \"/data\", train = False, transform = transforms.ToTensor(), download = True)\n",
    "\n",
    "train_dataloader = DataLoader(train, batch_size = 100, shuffle = True)\n",
    "test_dataloader = DataLoader(test, batch_size = 1000, shuffle = False)\n"
   ]
  },
  {
   "cell_type": "code",
   "execution_count": 6,
   "id": "bd3985f3-3724-44f2-a9f4-6ca508f24b25",
   "metadata": {},
   "outputs": [
    {
     "name": "stdout",
     "output_type": "stream",
     "text": [
      "epoch 1 | loss 31.292280197143555\n",
      "epoch 2 | loss 3.9358623027801514\n",
      "epoch 3 | loss 2.1430070400238037\n",
      "epoch 4 | loss 1.7842055559158325\n",
      "epoch 5 | loss 1.6035614013671875\n",
      "epoch 6 | loss 1.5296568870544434\n",
      "epoch 7 | loss 1.4797770977020264\n",
      "epoch 8 | loss 1.4275163412094116\n",
      "epoch 9 | loss 1.4012646675109863\n",
      "epoch 10 | loss 1.3163130283355713\n",
      "epoch 11 | loss 1.2952600717544556\n",
      "epoch 12 | loss 1.2638815641403198\n",
      "epoch 13 | loss 1.2408316135406494\n",
      "epoch 14 | loss 1.1969574689865112\n",
      "epoch 15 | loss 1.1806986331939697\n",
      "epoch 16 | loss 1.1482630968093872\n",
      "epoch 17 | loss 1.1348750591278076\n",
      "epoch 18 | loss 1.1135013103485107\n",
      "epoch 19 | loss 1.077126145362854\n",
      "epoch 20 | loss 1.064884066581726\n",
      "epoch 21 | loss 1.0606322288513184\n",
      "epoch 22 | loss 1.0207184553146362\n",
      "epoch 23 | loss 1.0242085456848145\n",
      "epoch 24 | loss 0.9901885986328125\n",
      "epoch 25 | loss 0.9859237670898438\n",
      "epoch 26 | loss 0.9653562903404236\n",
      "epoch 27 | loss 0.9641261100769043\n",
      "epoch 28 | loss 0.9449000358581543\n",
      "epoch 29 | loss 0.946185827255249\n",
      "epoch 30 | loss 0.9200968742370605\n"
     ]
    }
   ],
   "source": [
    "device = \"cuda\" if torch.cuda.is_available() else \"cpu\"\n",
    "\n",
    "class NN(nn.Module) :\n",
    "    def __init__(self) :\n",
    "        super().__init__()\n",
    "        # 각 커스텀 함수에 쓰일 W, b 값들을 일일히 전부 선언\n",
    "        # optimizer에서 backward(역전파) 작업을 할 때 torch.nn.Parameter(torch.tensor())를 수정해야 할 값으로 인식해서 수정 작업을 실행\n",
    "        self.f_weight = nn.Parameter(torch.randn(128, 28*28))\n",
    "        self.f_bias = nn.Parameter(torch.randn(128))\n",
    "        self.g_weight = nn.Parameter(torch.randn(64,128))\n",
    "        self.g_bias = nn.Parameter(torch.randn(64))\n",
    "        self.h_weight = nn.Parameter(torch.randn(10, 64))\n",
    "        self.h_bias = nn.Parameter(torch.randn(10))\n",
    "    def forward(self, x) :\n",
    "        # 커스텀 함수를 이용해서 계산\n",
    "        x = torch.matmul(x, self.f_weight.T) + self.f_bias #행렬끼리의 곱셈\n",
    "        x = nn.functional.relu(x)\n",
    "        x = nn.functional.dropout(x ,p = 0.25, training = True)\n",
    "        x = torch.matmul(x, self.g_weight.T) + self.g_bias\n",
    "        x = nn.functional.relu(x)\n",
    "        x = torch.matmul(x, self.h_weight.T) + self.h_bias\n",
    "        return x\n",
    "\n",
    "#함수 선언\n",
    "F = NN()\n",
    "F = F.to(device) #F 전체에 배정된 기기를 .to() 함수를 이용해서 변경이 가능다다\n",
    "loss_func = nn.CrossEntropyLoss()\n",
    "optimizer = torch.optim.SGD(F.parameters(), lr = 0.009)\n",
    "epoch = 30\n",
    "\n",
    "F.train() #dropout이 있으니 켜기\n",
    "for e in range(epoch) :\n",
    "    loss_sum = 0\n",
    "    for x, t in train_dataloader :\n",
    "        x = x.to(device)\n",
    "        t = t.to(device)\n",
    "        x = x.reshape(-1,28*28)\n",
    "        # 신경망 순전파\n",
    "        y = F(x)\n",
    "        #y, t비교\n",
    "        loss = loss_func(y, t)\n",
    "        loss_sum += loss\n",
    "        #역전파 (F(x) 수정)\n",
    "        optimizer.zero_grad()\n",
    "        loss.backward()\n",
    "        optimizer.step()\n",
    "\n",
    "    print(f\"epoch {e+1} | loss {loss_sum / len(train_dataloader)}\")"
   ]
  },
  {
   "cell_type": "code",
   "execution_count": 9,
   "id": "7f535016-5eeb-4a0e-95a8-452a7f9971f2",
   "metadata": {},
   "outputs": [
    {
     "name": "stdout",
     "output_type": "stream",
     "text": [
      "epoch 1 | loss 0.9155967235565186\n",
      "epoch 2 | loss 0.9052784442901611\n",
      "epoch 3 | loss 0.8765234351158142\n",
      "epoch 4 | loss 0.8679262399673462\n",
      "epoch 5 | loss 0.865960419178009\n",
      "epoch 6 | loss 0.8494653105735779\n",
      "epoch 7 | loss 0.8514023423194885\n",
      "epoch 8 | loss 0.8232221603393555\n",
      "epoch 9 | loss 0.8278650641441345\n",
      "epoch 10 | loss 0.8208258748054504\n",
      "epoch 11 | loss 0.8217416405677795\n",
      "epoch 12 | loss 0.8051092028617859\n",
      "epoch 13 | loss 0.7994210720062256\n",
      "epoch 14 | loss 0.7929670214653015\n",
      "epoch 15 | loss 0.7800220251083374\n",
      "epoch 16 | loss 0.7737788558006287\n",
      "epoch 17 | loss 0.764521598815918\n",
      "epoch 18 | loss 0.754402756690979\n",
      "epoch 19 | loss 0.7375864386558533\n",
      "epoch 20 | loss 0.7507950663566589\n",
      "epoch 21 | loss 0.7467626333236694\n",
      "epoch 22 | loss 0.7402790188789368\n",
      "epoch 23 | loss 0.7296691536903381\n",
      "epoch 24 | loss 0.726026177406311\n",
      "epoch 25 | loss 0.7208068370819092\n",
      "epoch 26 | loss 0.7139477133750916\n",
      "epoch 27 | loss 0.717241108417511\n",
      "epoch 28 | loss 0.7095756530761719\n",
      "epoch 29 | loss 0.7051421403884888\n",
      "epoch 30 | loss 0.6980610489845276\n"
     ]
    }
   ],
   "source": [
    "F.train()\n",
    "for e in range(epoch) :\n",
    "    loss_sum = 0\n",
    "    for x, t in train_dataloader :\n",
    "        x = x.to(device)\n",
    "        t = t.to(device)\n",
    "        x = x.reshape(-1,28*28)\n",
    "        y = F(x)\n",
    "\n",
    "        loss = loss_func(y, t)\n",
    "        loss_sum += loss\n",
    "\n",
    "        optimizer.zero_grad()\n",
    "        loss.backward()\n",
    "        optimizer.step()\n",
    "\n",
    "    print(f\"epoch {e+1} | loss {loss_sum / len(train_dataloader)}\")"
   ]
  },
  {
   "cell_type": "code",
   "execution_count": 10,
   "id": "f4d11b7f-b132-4a1c-95f6-f8afbb8036f6",
   "metadata": {},
   "outputs": [
    {
     "name": "stdout",
     "output_type": "stream",
     "text": [
      "0.7903\n"
     ]
    }
   ],
   "source": [
    "cnt = 0\n",
    "total = 0\n",
    "\n",
    "F.eval()\n",
    "for x, t in test_dataloader :\n",
    "    x = x.to(device)\n",
    "    t = t.to(device)\n",
    "    x = x.reshape(-1,28*28)\n",
    "    y = F(x)\n",
    "    for i in range(len(x)) :\n",
    "        if torch.argmax(y[i]) == t[i] :\n",
    "            cnt += 1\n",
    "        total += 1\n",
    "\n",
    "print(cnt / total)"
   ]
  },
  {
   "cell_type": "code",
   "execution_count": null,
   "id": "1b9be575-15d9-432f-ab5d-4418b2cfaa07",
   "metadata": {},
   "outputs": [],
   "source": []
  }
 ],
 "metadata": {
  "kernelspec": {
   "display_name": "Python 3 (ipykernel)",
   "language": "python",
   "name": "python3"
  },
  "language_info": {
   "codemirror_mode": {
    "name": "ipython",
    "version": 3
   },
   "file_extension": ".py",
   "mimetype": "text/x-python",
   "name": "python",
   "nbconvert_exporter": "python",
   "pygments_lexer": "ipython3",
   "version": "3.12.7"
  }
 },
 "nbformat": 4,
 "nbformat_minor": 5
}
