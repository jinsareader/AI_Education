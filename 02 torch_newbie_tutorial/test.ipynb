{
 "cells": [
  {
   "cell_type": "code",
   "execution_count": 2,
   "id": "8d53af57-9335-4d94-8cb6-4a0e662f5a12",
   "metadata": {},
   "outputs": [],
   "source": [
    "import torch\n",
    "import torch.nn as nn"
   ]
  },
  {
   "cell_type": "code",
   "execution_count": 4,
   "id": "eb8a4c66-5a01-4122-a6c1-d599a91ae0d6",
   "metadata": {},
   "outputs": [
    {
     "name": "stdout",
     "output_type": "stream",
     "text": [
      "입력 값 :  tensor([-1.,  0.,  1.])\n",
      "출력 값 :  tensor([0.2689, 0.5000, 0.7311])\n",
      "tensor([0.2689, 0.5000, 0.7311])\n"
     ]
    }
   ],
   "source": [
    "## 문제 1\n",
    "\n",
    "#1. 텐서 생성\n",
    "tensor = torch.tensor([-1.0, 0.0, 1.0])\n",
    "#2. 시그모이드 적용\n",
    "sigmoid = nn.Sigmoid() #계산하는 객체 생성\n",
    "output = sigmoid(tensor) #객체에 계산하고 싶은 값 넣어서 결과값\n",
    "#3. 결과 저장, 출력\n",
    "print(\"입력 값 : \",tensor)\n",
    "print(\"출력 값 : \",output)\n",
    "\n",
    "print(1 / (1 + torch.exp(-tensor)))"
   ]
  },
  {
   "cell_type": "code",
   "execution_count": 9,
   "id": "45bfbe51-5b7f-4866-81c4-f0d1ea63745a",
   "metadata": {},
   "outputs": [
    {
     "name": "stdout",
     "output_type": "stream",
     "text": [
      "입력값 :  tensor([[-0.0837,  0.3879]])\n",
      "선형값 :  tensor([[-0.1770]], grad_fn=<AddmmBackward0>)\n",
      "최종값 :  tensor([[0.4559]], grad_fn=<SigmoidBackward0>)\n"
     ]
    }
   ],
   "source": [
    "## 문제 2\n",
    "# 1. 선형함수 생성\n",
    "linear_layer = nn.Linear(2, 1)\n",
    "# 2. 텐서 생성\n",
    "tensor = torch.randn(1,2)\n",
    "# 3. 선형함수에 텐서 넣어서 계산\n",
    "output = linear_layer(tensor)\n",
    "# 4. 시그모이드 적용\n",
    "sigmoid = torch.nn.functional.sigmoid(output) #함수 자체에 바로 계산하고 싶은 값 넣어서 결과값\n",
    "# 5. 결과값 출력\n",
    "print(\"입력값 : \", tensor)\n",
    "print(\"선형값 : \", output)\n",
    "print(\"최종값 : \", sigmoid)"
   ]
  },
  {
   "cell_type": "code",
   "execution_count": 14,
   "id": "c93fe6dd-2b72-4062-ae48-f399094d77e8",
   "metadata": {},
   "outputs": [
    {
     "name": "stdout",
     "output_type": "stream",
     "text": [
      "입력값 :  tensor([ 1.,  0., -1.])\n",
      "출력값 :  tensor([ 0.7616,  0.0000, -0.7616])\n",
      "tensor([ 0.7616,  0.0000, -0.7616])\n"
     ]
    }
   ],
   "source": [
    "## 문제 3\n",
    "\n",
    "# 1.텐서 생성\n",
    "tensor = torch.tensor([1.0, 0.0, -1.0])\n",
    "# 2.쌍곡탄젠트 적용\n",
    "tanh = nn.Tanh()\n",
    "output = tanh(tensor)\n",
    "# 3.결과 출력 \n",
    "print(\"입력값 : \",tensor)\n",
    "print(\"출력값 : \",output)\n",
    "\n",
    "print((torch.exp(tensor) - torch.exp(-tensor))/(torch.exp(tensor) + torch.exp(-tensor)))"
   ]
  },
  {
   "cell_type": "code",
   "execution_count": 13,
   "id": "896f801f-0f98-4d0e-8892-9533f9e94262",
   "metadata": {},
   "outputs": [
    {
     "name": "stdout",
     "output_type": "stream",
     "text": [
      "tensor([[0.4507, 0.5935, 0.6579]])\n",
      "tensor([[-0.1699]], grad_fn=<AddmmBackward0>)\n",
      "tensor([[-0.1683]], grad_fn=<TanhBackward0>)\n"
     ]
    }
   ],
   "source": [
    "## 문제 4\n",
    "\n",
    "#1. 선형함수 생성\n",
    "linear_layer = nn.Linear(3,1)\n",
    "#2. 텐서 생성\n",
    "tensor = torch.randn(1,3)\n",
    "#3. 선형함수에 텐서 넣어서 계산\n",
    "output = linear_layer(tensor)\n",
    "#4. tanh 적용\n",
    "tanh = nn.functional.tanh(output)\n",
    "#5. 결과값 출력\n",
    "print(tensor)\n",
    "print(output)\n",
    "print(tanh)"
   ]
  },
  {
   "cell_type": "code",
   "execution_count": null,
   "id": "086f6999-e95f-4d76-83c7-089bddef51b3",
   "metadata": {},
   "outputs": [],
   "source": []
  },
  {
   "cell_type": "code",
   "execution_count": 15,
   "id": "68b1b60d-aff6-4106-8699-ee5a4968e2a4",
   "metadata": {},
   "outputs": [
    {
     "name": "stdout",
     "output_type": "stream",
     "text": [
      "입력값 :  tensor([-1.,  2., -3.,  4., -5.])\n",
      "출력값 :  tensor([0., 2., 0., 4., 0.])\n"
     ]
    }
   ],
   "source": [
    "## 문제 1\n",
    "\n",
    "#1. 텐서 생성\n",
    "tensor = torch.tensor([-1.0, 2.0, -3.0, 4.0, -5.0])\n",
    "#2. ReLU에 집어넣고\n",
    "relu = nn.ReLU()\n",
    "output = relu(tensor)\n",
    "#3. 결과값 출력\n",
    "print(\"입력값 : \", tensor)\n",
    "print(\"출력값 : \", output)"
   ]
  },
  {
   "cell_type": "code",
   "execution_count": 17,
   "id": "394ea299-4c8f-4ecc-8805-7154ac0652c2",
   "metadata": {},
   "outputs": [
    {
     "name": "stdout",
     "output_type": "stream",
     "text": [
      "입력 :  tensor([[ 0.9827,  0.7020,  1.5530, -0.4236,  0.0881]])\n",
      "출력 :  tensor([[-0.4290]], grad_fn=<AddmmBackward0>)\n",
      "relu :  tensor([[0.]], grad_fn=<ReluBackward0>)\n"
     ]
    }
   ],
   "source": [
    "## 문제 2\n",
    "\n",
    "#1. 선형 함수 생성\n",
    "linear_layer = nn.Linear(5,1)\n",
    "#2. tensor 생성\n",
    "tensor = torch.randn(1,5)\n",
    "#3. 선형함수에 tensor 만들어서 계산\n",
    "output = linear_layer(tensor)\n",
    "#4. relu 적용\n",
    "relu = nn.functional.relu(output)\n",
    "#4. 출력\n",
    "print(\"입력 : \",tensor)\n",
    "print(\"출력 : \",output)\n",
    "print(\"relu : \",relu)"
   ]
  },
  {
   "cell_type": "code",
   "execution_count": 20,
   "id": "946a2076-1575-4bc3-8d7c-1e5a46925cb9",
   "metadata": {},
   "outputs": [
    {
     "name": "stdout",
     "output_type": "stream",
     "text": [
      "입력 :  tensor([2.0000, 1.0000, 0.1000])\n",
      "출력 :  tensor([0.6590, 0.2424, 0.0986])\n",
      "출력 전체 합 :  tensor(1.0000)\n"
     ]
    }
   ],
   "source": [
    "## 문제 3\n",
    "\n",
    "#1. 텐서 생성\n",
    "tensor = torch.tensor([2.0,1.0,0.1])\n",
    "#2. 소프트맥스 적용\n",
    "softmax = nn.Softmax(dim = -1)\n",
    "output = softmax(tensor)\n",
    "#3. 결과 출력\n",
    "print(\"입력 : \", tensor)\n",
    "print(\"출력 : \", output)\n",
    "print(\"출력 전체 합 : \", output.sum())"
   ]
  },
  {
   "cell_type": "code",
   "execution_count": 25,
   "id": "293e375d-c5c3-4976-9671-a4e7b497ca9c",
   "metadata": {},
   "outputs": [
    {
     "name": "stdout",
     "output_type": "stream",
     "text": [
      "tensor([[1.]], grad_fn=<SoftmaxBackward0>)\n"
     ]
    }
   ],
   "source": [
    "## 문제 4\n",
    "\n",
    "#1. 선형함수 생성\n",
    "linear_layer = nn.Linear(4,1)\n",
    "#2. tensor생성\n",
    "tensor = torch.randn(1,4)\n",
    "#3. 선형함수 계산\n",
    "output = linear_layer(tensor)\n",
    "#4. softmax적용\n",
    "softmax = nn.functional.softmax(output, dim = -1)\n",
    "#5. 출력\n",
    "print(softmax) #소프트맥스는 다 더하면 1, 즉 하나만 있으면 그것은 1로 고정"
   ]
  },
  {
   "cell_type": "code",
   "execution_count": null,
   "id": "366ae56a-e7c8-40ed-a7d2-00027a4a4bda",
   "metadata": {},
   "outputs": [],
   "source": []
  },
  {
   "cell_type": "code",
   "execution_count": 26,
   "id": "fca5a11a-261e-4ae6-b215-a4549de1292e",
   "metadata": {},
   "outputs": [
    {
     "name": "stdout",
     "output_type": "stream",
     "text": [
      "tensor(0.1667)\n"
     ]
    }
   ],
   "source": [
    "## 문제 1\n",
    "\n",
    "#1. 데이터 만들기\n",
    "y = torch.tensor([2.5,4.0,1.5], dtype = torch.float) #AI가 출력한 값\n",
    "t = torch.tensor([3.0,4.0,2.0], dtype = torch.float) #실제 값\n",
    "\n",
    "#2. 손실함수로 비교\n",
    "loss_function = nn.MSELoss()\n",
    "loss = loss_function(y, t)\n",
    "\n",
    "#3. 결과 출력\n",
    "print(loss)"
   ]
  },
  {
   "cell_type": "code",
   "execution_count": 28,
   "id": "034136be-2f04-4436-95ec-23492294abc8",
   "metadata": {},
   "outputs": [
    {
     "name": "stdout",
     "output_type": "stream",
     "text": [
      "tensor(0.1488)\n"
     ]
    }
   ],
   "source": [
    "## 문제 2\n",
    "\n",
    "#1. 데이터 만들기\n",
    "y = torch.tensor([0.2,0.8,0.0], dtype = torch.float) #AI가 출력한 값, 3개의 케이스\n",
    "t = torch.tensor([0,1,0], dtype = torch.float) #실제 값, 3개의 케이스\n",
    "#2. 손실함수로 비교 (BCELoss)\n",
    "loss_function = nn.BCELoss()\n",
    "loss = loss_function(y, t)\n",
    "#3. 결과 출력\n",
    "print(loss)"
   ]
  },
  {
   "cell_type": "code",
   "execution_count": 31,
   "id": "eb364ff2-787c-498c-ad6f-3e463e229308",
   "metadata": {},
   "outputs": [
    {
     "name": "stdout",
     "output_type": "stream",
     "text": [
      "tensor(0.3961)\n"
     ]
    }
   ],
   "source": [
    "## 문제 3\n",
    "\n",
    "#1. 데이터 만들기\n",
    "y = torch.tensor([[0.8,0.2],[0.2,0.8],[1.0,0.0]], dtype = torch.float) #AI가 출력한 값 , 3개의 케이스, 원핫 인코딩 형식의 출력값 \n",
    "t = torch.tensor([0,1,0], dtype = torch.long) #실제 레이블, 3개의 케이스\n",
    "#2. 손실함수로 비교(CrossEntropyLoss)\n",
    "loss_function = nn.CrossEntropyLoss()\n",
    "loss = loss_function(y, t)\n",
    "#3. 결과 출력\n",
    "print(loss)"
   ]
  },
  {
   "cell_type": "code",
   "execution_count": null,
   "id": "29bbe0d9-0219-4625-8032-64aa1e2417ba",
   "metadata": {},
   "outputs": [],
   "source": []
  },
  {
   "cell_type": "code",
   "execution_count": 38,
   "id": "f0190c9b-0847-4f81-bf93-d5b03c60c367",
   "metadata": {},
   "outputs": [
    {
     "name": "stdout",
     "output_type": "stream",
     "text": [
      "x=3 에서의 함수 출력 :  27\n",
      "x=3 에서의 함수 미분 :  18.001600210482138\n"
     ]
    }
   ],
   "source": [
    "class sample_function() :\n",
    "    def __init__(self) :\n",
    "        pass\n",
    "    def calculation(self, x) :\n",
    "        y = 3 * (x ** 2)\n",
    "        return y\n",
    "    def grad(self, x) :\n",
    "        eps = 1e-12\n",
    "        y = (self.calculation(x + eps) - self.calculation(x)) / eps\n",
    "        return y\n",
    "\n",
    "f = sample_function()\n",
    "x = 3\n",
    "\n",
    "print(\"x=3 에서의 함수 출력 : \", f.calculation(x))\n",
    "print(\"x=3 에서의 함수 미분 : \", f.grad(x))\n",
    "\n",
    "# x가 3일때 출력값 : 27\n",
    "# 도함수 = 6 * x, x가 3일때는 18"
   ]
  },
  {
   "cell_type": "code",
   "execution_count": null,
   "id": "67cf25f1-e81f-4e93-951a-732ca5267afd",
   "metadata": {},
   "outputs": [],
   "source": [
    "#2에서 -2를 빼면 4니까 "
   ]
  },
  {
   "cell_type": "code",
   "execution_count": 41,
   "id": "44c7590a-8597-4c29-9b5c-858d5b13effc",
   "metadata": {},
   "outputs": [
    {
     "name": "stdout",
     "output_type": "stream",
     "text": [
      "tensor([[-0.7454,  0.2814,  0.4640]])\n"
     ]
    }
   ],
   "source": [
    "###CrossEntropyLoss에서의 미분\n",
    "\n",
    "tensor = torch.tensor([[0.1,0.2,0.7]], dtype = torch.float, requires_grad = True)\n",
    "#tensor값은 AI의 출력값, 0번째는 10%, 1번째는 20%, 2번째는 70%\n",
    "#requires_grad : 자동 미분 기능 켜는 parameter, 기본값은 False\n",
    "t = torch.tensor([0], dtype = torch.long)\n",
    "#실제 정답 라벨값, 실제 정답은 0번째\n",
    "\n",
    "loss_function = nn.CrossEntropyLoss()\n",
    "loss = loss_function(tensor, t)\n",
    "\n",
    "loss.backward() #손실함수 미분\n",
    "\n",
    "grad = tensor.grad\n",
    "print(grad)"
   ]
  },
  {
   "cell_type": "code",
   "execution_count": null,
   "id": "0f5385ec-cb9e-49b8-83fe-519cbbbd0e4f",
   "metadata": {},
   "outputs": [],
   "source": [
    "### 확률적 경사하강법(SGD)\n",
    "# torch에는 이것만 있음\n",
    "# N개의 case를 넣어서 y값을 출력하고 이걸 N개의 t와 비교하는것\n",
    "# N개중에 하나만 골라서 이것만 미분해서 경사하강법을 실시하는 것이  SGD\n",
    "\n",
    "#Batch 경사하강법은\n",
    "#N개 전부\n",
    "#SGD만 구현되었지만 case 하나씩 넣어서 순전파 한 다음에 하나씩  SGD를 하면 사실상 전부를 경사하강법 계산 하는것이랑 마찬지지\n",
    "\n",
    "#MiniBatch 경사하강법은\n",
    "#N개를 M조각으로 나눠서 나눠서 각각의 조각중에 하나 골라서 미분 (M번 미분)\n",
    "#SGD만 구현되었지만 DataLoader를 이용해서 case를 나눈다음에 그 조각들을 넣으면 사실상 일부만 선택해서 경사하강법 계산 하는 것이랑 마찬가지"
   ]
  },
  {
   "cell_type": "code",
   "execution_count": 45,
   "id": "390778a2-56b2-4b65-a431-52901ff161a9",
   "metadata": {},
   "outputs": [
    {
     "name": "stdout",
     "output_type": "stream",
     "text": [
      "epoch 1 | loss 0.9206953644752502\n",
      "epoch 2 | loss 0.9143216013908386\n",
      "epoch 3 | loss 0.9082117676734924\n",
      "epoch 4 | loss 0.9023546576499939\n",
      "epoch 5 | loss 0.8967399597167969\n",
      "epoch 6 | loss 0.8913574814796448\n",
      "epoch 7 | loss 0.8861977458000183\n",
      "epoch 8 | loss 0.8812513947486877\n",
      "epoch 9 | loss 0.8765097856521606\n",
      "epoch 10 | loss 0.8719642758369446\n"
     ]
    }
   ],
   "source": [
    "### 임의의 랜덤 데이터 하나 있다하고 이걸 이용해서 가상 AI 하나 만들어 봅시다\n",
    "\n",
    "#1.x, t입력\n",
    "x = torch.randn(100,1) #case 100개, feature 1개\n",
    "t = torch.randn(100,1) #case 100개, 정답 종류 1개\n",
    "#2.함수들 만들기\n",
    "F = nn.Sequential(\n",
    "    nn.Linear(1,1)\n",
    ")\n",
    "loss_function = nn.MSELoss() #숫자값 비교\n",
    "optimizer = torch.optim.SGD(F.parameters(), lr = 0.009) #lr(학습률)을 이용해 미분값 보정\n",
    "epoch = 10\n",
    "\n",
    "for e in range(epoch) :\n",
    "#3.y = F(x)\n",
    "    y = F(x)\n",
    "#4.y, t비교\n",
    "    loss = loss_function(y, t)\n",
    "#5.F(x) 수정\n",
    "    optimizer.zero_grad() #미분값 초기화\n",
    "    loss.backward() #손실함수 미분\n",
    "    optimizer.step() #신경망 미분&수정\n",
    "\n",
    "    print(f\"epoch {e+1} | loss {loss}\")"
   ]
  },
  {
   "cell_type": "code",
   "execution_count": null,
   "id": "c32493fc-2829-4855-a814-070024c01ae3",
   "metadata": {},
   "outputs": [],
   "source": []
  }
 ],
 "metadata": {
  "kernelspec": {
   "display_name": "Python 3 (ipykernel)",
   "language": "python",
   "name": "python3"
  },
  "language_info": {
   "codemirror_mode": {
    "name": "ipython",
    "version": 3
   },
   "file_extension": ".py",
   "mimetype": "text/x-python",
   "name": "python",
   "nbconvert_exporter": "python",
   "pygments_lexer": "ipython3",
   "version": "3.12.7"
  }
 },
 "nbformat": 4,
 "nbformat_minor": 5
}
