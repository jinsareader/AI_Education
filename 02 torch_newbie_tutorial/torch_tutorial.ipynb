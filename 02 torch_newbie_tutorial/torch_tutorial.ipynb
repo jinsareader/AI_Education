{
 "cells": [
  {
   "cell_type": "code",
   "execution_count": 1,
   "id": "87dfe1d1-7864-45ad-b406-ffd05adf10ef",
   "metadata": {},
   "outputs": [],
   "source": [
    "### torch\n",
    "\n",
    "import torch\n",
    "import numpy as np\n",
    "\n",
    "#url : https://pytorch.org/"
   ]
  },
  {
   "cell_type": "markdown",
   "id": "b5ce793d-4d7c-45c5-bc7a-846087bd6eb7",
   "metadata": {},
   "source": [
    "### torch AI 만드는 모듈 \n",
    "수치 계산 딥러닝 AI에서 Featrue(x), 가중치(W) 많으니까 tensor로 묶음\n",
    "1. 수학에서의 행렬의 명확한 정의는 rank 2의 tensor만 의미\n",
    "2. rank 1 tensor : vector (vector 의 원소를 차원)\n",
    "3. rank가 없는 상수 값 : scalar\n",
    "\n",
    "예 )\n",
    "[1,2,3,4] : rank 1의 tensor (=vector(4차원))\n",
    "\n",
    "[1000,2000] : rank 1의 tensor (=vector(2차원))\n",
    "\n",
    "[[1,3,5],\n",
    "[2,4,6]] : rank 2의 tensor (=행렬(2행*3열))\n",
    "\n",
    "[[1],\n",
    "[2],\n",
    "[3],\n",
    "[4]] : rank 2의 tensor (=행렬(4행*1열))\n",
    "\n",
    "[[999]] : rank 2의 tensor (=행렬(1행*1열))\n",
    "\n",
    "[\n",
    "[[0,0,1,0,0],[1,0,0,0,0],[0,0,0,1,0]],\n",
    "[[0,1,0,0,0],[1,0,0,0,0],[0,0,0,0,1]]\n",
    "] : rank 3의 tensor\n",
    "\n",
    "13578 : scalar (상수)\n",
    "\n",
    "## BUT 저는 수업에서 rank를 정의와 다르게 차원이라 하겠습니다.\n",
    "\n"
   ]
  },
  {
   "cell_type": "code",
   "execution_count": 7,
   "id": "1dac4daa-9861-42ce-aabe-914d4e6fe207",
   "metadata": {},
   "outputs": [
    {
     "name": "stdout",
     "output_type": "stream",
     "text": [
      "tensor([1, 2, 3])\n"
     ]
    }
   ],
   "source": [
    "### torch에서 tensor 선언(생성하는 법\n",
    "#[1,2,3] (1 차원 tensor = vector) 의 tensor를 선언해 봅시다\n",
    "\n",
    "tensor = torch.tensor([1,2,3])\n",
    "print(tensor)"
   ]
  },
  {
   "cell_type": "code",
   "execution_count": 47,
   "id": "b65e2bda-cbb4-4a23-a609-7a83b02ac077",
   "metadata": {},
   "outputs": [
    {
     "name": "stdout",
     "output_type": "stream",
     "text": [
      "Sequential(\n",
      "  (0): Linear(in_features=10, out_features=5, bias=True)\n",
      "  (1): ReLU()\n",
      "  (2): Linear(in_features=5, out_features=2, bias=False)\n",
      ")\n"
     ]
    }
   ],
   "source": [
    "### torch에서 신경망 모델 만드는 법 (sequential)\n",
    "# f(x) (10개 받아서, 5개 출력) -> ReLU() -> g(x) (5개 받아서, 2개 출력)\n",
    "module = torch.nn.Sequential(\n",
    "    torch.nn.Linear(in_features = 10, out_features = 5),\n",
    "    torch.nn.ReLU(),\n",
    "    torch.nn.Linear(in_features = 5, out_features = 2, bias = False)\n",
    ")\n",
    "\n",
    "print(module)\n",
    "\n",
    "## bias 는 b값이 있는가 없는가의 의미  y = xW + b"
   ]
  },
  {
   "cell_type": "code",
   "execution_count": 17,
   "id": "59a7a258-081c-47f2-bff7-d594db352dd4",
   "metadata": {},
   "outputs": [
    {
     "name": "stdout",
     "output_type": "stream",
     "text": [
      "True\n",
      "NVIDIA GeForce GTX 1060 3GB\n",
      "tensor([1, 2, 3], device='cuda:0')\n"
     ]
    }
   ],
   "source": [
    "## torch는 GPU(cuda) 기능을 사용할 수 있도록 합니다\n",
    "# cuda : Nvidia에서 제공하는 GPU 연산 기능\n",
    "\n",
    "print(torch.cuda.is_available()) #GPU 있는지 찾는것\n",
    "print(torch.cuda.get_device_name()) #GPU 이름\n",
    "\n",
    "#생성 tensor를 GPU로 이동\n",
    "\n",
    "if torch.cuda.is_available() :\n",
    "    tensor = tensor.to('cuda')\n",
    "\n",
    "print(tensor)"
   ]
  },
  {
   "cell_type": "code",
   "execution_count": 41,
   "id": "bac77229-3777-404a-ba25-8caf977f8877",
   "metadata": {},
   "outputs": [
    {
     "name": "stdout",
     "output_type": "stream",
     "text": [
      "tensor(27., grad_fn=<MulBackward0>)\n",
      "tensor(18.)\n"
     ]
    }
   ],
   "source": [
    "## torch.tensor는 식을 계산하면 자동으로 미분값도 torch class 내부 어딘가에 저장해 놓습니다\n",
    "## 자동 미분 기능 .backward()\n",
    "\n",
    "x = torch.tensor(3., requires_grad = True) #requires_grad : 텐서의 자동 미분 기능 켜놓는 parameter (기본값은 False)\n",
    "y = 3 * x ** 2\n",
    "y.backward() #식의 자동 미분 함수\n",
    "print(y)\n",
    "print(x.grad) #grad : 미분값 출력"
   ]
  },
  {
   "cell_type": "code",
   "execution_count": 53,
   "id": "2cea4004-aa66-45a9-bb7c-e85fd788fbf2",
   "metadata": {},
   "outputs": [
    {
     "name": "stdout",
     "output_type": "stream",
     "text": [
      "CustomNN(\n",
      "  (f): Linear(in_features=10, out_features=5, bias=True)\n",
      "  (g): Linear(in_features=5, out_features=2, bias=True)\n",
      "  (h): Sequential(\n",
      "    (0): Linear(in_features=2, out_features=20, bias=True)\n",
      "    (1): ReLU()\n",
      "    (2): Linear(in_features=20, out_features=5, bias=True)\n",
      "  )\n",
      ")\n",
      "Sequential(\n",
      "  (0): Linear(in_features=10, out_features=5, bias=True)\n",
      "  (1): ReLU()\n",
      "  (2): Linear(in_features=5, out_features=2, bias=False)\n",
      "  (customNN): CustomNN(\n",
      "    (f): Linear(in_features=10, out_features=5, bias=True)\n",
      "    (g): Linear(in_features=5, out_features=2, bias=True)\n",
      "    (h): Sequential(\n",
      "      (0): Linear(in_features=2, out_features=20, bias=True)\n",
      "      (1): ReLU()\n",
      "      (2): Linear(in_features=20, out_features=5, bias=True)\n",
      "    )\n",
      "  )\n",
      ")\n"
     ]
    }
   ],
   "source": [
    "### torch에서 신경망 모델 만드는 법 (custom class 사용해서 만드는 법)\n",
    "class CustomNN(torch.nn.Module) :\n",
    "    def __init__(self) : #python class 내부의 함수는 선언 할 때에만 self parameter를 맨 앞에 추가\n",
    "        super().__init__() #python class에서 부모 class의 요소들을 사용하고 싶을 땐 수동으로 부모를 생성자 함수 호출해서 불러와야 함\n",
    "        #f(10,5) -> g(5,2)\n",
    "        self.f = torch.nn.Linear(10,5) #f(x) 생성\n",
    "        self.g = torch.nn.Linear(5,2) #g(x) 생성\n",
    "        self.h = torch.nn.Sequential(\n",
    "            torch.nn.Linear(2,20),\n",
    "            torch.nn.ReLU(),\n",
    "            torch.nn.Linear(20,5)\n",
    "        )\n",
    "    def forward(self, x) : #순전파  x(입력값)가 필요\n",
    "        x = self.f(x) #f(x)에 x 넣어서 계산 후 결과 값을 x에 덮어쓰기\n",
    "        x = self.g(x) #g(x)에 x 넣어서 계산 후 결과 값을 x에 덮어쓰기\n",
    "        x = self.h(x)\n",
    "        return x\n",
    "\n",
    "F = CustomNN()\n",
    "\n",
    "print(F)\n",
    "\n",
    "module.add_module('customNN', CustomNN()) #기존 신경망에 새 함수들이나 다른 신경망을 이어 붙이는 것도 가능 .add_module()\n",
    "print(module)"
   ]
  },
  {
   "cell_type": "code",
   "execution_count": 55,
   "id": "aed2f5b3-68de-4c9a-b5ef-f5dca1ff44ad",
   "metadata": {},
   "outputs": [
    {
     "name": "stdout",
     "output_type": "stream",
     "text": [
      "tensor([6., 9.])\n"
     ]
    }
   ],
   "source": [
    "#텐서의 덧셈 (연산자 + 이용)\n",
    "\n",
    "a = torch.tensor([2., 3.])\n",
    "b = torch.tensor([4., 6.])\n",
    "\n",
    "c = a + b\n",
    "\n",
    "print(c)\n",
    "#c는 어떤 값 출력할까요? [6., 9.]"
   ]
  },
  {
   "cell_type": "code",
   "execution_count": 57,
   "id": "5202696e-0299-47f2-b442-5dbc692c3977",
   "metadata": {},
   "outputs": [
    {
     "name": "stdout",
     "output_type": "stream",
     "text": [
      "tensor([3., 6.])\n"
     ]
    }
   ],
   "source": [
    "#텐서의 덧셈 (함수 이용)\n",
    "a = torch.tensor([1., 5.])\n",
    "b = torch.tensor([2., 1.])\n",
    "\n",
    "c = torch.add(a, b)\n",
    "\n",
    "print(c)\n",
    "#c는 어떤 값 출력할까요? [3., 6.]"
   ]
  },
  {
   "cell_type": "code",
   "execution_count": 65,
   "id": "268e0373-4b2b-477b-a4cb-314ca64b519d",
   "metadata": {},
   "outputs": [
    {
     "name": "stdout",
     "output_type": "stream",
     "text": [
      "tensor([1, 2, 3, 4, 5])\n",
      "tensor([ 1,  3,  5,  7,  9, 11], dtype=torch.int32)\n"
     ]
    }
   ],
   "source": [
    "#텐서를 생성할때 list 사용\n",
    "li = [1,2,3,4,5]\n",
    "tensor1 = torch.tensor(li)\n",
    "print(tensor1)\n",
    "\n",
    "#텐서를 생성할때 numpy.array 사용\n",
    "import numpy as np\n",
    "arr = np.array([1,3,5,7,9,11])\n",
    "tensor2 = torch.tensor(arr)\n",
    "print(tensor2)"
   ]
  },
  {
   "cell_type": "code",
   "execution_count": 71,
   "id": "33573def-495d-4fd4-90fb-38c3a2db15f9",
   "metadata": {},
   "outputs": [
    {
     "name": "stdout",
     "output_type": "stream",
     "text": [
      "torch.int64\n",
      "torch.float32\n",
      "torch.bool\n",
      "torch.float32\n"
     ]
    }
   ],
   "source": [
    "#텐서가 가질 수 있는 자료형들\n",
    "tensor1 = torch.tensor([1,2,3,4,5])\n",
    "print(tensor1.dtype) # 자료형 : int\n",
    "\n",
    "tensor2 = torch.tensor([1.0,2.0,3.0,4.0])\n",
    "print(tensor2.dtype) # 자료형 : float\n",
    "\n",
    "tensor3 = torch.tensor([True, False, True, False, False])\n",
    "print(tensor3.dtype) # 자료형 : boolean\n",
    "\n",
    "tensor4 = tensor1.type(torch.float)\n",
    "print(tensor4.dtype) # 자료형 : float, torch는 자료형 형변환을 수동으로 다 해줘야 한다"
   ]
  },
  {
   "cell_type": "code",
   "execution_count": 77,
   "id": "6c8831b8-e584-4beb-a801-c8722ab6b82b",
   "metadata": {},
   "outputs": [
    {
     "name": "stdout",
     "output_type": "stream",
     "text": [
      "tensor([ 0., -1.,  2.,  3.,  4.]) torch.float32\n",
      "tensor([ 0., -1.,  2.,  3.,  4.], dtype=torch.float64) torch.float64\n",
      "tensor([False,  True,  True,  True,  True]) torch.bool\n"
     ]
    }
   ],
   "source": [
    "# 자료형 변환 특정 함수들로 형변환 하기\n",
    "\n",
    "tensor = torch.tensor([0,-1,2,3,4])\n",
    "\n",
    "float_tensor = tensor.float()\n",
    "double_tensor = tensor.double()\n",
    "bool_tensor = tensor.bool()\n",
    "\n",
    "print(float_tensor, float_tensor.dtype)\n",
    "print(double_tensor, double_tensor.dtype)\n",
    "print(bool_tensor, bool_tensor.dtype) # 0이 아니면 전부 True로 바뀜"
   ]
  },
  {
   "cell_type": "code",
   "execution_count": 103,
   "id": "99f72a19-d64c-42fb-a27a-689d94c2db09",
   "metadata": {},
   "outputs": [
    {
     "name": "stdout",
     "output_type": "stream",
     "text": [
      "tensor(0.+2.j) torch.complex64\n",
      "tensor(True) torch.bool\n"
     ]
    }
   ],
   "source": [
    "temp = torch.tensor(-4, dtype = torch.complex64)\n",
    "tensor = torch.sqrt(temp)\n",
    "print(tensor, tensor.dtype) # 허수\n",
    "\n",
    "bool_tensor = tensor.bool()\n",
    "print(bool_tensor, bool_tensor.dtype)"
   ]
  },
  {
   "cell_type": "code",
   "execution_count": 93,
   "id": "85d1062c-9c1a-43a9-9d09-adb2a139d12c",
   "metadata": {},
   "outputs": [
    {
     "name": "stdout",
     "output_type": "stream",
     "text": [
      "torch.Size([])\n",
      "0\n"
     ]
    }
   ],
   "source": [
    "data = 5\n",
    "\n",
    "scalar = torch.tensor(data) #0차원 tensor = scalar\n",
    "\n",
    "print(scalar.shape) #형태\n",
    "print(scalar.dim()) #차원을 알려주는 함수"
   ]
  },
  {
   "cell_type": "code",
   "execution_count": 97,
   "id": "2fff2902-49c3-4529-b938-1a5e3cc5e405",
   "metadata": {},
   "outputs": [
    {
     "name": "stdout",
     "output_type": "stream",
     "text": [
      "torch.Size([5])\n",
      "1\n"
     ]
    }
   ],
   "source": [
    "data = [1,3,5,11,9090909] #1차원\n",
    "\n",
    "vector = torch.tensor(data) #1차원 tensor = vector\n",
    "\n",
    "print(vector.shape) #형태\n",
    "print(vector.dim()) #차원 알려주는 함수"
   ]
  },
  {
   "cell_type": "code",
   "execution_count": 101,
   "id": "9bd894b0-5bd3-48ca-9d4e-c4487d0825b9",
   "metadata": {},
   "outputs": [
    {
     "name": "stdout",
     "output_type": "stream",
     "text": [
      "torch.Size([4, 1])\n",
      "2\n"
     ]
    }
   ],
   "source": [
    "data = [[1]\n",
    "        ,[2]\n",
    "        ,[3]\n",
    "        ,[4]]\n",
    "\n",
    "matrix = torch.tensor(data) #2차원 tensor = 행렬(4행*1열)\n",
    "\n",
    "print(matrix.shape) #형태\n",
    "print(matrix.dim()) #차원 알려주는 함수"
   ]
  },
  {
   "cell_type": "code",
   "execution_count": 105,
   "id": "235322f6-d507-4776-ad86-850b0c1f1672",
   "metadata": {},
   "outputs": [
    {
     "name": "stdout",
     "output_type": "stream",
     "text": [
      "torch.Size([2, 3, 5])\n",
      "3\n"
     ]
    }
   ],
   "source": [
    "data = [\n",
    "    [[0,0,1,0,0],[1,0,0,0,0],[0,0,0,1,0]]\n",
    "    ,[[0,1,0,0,0],[1,0,0,0,0],[0,0,0,0,1]]\n",
    "]\n",
    "\n",
    "tensor = torch.tensor(data)\n",
    "\n",
    "print(tensor.shape)\n",
    "print(tensor.dim()) "
   ]
  },
  {
   "cell_type": "code",
   "execution_count": 115,
   "id": "68f5a9f8-d361-4406-be8d-43ee72ead806",
   "metadata": {},
   "outputs": [
    {
     "name": "stdout",
     "output_type": "stream",
     "text": [
      "tensor([[0., 0., 0.],\n",
      "        [0., 0., 0.]])\n",
      "tensor([[1., 1.],\n",
      "        [1., 1.],\n",
      "        [1., 1.],\n",
      "        [1., 1.],\n",
      "        [1., 1.]])\n",
      "tensor([[7, 7, 7],\n",
      "        [7, 7, 7],\n",
      "        [7, 7, 7],\n",
      "        [7, 7, 7]])\n",
      "tensor([[1., 0., 0., 0., 0.],\n",
      "        [0., 1., 0., 0., 0.],\n",
      "        [0., 0., 1., 0., 0.],\n",
      "        [0., 0., 0., 1., 0.],\n",
      "        [0., 0., 0., 0., 1.]])\n"
     ]
    }
   ],
   "source": [
    "# 특정 텐서들 만드는 함수들\n",
    "\n",
    "#0 tensor\n",
    "zero_tensor = torch.zeros(2, 3) #2행 3열의 0행렬\n",
    "print(zero_tensor)\n",
    "\n",
    "#1 tensor\n",
    "one_tensor = torch.ones(5, 2) #5행 2열의 1행렬\n",
    "print(one_tensor)\n",
    "\n",
    "#특정값으로 모두 채운 tensor\n",
    "full_tensor = torch.full((4, 3),7) #4행 3열의 행렬을 전부 9로 채우기\n",
    "print(full_tensor)\n",
    "\n",
    "#단위행렬 생성\n",
    "#단위행렬이란 : 정사각행렬(행과 열의 크기가 같은 행렬), 대각선 값이 1이고 나머지가 0인 행렬\n",
    "eye_tensor = torch.eye(5) #5행 5열의 단위행렬\n",
    "print(eye_tensor)"
   ]
  },
  {
   "cell_type": "code",
   "execution_count": 119,
   "id": "e2fc42fc-609c-4c82-a88e-8825c7a8fc23",
   "metadata": {},
   "outputs": [
    {
     "name": "stdout",
     "output_type": "stream",
     "text": [
      "tensor([ 0,  4,  8, 12, 16])\n"
     ]
    }
   ],
   "source": [
    "#0부터 20미만까지 4씩 증가하는 수열 생성하기 (vector)\n",
    "arange_tensor = torch.arange(0,20,4)\n",
    "print(arange_tensor)"
   ]
  },
  {
   "cell_type": "code",
   "execution_count": 123,
   "id": "bb2356b1-c3ea-44d9-8722-774be45b2a2d",
   "metadata": {},
   "outputs": [
    {
     "name": "stdout",
     "output_type": "stream",
     "text": [
      "tensor([ 0.0000,  7.5000, 15.0000, 22.5000, 30.0000])\n"
     ]
    }
   ],
   "source": [
    "#0부터 12까지 4개의 요수를 균등하게 배치하는 수열 생성하기 (vector, 최솟값은 0, 최댓값은 12, 차원은 4차원)\n",
    "linspace = torch.linspace(0,30,5) \n",
    "print(linspace)"
   ]
  },
  {
   "cell_type": "code",
   "execution_count": 127,
   "id": "0a0c6358-524a-463e-a7eb-84d3e82cc9ba",
   "metadata": {},
   "outputs": [
    {
     "name": "stdout",
     "output_type": "stream",
     "text": [
      "tensor([[0.1633, 0.9495, 0.1615],\n",
      "        [0.4645, 0.6222, 0.9246]])\n"
     ]
    }
   ],
   "source": [
    "# 난수 생성 tensor\n",
    "rand_tensor = torch.rand(2,3) #2행 3열의  랜덤 tensor 생성, (random값의 범위는 0-1)\n",
    "print(rand_tensor)"
   ]
  },
  {
   "cell_type": "code",
   "execution_count": 135,
   "id": "1cdcfc49-8dc0-4322-a2cb-760d591d226e",
   "metadata": {},
   "outputs": [
    {
     "name": "stdout",
     "output_type": "stream",
     "text": [
      "tensor([[-0.0654,  1.1821],\n",
      "        [ 0.4437,  0.7037],\n",
      "        [-0.5404, -1.3713],\n",
      "        [ 1.5572,  1.4867]])\n",
      "tensor([[-0.2617,  4.7284],\n",
      "        [ 1.7748,  2.8146],\n",
      "        [-2.1615, -5.4852],\n",
      "        [ 6.2290,  5.9469]])\n"
     ]
    }
   ],
   "source": [
    "# 난수 생성인데 표준분포를 따르는 random (난수 값들의 표준편차가 1이 되도록 난수 생성)\n",
    "randn_tensor = torch.randn(4,2) #4행 2열의 랜덤 tensor 생성 (범위 제한은 없는데)\n",
    "print(randn_tensor)\n",
    "# 표준편차를 조절하고 싶다\n",
    "print(randn_tensor * 4) #표준편차 4로 조절"
   ]
  },
  {
   "cell_type": "code",
   "execution_count": 137,
   "id": "7bd6ef6d-f381-40ee-94e4-87ba332e4698",
   "metadata": {},
   "outputs": [
    {
     "name": "stdout",
     "output_type": "stream",
     "text": [
      "tensor([[6, 9],\n",
      "        [5, 3]])\n"
     ]
    }
   ],
   "source": [
    "#정수 랜덤을 만들고 싶다\n",
    "randint_tensor = torch.randint(low = 0, high = 10, size = (2,2)) #0이상 10미만 크기 (2,2) tensor\n",
    "print(randint_tensor)"
   ]
  },
  {
   "cell_type": "code",
   "execution_count": 139,
   "id": "0b9c59d5-3154-4331-b5e4-d363a1500cfa",
   "metadata": {},
   "outputs": [
    {
     "name": "stdout",
     "output_type": "stream",
     "text": [
      "tensor([9, 5, 7, 8, 4, 3, 6, 1, 0, 2])\n"
     ]
    }
   ],
   "source": [
    "#랜덤 순열, 0-9까지의 숫자랄 랜덤으로 섞고 싶다\n",
    "randperm_tensor = torch.randperm(10) #섞고싶은 숫자의 -1을 paramete로 받음\n",
    "print(randperm_tensor)"
   ]
  },
  {
   "cell_type": "markdown",
   "id": "ef1e5b46-9142-415a-b41a-763c566f9adb",
   "metadata": {},
   "source": [
    "연습문제\n",
    "1. 행이 4개인 단위행렬 생성하기\n",
    "2. 모든 원소를 5로 채운 3행 5열의 행렬 생성하기\n"
   ]
  },
  {
   "cell_type": "code",
   "execution_count": 145,
   "id": "b3cc3f7b-d3fe-420f-8393-4ade49d1b937",
   "metadata": {},
   "outputs": [
    {
     "name": "stdout",
     "output_type": "stream",
     "text": [
      "tensor([[1., 0., 0., 0.],\n",
      "        [0., 1., 0., 0.],\n",
      "        [0., 0., 1., 0.],\n",
      "        [0., 0., 0., 1.]])\n",
      "tensor([[5, 5, 5, 5, 5],\n",
      "        [5, 5, 5, 5, 5],\n",
      "        [5, 5, 5, 5, 5]])\n"
     ]
    }
   ],
   "source": [
    "#1번 문제\n",
    "eye = torch.eye(4)\n",
    "print(eye)\n",
    "\n",
    "full = torch.full((3,5),5)\n",
    "print(full)"
   ]
  },
  {
   "cell_type": "code",
   "execution_count": 157,
   "id": "e7eac8ae-16ee-467a-aa6a-3313a66a3f30",
   "metadata": {},
   "outputs": [
    {
     "name": "stdout",
     "output_type": "stream",
     "text": [
      "텐서 :  tensor([ 0,  1,  2,  3,  4,  5,  6,  7,  8,  9, 10, 11, 12, 13, 14, 15])\n",
      "형태 :  torch.Size([16])\n",
      "텐서 :  tensor([[ 0,  1,  2,  3],\n",
      "        [ 4,  5,  6,  7],\n",
      "        [ 8,  9, 10, 11],\n",
      "        [12, 13, 14, 15]])\n",
      "형태 :  torch.Size([4, 4])\n",
      "텐서 : tensor([[[ 0,  1],\n",
      "         [ 2,  3]],\n",
      "\n",
      "        [[ 4,  5],\n",
      "         [ 6,  7]],\n",
      "\n",
      "        [[ 8,  9],\n",
      "         [10, 11]],\n",
      "\n",
      "        [[12, 13],\n",
      "         [14, 15]]])\n",
      "형태 : torch.Size([4, 2, 2])\n"
     ]
    }
   ],
   "source": [
    "## tensor의 형태(차원)를 변경하는 법들\n",
    "\n",
    "tensor = torch.arange(0,16,1) #vector, 0부터 15까지 16개\n",
    "print(\"텐서 : \", tensor)\n",
    "print(\"형태 : \", tensor.shape)\n",
    "\n",
    "#reshape로 4행 4열로 바꿔보기\n",
    "reshaped = tensor.reshape(4,4) \n",
    "print(\"텐서 : \", reshaped)\n",
    "print(\"형태 : \", reshaped.shape)\n",
    "\n",
    "#view로 4*2*2 3차원으로 바꿔보기\n",
    "viewed = tensor.view(4,2,2)\n",
    "print(f\"텐서 : {viewed}\")\n",
    "print(f\"형태 : {viewed.shape}\")\n",
    "\n",
    "#view, reshape는 기능이 똑같다"
   ]
  },
  {
   "cell_type": "code",
   "execution_count": 167,
   "id": "b1deafd0-ec5b-4005-8c3a-c16d7e5b8069",
   "metadata": {},
   "outputs": [
    {
     "name": "stdout",
     "output_type": "stream",
     "text": [
      "torch.Size([1, 1, 4, 1])\n",
      "torch.Size([4])\n",
      "torch.Size([1, 4, 1])\n"
     ]
    }
   ],
   "source": [
    "## tensor의 차원 줄이기\n",
    "tensor = torch.tensor([[[[1],[2],[3],[4]]]]) #4차원 tensor(1*1*4*1)\n",
    "\n",
    "#크기가 1인 차원을 전부 제거하는 법\n",
    "squeezed_tensor = tensor.squeeze()\n",
    "print(tensor.shape)\n",
    "print(squeezed_tensor.shape)\n",
    "\n",
    "#하나만 제거\n",
    "targeted_squeezed_tensor = tensor.squeeze(0) #첫번째 차원만 제거\n",
    "print(targeted_squeezed_tensor.shape)"
   ]
  },
  {
   "cell_type": "code",
   "execution_count": 171,
   "id": "37db4c70-4236-474b-a4f3-20c74ead17a5",
   "metadata": {},
   "outputs": [
    {
     "name": "stdout",
     "output_type": "stream",
     "text": [
      "tensor([[1, 2, 3]])\n",
      "torch.Size([1, 3])\n",
      "tensor([[1],\n",
      "        [2],\n",
      "        [3]])\n",
      "torch.Size([3, 1])\n"
     ]
    }
   ],
   "source": [
    "## tensor의 차원 추가\n",
    "tensor = torch.tensor([1,2,3]) #1차원 tensor(3) = vector\n",
    "\n",
    "#크기가 1인 차원을 앞에 추가\n",
    "unsqueezed_tensor1 = tensor.unsqueeze(0)\n",
    "\n",
    "#크기가 1인 차원을 뒤에 추가\n",
    "unsqueezed_tensor2 = tensor.unsqueeze(-1)\n",
    "\n",
    "print(unsqueezed_tensor1)\n",
    "print(unsqueezed_tensor1.shape)\n",
    "print(unsqueezed_tensor2)\n",
    "print(unsqueezed_tensor2.shape)"
   ]
  },
  {
   "cell_type": "code",
   "execution_count": 175,
   "id": "8a3df6ba-aa50-46fc-a2ee-54ebfee036fc",
   "metadata": {},
   "outputs": [
    {
     "name": "stdout",
     "output_type": "stream",
     "text": [
      "tensor([[[ 6,  5, 16, 12],\n",
      "         [18, 15, 14,  4],\n",
      "         [13, 11,  1, 12]],\n",
      "\n",
      "        [[12, 17,  2, 14],\n",
      "         [14, 14,  3,  8],\n",
      "         [ 2,  6,  3, 19]]])\n",
      "torch.Size([2, 3, 4])\n",
      "tensor([[[ 6, 12],\n",
      "         [18, 14],\n",
      "         [13,  2]],\n",
      "\n",
      "        [[ 5, 17],\n",
      "         [15, 14],\n",
      "         [11,  6]],\n",
      "\n",
      "        [[16,  2],\n",
      "         [14,  3],\n",
      "         [ 1,  3]],\n",
      "\n",
      "        [[12, 14],\n",
      "         [ 4,  8],\n",
      "         [12, 19]]])\n",
      "torch.Size([4, 3, 2])\n"
     ]
    }
   ],
   "source": [
    "# tensor 뒤집기 (Transpose)\n",
    "\n",
    "tensor = torch.randint(0,20, (2,3,4)) #랜덤으로 0-19까지의 값을 가지는 (2*3*4)크기의 텐서\n",
    "print(tensor)\n",
    "print(tensor.shape)\n",
    "\n",
    "#전체 뒤집고 싶다\n",
    "print(tensor.T)\n",
    "print(tensor.T.shape)\n",
    "\n",
    "\n"
   ]
  },
  {
   "cell_type": "code",
   "execution_count": 179,
   "id": "23753825-7387-47b0-bce7-9067ac023df4",
   "metadata": {},
   "outputs": [
    {
     "name": "stdout",
     "output_type": "stream",
     "text": [
      "tensor([[[ 6,  5, 16, 12],\n",
      "         [12, 17,  2, 14]],\n",
      "\n",
      "        [[18, 15, 14,  4],\n",
      "         [14, 14,  3,  8]],\n",
      "\n",
      "        [[13, 11,  1, 12],\n",
      "         [ 2,  6,  3, 19]]])\n",
      "torch.Size([3, 2, 4])\n"
     ]
    }
   ],
   "source": [
    "#특정 값들만 뒤집고 싶다\n",
    "transposed_tensor = tensor.transpose(0,1) #바꾸고 싶은 차원 두개(1차원, 2차원)만 입력 // 주의: 0부터 세야함\n",
    "print(transposed_tensor)\n",
    "print(transposed_tensor.shape)"
   ]
  },
  {
   "cell_type": "code",
   "execution_count": 183,
   "id": "a6e0552d-3256-4a0e-8361-1d6d550162e4",
   "metadata": {},
   "outputs": [
    {
     "name": "stdout",
     "output_type": "stream",
     "text": [
      "tensor([[[ 6,  5, 16, 12],\n",
      "         [12, 17,  2, 14]],\n",
      "\n",
      "        [[18, 15, 14,  4],\n",
      "         [14, 14,  3,  8]],\n",
      "\n",
      "        [[13, 11,  1, 12],\n",
      "         [ 2,  6,  3, 19]]])\n",
      "torch.Size([3, 2, 4])\n"
     ]
    }
   ],
   "source": [
    "permuted_tensor = tensor.permute(1,0,2) #모든 차원(1차원, 2차원, 3차원)을 바꾸고 싶은 순서대로 적음 // 주의 : 0부터 세야함\n",
    "print(permuted_tensor)\n",
    "print(permuted_tensor.shape)"
   ]
  },
  {
   "cell_type": "code",
   "execution_count": 187,
   "id": "28561a90-81e6-4a6e-8a79-603fc3589015",
   "metadata": {},
   "outputs": [
    {
     "name": "stdout",
     "output_type": "stream",
     "text": [
      "tensor([[1, 2],\n",
      "        [3, 4]])\n",
      "tensor([[ 5,  6,  7],\n",
      "        [ 8,  9, 10]])\n",
      "tensor([[ 1,  2,  5,  6,  7],\n",
      "        [ 3,  4,  8,  9, 10]])\n"
     ]
    }
   ],
   "source": [
    "## 두 텐서를 이어 붙이고 싶다\n",
    "tensor1 = torch.tensor([[1,2],[3,4]]) #2차원 (2*2)\n",
    "tensor2 = torch.tensor([[5,6,7],[8,9,10]]) #2차원 (2*3)\n",
    "\n",
    "##cat으로 이어 붙이기\n",
    "cat_tensor = torch.cat((tensor1, tensor2), dim = 1)\n",
    "print(tensor1)\n",
    "print(tensor2)\n",
    "print(cat_tensor)"
   ]
  },
  {
   "cell_type": "code",
   "execution_count": 191,
   "id": "041f7394-67e6-49c1-9e81-313741bbe820",
   "metadata": {},
   "outputs": [
    {
     "name": "stdout",
     "output_type": "stream",
     "text": [
      "tensor([[[ 1,  2],\n",
      "         [ 3,  4]],\n",
      "\n",
      "        [[ 5,  6],\n",
      "         [ 7,  8]],\n",
      "\n",
      "        [[ 9, 10],\n",
      "         [11, 12]]])\n",
      "torch.Size([3, 2, 2])\n"
     ]
    }
   ],
   "source": [
    "##stack으로 이어 붙이기\n",
    "tensor1 = torch.tensor([[1,2],[3,4]])\n",
    "tensor2 = torch.tensor([[5,6],[7,8]])\n",
    "tensor3 = torch.tensor([[9,10],[11,12]])\n",
    "\n",
    "stack_tensor = torch.stack((tensor1, tensor2, tensor3), dim = 0)\n",
    "print(stack_tensor)\n",
    "print(stack_tensor.shape)"
   ]
  },
  {
   "cell_type": "code",
   "execution_count": 203,
   "id": "1158883d-8fa8-4580-819e-30e33dd3fcd6",
   "metadata": {},
   "outputs": [
    {
     "name": "stdout",
     "output_type": "stream",
     "text": [
      "tensor([ 0,  2,  4,  6,  8, 10, 12, 14, 16, 18])\n",
      "(tensor([0, 2, 4, 6]), tensor([ 8, 10, 12, 14]), tensor([16, 18]))\n"
     ]
    }
   ],
   "source": [
    "## tensor 쪼개기\n",
    "\n",
    "#chunk로 나누기\n",
    "tensor = torch.arange(0,20,2) \n",
    "print(tensor)\n",
    "\n",
    "chunks = torch.chunk(tensor, 3, dim=0) #3조각으로 나누기. 3개로 나눴으니까 tuple형태로 나눠짐\n",
    "\n",
    "print(chunks)"
   ]
  },
  {
   "cell_type": "code",
   "execution_count": 205,
   "id": "02d6a9ff-b70a-4f64-9ad2-12126a19c44c",
   "metadata": {},
   "outputs": [
    {
     "name": "stdout",
     "output_type": "stream",
     "text": [
      "(tensor([ 0,  2,  4,  6,  8, 10]), tensor([12, 14]), tensor([16, 18]))\n"
     ]
    }
   ],
   "source": [
    "#쪼개는 크기를 지정해서 쪼개고 싶어요 (6,2,2)크기를 원해요\n",
    "\n",
    "split_size = (6,2,2)\n",
    "splits = tensor.split(split_size, dim = 0)\n",
    "\n",
    "print(splits)"
   ]
  },
  {
   "cell_type": "code",
   "execution_count": 211,
   "id": "0d4f3823-2880-49b2-aa49-1815ab7d2c30",
   "metadata": {},
   "outputs": [
    {
     "name": "stdout",
     "output_type": "stream",
     "text": [
      "tensor([[ 0,  1,  2,  3,  4],\n",
      "        [ 5,  6,  7,  8,  9],\n",
      "        [10, 11, 12, 13, 14],\n",
      "        [15, 16, 17, 18, 19],\n",
      "        [20, 21, 22, 23, 24]])\n",
      "tensor([[False, False, False, False, False],\n",
      "        [False, False, False, False, False],\n",
      "        [ True,  True,  True,  True,  True],\n",
      "        [ True,  True,  True,  True,  True],\n",
      "        [ True,  True,  True,  True,  True]])\n",
      "tensor([10, 11, 12, 13, 14, 15, 16, 17, 18, 19, 20, 21, 22, 23, 24])\n"
     ]
    }
   ],
   "source": [
    "## tensor에 조건문 씌어서 특정 값만 출력하기\n",
    "tensor = torch.arange(0,25,1).reshape(5,5)\n",
    "print(tensor)\n",
    "\n",
    "mask = tensor >= 10\n",
    "print(mask)\n",
    "\n",
    "#boolean 값 mask를 어떻게 쓰냐면\n",
    "selected_tensor = tensor[mask] #mask가 True인 원소들만 추출\n",
    "print(selected_tensor)"
   ]
  },
  {
   "cell_type": "code",
   "execution_count": 231,
   "id": "dd6af2a6-26b0-44be-b11d-3c33350ec580",
   "metadata": {},
   "outputs": [
    {
     "name": "stdout",
     "output_type": "stream",
     "text": [
      "tensor([[2, 2],\n",
      "        [4, 3]])\n"
     ]
    }
   ],
   "source": [
    "y = torch.tensor([[1,2],[3,4]])\n",
    "gather_index = torch.tensor([[1,1],[1,0]])\n",
    "gathered = y.gather(1, gather_index)\n",
    "print(gathered)"
   ]
  },
  {
   "cell_type": "code",
   "execution_count": 9,
   "id": "9d7eea65-b89c-4e21-a99e-1e29f7485949",
   "metadata": {},
   "outputs": [
    {
     "name": "stdout",
     "output_type": "stream",
     "text": [
      "tensor([1, 2, 3, 4, 5])\n",
      "<class 'torch.Tensor'>\n",
      "[1 2 3 4 5]\n",
      "<class 'numpy.ndarray'>\n",
      "\n",
      " 원형 텐서를 수정함\n",
      "tensor([4, 5, 6, 7, 8])\n",
      "[1 2 3 4 5]\n"
     ]
    }
   ],
   "source": [
    "### tensor를 numpy나 list로 변환하는 방법\n",
    "\n",
    "#원형 텐서\n",
    "tensor = torch.tensor([1,2,3,4,5])\n",
    "print(tensor)\n",
    "print(type(tensor))\n",
    "\n",
    "#텐서를 numpy로\n",
    "numpy_from_tensor = tensor.numpy() #깊은 복사\n",
    "print(numpy_from_tensor)\n",
    "print(type(numpy_from_tensor))\n",
    "\n",
    "#원형 텐서를 수정\n",
    "print(\"\\n 원형 텐서를 수정함\")\n",
    "tensor = tensor + 3\n",
    "print(tensor)\n",
    "print(numpy_from_tensor)\n",
    "#numpy는 바뀌지 않음"
   ]
  },
  {
   "cell_type": "code",
   "execution_count": 17,
   "id": "fb9c4e81-349f-4cdd-b655-864522e35e54",
   "metadata": {},
   "outputs": [
    {
     "name": "stdout",
     "output_type": "stream",
     "text": [
      "tensor([1, 2, 3, 4, 5])\n",
      "tensor([10,  2,  3,  4,  5])\n"
     ]
    }
   ],
   "source": [
    "#텐서의 복제\n",
    "original_tensor = torch.tensor([1,2,3,4,5])\n",
    "cloned_tensor = original_tensor.clone() #깊은 복사 : 값을 복사해서 별개의 객체 생성\n",
    "# cloned_tensor = original_tensor #얕은 복사 : 참조값(=주소값) 만을 복사\n",
    "\n",
    "cloned_tensor[0] = 10\n",
    "\n",
    "print(original_tensor)\n",
    "print(cloned_tensor)\n"
   ]
  },
  {
   "cell_type": "code",
   "execution_count": null,
   "id": "5328261a-f381-4c49-b8fc-4955273efdf9",
   "metadata": {},
   "outputs": [],
   "source": []
  },
  {
   "cell_type": "code",
   "execution_count": 23,
   "id": "d69fae0d-ba9e-4c7d-a3d4-0b317b746980",
   "metadata": {},
   "outputs": [
    {
     "name": "stdout",
     "output_type": "stream",
     "text": [
      "tensor([[ 6,  8],\n",
      "        [10, 12]])\n",
      "tensor([[ 6,  8],\n",
      "        [10, 12]])\n",
      "tensor([[-4, -4],\n",
      "        [-4, -4]])\n",
      "tensor([[-4, -4],\n",
      "        [-4, -4]])\n"
     ]
    }
   ],
   "source": [
    "#텐서의 사칙연산에 대해서 알아보자\n",
    "\n",
    "tensor_a = torch.tensor([[1,2],[3,4]])\n",
    "tensor_b = torch.tensor([[5,6],[7,8]])\n",
    "\n",
    "#덧셈\n",
    "add_result1 = tensor_a + tensor_b\n",
    "add_result2 = torch.add(tensor_a, tensor_b)\n",
    "print(add_result1)\n",
    "print(add_result2)\n",
    "\n",
    "#뺄셈\n",
    "sub_result1 = tensor_a - tensor_b\n",
    "sub_result2 = torch.sub(tensor_a, tensor_b)\n",
    "print(sub_result1)\n",
    "print(sub_result2)\n",
    "\n"
   ]
  },
  {
   "cell_type": "code",
   "execution_count": 31,
   "id": "ecffa0d7-d2d2-40f8-888e-352f6e9195f2",
   "metadata": {},
   "outputs": [
    {
     "name": "stdout",
     "output_type": "stream",
     "text": [
      "tensor([[ 5, 12],\n",
      "        [21, 32]])\n",
      "tensor([[ 5, 12],\n",
      "        [21, 32]])\n",
      "tensor([[0.2000, 0.3333],\n",
      "        [0.4286, 0.5000]])\n",
      "tensor([[0.2000, 0.3333],\n",
      "        [0.4286, 0.5000]])\n"
     ]
    }
   ],
   "source": [
    "#곱셈\n",
    "mul_result1 = tensor_a * tensor_b\n",
    "mul_result2 = torch.mul(tensor_a, tensor_b)\n",
    "print(mul_result1)\n",
    "print(mul_result2)\n",
    "#나눗셈\n",
    "div_result1 = tensor_a / tensor_b\n",
    "div_result2 = torch.div(tensor_a, tensor_b)\n",
    "print(div_result1)\n",
    "print(div_result2)"
   ]
  },
  {
   "cell_type": "code",
   "execution_count": 37,
   "id": "24c69b5c-0185-4ed7-b3be-2c8fd2ec52a2",
   "metadata": {},
   "outputs": [
    {
     "name": "stdout",
     "output_type": "stream",
     "text": [
      "tensor([[ 8, 10, 12],\n",
      "        [11, 13, 15]])\n"
     ]
    }
   ],
   "source": [
    "### 브로드 케스팅 연산 (차원이 다른 tensor끼리의 연산)\n",
    "\n",
    "tensor_a = torch.tensor([[1,2,3],[4,5,6]])\n",
    "tensor_b = torch.tensor([7,8,9])\n",
    "result = tensor_a + tensor_b\n",
    "\n",
    "print(result)"
   ]
  },
  {
   "cell_type": "code",
   "execution_count": 51,
   "id": "1067e7f5-3e24-43c0-9f03-23aaa5bb9d8b",
   "metadata": {},
   "outputs": [
    {
     "name": "stdout",
     "output_type": "stream",
     "text": [
      "tensor([ True, False, False, False])\n",
      "tensor([False, False, False,  True])\n",
      "tensor([ True,  True,  True, False])\n",
      "tensor([False,  True,  True,  True])\n",
      "tensor([False,  True,  True, False])\n"
     ]
    }
   ],
   "source": [
    "### 텐서별 크기 비교\n",
    "tensor_a = torch.tensor([5,6,7,8])\n",
    "tensor_b = torch.tensor([4,6,7,10])\n",
    "\n",
    "#a가 b보다 크다\n",
    "gt_result = tensor_a > tensor_b\n",
    "# gt_result = torch.gt(tensor_a, tensor_b)\n",
    "print(gt_result)\n",
    "\n",
    "#a가 b보다 작다\n",
    "lt_result = tensor_a < tensor_b\n",
    "# lt_result = torch.lt(tensor_a, tensor_b)\n",
    "print(lt_result)\n",
    "\n",
    "#a가 b보다 크거나 같다\n",
    "ge_result = tensor_a >= tensor_b\n",
    "# ge_result = torch.ge(tensor_a, tensor_b)\n",
    "print(ge_result)\n",
    "\n",
    "#a가 b보다 작거나 같다\n",
    "le_result = tensor_a <= tensor_b\n",
    "# le.result - torch.le(tensor_a, tensor_b)\n",
    "print(le_result)\n",
    "\n",
    "#a와 b가 같다\n",
    "eq_result = tensor_a == tensor_b\n",
    "# eq_result = torch.eq(tensor_a, tensor_b)\n",
    "print(eq_result)"
   ]
  },
  {
   "cell_type": "code",
   "execution_count": 75,
   "id": "61568d39-5e82-4285-b2b7-4a5f11165151",
   "metadata": {},
   "outputs": [
    {
     "name": "stdout",
     "output_type": "stream",
     "text": [
      "tensor(9)\n",
      "tensor(1)\n",
      "tensor([3, 6, 9]) tensor([2, 2, 1])\n",
      "tensor([1, 4, 7]) tensor([0, 0, 2])\n",
      "tensor([2, 2, 1])\n",
      "tensor([0, 0, 2])\n"
     ]
    }
   ],
   "source": [
    "# tensor 최댓값, 최솟값, 최댓값의 위치, 최솟값의 위치\n",
    "\n",
    "tensor = torch.tensor([[1,2,3],[4,5,6],[8,9,7]])\n",
    "\n",
    "#최댓값\n",
    "max_ = torch.max(tensor)\n",
    "print(max_)\n",
    "#최솟값\n",
    "min_ = torch.min(tensor)\n",
    "print(min_)\n",
    "\n",
    "#특정 차원을 기준으로 최댓값\n",
    "max_, loc_ = torch.max(tensor, dim = 1) #2차원을 기준으로 해당 차원의 최댓값과 그 위치\n",
    "print(max_, loc_)\n",
    "min_, loc_ = torch.min(tensor, dim = 1) #2차원을 기주으로 해당 차원의 최댓값과 그 위치\n",
    "print(min_, loc_)\n",
    "\n",
    "#argmax, argmin : 위치만 출력\n",
    "loc_ = torch.argmax(tensor, dim = 1)\n",
    "print(loc_)\n",
    "loc_ = torch.argmin(tensor, dim = 1)\n",
    "print(loc_)"
   ]
  },
  {
   "cell_type": "code",
   "execution_count": 83,
   "id": "5c140b34-5269-47a2-afe8-6ba29da33716",
   "metadata": {},
   "outputs": [
    {
     "name": "stdout",
     "output_type": "stream",
     "text": [
      "tensor(45)\n",
      "tensor([12, 15, 18])\n",
      "tensor([ 6, 15, 24])\n"
     ]
    }
   ],
   "source": [
    "tensor = torch.tensor([[1,2,3]\n",
    "                       ,[4,5,6]\n",
    "                       ,[7,8,9]])\n",
    "\n",
    "#전체의 합\n",
    "total_sum = torch.sum(tensor)\n",
    "print(total_sum)\n",
    "\n",
    "#열을 기준으로 한 합\n",
    "col_sum = torch.sum(tensor, dim=0)\n",
    "print(col_sum)\n",
    "\n",
    "#행을 기준으로 한 합\n",
    "row_sum = torch.sum(tensor, dim=1)\n",
    "print(row_sum)"
   ]
  },
  {
   "cell_type": "code",
   "execution_count": 101,
   "id": "de2cc175-87be-4dda-a566-417cddcd6d82",
   "metadata": {},
   "outputs": [
    {
     "name": "stdout",
     "output_type": "stream",
     "text": [
      "tensor(4.8889)\n",
      "tensor(5.)\n",
      "tensor(1.)\n",
      "tensor(2)\n"
     ]
    }
   ],
   "source": [
    "tensor = torch.tensor([1,2,1,4,5,6,7,9,9], dtype = torch.float)\n",
    "\n",
    "#평균\n",
    "mean = torch.mean(tensor)\n",
    "print(mean)\n",
    "\n",
    "#중앙값\n",
    "median = torch.median(tensor)\n",
    "print(median)\n",
    "\n",
    "#최빈값\n",
    "mode, idx = torch.mode(tensor)\n",
    "print(mode)\n",
    "print(idx)"
   ]
  },
  {
   "cell_type": "code",
   "execution_count": 107,
   "id": "7c712cb8-9b4f-4bc6-a6b3-92f3efbdfbbb",
   "metadata": {},
   "outputs": [
    {
     "name": "stdout",
     "output_type": "stream",
     "text": [
      "tensor(2.5000)\n",
      "tensor(1.5811)\n"
     ]
    }
   ],
   "source": [
    "#분산과 표준편차\n",
    "tensor = torch.tensor([1,2,3,4,5], dtype = torch.float)\n",
    "\n",
    "#분산\n",
    "var = torch.var(tensor)\n",
    "print(var)\n",
    "\n",
    "\n",
    "#표준편차\n",
    "std = torch.std(tensor)\n",
    "print(std)\n",
    "# print(torch.sqrt(var)) #표준편차는 분산에 루트 씌운 것"
   ]
  },
  {
   "cell_type": "code",
   "execution_count": 117,
   "id": "90ec554f-1944-4c26-84fc-4ba4de53d731",
   "metadata": {},
   "outputs": [
    {
     "name": "stdout",
     "output_type": "stream",
     "text": [
      "tensor([ True, False, False, False])\n",
      "tensor([ True,  True,  True, False])\n",
      "tensor([False,  True, False,  True])\n"
     ]
    }
   ],
   "source": [
    "tensor_a = torch.tensor([True, False, True, False])\n",
    "tensor_b = torch.tensor([True, True, False, False])\n",
    "\n",
    "#boolean의 논리 연산들\n",
    "result_and = tensor_a & tensor_b\n",
    "print(result_and)\n",
    "\n",
    "result_or = tensor_a | tensor_b\n",
    "print(result_or)\n",
    "\n",
    "result_not = ~tensor_a\n",
    "print(result_not)"
   ]
  },
  {
   "cell_type": "code",
   "execution_count": 121,
   "id": "665729ec-49df-487c-8ac7-8626e63253db",
   "metadata": {},
   "outputs": [
    {
     "name": "stdout",
     "output_type": "stream",
     "text": [
      "tensor([ 2.7183,  7.3891, 20.0855, 54.5981])\n",
      "tensor([0.0000, 0.6931, 1.0986, 1.3863])\n"
     ]
    }
   ],
   "source": [
    "tensor = torch.tensor([1,2,3,4], dtype = torch.float)\n",
    "\n",
    "#지수 연산\n",
    "exp_result = torch.exp(tensor) # e^tensor\n",
    "print(exp_result)\n",
    "\n",
    "#로그 연산\n",
    "log_result = torch.log(tensor) #log(tensor)\n",
    "print(log_result)"
   ]
  },
  {
   "cell_type": "code",
   "execution_count": 135,
   "id": "d418471c-dfa8-49dd-a659-b5e10c671506",
   "metadata": {},
   "outputs": [
    {
     "name": "stdout",
     "output_type": "stream",
     "text": [
      "tensor([ 1.,  4.,  9., 16.])\n",
      "tensor([  1.,  -8.,  27., -64.])\n",
      "tensor([1., 2., 3., 4.])\n",
      "tensor([ 1.0000, -0.5000,  0.3333, -0.2500])\n",
      "tensor([-1.,  2., -3.,  4.])\n"
     ]
    }
   ],
   "source": [
    "#단순 제곱연산\n",
    "tensor = torch.tensor([1,-2,3,-4], dtype = torch.float)\n",
    "\n",
    "squared = torch.pow(tensor, exponent = 2) #제곱\n",
    "print(squared)\n",
    "cubed = torch.pow(tensor, exponent = 3) #세제곱\n",
    "print(cubed)\n",
    "\n",
    "#절댓값 : 음수를 양수로\n",
    "absolute = torch.abs(tensor)\n",
    "print(absolute)\n",
    "\n",
    "#역수 : 곱해서 1이 나오는 수들\n",
    "reciprocal = torch.reciprocal(tensor)\n",
    "print(reciprocal)\n",
    "\n",
    "#기호 바꾸기\n",
    "neg = torch.neg(tensor)\n",
    "print(neg)"
   ]
  },
  {
   "cell_type": "code",
   "execution_count": 137,
   "id": "a53965c9-b551-4024-bb91-1430adf72653",
   "metadata": {},
   "outputs": [
    {
     "name": "stdout",
     "output_type": "stream",
     "text": [
      "tensor([0.0000, 0.5000, 0.7071, 0.8660, 1.0000])\n",
      "tensor([ 1.0000e+00,  8.6603e-01,  7.0711e-01,  5.0000e-01, -4.3711e-08])\n",
      "tensor([ 0.0000e+00,  5.7735e-01,  1.0000e+00,  1.7321e+00, -2.2877e+07])\n"
     ]
    }
   ],
   "source": [
    "#tensor에서 삼각함수 계산하기\n",
    "#pi = 180도\n",
    "\n",
    "angle = torch.tensor([0, torch.pi/6, torch.pi/4, torch.pi/3, torch.pi/2])\n",
    "\n",
    "sin_values = torch.sin(angle)\n",
    "print(sin_values)\n",
    "\n",
    "cos_values = torch.cos(angle)\n",
    "print(cos_values)\n",
    "\n",
    "tan_values = torch.tan(angle)\n",
    "print(tan_values)"
   ]
  },
  {
   "cell_type": "code",
   "execution_count": 147,
   "id": "27348a41-b5cf-46ac-b15b-b00873a11cad",
   "metadata": {},
   "outputs": [
    {
     "name": "stdout",
     "output_type": "stream",
     "text": [
      "tensor([3, 4, 5, 6, 7, 8])\n",
      "\n",
      "tensor([[False, False,  True],\n",
      "        [ True,  True,  True],\n",
      "        [ True,  True,  True]])\n",
      "tensor([[ True,  True,  True],\n",
      "        [ True,  True,  True],\n",
      "        [ True,  True, False]])\n",
      "tensor([[False, False,  True],\n",
      "        [ True,  True,  True],\n",
      "        [ True,  True, False]])\n"
     ]
    }
   ],
   "source": [
    "#연습문제\n",
    "\n",
    "a_data = [[1,2,3],\n",
    "         [4,5,6],\n",
    "         [7,8,9]]\n",
    "\n",
    "A = torch.tensor(a_data)\n",
    "\n",
    "#A에서 2초과 8이하의 값들을 뽑아오려면 어떻게 해야 할까요\n",
    "\n",
    "\n",
    "answer = A[(A > 2) & (A <=8)] #대괄호 안이 True인 원소들만 출력\n",
    "print(answer)\n",
    "print()\n",
    "\n",
    "print(A > 2)\n",
    "print(A <= 8)\n",
    "print((A > 2) & (A <=8))\n"
   ]
  },
  {
   "cell_type": "code",
   "execution_count": 161,
   "id": "7ae6559e-7bde-4351-8cb1-8a93ceeaa6cd",
   "metadata": {},
   "outputs": [
    {
     "name": "stdout",
     "output_type": "stream",
     "text": [
      "tensor(32)\n",
      "tensor(32)\n",
      "tensor([[19, 22],\n",
      "        [43, 50]])\n",
      "tensor([[19, 22],\n",
      "        [43, 50]])\n"
     ]
    }
   ],
   "source": [
    "#내적 계산 (2차원 vector에서는 행렬계산과 같음)\n",
    "\n",
    "#벡터(1차원 tensor)의 경우\n",
    "vector1 = torch.tensor([1,2,3])\n",
    "vector2 = torch.tensor([4,5,6])\n",
    "print(vector1 @ vector2) #벡터에서의 내적 = 모든 원소를 곱해서 다 더함\n",
    "print(torch.dot(vector1, vector2))\n",
    "#@ 사용해도 되고 torch.dot() 함수 사용해도 됩니다\n",
    "\n",
    "#행렬(2차원 tensor)의 경우\n",
    "matrix1 = torch.tensor([[1,2]\n",
    "                        ,[3,4]]) #2*2 행렬\n",
    "matrix2 = torch.tensor([[5,6]\n",
    "                        ,[7,8]]) #2*2 행렬\n",
    "print(matrix1@matrix2)\n",
    "# print(torch.dot(matrix1, matrix2)) #사용 불가\n",
    "print(torch.matmul(matrix1, matrix2))\n",
    "#@ 사용해도 되고 torch.matmul() 함수 사용해도 됩니다\n",
    "\n"
   ]
  },
  {
   "cell_type": "code",
   "execution_count": 179,
   "id": "2665f7bd-83f4-4253-b636-6e7e65e6fc03",
   "metadata": {},
   "outputs": [
    {
     "name": "stdout",
     "output_type": "stream",
     "text": [
      "tensor([[[11, 17],\n",
      "         [23, 37]],\n",
      "\n",
      "        [[46, 68],\n",
      "         [62, 92]]])\n",
      "tensor([[[11, 17],\n",
      "         [23, 37]],\n",
      "\n",
      "        [[46, 68],\n",
      "         [62, 92]]])\n"
     ]
    }
   ],
   "source": [
    "#3차원 tensor의 경우\n",
    "tensor1 = torch.tensor([[[1,2],\n",
    "                       [3,4]],\n",
    "                       [[5,6],\n",
    "                       [7,8]]])\n",
    "tensor2 = torch.tensor([[[1,3],\n",
    "                       [5,7]],\n",
    "                       [[2,4],\n",
    "                       [6,8]]])\n",
    "print((tensor1@tensor2))\n",
    "print(torch.matmul(tensor1, tensor2))\n",
    "#@ 사용해도 되고 torch.matmul() 함수 사용해도 됩니다"
   ]
  },
  {
   "cell_type": "code",
   "execution_count": 193,
   "id": "53d4bf4a-7c15-484c-8b0b-072f401c5b5b",
   "metadata": {},
   "outputs": [
    {
     "name": "stdout",
     "output_type": "stream",
     "text": [
      "자동미분 :  False\n",
      "자동미분 :  True\n",
      "x의 미분값 :  tensor(4.)\n"
     ]
    }
   ],
   "source": [
    "#자동미분\n",
    "\n",
    "tensor = torch.tensor(2, dtype = torch.float)\n",
    "print(\"자동미분 : \", tensor.requires_grad)\n",
    "tensor.requires_grad = True\n",
    "print(\"자동미분 : \", tensor.requires_grad)\n",
    "\n",
    "y = tensor ** 2\n",
    "y.backward()\n",
    "\n",
    "print(\"x의 미분값 : \", tensor.grad) #미분값은 scalar (0차원 텐서) 에서만 출력 가능"
   ]
  },
  {
   "cell_type": "code",
   "execution_count": 201,
   "id": "5671c044-46d8-40ac-bc27-5173ddb77113",
   "metadata": {},
   "outputs": [
    {
     "name": "stdout",
     "output_type": "stream",
     "text": [
      "no_grad() 블럭 밖에서의 자동미분 :  True\n",
      "no_grad() 블럭 내의 자동미분 :  False\n"
     ]
    }
   ],
   "source": [
    "y = tensor ** 2\n",
    "print(\"no_grad() 블럭 밖에서의 자동미분 : \", y.requires_grad)\n",
    "\n",
    "with torch.no_grad() :\n",
    "    y = tensor ** 2\n",
    "    print(\"no_grad() 블럭 내의 자동미분 : \", y.requires_grad)\n",
    "\n",
    "#자동 미분 기능을 끄는 이유 : 정확도 검증 작업에서 계산 속도 조금이라도 더 빠르게 하기 위해서"
   ]
  },
  {
   "cell_type": "code",
   "execution_count": null,
   "id": "df816d0d-0e51-417d-ae07-988c93f8b454",
   "metadata": {},
   "outputs": [],
   "source": []
  }
 ],
 "metadata": {
  "kernelspec": {
   "display_name": "Python [conda env:base] *",
   "language": "python",
   "name": "conda-base-py"
  },
  "language_info": {
   "codemirror_mode": {
    "name": "ipython",
    "version": 3
   },
   "file_extension": ".py",
   "mimetype": "text/x-python",
   "name": "python",
   "nbconvert_exporter": "python",
   "pygments_lexer": "ipython3",
   "version": "3.12.7"
  }
 },
 "nbformat": 4,
 "nbformat_minor": 5
}
