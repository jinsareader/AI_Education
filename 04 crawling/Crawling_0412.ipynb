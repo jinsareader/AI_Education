{
 "cells": [
  {
   "cell_type": "code",
   "execution_count": 2,
   "id": "d533daab-06d4-4b95-a4cc-9a0611c712e9",
   "metadata": {},
   "outputs": [],
   "source": [
    "import requests\n",
    "from bs4 import BeautifulSoup"
   ]
  },
  {
   "cell_type": "markdown",
   "id": "3ad68baf-8f87-4eea-a870-b7df68d6b775",
   "metadata": {},
   "source": [
    "#### 네이버 -> 증권 -> 시장지표\n",
    "- 오늘의 환율 값을 가져오기"
   ]
  },
  {
   "cell_type": "code",
   "execution_count": 3,
   "id": "36eb2e2b-f331-4b4c-8d31-b0d7e76c8d5f",
   "metadata": {},
   "outputs": [
    {
     "name": "stdout",
     "output_type": "stream",
     "text": [
      "미국 USD : 1,420.10\n",
      "일본 JPY(100엔) : 1,006.73\n",
      "유럽연합 EUR : 1,635.46\n",
      "중국 CNY : 194.71\n",
      "달러/일본 엔 : 142.2000\n",
      "유로/달러 : 1.1350\n",
      "영국 파운드/달러 : 1.3233\n",
      "달러인덱스 : 99.1200\n",
      "WTI : 64.01\n",
      "휘발유 : 1636.43\n",
      "국제 금 : 3328.4\n",
      "국내 금 : 154826.99\n"
     ]
    }
   ],
   "source": [
    "res = requests.get(\"https://finance.naver.com/marketindex/\")\n",
    "data = BeautifulSoup(res.content,\"lxml\");\n",
    "\n",
    "currency = data.find_all(\"h3\")\n",
    "exRate = data.find_all(\"span\",class_ = \"value\")\n",
    "\n",
    "ln = min(len(currency), len(exRate))\n",
    "\n",
    "for i in range(0,ln) :\n",
    "    print(currency[i].text, end = \" : \")\n",
    "    print(exRate[i].text)"
   ]
  },
  {
   "cell_type": "markdown",
   "id": "50dbd711-2909-4b0e-a77a-2c7b0690c0e3",
   "metadata": {},
   "source": [
    "#### CSS선택자 사용하여 데이터 추출\n",
    "- select_one(선택자) : 선택요소 하나를 추출\n",
    "- select(선택자) : 선택자로 요소 여러개를 리스트로 추출\n",
    "- - .select('.클래스')\n",
    "  - .select('#아이디')\n",
    "  - .select('태그.클래스')\n",
    "  - .select('태그1>태그2') : 상하관계\n",
    "  - .select('태그 태그) : 자손관계\n",
    "  - "
   ]
  },
  {
   "cell_type": "code",
   "execution_count": 26,
   "id": "9ddfc512-ae80-4d0a-b943-ba510852c2bd",
   "metadata": {},
   "outputs": [],
   "source": [
    "html = \"\"\"\n",
    "<html>\n",
    "<body id=\"me\">\n",
    "<div id=\"smart\">\n",
    "      <h1 id=\"title\">스마트 미디어 도서</h1>\n",
    "      <ul class=\"items\">\n",
    "          <li>파이썬입문</li>\n",
    "          <li>머신러닝</li>\n",
    "          <li>딥러닝입문</li>\n",
    "      </ul>\n",
    " </div> \n",
    "</body>\n",
    "</html>\n",
    "\"\"\"\n",
    "\n"
   ]
  },
  {
   "cell_type": "code",
   "execution_count": 28,
   "id": "53f3b9c6-ad93-4fed-8cdc-e4c95959eb2c",
   "metadata": {},
   "outputs": [
    {
     "name": "stdout",
     "output_type": "stream",
     "text": [
      "스마트 미디어 도서\n"
     ]
    }
   ],
   "source": [
    "#div태그에 id가 smart이고 그아래 h1요소값을 가져오기 : select_one()\n",
    "# div#smart > h1\n",
    "soup=BeautifulSoup(html,\"lxml\")\n",
    "data = soup.select_one('div#smart > h1').text\n",
    "print(data)"
   ]
  },
  {
   "cell_type": "code",
   "execution_count": 32,
   "id": "89491616-5bbb-49aa-ac1d-be599cda1add",
   "metadata": {},
   "outputs": [
    {
     "name": "stdout",
     "output_type": "stream",
     "text": [
      "파이썬입문\n",
      "머신러닝\n",
      "딥러닝입문\n"
     ]
    }
   ],
   "source": [
    "#select()를 사용해서 도서 목록 가져오기\n",
    "soup=BeautifulSoup(html,\"lxml\")\n",
    "data = soup.select('div#smart > ul.items > li')\n",
    "for d in data :\n",
    "    print(d.text);"
   ]
  },
  {
   "cell_type": "code",
   "execution_count": 39,
   "id": "99ee3fcf-5cc9-49b2-bd69-449b3ea4beb9",
   "metadata": {},
   "outputs": [],
   "source": [
    "html2=\"\"\"\n",
    "<html>\n",
    "<body>\n",
    "    <h1>시장에서 사야할 과일 목록</h1>\n",
    "    <div>\n",
    "        <p id=\"fruits1\" class=\"name1\">바나나\n",
    "            <span class=\"price\">3000</span>\n",
    "            <span class=\"count\">10개</span>\n",
    "            <a href=\"http://www.banana.com\">banana.com</a>\n",
    "        </p>\n",
    "    </div>\n",
    "    <div>\n",
    "        <p id=\"fruits2\" class=\"name2\">채라\n",
    "            <span class=\"price\">2000</span>\n",
    "            <span class=\"count\">5개</span>\n",
    "            <a href=\"http://www.cherry.com\">cherry.com</a>\n",
    "        </p>\n",
    "    </div>\n",
    "</body>\n",
    "</html>\n",
    "\"\"\"\n",
    "\n",
    "soup = BeautifulSoup(html2,\"lxml\")\n"
   ]
  },
  {
   "cell_type": "code",
   "execution_count": 40,
   "id": "8082be04-fb9e-4656-adf0-3f70feb4550e",
   "metadata": {},
   "outputs": [
    {
     "name": "stdout",
     "output_type": "stream",
     "text": [
      "[<p class=\"name1\" id=\"fruits1\">바나나\n",
      "            <span class=\"price\">3000</span>\n",
      "<span class=\"count\">10개</span>\n",
      "<a href=\"http://www.banana.com\">banana.com</a>\n",
      "</p>]\n"
     ]
    }
   ],
   "source": [
    "# class값이 name1찾기 : select()\n",
    "print(soup.select('.name1'))\n"
   ]
  },
  {
   "cell_type": "code",
   "execution_count": 42,
   "id": "db4ba95d-fcd4-4392-b2db-0ecab01a1692",
   "metadata": {},
   "outputs": [
    {
     "name": "stdout",
     "output_type": "stream",
     "text": [
      "[<a href=\"http://www.banana.com\">banana.com</a>, <a href=\"http://www.cherry.com\">cherry.com</a>]\n"
     ]
    }
   ],
   "source": [
    "print(soup.select(\"a[href]\"))"
   ]
  },
  {
   "cell_type": "code",
   "execution_count": 49,
   "id": "c69aac14-41a0-41c3-9f8d-b749bc09768d",
   "metadata": {},
   "outputs": [
    {
     "name": "stdout",
     "output_type": "stream",
     "text": [
      "미운 우리 새끼\n",
      "1박 2일 시즌4\n",
      "나 혼자 산다\n",
      "아침마당\n",
      "골 때리는 그녀들\n",
      "전국노래자랑\n",
      "신발 벗고 돌싱포맨\n",
      "TV 동물농장\n",
      "궁금한 이야기 Y\n",
      "일꾼의 탄생\n",
      "우리말 겨루기\n",
      "사장님 귀는 당나귀 귀\n",
      "시니어 토크쇼 황금연못\n",
      "불후의 명곡\n",
      "가요무대\n",
      "살림하는 남자들 시즌2\n",
      "런닝맨\n",
      "동상이몽 2 - 너는 내 운명\n",
      "라디오스타\n",
      "놀면 뭐하니?\n"
     ]
    }
   ],
   "source": [
    "res = requests.get(\"https://search.naver.com/search.naver?sm=tab_hty.top&where=nexearch&ssc=tab.nx.all&query=%EC%A3%BC%EA%B0%84%EC%98%88%EB%8A%A5+%EC%8B%9C%EC%B2%AD%EB%A5%A0&oquery=%EB%84%A4%EC%9D%B4%EB%B2%84%EC%A3%BC%EA%B0%84%EC%98%88%EB%8A%A5+%EC%8B%9C%EC%B2%AD%EB%A5%A0&tqi=imA6zsqo15Vss7E%2FMGossssstfR-146647\")\n",
    "\n",
    "data = BeautifulSoup(res.content,\"lxml\")\n",
    "names = data.select(\"td > p > a\")\n",
    "for i in names[::2] :\n",
    "    print(i.text)"
   ]
  },
  {
   "cell_type": "markdown",
   "id": "cc1c03e6-7500-4f33-81ae-509cfc5b3256",
   "metadata": {},
   "source": [
    "####리스트를 표(DataFrame)만들기\n"
   ]
  },
  {
   "cell_type": "code",
   "execution_count": 50,
   "id": "f1cbf83b-ff52-4694-8d77-352129f6cc3f",
   "metadata": {},
   "outputs": [],
   "source": [
    "import pandas as pd\n",
    "\n"
   ]
  },
  {
   "cell_type": "code",
   "execution_count": 64,
   "id": "2de8c781-ff3f-4b3e-8f69-ce18cfd5ab84",
   "metadata": {},
   "outputs": [],
   "source": [
    "lis = [] #빈리스트 만들기\n",
    "rank = 0 #순위\n",
    "for i in names[::2] :\n",
    "    rank += 1\n",
    "    name = i.text\n",
    "    li = [rank,name]\n",
    "    lis.append(li)"
   ]
  },
  {
   "cell_type": "code",
   "execution_count": 76,
   "id": "7ab53002-e2c9-415b-9c96-562067d76fb4",
   "metadata": {},
   "outputs": [
    {
     "name": "stdout",
     "output_type": "stream",
     "text": [
      "    rank              name\n",
      "0      1          미운 우리 새끼\n",
      "1      2         1박 2일 시즌4\n",
      "2      3           나 혼자 산다\n",
      "3      4              아침마당\n",
      "4      5         골 때리는 그녀들\n",
      "5      6            전국노래자랑\n",
      "6      7        신발 벗고 돌싱포맨\n",
      "7      8           TV 동물농장\n",
      "8      9         궁금한 이야기 Y\n",
      "9     10            일꾼의 탄생\n",
      "10    11           우리말 겨루기\n",
      "11    12      사장님 귀는 당나귀 귀\n",
      "12    13      시니어 토크쇼 황금연못\n",
      "13    14            불후의 명곡\n",
      "14    15              가요무대\n",
      "15    16      살림하는 남자들 시즌2\n",
      "16    17               런닝맨\n",
      "17    18  동상이몽 2 - 너는 내 운명\n",
      "18    19             라디오스타\n",
      "19    20           놀면 뭐하니?\n"
     ]
    }
   ],
   "source": [
    "df = pd.DataFrame(lis,columns=[\"rank\",\"name\"])\n",
    "print(df)"
   ]
  },
  {
   "cell_type": "code",
   "execution_count": 78,
   "id": "66de3178-2b4c-40bd-a65f-3400d243c2fc",
   "metadata": {},
   "outputs": [],
   "source": [
    "df.to_csv(\"list_names.csv\",index=False,encoding=\"euc-kr\");"
   ]
  },
  {
   "cell_type": "code",
   "execution_count": 79,
   "id": "6276e482-75fd-4ea0-89d5-a3178d3295a4",
   "metadata": {},
   "outputs": [
    {
     "data": {
      "text/html": [
       "<div>\n",
       "<style scoped>\n",
       "    .dataframe tbody tr th:only-of-type {\n",
       "        vertical-align: middle;\n",
       "    }\n",
       "\n",
       "    .dataframe tbody tr th {\n",
       "        vertical-align: top;\n",
       "    }\n",
       "\n",
       "    .dataframe thead th {\n",
       "        text-align: right;\n",
       "    }\n",
       "</style>\n",
       "<table border=\"1\" class=\"dataframe\">\n",
       "  <thead>\n",
       "    <tr style=\"text-align: right;\">\n",
       "      <th></th>\n",
       "      <th>rank</th>\n",
       "      <th>name</th>\n",
       "    </tr>\n",
       "  </thead>\n",
       "  <tbody>\n",
       "    <tr>\n",
       "      <th>0</th>\n",
       "      <td>1</td>\n",
       "      <td>미운 우리 새끼</td>\n",
       "    </tr>\n",
       "    <tr>\n",
       "      <th>1</th>\n",
       "      <td>2</td>\n",
       "      <td>1박 2일 시즌4</td>\n",
       "    </tr>\n",
       "    <tr>\n",
       "      <th>2</th>\n",
       "      <td>3</td>\n",
       "      <td>나 혼자 산다</td>\n",
       "    </tr>\n",
       "  </tbody>\n",
       "</table>\n",
       "</div>"
      ],
      "text/plain": [
       "   rank       name\n",
       "0     1   미운 우리 새끼\n",
       "1     2  1박 2일 시즌4\n",
       "2     3    나 혼자 산다"
      ]
     },
     "execution_count": 79,
     "metadata": {},
     "output_type": "execute_result"
    }
   ],
   "source": [
    "list_names=pd.read_csv(\"list_names.csv\",encoding=\"euc-kr\")\n",
    "list_names.head(3)"
   ]
  },
  {
   "cell_type": "markdown",
   "id": "e3a67bbd-7fc5-4824-8c17-6ea166c06e71",
   "metadata": {},
   "source": [
    "#### 실습1. 네이버에서 쿠키런 킹덤 검색해오기"
   ]
  },
  {
   "cell_type": "code",
   "execution_count": 80,
   "id": "5dc7b5c2-b3b5-4510-9402-19d647f557b2",
   "metadata": {},
   "outputs": [],
   "source": [
    "keyword=\"쿠키런 킹덤\"\n",
    "url = \"https://search.naver.com/search.naver?sm=tab_hty.top&where=nexearch&ssc=tab.nx.all&query=\"+keyword;\n",
    "res = requests.get(url)\n",
    "soup = BeautifulSoup(res.content,'lxml')\n"
   ]
  },
  {
   "cell_type": "code",
   "execution_count": 87,
   "id": "299350df-6bdf-4945-957b-b01f01ba3a62",
   "metadata": {},
   "outputs": [
    {
     "name": "stdout",
     "output_type": "stream",
     "text": [
      "쿠키런: 킹덤\n"
     ]
    }
   ],
   "source": [
    "#쿠키런 킹덤 제목 가져오기\n",
    "title = soup.select_one(\"div.title_area a\")\n",
    "print(title.text)\n",
    "\n"
   ]
  },
  {
   "cell_type": "code",
   "execution_count": 95,
   "id": "412568dd-1fd2-4d83-ba39-156495191597",
   "metadata": {},
   "outputs": [],
   "source": [
    "titles = soup.select(\"div.list_info._scroller ul li div.title_box a\")\n",
    "li = []\n",
    "for t in titles :\n",
    "    li.append(t.text);\n",
    "df = pd.DataFrame(li,columns=['name']);\n",
    "df.to_csv(\"game_list.csv\",index=False,encoding=\"euc-kr\");\n",
    "\n"
   ]
  },
  {
   "cell_type": "code",
   "execution_count": 96,
   "id": "3f0c5cff-76d6-405b-a81b-5004c87dc670",
   "metadata": {},
   "outputs": [
    {
     "name": "stdout",
     "output_type": "stream",
     "text": [
      "              name\n",
      "0        리그 오브 레전드\n",
      "1       승리의 여신: 니케\n",
      "2         트릭컬 리바이브\n",
      "3             노바삼국\n",
      "4          버섯커 키우기\n",
      "5         우파루 오딧세이\n",
      "6  별이되어라2: 베다의 기사들\n",
      "7           던전앤파이터\n",
      "8     PUBG: 배틀그라운드\n",
      "9         소울 스트라이크\n"
     ]
    }
   ],
   "source": [
    "tables = pd.read_csv(\"game_list.csv\",encoding=\"euc_kr\");\n",
    "print(tables)"
   ]
  }
 ],
 "metadata": {
  "kernelspec": {
   "display_name": "Python 3 (ipykernel)",
   "language": "python",
   "name": "python3"
  },
  "language_info": {
   "codemirror_mode": {
    "name": "ipython",
    "version": 3
   },
   "file_extension": ".py",
   "mimetype": "text/x-python",
   "name": "python",
   "nbconvert_exporter": "python",
   "pygments_lexer": "ipython3",
   "version": "3.12.7"
  }
 },
 "nbformat": 4,
 "nbformat_minor": 5
}
