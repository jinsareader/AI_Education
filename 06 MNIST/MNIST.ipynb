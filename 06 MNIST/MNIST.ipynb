{
 "cells": [
  {
   "cell_type": "code",
   "execution_count": 25,
   "id": "9a9098e9-5e90-4313-bf28-9ee92155e3b1",
   "metadata": {},
   "outputs": [],
   "source": [
    "import os\n",
    "os.environ[\"KMP_DUPLICATE_LIB_OK\"]=\"TRUE\"\n",
    "\n",
    "import numpy\n",
    "import torch\n",
    "import torch.nn as nn\n",
    "from torchvision import datasets, transforms\n",
    "from tqdm.notebook import tqdm\n",
    "import matplotlib.pyplot as plt"
   ]
  },
  {
   "cell_type": "code",
   "execution_count": 26,
   "id": "44b8f7e5-5231-4078-9d64-fd02ded07c86",
   "metadata": {},
   "outputs": [],
   "source": [
    "mnist_train = datasets.MNIST(root = \"./dataset\", train=True, transform=transforms.ToTensor(), download=True)\n",
    "mnist_test = datasets.MNIST(root = \"./dataset\", train=False, transform=transforms.ToTensor(), download=True)"
   ]
  },
  {
   "cell_type": "code",
   "execution_count": 46,
   "id": "5ce23f68-54e8-491a-bc99-3584d8b97d4f",
   "metadata": {},
   "outputs": [
    {
     "name": "stdout",
     "output_type": "stream",
     "text": [
      "epoch 100 | loss 1.8195799589157104\n",
      "epoch 200 | loss 0.9928643703460693\n",
      "epoch 300 | loss 0.9018739461898804\n",
      "epoch 400 | loss 0.848706841468811\n",
      "epoch 500 | loss 0.6281848549842834\n",
      "epoch 600 | loss 0.573269784450531\n",
      "epoch 700 | loss 0.8001048564910889\n",
      "epoch 800 | loss 0.6838788390159607\n",
      "epoch 900 | loss 0.6144910454750061\n",
      "epoch 1000 | loss 0.6349425911903381 - too much train\n"
     ]
    }
   ],
   "source": [
    "device = \"cuda\" if torch.cuda.is_available() else \"cpu\"\n",
    "e = 0\n",
    "\n",
    "F = nn.Sequential(\n",
    "    nn.Linear(28*28, 128, device = device),\n",
    "    nn.ReLU(),\n",
    "    nn.Linear(128,64, device = device),\n",
    "    nn.ReLU(),\n",
    "    nn.Linear(64,10, device = device),\n",
    "    nn.ReLU()\n",
    ")\n",
    "loss_function = nn.CrossEntropyLoss()\n",
    "optimizer = torch.optim.SGD(F.parameters(), lr = 0.1)\n",
    "\n",
    "while(True) :\n",
    "    e += 1\n",
    "    batch_size = 100\n",
    "    batch = numpy.random.randint(0,len(mnist_train),(batch_size))\n",
    "    x = []\n",
    "    t = []\n",
    "    for b in batch :\n",
    "        x.append(mnist_train[b][0].reshape(28*28).tolist())\n",
    "        t.append(mnist_train[b][1])\n",
    "    x = torch.tensor(x, dtype=torch.float, device = device)\n",
    "    t = torch.tensor(t, dtype=torch.long, device = device)\n",
    "\n",
    "    y = F(x)\n",
    "    loss = loss_function(y, t)\n",
    "\n",
    "    loss.backward()\n",
    "    optimizer.step()\n",
    "    optimizer.zero_grad()\n",
    "\n",
    "    if loss < 0.3 :\n",
    "        print(\"epoch {} | loss {} - train end\".format(e, loss))\n",
    "        break\n",
    "    if e == 1000 :\n",
    "        print(\"epoch {} | loss {} - too much train\".format(e, loss))\n",
    "        break        \n",
    "    if e % 100 == 0 :\n",
    "        print(\"epoch {} | loss {}\".format(e, loss))"
   ]
  },
  {
   "cell_type": "code",
   "execution_count": 47,
   "id": "2a367635-4743-474d-a736-5d379aef53c0",
   "metadata": {},
   "outputs": [
    {
     "name": "stdout",
     "output_type": "stream",
     "text": [
      "correct_posibility : 0.747200\n"
     ]
    }
   ],
   "source": [
    "cnt = 0;\n",
    "for i in range(len(mnist_test)) :\n",
    "    x = mnist_test[i][0].reshape(28*28).to(device)\n",
    "    t = mnist_test[i][1]\n",
    "    y = F(x)\n",
    "    if torch.argmax(y) == t :\n",
    "        cnt = cnt + 1\n",
    "\n",
    "print(\"correct_posibility : %f\" %(cnt / len(mnist_test)))\n",
    "torch.save(F,\"MNIST2.pt\")"
   ]
  },
  {
   "cell_type": "code",
   "execution_count": 6,
   "id": "b5061699-3873-42ad-ae40-459b9d693675",
   "metadata": {},
   "outputs": [
    {
     "name": "stdout",
     "output_type": "stream",
     "text": [
      "tensor(1)\n"
     ]
    },
    {
     "data": {
      "image/png": "[encoded data removed]",
      "text/plain": [
       "<Figure size 640x480 with 1 Axes>"
      ]
     },
     "metadata": {},
     "output_type": "display_data"
    }
   ],
   "source": [
    "#F = torch.load(\"MNIST.pt\", weights_only = False)\n",
    "\n",
    "img = mnist_test[2][0].reshape(28,28)\n",
    "plt.imshow(img)\n",
    "\n",
    "y_array = F(img.reshape(1,28*28))\n",
    "print(torch.argmax( y_array))"
   ]
  },
  {
   "cell_type": "code",
   "execution_count": null,
   "id": "6810c036-7058-4f0c-94cb-d66aae1c4498",
   "metadata": {},
   "outputs": [],
   "source": []
  }
 ],
 "metadata": {
  "kernelspec": {
   "display_name": "Python 3 (ipykernel)",
   "language": "python",
   "name": "python3"
  },
  "language_info": {
   "codemirror_mode": {
    "name": "ipython",
    "version": 3
   },
   "file_extension": ".py",
   "mimetype": "text/x-python",
   "name": "python",
   "nbconvert_exporter": "python",
   "pygments_lexer": "ipython3",
   "version": "3.12.7"
  }
 },
 "nbformat": 4,
 "nbformat_minor": 5
}
