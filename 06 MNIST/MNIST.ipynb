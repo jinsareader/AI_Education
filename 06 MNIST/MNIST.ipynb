{
 "cells": [
  {
   "cell_type": "code",
   "execution_count": 2,
   "id": "9a9098e9-5e90-4313-bf28-9ee92155e3b1",
   "metadata": {},
   "outputs": [],
   "source": [
    "import os\n",
    "os.environ[\"KMP_DUPLICATE_LIB_OK\"]=\"TRUE\"\n",
    "\n",
    "import numpy\n",
    "import torch\n",
    "import torch.nn as nn\n",
    "from torchvision import datasets, transforms\n",
    "from torch.utils.data import DataLoader\n",
    "import matplotlib.pyplot as plt"
   ]
  },
  {
   "cell_type": "code",
   "execution_count": 5,
   "id": "44b8f7e5-5231-4078-9d64-fd02ded07c86",
   "metadata": {},
   "outputs": [
    {
     "name": "stdout",
     "output_type": "stream",
     "text": [
      "라벨 종류 : 10\n"
     ]
    }
   ],
   "source": [
    "train = datasets.MNIST(root = \"./dataset\", train=True, transform=transforms.ToTensor(), download=True)\n",
    "test = datasets.MNIST(root = \"./dataset\", train=False, transform=transforms.ToTensor(), download=True)\n",
    "\n",
    "data = DataLoader(train, batch_size=100, shuffle=True) \n",
    "\n",
    "t_size = max(train.targets) + 1\n",
    "print(\"라벨 종류 : {}\".format(t_size))"
   ]
  },
  {
   "cell_type": "code",
   "execution_count": 11,
   "id": "5ce23f68-54e8-491a-bc99-3584d8b97d4f",
   "metadata": {},
   "outputs": [
    {
     "name": "stdout",
     "output_type": "stream",
     "text": [
      "epoch 1 | loss 1.9856339693069458\n",
      "epoch 2 | loss 1.6461750268936157\n",
      "epoch 3 | loss 1.596909761428833\n",
      "epoch 4 | loss 1.5776176452636719\n",
      "epoch 5 | loss 1.566611409187317\n",
      "epoch 6 | loss 1.5585529804229736\n",
      "epoch 7 | loss 1.55216383934021\n",
      "epoch 8 | loss 1.5468662977218628\n",
      "epoch 9 | loss 1.5423378944396973\n",
      "epoch 10 | loss 1.5383586883544922\n",
      "epoch 11 | loss 1.5348455905914307\n",
      "epoch 12 | loss 1.5311952829360962\n",
      "epoch 13 | loss 1.525437355041504\n",
      "epoch 14 | loss 1.5202072858810425\n",
      "epoch 15 | loss 1.5167875289916992\n",
      "epoch 16 | loss 1.5141109228134155\n",
      "epoch 17 | loss 1.511757493019104\n",
      "epoch 18 | loss 1.5096365213394165\n",
      "epoch 19 | loss 1.5077658891677856\n",
      "epoch 20 | loss 1.5061326026916504\n",
      "epoch 21 | loss 1.5045299530029297\n",
      "epoch 22 | loss 1.5030661821365356\n",
      "epoch 23 | loss 1.501726746559143\n",
      "epoch 24 | loss 1.500425934791565\n",
      "epoch 25 | loss 1.499299168586731\n",
      "epoch 26 | loss 1.4981987476348877\n",
      "epoch 27 | loss 1.4971622228622437\n",
      "epoch 28 | loss 1.496167540550232\n",
      "epoch 29 | loss 1.4952590465545654\n",
      "epoch 30 | loss 1.4944268465042114\n"
     ]
    }
   ],
   "source": [
    "device = \"cuda\" if torch.cuda.is_available() else \"cpu\"\n",
    "e = 0\n",
    "\n",
    "F = nn.Sequential(\n",
    "    nn.Linear(28*28, 128, device = device),\n",
    "    nn.ReLU(),\n",
    "    nn.Linear(128,64, device = device),\n",
    "    nn.ReLU(),\n",
    "    nn.Linear(64,10, device = device),\n",
    "    nn.Sigmoid()\n",
    ")\n",
    "loss_function = nn.CrossEntropyLoss()\n",
    "optimizer = torch.optim.SGD(F.parameters(), lr = 0.1)\n",
    "epoch = 30\n",
    "\n",
    "for e in range(epoch) :\n",
    "    loss_sum = 0\n",
    "    for x, t in data :\n",
    "        #y = F(x)\n",
    "        x = x.reshape(x.shape[0],28*28).to(device)\n",
    "        y = F(x)\n",
    "        #손실함수\n",
    "        loss = loss_function(y, t)\n",
    "        loss_sum += loss\n",
    "        #최적화함수\n",
    "        loss.backward()\n",
    "        optimizer.step()\n",
    "        optimizer.zero_grad()\n",
    "\n",
    "    print(f\"epoch {e+1} | loss {loss_sum / len(data)}\")\n"
   ]
  },
  {
   "cell_type": "code",
   "execution_count": 12,
   "id": "2a367635-4743-474d-a736-5d379aef53c0",
   "metadata": {},
   "outputs": [
    {
     "name": "stdout",
     "output_type": "stream",
     "text": [
      "correct_posibility : 0.960400\n",
      "[8, 33, 124, 149, 151, 241, 247, 259, 313, 320, 321, 340, 352, 445, 448, 479, 495, 507, 543, 551, 565, 578, 582, 591, 610, 619, 659, 684, 691, 707, 717, 720, 740, 810, 844, 881, 882, 924, 938, 939, 947, 950, 956, 959, 965, 1014, 1039, 1044, 1107, 1112, 1114, 1156, 1181, 1182, 1192, 1194, 1204, 1226, 1232, 1242, 1247, 1256, 1260, 1283, 1289, 1299, 1319, 1326, 1328, 1364, 1378, 1393, 1414, 1433, 1440, 1444, 1467, 1469, 1494, 1500, 1522, 1527, 1530, 1549, 1553, 1587, 1609, 1621, 1626, 1634, 1671, 1678, 1681, 1709, 1717, 1751, 1754, 1772, 1790, 1800, 1857, 1878, 1901, 1938, 1940, 1941, 1952, 1984, 2016, 2024, 2035, 2040, 2043, 2044, 2053, 2070, 2098, 2109, 2118, 2129, 2130, 2135, 2174, 2182, 2185, 2186, 2189, 2224, 2266, 2272, 2293, 2299, 2318, 2325, 2369, 2371, 2387, 2394, 2406, 2414, 2422, 2433, 2488, 2548, 2598, 2607, 2610, 2631, 2648, 2654, 2695, 2730, 2760, 2771, 2863, 2896, 2907, 2925, 2927, 2939, 2945, 2953, 2995, 3005, 3030, 3060, 3073, 3117, 3130, 3145, 3160, 3189, 3206, 3251, 3330, 3333, 3405, 3490, 3503, 3520, 3549, 3558, 3559, 3567, 3597, 3604, 3664, 3718, 3730, 3751, 3757, 3767, 3776, 3778, 3780, 3796, 3806, 3808, 3811, 3817, 3818, 3821, 3838, 3848, 3853, 3855, 3862, 3869, 3893, 3902, 3906, 3941, 3943, 3976, 3985, 3995, 4000, 4017, 4063, 4075, 4078, 4093, 4152, 4154, 4163, 4176, 4201, 4211, 4212, 4224, 4248, 4289, 4300, 4306, 4355, 4369, 4374, 4425, 4435, 4477, 4497, 4500, 4536, 4540, 4547, 4571, 4575, 4601, 4615, 4690, 4731, 4735, 4740, 4785, 4807, 4814, 4823, 4874, 4876, 4880, 4886, 4910, 4950, 4956, 4966, 4990, 5009, 5054, 5140, 5165, 5331, 5457, 5600, 5634, 5642, 5653, 5734, 5749, 5835, 5842, 5887, 5888, 5891, 5913, 5936, 5937, 5955, 5972, 5973, 6035, 6045, 6046, 6059, 6065, 6071, 6081, 6091, 6157, 6166, 6168, 6172, 6173, 6347, 6390, 6391, 6400, 6421, 6426, 6505, 6511, 6555, 6564, 6568, 6571, 6574, 6597, 6598, 6608, 6625, 6632, 6641, 6651, 6706, 6765, 6783, 6785, 6793, 6847, 6926, 7216, 7220, 7426, 7432, 7434, 7451, 7459, 7492, 7539, 7797, 7800, 7856, 7886, 7899, 7921, 7945, 8020, 8062, 8081, 8091, 8094, 8095, 8183, 8272, 8277, 8339, 8406, 8408, 8520, 8522, 8863, 9009, 9015, 9016, 9019, 9022, 9024, 9036, 9211, 9280, 9587, 9624, 9634, 9642, 9643, 9679, 9698, 9700, 9716, 9729, 9744, 9745, 9749, 9755, 9768, 9770, 9777, 9779, 9808, 9839, 9856, 9858, 9888, 9890, 9905, 9944, 9982]\n"
     ]
    }
   ],
   "source": [
    "cnt = 0;\n",
    "err = []\n",
    "\n",
    "for i in range(len(test)) :\n",
    "    x = test[i][0].reshape(28*28).to(device)\n",
    "    t = test[i][1]\n",
    "    y = F(x)\n",
    "    if torch.argmax(y) == t :\n",
    "        cnt = cnt + 1\n",
    "    else :\n",
    "        err.append(i)\n",
    "\n",
    "print(\"correct_posibility : %f\" %(cnt / len(test)))\n",
    "print(err)\n",
    "torch.save(F,\"MNIST.pt\")"
   ]
  },
  {
   "cell_type": "code",
   "execution_count": 10,
   "id": "b5061699-3873-42ad-ae40-459b9d693675",
   "metadata": {},
   "outputs": [
    {
     "name": "stdout",
     "output_type": "stream",
     "text": [
      "AI의 제안 : 7\n",
      "정답 : 9\n"
     ]
    },
    {
     "data": {
      "image/png": "[encoded data removed]",
      "text/plain": [
       "<Figure size 640x480 with 1 Axes>"
      ]
     },
     "metadata": {},
     "output_type": "display_data"
    }
   ],
   "source": [
    "#F = torch.load(\"MNIST.pt\", weights_only = False)\n",
    "a = 73\n",
    "\n",
    "img = test[a][0].reshape(28,28)\n",
    "plt.imshow(img)\n",
    "\n",
    "y_array = F(img.reshape(1,28*28))\n",
    "print(f\"AI의 제안 : {torch.argmax(y_array)}\")\n",
    "print(f\"정답 : {test[a][1]}\")"
   ]
  },
  {
   "cell_type": "code",
   "execution_count": null,
   "id": "6810c036-7058-4f0c-94cb-d66aae1c4498",
   "metadata": {},
   "outputs": [],
   "source": []
  }
 ],
 "metadata": {
  "kernelspec": {
   "display_name": "Python 3 (ipykernel)",
   "language": "python",
   "name": "python3"
  },
  "language_info": {
   "codemirror_mode": {
    "name": "ipython",
    "version": 3
   },
   "file_extension": ".py",
   "mimetype": "text/x-python",
   "name": "python",
   "nbconvert_exporter": "python",
   "pygments_lexer": "ipython3",
   "version": "3.12.7"
  }
 },
 "nbformat": 4,
 "nbformat_minor": 5
}
