{
 "cells": [
  {
   "cell_type": "code",
   "execution_count": 1,
   "id": "9a9098e9-5e90-4313-bf28-9ee92155e3b1",
   "metadata": {},
   "outputs": [],
   "source": [
    "import os\n",
    "os.environ[\"KMP_DUPLICATE_LIB_OK\"]=\"TRUE\"\n",
    "\n",
    "import numpy\n",
    "import torch\n",
    "import torch.nn as nn\n",
    "from torchvision import datasets, transforms\n",
    "from tqdm.notebook import tqdm\n",
    "import matplotlib.pyplot as plt"
   ]
  },
  {
   "cell_type": "code",
   "execution_count": 2,
   "id": "44b8f7e5-5231-4078-9d64-fd02ded07c86",
   "metadata": {},
   "outputs": [],
   "source": [
    "mnist_train = datasets.MNIST(root = \"./dataset\", train=True, transform=transforms.ToTensor(), download=True)\n",
    "mnist_test = datasets.MNIST(root = \"./dataset\", train=False, transform=transforms.ToTensor(), download=True)"
   ]
  },
  {
   "cell_type": "code",
   "execution_count": 3,
   "id": "5ce23f68-54e8-491a-bc99-3584d8b97d4f",
   "metadata": {},
   "outputs": [
    {
     "name": "stdout",
     "output_type": "stream",
     "text": [
      "epoch 10 | loss 1.7517651319503784\n",
      "epoch 20 | loss 1.7023319005966187\n",
      "epoch 30 | loss 1.6985894441604614\n",
      "epoch 40 | loss 1.6460833549499512\n",
      "epoch 50 | loss 1.6775301694869995\n",
      "epoch 60 | loss 1.6071628332138062\n",
      "epoch 70 | loss 1.628877878189087\n",
      "epoch 80 | loss 1.6044081449508667\n",
      "epoch 90 | loss 1.5625354051589966\n",
      "epoch 100 | loss 1.5759717226028442\n",
      "epoch 110 | loss 1.5897244215011597\n",
      "epoch 120 | loss 1.55716872215271\n",
      "epoch 130 | loss 1.5535075664520264\n",
      "epoch 140 | loss 1.5344178676605225\n",
      "epoch 150 | loss 1.539804220199585\n",
      "epoch 160 | loss 1.5931015014648438\n",
      "epoch 170 | loss 1.5815370082855225\n",
      "epoch 180 | loss 1.588720679283142\n",
      "epoch 190 | loss 1.5593032836914062\n",
      "epoch 200 | loss 1.5614742040634155\n"
     ]
    }
   ],
   "source": [
    "device = \"cuda\" if torch.cuda.is_available() else \"cpu\"\n",
    "\n",
    "F = nn.Sequential(\n",
    "    nn.Linear(28*28, 128, device = device),\n",
    "    nn.ReLU(),\n",
    "    nn.Linear(128,64, device = device),\n",
    "    nn.ReLU(),\n",
    "    nn.Linear(64,10, device = device),\n",
    "    nn.Sigmoid()\n",
    "    ##nn.ReLU(),\n",
    "    ##nn.LogSoftmax(dim = 1)\n",
    ")\n",
    "loss_function = nn.CrossEntropyLoss()\n",
    "optimizer = torch.optim.SGD(F.parameters(), lr = 0.1)\n",
    "epoch = 200\n",
    "\n",
    "for e in range(epoch) :\n",
    "    batch_size = 100\n",
    "    batch = numpy.random.randint(0,len(mnist_train),(batch_size))\n",
    "    x = []\n",
    "    t = []\n",
    "    for b in batch :\n",
    "        x.append(mnist_train[b][0].reshape(28*28).to(device))\n",
    "        t.append(torch.tensor(mnist_train[b][1],dtype = torch.long, device = device))\n",
    "\n",
    "    loss_sum = 0\n",
    "    for i in range(batch_size) :\n",
    "        y = F(x[i])\n",
    "        loss = loss_function(y, t[i])\n",
    "        loss_sum += loss\n",
    "\n",
    "        loss.backward()\n",
    "        optimizer.step()\n",
    "        optimizer.zero_grad()\n",
    "\n",
    "    if (e+1) % 10 == 0 :\n",
    "        print(\"epoch {} | loss {}\".format(e+1, loss_sum / batch_size))"
   ]
  },
  {
   "cell_type": "code",
   "execution_count": 5,
   "id": "2a367635-4743-474d-a736-5d379aef53c0",
   "metadata": {},
   "outputs": [
    {
     "name": "stdout",
     "output_type": "stream",
     "text": [
      "correct_posibility : 0.893400\n"
     ]
    }
   ],
   "source": [
    "cnt = 0;\n",
    "for i in range(len(mnist_test)) :\n",
    "    x = mnist_test[i][0].reshape(28*28).to(device)\n",
    "    t = mnist_test[i][1]\n",
    "    y = F(x)\n",
    "    if torch.argmax(y) == t :\n",
    "        cnt = cnt + 1\n",
    "\n",
    "print(\"correct_posibility : %f\" %(cnt / len(mnist_test)))\n",
    "torch.save(F,\"MNIST2.pt\")"
   ]
  },
  {
   "cell_type": "code",
   "execution_count": 6,
   "id": "b5061699-3873-42ad-ae40-459b9d693675",
   "metadata": {},
   "outputs": [
    {
     "name": "stdout",
     "output_type": "stream",
     "text": [
      "tensor(1)\n"
     ]
    },
    {
     "data": {
      "image/png": "[encoded data removed]",
      "text/plain": [
       "<Figure size 640x480 with 1 Axes>"
      ]
     },
     "metadata": {},
     "output_type": "display_data"
    }
   ],
   "source": [
    "#F = torch.load(\"MNIST.pt\", weights_only = False)\n",
    "\n",
    "img = mnist_test[2][0].reshape(28,28)\n",
    "plt.imshow(img)\n",
    "\n",
    "y_array = F(img.reshape(1,28*28))\n",
    "print(torch.argmax( y_array))"
   ]
  },
  {
   "cell_type": "code",
   "execution_count": null,
   "id": "6810c036-7058-4f0c-94cb-d66aae1c4498",
   "metadata": {},
   "outputs": [],
   "source": []
  }
 ],
 "metadata": {
  "kernelspec": {
   "display_name": "Python 3 (ipykernel)",
   "language": "python",
   "name": "python3"
  },
  "language_info": {
   "codemirror_mode": {
    "name": "ipython",
    "version": 3
   },
   "file_extension": ".py",
   "mimetype": "text/x-python",
   "name": "python",
   "nbconvert_exporter": "python",
   "pygments_lexer": "ipython3",
   "version": "3.12.7"
  }
 },
 "nbformat": 4,
 "nbformat_minor": 5
}
