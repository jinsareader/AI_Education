{
 "cells": [
  {
   "cell_type": "code",
   "execution_count": 2,
   "id": "1f9b9d10-2591-4da3-bc84-6f6b48011469",
   "metadata": {},
   "outputs": [],
   "source": [
    "import os\n",
    "os.environ[\"KMP_DUPLICATE_LIB_OK\"]=\"TRUE\"\n",
    "\n",
    "import numpy\n",
    "import torch\n",
    "import torch.nn as nn\n",
    "from torchvision import datasets, transforms\n",
    "from tqdm.notebook import tqdm\n",
    "import matplotlib.pyplot as plt"
   ]
  },
  {
   "cell_type": "code",
   "execution_count": 4,
   "id": "0578aa43-8670-4dbe-8ac8-69606d13f955",
   "metadata": {},
   "outputs": [],
   "source": [
    "mnist_train = datasets.MNIST(root = \"./dataset\", train=True, transform=transforms.ToTensor(), download=True)\n",
    "mnist_test = datasets.MNIST(root = \"./dataset\", train=False, transform=transforms.ToTensor(), download=True)\n",
    "\n",
    "train_loader = torch.utils.data.DataLoader(mnist_train, batch_size = 100, shuffle=True)\n",
    "test_loader = torch.utils.data.DataLoader(mnist_test, batch_size = 100, shuffle = False)"
   ]
  },
  {
   "cell_type": "code",
   "execution_count": 4,
   "id": "c689709d-77de-44ee-912d-af2af0ebcefe",
   "metadata": {},
   "outputs": [
    {
     "name": "stdout",
     "output_type": "stream",
     "text": [
      "Epoch 0.000000 : Training loss 0.936180\n",
      "Epoch 1.000000 : Training loss 0.491885\n",
      "Epoch 2.000000 : Training loss 0.424596\n",
      "Epoch 3.000000 : Training loss 0.384934\n",
      "Epoch 4.000000 : Training loss 0.359876\n",
      "Epoch 5.000000 : Training loss 0.342179\n",
      "Epoch 6.000000 : Training loss 0.327953\n",
      "Epoch 7.000000 : Training loss 0.169432\n",
      "Epoch 8.000000 : Training loss 0.084241\n",
      "Epoch 9.000000 : Training loss 0.073026\n",
      "Epoch 10.000000 : Training loss 0.063796\n",
      "Epoch 11.000000 : Training loss 0.056731\n",
      "Epoch 12.000000 : Training loss 0.050871\n",
      "Epoch 13.000000 : Training loss 0.045672\n",
      "Epoch 14.000000 : Training loss 0.040756\n",
      "Epoch 15.000000 : Training loss 0.036561\n",
      "Epoch 16.000000 : Training loss 0.032588\n",
      "Epoch 17.000000 : Training loss 0.028992\n",
      "Epoch 18.000000 : Training loss 0.026692\n",
      "Epoch 19.000000 : Training loss 0.023938\n",
      "Epoch 20.000000 : Training loss 0.020840\n",
      "Epoch 21.000000 : Training loss 0.018841\n",
      "Epoch 22.000000 : Training loss 0.016909\n",
      "Epoch 23.000000 : Training loss 0.014958\n",
      "Epoch 24.000000 : Training loss 0.013772\n",
      "Epoch 25.000000 : Training loss 0.012119\n",
      "Epoch 26.000000 : Training loss 0.011015\n",
      "Epoch 27.000000 : Training loss 0.009523\n",
      "Epoch 28.000000 : Training loss 0.008484\n",
      "Epoch 29.000000 : Training loss 0.007543\n"
     ]
    }
   ],
   "source": [
    "input_size = 784\n",
    "hidden_size = [128,64]\n",
    "output_size = 10\n",
    "\n",
    "model = nn.Sequential(\n",
    "    nn.Linear(input_size, hidden_size[0]),\n",
    "    nn.ReLU(),\n",
    "    nn.Linear(hidden_size[0], hidden_size[1]),\n",
    "    nn.ReLU(),\n",
    "    nn.Linear(hidden_size[1], output_size),\n",
    "    nn.ReLU(),\n",
    ")\n",
    "\n",
    "criterion = nn.CrossEntropyLoss()\n",
    "optimizer = torch.optim.SGD(model.parameters(),lr=0.09)\n",
    "\n",
    "epoch = 30\n",
    "for e in range(epoch) :\n",
    "    running_loss = 0;\n",
    "    for images, labels in train_loader :\n",
    "        images = images.view(images.shape[0], 784)\n",
    "        optimizer.zero_grad()\n",
    "        output = model(images)\n",
    "        loss = criterion(output,labels)\n",
    "        loss.backward()\n",
    "        optimizer.step()\n",
    "\n",
    "        running_loss += loss.item()\n",
    "\n",
    "    print(\"Epoch %f : Training loss %f\" %(e, running_loss/len(train_loader)))\n",
    "\n"
   ]
  },
  {
   "cell_type": "code",
   "execution_count": 5,
   "id": "764915f8-bdd7-4e92-b852-0f839246793b",
   "metadata": {},
   "outputs": [],
   "source": [
    "torch.save(model,\"MNIST.pt\")"
   ]
  },
  {
   "cell_type": "code",
   "execution_count": 5,
   "id": "c9c548b0-6d0f-4e4f-9680-2dc858439f6a",
   "metadata": {
    "scrolled": true
   },
   "outputs": [
    {
     "name": "stdout",
     "output_type": "stream",
     "text": [
      "tensor([[ 0.0000,  0.0000,  0.0595,  7.0734,  0.0000,  0.0000,  0.0000, 17.2742,\n",
      "          0.0000,  3.4165]], grad_fn=<ReluBackward0>)\n"
     ]
    },
    {
     "data": {
      "image/png": "[encoded data removed]",
      "text/plain": [
       "<Figure size 640x480 with 1 Axes>"
      ]
     },
     "metadata": {},
     "output_type": "display_data"
    }
   ],
   "source": [
    "F = torch.load(\"MNIST.pt\", weights_only = False)\n",
    "\n",
    "img = mnist_test[0][0].reshape(28,28)\n",
    "plt.imshow(img)\n",
    "\n",
    "y_array = F(img.reshape(1,28*28))\n",
    "print(( y_array))\n"
   ]
  },
  {
   "cell_type": "code",
   "execution_count": 6,
   "id": "957d99de-a754-46dc-9f0c-8c76da875873",
   "metadata": {},
   "outputs": [
    {
     "name": "stdout",
     "output_type": "stream",
     "text": [
      "correct_posibility : 0.978700\n",
      "[62, 149, 247, 321, 340, 381, 445, 449, 495, 528, 543, 582, 583, 646, 659, 691, 720, 844, 882, 938, 947, 951, 956, 999, 1014, 1039, 1112, 1128, 1178, 1181, 1182, 1194, 1224, 1226, 1232, 1242, 1247, 1253, 1299, 1319, 1328, 1337, 1393, 1494, 1500, 1522, 1530, 1531, 1549, 1553, 1554, 1569, 1601, 1609, 1621, 1670, 1681, 1717, 1790, 1800, 1901, 1941, 1952, 1984, 1987, 2004, 2040, 2053, 2109, 2130, 2135, 2182, 2272, 2293, 2369, 2387, 2414, 2426, 2488, 2560, 2607, 2610, 2618, 2648, 2654, 2877, 2896, 2921, 2927, 2939, 2953, 3060, 3073, 3117, 3225, 3405, 3422, 3451, 3475, 3503, 3520, 3558, 3597, 3681, 3727, 3757, 3767, 3776, 3808, 3811, 3818, 3838, 3853, 3869, 3893, 3906, 3941, 3943, 3985, 4000, 4065, 4078, 4176, 4193, 4199, 4201, 4248, 4289, 4294, 4344, 4369, 4425, 4497, 4534, 4536, 4547, 4601, 4639, 4731, 4761, 4807, 4823, 4833, 4876, 4880, 4956, 4966, 4990, 5199, 5331, 5457, 5495, 5600, 5642, 5734, 5842, 5887, 5936, 5937, 5955, 5972, 5973, 5982, 6023, 6045, 6059, 6166, 6555, 6558, 6560, 6571, 6574, 6597, 6625, 6632, 6651, 6755, 6847, 7216, 7800, 7821, 7921, 8094, 8246, 8277, 8311, 8325, 8339, 8456, 8522, 8527, 9009, 9015, 9019, 9024, 9280, 9517, 9587, 9634, 9664, 9669, 9679, 9692, 9698, 9729, 9745, 9768, 9770, 9777, 9779, 9792, 9808, 9944]\n"
     ]
    }
   ],
   "source": [
    "cnt = 0;\n",
    "err = []\n",
    "\n",
    "for i in range(len(mnist_test)) :\n",
    "    x = mnist_test[i][0].reshape(1,28*28)\n",
    "    t = mnist_test[i][1]\n",
    "    y = F(x)\n",
    "    if torch.argmax(y) == t :\n",
    "        cnt = cnt + 1\n",
    "    else :\n",
    "        err.append(i)\n",
    "\n",
    "print(\"correct_posibility : %f\" %(cnt / len(mnist_test)))\n",
    "print(err)\n",
    "        "
   ]
  },
  {
   "cell_type": "code",
   "execution_count": null,
   "id": "d35d351e-e119-4d98-8acf-6536d8056549",
   "metadata": {},
   "outputs": [],
   "source": []
  }
 ],
 "metadata": {
  "kernelspec": {
   "display_name": "Python 3 (ipykernel)",
   "language": "python",
   "name": "python3"
  },
  "language_info": {
   "codemirror_mode": {
    "name": "ipython",
    "version": 3
   },
   "file_extension": ".py",
   "mimetype": "text/x-python",
   "name": "python",
   "nbconvert_exporter": "python",
   "pygments_lexer": "ipython3",
   "version": "3.12.7"
  }
 },
 "nbformat": 4,
 "nbformat_minor": 5
}
