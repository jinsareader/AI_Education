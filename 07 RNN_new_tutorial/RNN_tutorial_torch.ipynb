{
 "cells": [
  {
   "cell_type": "code",
   "execution_count": 1,
   "id": "ba8ef4c2-220f-4de9-9b8e-76dcd3f82d5c",
   "metadata": {},
   "outputs": [
    {
     "name": "stdout",
     "output_type": "stream",
     "text": [
      "['love', 'like', 'dog', 'you', 'cat', 'hate', 'milk', 'coffee', 'i']\n",
      "{'love': 0, 'like': 1, 'dog': 2, 'you': 3, 'cat': 4, 'hate': 5, 'milk': 6, 'coffee': 7, 'i': 8}\n",
      "epoch 10 | loss 6.80874490737915\n",
      "epoch 20 | loss 3.9165430068969727\n",
      "epoch 30 | loss 1.118427038192749\n",
      "epoch 40 | loss 0.3450333774089813\n",
      "epoch 50 | loss 0.19696640968322754\n",
      "epoch 60 | loss 0.1341795176267624\n",
      "epoch 70 | loss 0.100531205534935\n",
      "epoch 80 | loss 0.07996776700019836\n",
      "epoch 90 | loss 0.06623402237892151\n",
      "epoch 100 | loss 0.05645953118801117\n",
      "epoch 110 | loss 0.049168433994054794\n",
      "epoch 120 | loss 0.04352869838476181\n",
      "epoch 130 | loss 0.03904113173484802\n",
      "epoch 140 | loss 0.03538741543889046\n",
      "epoch 150 | loss 0.032356277108192444\n",
      "epoch 160 | loss 0.029801812022924423\n",
      "epoch 170 | loss 0.02762022614479065\n",
      "epoch 180 | loss 0.025735339149832726\n",
      "epoch 190 | loss 0.024091092869639397\n",
      "epoch 200 | loss 0.022643905133008957\n"
     ]
    }
   ],
   "source": [
    "import numpy as np\n",
    "import torch\n",
    "import torch.nn as nn\n",
    "\n",
    "def word_hot_encoding(sentences):\n",
    "    s_array = []\n",
    "    word_list = list(set(\" \".join(sentences).lower().split()))\n",
    "    word_dict = {w: i for i, w in enumerate(word_list)}\n",
    "    list_size = len(word_list)\n",
    "\n",
    "    for s in sentences:\n",
    "        words = s.lower().split()\n",
    "        temp = [word_dict[word] for word in words]  # fixed indexing\n",
    "        s_array.append(np.eye(list_size)[temp])\n",
    "\n",
    "    return np.array(s_array)\n",
    "\n",
    "class Network(torch.nn.Module):\n",
    "    def __init__(self):\n",
    "        super().__init__()\n",
    "        self.rnn = nn.RNN(9, 5, batch_first=True)\n",
    "        self.seq = nn.Sequential(\n",
    "            nn.Linear(5, 9),\n",
    "        )\n",
    "\n",
    "    def forward(self, x):\n",
    "        x, h = self.rnn(x)\n",
    "        x = self.seq(x[:, -1, :])\n",
    "        return x\n",
    "\n",
    "F = Network()\n",
    "loss_function = nn.CrossEntropyLoss()\n",
    "optimizer = torch.optim.SGD(F.parameters(), lr=0.3)\n",
    "\n",
    "\n",
    "sentences = [\"I like dog\", \"I love coffee\", \"I hate milk\", \"You like cat\", \"You love milk\", \"You hate coffee\"]\n",
    "word_list = list(set(\" \".join(sentences).lower().split()))\n",
    "word_dict = {w: i for i, w in enumerate(word_list)}\n",
    "number_dict = {i: w for i, w in enumerate(word_list)}\n",
    "\n",
    "print(word_list)\n",
    "print(word_dict)\n",
    "\n",
    "s_array = word_hot_encoding(sentences)\n",
    "\n",
    "x = torch.tensor(s_array[:, :2, :], dtype=torch.float)\n",
    "t = torch.tensor(s_array[:, 2, :], dtype=torch.long)\n",
    "\n",
    "epoch = 200\n",
    "for e in range(epoch):\n",
    "    loss_sum = 0\n",
    "    for b in range(x.shape[0]):\n",
    "        y = F(x[b:b+1])\n",
    "\n",
    "        loss = loss_function(y, t[b:b+1].argmax(dim=1))\n",
    "        loss_sum += loss\n",
    "\n",
    "        optimizer.zero_grad()\n",
    "        loss.backward()\n",
    "        optimizer.step()\n",
    "\n",
    "    if (e + 1) % 10 == 0:\n",
    "        print(\"epoch {} | loss {}\".format(e + 1, loss_sum))\n"
   ]
  },
  {
   "cell_type": "code",
   "execution_count": 2,
   "id": "149a3768-18ab-4141-9aff-8ae65de78aa5",
   "metadata": {},
   "outputs": [
    {
     "name": "stdout",
     "output_type": "stream",
     "text": [
      "dog\n",
      "coffee\n",
      "milk\n",
      "cat\n",
      "milk\n",
      "coffee\n"
     ]
    }
   ],
   "source": [
    "#sentences = [\"I like dog\", \"I love coffee\", \"I hate milk\", \"You like cat\", \"You love milk\", \"You hate coffee\"]\n",
    "\n",
    "result = F(x)\n",
    "result_arg = torch.argmax(result, dim = 1)\n",
    "for i in result_arg :\n",
    "    print(number_dict[i.item()])\n"
   ]
  },
  {
   "cell_type": "code",
   "execution_count": 3,
   "id": "c131fe8a-bd8e-4a17-a1a4-11158aa94d1a",
   "metadata": {},
   "outputs": [],
   "source": [
    "import pickle\n",
    "\n",
    "with open(\"test.pickle\", mode = \"wb\") as f :\n",
    "    pickle.dump(word_dict, f)"
   ]
  },
  {
   "cell_type": "code",
   "execution_count": 4,
   "id": "6405328f-2658-4689-9127-55cdb895c787",
   "metadata": {},
   "outputs": [
    {
     "name": "stdout",
     "output_type": "stream",
     "text": [
      "{'hate': 0, 'cat': 1, 'dog': 2, 'coffee': 3, 'milk': 4, 'i': 5, 'you': 6, 'love': 7, 'like': 8}\n"
     ]
    }
   ],
   "source": [
    "with open(\"test.pickle\", mode = \"rb\") as f :\n",
    "    A = pickle.load(f)\n",
    "\n",
    "print(A)"
   ]
  },
  {
   "cell_type": "code",
   "execution_count": null,
   "id": "62550a0d-3b55-4df6-a9c0-f5b0f0f83084",
   "metadata": {},
   "outputs": [],
   "source": []
  }
 ],
 "metadata": {
  "kernelspec": {
   "display_name": "Python 3 (ipykernel)",
   "language": "python",
   "name": "python3"
  },
  "language_info": {
   "codemirror_mode": {
    "name": "ipython",
    "version": 3
   },
   "file_extension": ".py",
   "mimetype": "text/x-python",
   "name": "python",
   "nbconvert_exporter": "python",
   "pygments_lexer": "ipython3",
   "version": "3.12.7"
  }
 },
 "nbformat": 4,
 "nbformat_minor": 5
}
