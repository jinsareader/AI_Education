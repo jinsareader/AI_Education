{
 "cells": [
  {
   "cell_type": "code",
   "execution_count": 1,
   "id": "20ebd2c6-777e-441f-b47f-cf497f93ec6f",
   "metadata": {},
   "outputs": [],
   "source": [
    "import numpy\n",
    "import json"
   ]
  },
  {
   "cell_type": "code",
   "execution_count": 2,
   "id": "4a87f663-fe02-4b68-8958-fac9ca3ae8f0",
   "metadata": {},
   "outputs": [],
   "source": [
    "def make_dict(sentences : list, word_dict : dict = None) :\n",
    "    data = \" \".join(sentences).lower().replace(\".\",\" .\").split()\n",
    "    if word_dict is None :\n",
    "        word_dict = {}\n",
    "        word_dict[\"<eos>\"] = 0\n",
    "        word_dict[\"<unk>\"] = 1\n",
    "    for w in data :\n",
    "        if w not in word_dict :\n",
    "            word_dict[w] = len(word_dict)\n",
    "    number_dict = {i : w for w, i in word_dict.items()}\n",
    "    return word_dict, number_dict\n",
    "\n",
    "def word_num_encoding(sentences : list, word_dict : dict, unk : str = \"<unk>\") :\n",
    "    word_size = len(word_dict)\n",
    "    corpus = []\n",
    "    max_len = 0\n",
    "    for s in sentences :\n",
    "        s = s.lower().replace(\".\",\" .\").split()\n",
    "        max_len = max(max_len, len(s))\n",
    "    for s in sentences :\n",
    "        s_array = []\n",
    "        s = s.lower().replace(\".\",\" .\").split()\n",
    "        for i in range(max_len) :\n",
    "            if len(s) <= i :\n",
    "                s_array.append(-1)\n",
    "                continue\n",
    "            try :\n",
    "                s_array.append(word_dict[s[i]])\n",
    "            except :\n",
    "                s_array.append(word_dict[unk])\n",
    "        corpus.append(s_array)\n",
    "    corpus = numpy.array(corpus)    \n",
    "    return corpus\n",
    "\n",
    "def make_comatrix(corpus, word_size, window_size = 1) :\n",
    "    comatrix = numpy.zeros(shape = (word_size, word_size))\n",
    "    for s in corpus :\n",
    "        for w in range(len(s)) :\n",
    "            if s[w] < 0 :\n",
    "                break\n",
    "            for i in range(1,window_size+1) :\n",
    "                if w-i >= 0 :\n",
    "                    if s[w-i] >= 0 :\n",
    "                        comatrix[s[w], s[w-i]] += 1\n",
    "                if w+i < len(s) :\n",
    "                    if s[w+i] >= 0  :\n",
    "                        comatrix[s[w], s[w+i]] += 1\n",
    "    return comatrix\n",
    "\n",
    "def cos_similarity(x, y) :\n",
    "    eps = 1e-15\n",
    "    return numpy.dot(x,y) / (numpy.linalg.norm(x)*numpy.linalg.norm(y) + eps)\n",
    "\n",
    "def most_similiar(query, word_dict, number_dict, comatrix, top = 5) :\n",
    "    if query not in word_dict :\n",
    "        print(\"{}(이)가 사전에 존재하지 않습니다.\".format(query))\n",
    "        return\n",
    "\n",
    "    word_size = len(word_dict)\n",
    "    similiar = numpy.zeros(shape = (word_size))\n",
    "    for i in range(word_size) :\n",
    "        similiar[i] = cos_similarity(comatrix[word_dict[query]], comatrix[i])\n",
    "\n",
    "    print(\"검색어 ||\",query)\n",
    "    cnt = 0\n",
    "    for i in (-1 * similiar).argsort() :\n",
    "        if number_dict[i] == query :\n",
    "            continue\n",
    "        print(\"{} : {}\".format(number_dict[i], similiar[i]))\n",
    "        cnt += 1\n",
    "        if cnt >= top :\n",
    "            break\n",
    "    print(\"\")\n",
    "\n",
    "def make_pmi(comatrix, verdose = False) :\n",
    "    P = numpy.zeros_like(comatrix)\n",
    "    N = numpy.sum(comatrix)\n",
    "    S = numpy.sum(comatrix, axis = 0)\n",
    "    eps = 1e-15\n",
    "    \n",
    "    cnt = 0\n",
    "    total = P.shape[0] * P.shape[1]\n",
    "    \n",
    "    for i in range(P.shape[0]) :\n",
    "        for j in range(P.shape[1]) :\n",
    "            pmi = numpy.log2(comatrix[i, j] * N / (S[i]*S[j] + eps) + eps)\n",
    "            P[i,j] = max(0, pmi)\n",
    "\n",
    "            if verdose :\n",
    "                cnt += 1\n",
    "                if j+1 == P.shape[1] :\n",
    "                    print(\"%.1f%% 완료\" %(100*cnt/total))\n",
    "    print(\"!!계산 완료!!\")\n",
    "    \n",
    "    return P    "
   ]
  },
  {
   "cell_type": "code",
   "execution_count": 3,
   "id": "fb75e212-c358-4e82-8e50-c4195569f3fe",
   "metadata": {},
   "outputs": [
    {
     "name": "stdout",
     "output_type": "stream",
     "text": [
      "{'<eos>': 0, '<unk>': 1, 'you': 2, 'say': 3, 'goodbye': 4, 'and': 5, 'i': 6, 'hello': 7, '.': 8}\n",
      "{0: '<eos>', 1: '<unk>', 2: 'you', 3: 'say', 4: 'goodbye', 5: 'and', 6: 'i', 7: 'hello', 8: '.'}\n",
      "[[ 2  3  4  5  6  3  7  8]\n",
      " [ 6  5  2  8 -1 -1 -1 -1]]\n"
     ]
    }
   ],
   "source": [
    "sentences = [\"You say goodbye and I say hello.\", \"I and You.\"]\n",
    "\n",
    "word_dict, number_dict = make_dict(sentences)\n",
    "corpus = word_num_encoding(sentences, word_dict)\n",
    "\n",
    "print(word_dict)\n",
    "print(number_dict)\n",
    "print(corpus)\n"
   ]
  },
  {
   "cell_type": "code",
   "execution_count": 4,
   "id": "a0d0784b-bba3-4c2b-b1a8-04c88d71951d",
   "metadata": {},
   "outputs": [
    {
     "name": "stdout",
     "output_type": "stream",
     "text": [
      "[[0. 0. 0. 0. 0. 0. 0. 0. 0.]\n",
      " [0. 0. 0. 0. 0. 0. 0. 0. 0.]\n",
      " [0. 0. 0. 1. 0. 1. 0. 0. 1.]\n",
      " [0. 0. 1. 0. 1. 0. 1. 1. 0.]\n",
      " [0. 0. 0. 1. 0. 1. 0. 0. 0.]\n",
      " [0. 0. 1. 0. 1. 0. 2. 0. 0.]\n",
      " [0. 0. 0. 1. 0. 2. 0. 0. 0.]\n",
      " [0. 0. 0. 1. 0. 0. 0. 0. 1.]\n",
      " [0. 0. 1. 0. 0. 0. 0. 1. 0.]]\n"
     ]
    }
   ],
   "source": [
    "comatrix = make_comatrix(corpus, len(word_dict), 1)\n",
    "print(comatrix)\n"
   ]
  },
  {
   "cell_type": "code",
   "execution_count": 5,
   "id": "8f6614eb-e2f8-4205-9393-4efd71502332",
   "metadata": {},
   "outputs": [
    {
     "name": "stdout",
     "output_type": "stream",
     "text": [
      "0.7745966692414832\n"
     ]
    }
   ],
   "source": [
    "#좌표간 유사도 비교법 : 코사인 유사도\n",
    "similarity = cos_similarity(comatrix[word_dict[\"i\"]],comatrix[word_dict[\"you\"]])\n",
    "print(similarity)"
   ]
  },
  {
   "cell_type": "code",
   "execution_count": 13,
   "id": "22402976-1062-4b71-97b0-30f8127e2ac4",
   "metadata": {},
   "outputs": [
    {
     "name": "stdout",
     "output_type": "stream",
     "text": [
      "검색어 || you\n",
      "goodbye : 0.8164965809277257\n",
      "hello : 0.8164965809277257\n",
      "i : 0.7745966692414832\n",
      "<eos> : 0.0\n",
      "<unk> : 0.0\n"
     ]
    }
   ],
   "source": [
    "most_similiar(\"you\",word_dict, number_dict, comatrix,5)"
   ]
  },
  {
   "cell_type": "code",
   "execution_count": 14,
   "id": "da85609a-2635-4c11-b5e4-b502aeecb019",
   "metadata": {},
   "outputs": [
    {
     "name": "stdout",
     "output_type": "stream",
     "text": [
      "[[0.         0.         0.         0.         0.         0.\n",
      "  0.         0.         0.        ]\n",
      " [0.         0.         0.         0.         0.         0.\n",
      "  0.         0.         0.        ]\n",
      " [0.         0.         0.         0.73696559 0.         0.73696559\n",
      "  0.         0.         1.73696559]\n",
      " [0.         0.         0.73696559 0.         1.32192809 0.\n",
      "  0.73696559 1.32192809 0.        ]\n",
      " [0.         0.         0.         1.32192809 0.         1.32192809\n",
      "  0.         0.         0.        ]\n",
      " [0.         0.         0.73696559 0.         1.32192809 0.\n",
      "  1.73696559 0.         0.        ]\n",
      " [0.         0.         0.         0.73696559 0.         1.73696559\n",
      "  0.         0.         0.        ]\n",
      " [0.         0.         0.         1.32192809 0.         0.\n",
      "  0.         0.         2.32192809]\n",
      " [0.         0.         1.73696559 0.         0.         0.\n",
      "  0.         2.32192809 0.        ]]\n"
     ]
    }
   ],
   "source": [
    "pmi = make_pmi(comatrix) \n",
    "print(pmi)"
   ]
  },
  {
   "cell_type": "code",
   "execution_count": 15,
   "id": "48cd01e9-bfbf-4f40-9d0a-10ff6b4680ea",
   "metadata": {},
   "outputs": [
    {
     "name": "stdout",
     "output_type": "stream",
     "text": [
      "[5.52622691e-01 4.44089210e-16]\n"
     ]
    }
   ],
   "source": [
    "U, S, V = numpy.linalg.svd(pmi)\n",
    "print(U[2,:2])"
   ]
  },
  {
   "cell_type": "code",
   "execution_count": 16,
   "id": "bdc6e07e-a829-4bab-a98e-a72173c88258",
   "metadata": {},
   "outputs": [
    {
     "data": {
      "image/png": "[encoded data removed]",
      "text/plain": [
       "<Figure size 640x480 with 1 Axes>"
      ]
     },
     "metadata": {},
     "output_type": "display_data"
    }
   ],
   "source": [
    "import matplotlib.pyplot as plt\n",
    "\n",
    "flg, ax = plt.subplots()\n",
    "for w, i in word_dict.items() :\n",
    "    ax.annotate(w, (U[i,0], U[i,1]))\n",
    "ax.scatter(U[:,0], U[:,1], alpha = 0.5)\n",
    "plt.show()"
   ]
  },
  {
   "cell_type": "code",
   "execution_count": null,
   "id": "2b9239cf-6f1c-41b3-a4eb-d7e2243a243d",
   "metadata": {},
   "outputs": [],
   "source": []
  }
 ],
 "metadata": {
  "kernelspec": {
   "display_name": "Python 3 (ipykernel)",
   "language": "python",
   "name": "python3"
  },
  "language_info": {
   "codemirror_mode": {
    "name": "ipython",
    "version": 3
   },
   "file_extension": ".py",
   "mimetype": "text/x-python",
   "name": "python",
   "nbconvert_exporter": "python",
   "pygments_lexer": "ipython3",
   "version": "3.12.7"
  }
 },
 "nbformat": 4,
 "nbformat_minor": 5
}
