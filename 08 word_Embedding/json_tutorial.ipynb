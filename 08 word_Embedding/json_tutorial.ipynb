{
 "cells": [
  {
   "cell_type": "code",
   "execution_count": 3,
   "id": "1dcaae2d-0f4a-4bd0-9f10-fe0bb73ce83a",
   "metadata": {},
   "outputs": [],
   "source": [
    "import json"
   ]
  },
  {
   "cell_type": "code",
   "execution_count": 4,
   "id": "c47804a2-32a5-4032-95bc-96ff7c48f123",
   "metadata": {},
   "outputs": [],
   "source": [
    "#json 읽기 (dictionary -> json)\n",
    "\n",
    "test_dict = {\"hello\":1, \"world\":2}\n",
    "\n",
    "with open(\"json_tutorial.json\" ,mode = \"w\") as f:\n",
    "    json.dump(test_dict,f);\n",
    "\n"
   ]
  },
  {
   "cell_type": "code",
   "execution_count": 5,
   "id": "75080330-5c2a-471e-9e99-9d6b55973ab6",
   "metadata": {},
   "outputs": [
    {
     "name": "stdout",
     "output_type": "stream",
     "text": [
      "{'hello': 1, 'world': 2}\n"
     ]
    }
   ],
   "source": [
    "#json 쓰기 (json -> dictionary)\n",
    "\n",
    "with open(\"json_tutorial.json\", mode = \"r\") as f:\n",
    "    loaded_dict = json.load(f)\n",
    "\n",
    "print(loaded_dict)"
   ]
  },
  {
   "cell_type": "code",
   "execution_count": null,
   "id": "37cf970f-e0dc-49e2-9708-3e64ae3dac2c",
   "metadata": {},
   "outputs": [],
   "source": []
  }
 ],
 "metadata": {
  "kernelspec": {
   "display_name": "Python 3 (ipykernel)",
   "language": "python",
   "name": "python3"
  },
  "language_info": {
   "codemirror_mode": {
    "name": "ipython",
    "version": 3
   },
   "file_extension": ".py",
   "mimetype": "text/x-python",
   "name": "python",
   "nbconvert_exporter": "python",
   "pygments_lexer": "ipython3",
   "version": "3.12.7"
  }
 },
 "nbformat": 4,
 "nbformat_minor": 5
}
