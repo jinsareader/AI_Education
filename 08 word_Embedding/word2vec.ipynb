{
 "cells": [
  {
   "cell_type": "code",
   "execution_count": 2,
   "id": "60ad9bc0-8f03-43af-bc73-4c1e5ed7d548",
   "metadata": {},
   "outputs": [],
   "source": [
    "import os\n",
    "os.environ[\"KMP_DUPLICATE_LIB_OK\"]=\"TRUE\"\n",
    "\n",
    "import numpy\n",
    "import custom\n",
    "import torch\n",
    "import torch.nn as nn\n",
    "import pandas\n",
    "import matplotlib.pyplot as plt"
   ]
  },
  {
   "cell_type": "code",
   "execution_count": 3,
   "id": "126f03d3-26f8-4e7d-b860-ba45fec47e11",
   "metadata": {},
   "outputs": [],
   "source": [
    "sentences = [\n",
    "    'he is a king',\n",
    "    'she is a queen',\n",
    "    'he is a man',\n",
    "    'she is a woman',\n",
    "    'warsaw is poland capital',\n",
    "    'berlin is germany capital',\n",
    "    'paris is france capital',\n",
    "    'seoul is korea capital', \n",
    "    'bejing is china capital',\n",
    "    'tokyo is japan capital',\n",
    "]"
   ]
  },
  {
   "cell_type": "code",
   "execution_count": 4,
   "id": "50f286cb-7322-4d67-a32e-6ee35c1e803e",
   "metadata": {},
   "outputs": [
    {
     "name": "stdout",
     "output_type": "stream",
     "text": [
      "{'<eos>': 0, '<unk>': 1, 'he': 2, 'is': 3, 'a': 4, 'king': 5, 'she': 6, 'queen': 7, 'man': 8, 'woman': 9, 'warsaw': 10, 'poland': 11, 'capital': 12, 'berlin': 13, 'germany': 14, 'paris': 15, 'france': 16, 'seoul': 17, 'korea': 18, 'bejing': 19, 'china': 20, 'tokyo': 21, 'japan': 22}\n",
      "[[ 2  3  4  5]\n",
      " [ 6  3  4  7]\n",
      " [ 2  3  4  8]\n",
      " [ 6  3  4  9]\n",
      " [10  3 11 12]\n",
      " [13  3 14 12]\n",
      " [15  3 16 12]\n",
      " [17  3 18 12]\n",
      " [19  3 20 12]\n",
      " [21  3 22 12]]\n",
      "[[0. 0. 0. 0. 0. 0. 0. 0. 0. 0. 0. 0. 0. 0. 0. 0. 0. 0. 0. 0. 0. 0. 0.]\n",
      " [0. 0. 0. 0. 0. 0. 0. 0. 0. 0. 0. 0. 0. 0. 0. 0. 0. 0. 0. 0. 0. 0. 0.]\n",
      " [0. 0. 0. 2. 2. 0. 0. 0. 0. 0. 0. 0. 0. 0. 0. 0. 0. 0. 0. 0. 0. 0. 0.]\n",
      " [0. 0. 2. 0. 4. 1. 2. 1. 1. 1. 1. 1. 6. 1. 1. 1. 1. 1. 1. 1. 1. 1. 1.]\n",
      " [0. 0. 2. 4. 0. 1. 2. 1. 1. 1. 0. 0. 0. 0. 0. 0. 0. 0. 0. 0. 0. 0. 0.]\n",
      " [0. 0. 0. 1. 1. 0. 0. 0. 0. 0. 0. 0. 0. 0. 0. 0. 0. 0. 0. 0. 0. 0. 0.]\n",
      " [0. 0. 0. 2. 2. 0. 0. 0. 0. 0. 0. 0. 0. 0. 0. 0. 0. 0. 0. 0. 0. 0. 0.]\n",
      " [0. 0. 0. 1. 1. 0. 0. 0. 0. 0. 0. 0. 0. 0. 0. 0. 0. 0. 0. 0. 0. 0. 0.]\n",
      " [0. 0. 0. 1. 1. 0. 0. 0. 0. 0. 0. 0. 0. 0. 0. 0. 0. 0. 0. 0. 0. 0. 0.]\n",
      " [0. 0. 0. 1. 1. 0. 0. 0. 0. 0. 0. 0. 0. 0. 0. 0. 0. 0. 0. 0. 0. 0. 0.]\n",
      " [0. 0. 0. 1. 0. 0. 0. 0. 0. 0. 0. 1. 0. 0. 0. 0. 0. 0. 0. 0. 0. 0. 0.]\n",
      " [0. 0. 0. 1. 0. 0. 0. 0. 0. 0. 1. 0. 1. 0. 0. 0. 0. 0. 0. 0. 0. 0. 0.]\n",
      " [0. 0. 0. 6. 0. 0. 0. 0. 0. 0. 0. 1. 0. 0. 1. 0. 1. 0. 1. 0. 1. 0. 1.]\n",
      " [0. 0. 0. 1. 0. 0. 0. 0. 0. 0. 0. 0. 0. 0. 1. 0. 0. 0. 0. 0. 0. 0. 0.]\n",
      " [0. 0. 0. 1. 0. 0. 0. 0. 0. 0. 0. 0. 1. 1. 0. 0. 0. 0. 0. 0. 0. 0. 0.]\n",
      " [0. 0. 0. 1. 0. 0. 0. 0. 0. 0. 0. 0. 0. 0. 0. 0. 1. 0. 0. 0. 0. 0. 0.]\n",
      " [0. 0. 0. 1. 0. 0. 0. 0. 0. 0. 0. 0. 1. 0. 0. 1. 0. 0. 0. 0. 0. 0. 0.]\n",
      " [0. 0. 0. 1. 0. 0. 0. 0. 0. 0. 0. 0. 0. 0. 0. 0. 0. 0. 1. 0. 0. 0. 0.]\n",
      " [0. 0. 0. 1. 0. 0. 0. 0. 0. 0. 0. 0. 1. 0. 0. 0. 0. 1. 0. 0. 0. 0. 0.]\n",
      " [0. 0. 0. 1. 0. 0. 0. 0. 0. 0. 0. 0. 0. 0. 0. 0. 0. 0. 0. 0. 1. 0. 0.]\n",
      " [0. 0. 0. 1. 0. 0. 0. 0. 0. 0. 0. 0. 1. 0. 0. 0. 0. 0. 0. 1. 0. 0. 0.]\n",
      " [0. 0. 0. 1. 0. 0. 0. 0. 0. 0. 0. 0. 0. 0. 0. 0. 0. 0. 0. 0. 0. 0. 1.]\n",
      " [0. 0. 0. 1. 0. 0. 0. 0. 0. 0. 0. 0. 1. 0. 0. 0. 0. 0. 0. 0. 0. 1. 0.]]\n"
     ]
    }
   ],
   "source": [
    "word_dict, number_dict = custom.make_dict(sentences)\n",
    "corpus = custom.word_num_encoding(sentences, word_dict)\n",
    "comatrix = custom.make_comatrix(corpus, len(word_dict), window_size=2)\n",
    "\n",
    "print(word_dict)\n",
    "print(corpus)\n",
    "print(comatrix)"
   ]
  },
  {
   "cell_type": "code",
   "execution_count": 6,
   "id": "a11dcec1-c011-4f65-8174-7cd0d392492e",
   "metadata": {},
   "outputs": [
    {
     "name": "stdout",
     "output_type": "stream",
     "text": [
      "[[2, 3], [2, 3], [2, 4], [2, 4], [3, 2], [3, 2], [3, 4], [3, 4], [3, 4], [3, 4], [3, 5], [3, 6], [3, 6], [3, 7], [3, 8], [3, 9], [3, 10], [3, 11], [3, 12], [3, 12], [3, 12], [3, 12], [3, 12], [3, 12], [3, 13], [3, 14], [3, 15], [3, 16], [3, 17], [3, 18], [3, 19], [3, 20], [3, 21], [3, 22], [4, 2], [4, 2], [4, 3], [4, 3], [4, 3], [4, 3], [4, 5], [4, 6], [4, 6], [4, 7], [4, 8], [4, 9], [5, 3], [5, 4], [6, 3], [6, 3], [6, 4], [6, 4], [7, 3], [7, 4], [8, 3], [8, 4], [9, 3], [9, 4], [10, 3], [10, 11], [11, 3], [11, 10], [11, 12], [12, 3], [12, 3], [12, 3], [12, 3], [12, 3], [12, 3], [12, 11], [12, 14], [12, 16], [12, 18], [12, 20], [12, 22], [13, 3], [13, 14], [14, 3], [14, 12], [14, 13], [15, 3], [15, 16], [16, 3], [16, 12], [16, 15], [17, 3], [17, 18], [18, 3], [18, 12], [18, 17], [19, 3], [19, 20], [20, 3], [20, 12], [20, 19], [21, 3], [21, 22], [22, 3], [22, 12], [22, 21]]\n"
     ]
    }
   ],
   "source": [
    "word_pair = []\n",
    "\n",
    "for i in range(comatrix.shape[0]) :\n",
    "    for j in range(comatrix.shape[1]) :\n",
    "        num = int(comatrix[i,j])\n",
    "        for k in range(num) :\n",
    "            word_pair.append([i, j])\n",
    "\n",
    "print(word_pair)"
   ]
  },
  {
   "cell_type": "code",
   "execution_count": 7,
   "id": "0f8ecd06-3f97-4063-a7ed-a58d390d4080",
   "metadata": {},
   "outputs": [
    {
     "name": "stdout",
     "output_type": "stream",
     "text": [
      "[[0. 0. 1. ... 0. 0. 0.]\n",
      " [0. 0. 1. ... 0. 0. 0.]\n",
      " [0. 0. 1. ... 0. 0. 0.]\n",
      " ...\n",
      " [0. 0. 0. ... 0. 0. 1.]\n",
      " [0. 0. 0. ... 0. 0. 1.]\n",
      " [0. 0. 0. ... 0. 0. 1.]]\n",
      "[3, 3, 4, 4, 2, 2, 4, 4, 4, 4, 5, 6, 6, 7, 8, 9, 10, 11, 12, 12, 12, 12, 12, 12, 13, 14, 15, 16, 17, 18, 19, 20, 21, 22, 2, 2, 3, 3, 3, 3, 5, 6, 6, 7, 8, 9, 3, 4, 3, 3, 4, 4, 3, 4, 3, 4, 3, 4, 3, 11, 3, 10, 12, 3, 3, 3, 3, 3, 3, 11, 14, 16, 18, 20, 22, 3, 14, 3, 12, 13, 3, 16, 3, 12, 15, 3, 18, 3, 12, 17, 3, 20, 3, 12, 19, 3, 22, 3, 12, 21]\n"
     ]
    }
   ],
   "source": [
    "x = []\n",
    "t = []\n",
    "for data in word_pair :\n",
    "    x.append(numpy.eye(len(word_dict))[data[0]])\n",
    "    t.append(data[1])\n",
    "\n",
    "x = numpy.array(x)\n",
    "print(x)\n",
    "print(t)"
   ]
  },
  {
   "cell_type": "code",
   "execution_count": 14,
   "id": "70c28496-0d69-43dd-8376-b9cb0ac000c5",
   "metadata": {},
   "outputs": [
    {
     "name": "stdout",
     "output_type": "stream",
     "text": [
      "epoch 100 | loss 2.2109251022338867\n",
      "epoch 200 | loss 2.070112705230713\n",
      "epoch 300 | loss 2.076995611190796\n",
      "epoch 400 | loss 2.0714635848999023\n",
      "epoch 500 | loss 2.0731253623962402\n"
     ]
    }
   ],
   "source": [
    "device = \"cuda\" if torch.cuda.is_available() else \"cpu\"\n",
    "\n",
    "class NN(nn.Module) :\n",
    "    def __init__(self, word_size) :\n",
    "        super().__init__();\n",
    "        self.f = nn.Linear(word_size, 2, device = device)\n",
    "        self.g = nn.Linear(2, word_size, device = device)\n",
    "    def forward(self, x) :\n",
    "        y = self.f(x)\n",
    "        y = self.g(y)\n",
    "        return y\n",
    "\n",
    "tensor_x = torch.tensor(x, dtype = torch.float, device = device)\n",
    "tensor_t = torch.tensor(t, dtype = torch.long,  device = device)\n",
    "\n",
    "F = NN(len(word_dict))\n",
    "loss_function = nn.CrossEntropyLoss()\n",
    "optimizer = torch.optim.SGD(F.parameters(), lr = 1)\n",
    "epoch = 500\n",
    "\n",
    "for e in range(epoch) :\n",
    "    tensor_y = F(tensor_x)\n",
    "\n",
    "    loss = loss_function(tensor_y, tensor_t)\n",
    "\n",
    "    loss.backward()\n",
    "    optimizer.step()\n",
    "    optimizer.zero_grad()\n",
    "\n",
    "    if (e+1) % 100 == 0 :\n",
    "        print(\"epoch {} | loss {}\".format(e+1, loss))"
   ]
  },
  {
   "cell_type": "code",
   "execution_count": 15,
   "id": "cc679423-d8c5-42ed-8e90-a16ff0d44a1b",
   "metadata": {},
   "outputs": [
    {
     "name": "stdout",
     "output_type": "stream",
     "text": [
      "           x         y     word\n",
      "0  -2.929725 -2.444229    <eos>\n",
      "1  -2.777325 -2.382798    <unk>\n",
      "2  -1.535702  0.018655       he\n",
      "3   1.247253  2.267263       is\n",
      "4   2.920441 -1.542228        a\n",
      "5  -1.864932 -0.384295     king\n",
      "6  -1.550121  0.007724      she\n",
      "7  -1.816897 -0.348720    queen\n",
      "8  -1.921145 -0.425958      man\n",
      "9  -1.941291 -0.440937    woman\n",
      "10  1.321509 -0.130057   warsaw\n",
      "11  0.664536  1.174350   poland\n",
      "12  3.098100  1.700108  capital\n",
      "13  1.169340  0.167110   berlin\n",
      "14  0.713847  1.170844  germany\n",
      "15  1.308472 -0.090653    paris\n",
      "16  0.740523  1.167873   france\n",
      "17  1.090121  0.251986    seoul\n",
      "18  0.701929  1.162407    korea\n",
      "19  1.209712  0.109321   bejing\n",
      "20  0.644589  1.170971    china\n",
      "21  1.252544  0.033068    tokyo\n",
      "22  0.884083  1.135302    japan\n"
     ]
    }
   ],
   "source": [
    "vector = F.state_dict()['g.weight'] + F.state_dict()['g.bias'].reshape(-1,1)\n",
    "vector = vector.numpy()\n",
    "vector_df = pandas.DataFrame(vector, columns = ['x', 'y'])\n",
    "vector_df['word'] = word_dict.keys()\n",
    "\n",
    "print(vector_df)"
   ]
  },
  {
   "cell_type": "code",
   "execution_count": 16,
   "id": "bc01b753-c50f-4155-abe7-f6277c71de00",
   "metadata": {},
   "outputs": [
    {
     "data": {
      "image/png": "[encoded data removed]",
      "text/plain": [
       "<Figure size 1000x1000 with 1 Axes>"
      ]
     },
     "metadata": {},
     "output_type": "display_data"
    }
   ],
   "source": [
    "ano = vector_df['word'].values.tolist()\n",
    "a = vector_df['x'].values.tolist()\n",
    "b = vector_df['y'].values.tolist()\n",
    "\n",
    "fig, ax = plt.subplots(figsize = (10,10))\n",
    "ax.scatter(a,b)\n",
    "\n",
    "for i in range(len(ano)) :\n",
    "    ax.annotate(ano[i], (a[i], b[i]))\n",
    "\n",
    "plt.show()"
   ]
  },
  {
   "cell_type": "code",
   "execution_count": 20,
   "id": "e6b19241-2ba3-475d-b426-aae35ae45881",
   "metadata": {},
   "outputs": [
    {
     "name": "stdout",
     "output_type": "stream",
     "text": [
      "s1 : 0.6350126317149435\n",
      "s2 : 0.6964337555783128\n",
      "s3 : 0.6361202444500749\n",
      "s4 : 0.47584971955344096\n"
     ]
    }
   ],
   "source": [
    "s1 = custom.cos_similarity( vector[word_dict['japan']], vector[word_dict['tokyo']] )\n",
    "s2 = custom.cos_similarity( vector[word_dict['korea']], vector[word_dict['seoul']] )\n",
    "s3 = custom.cos_similarity( vector[word_dict['germany']], vector[word_dict['berlin']] )\n",
    "s4 = custom.cos_similarity( vector[word_dict['france']], vector[word_dict['paris']] )\n",
    "\n",
    "print(\"s1 : {}\".format(s1))\n",
    "print(\"s2 : {}\".format(s2))\n",
    "print(\"s3 : {}\".format(s3))\n",
    "print(\"s4 : {}\".format(s4))"
   ]
  },
  {
   "cell_type": "code",
   "execution_count": null,
   "id": "bdf98b52-c8e3-4ce6-a0d6-1681aa38255f",
   "metadata": {},
   "outputs": [],
   "source": []
  }
 ],
 "metadata": {
  "kernelspec": {
   "display_name": "Python 3 (ipykernel)",
   "language": "python",
   "name": "python3"
  },
  "language_info": {
   "codemirror_mode": {
    "name": "ipython",
    "version": 3
   },
   "file_extension": ".py",
   "mimetype": "text/x-python",
   "name": "python",
   "nbconvert_exporter": "python",
   "pygments_lexer": "ipython3",
   "version": "3.12.7"
  }
 },
 "nbformat": 4,
 "nbformat_minor": 5
}
