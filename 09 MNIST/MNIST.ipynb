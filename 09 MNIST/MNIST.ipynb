{
 "cells": [
  {
   "cell_type": "code",
   "execution_count": 1,
   "id": "9a9098e9-5e90-4313-bf28-9ee92155e3b1",
   "metadata": {},
   "outputs": [],
   "source": [
    "import os\n",
    "os.environ[\"KMP_DUPLICATE_LIB_OK\"]=\"TRUE\"\n",
    "\n",
    "import numpy\n",
    "import torch\n",
    "import torch.nn as nn\n",
    "from torchvision import datasets, transforms\n",
    "from torch.utils.data import DataLoader\n",
    "import matplotlib.pyplot as plt"
   ]
  },
  {
   "cell_type": "code",
   "execution_count": 2,
   "id": "44b8f7e5-5231-4078-9d64-fd02ded07c86",
   "metadata": {},
   "outputs": [
    {
     "name": "stdout",
     "output_type": "stream",
     "text": [
      "라벨 종류 : 10\n"
     ]
    }
   ],
   "source": [
    "train = datasets.MNIST(root = \"./dataset\", train=True, transform=transforms.ToTensor(), download=True)\n",
    "test = datasets.MNIST(root = \"./dataset\", train=False, transform=transforms.ToTensor(), download=True)\n",
    "\n",
    "train_dataloader = DataLoader(train, batch_size=100, shuffle=True) \n",
    "test_dataloader = DataLoader(test, batch_size=1000, shuffle=False) \n",
    "\n",
    "t_size = max(train.targets) - min(train.targets) + 1\n",
    "print(\"라벨 종류 : {}\".format(t_size))"
   ]
  },
  {
   "cell_type": "code",
   "execution_count": 3,
   "id": "5ce23f68-54e8-491a-bc99-3584d8b97d4f",
   "metadata": {},
   "outputs": [
    {
     "name": "stdout",
     "output_type": "stream",
     "text": [
      "epoch 1 | loss 0.634114682674408 | acc 0.9174\n",
      "epoch 2 | loss 0.24464701116085052 | acc 0.9402\n",
      "epoch 3 | loss 0.17737506330013275 | acc 0.9553\n",
      "epoch 4 | loss 0.13860207796096802 | acc 0.9618\n",
      "epoch 5 | loss 0.11381140351295471 | acc 0.966\n",
      "epoch 6 | loss 0.09550070017576218 | acc 0.9702\n",
      "epoch 7 | loss 0.0818830356001854 | acc 0.9699\n",
      "epoch 8 | loss 0.07121201604604721 | acc 0.9738\n",
      "epoch 9 | loss 0.06211334094405174 | acc 0.9745\n",
      "epoch 10 | loss 0.05463848263025284 | acc 0.9732\n",
      "epoch 11 | loss 0.04874127730727196 | acc 0.9743\n",
      "train halted\n"
     ]
    }
   ],
   "source": [
    "device = \"cuda\" if torch.cuda.is_available() else \"cpu\"\n",
    "e = 0\n",
    "\n",
    "F = nn.Sequential(\n",
    "    nn.Linear(28*28, 128),\n",
    "    nn.ReLU(),\n",
    "    nn.Linear(128,64),\n",
    "    nn.ReLU(),\n",
    "    nn.Linear(64,10),\n",
    ")\n",
    "F = F.to(device)\n",
    "loss_function = nn.CrossEntropyLoss()\n",
    "optimizer = torch.optim.SGD(F.parameters(), lr = 0.1)\n",
    "epoch = 30\n",
    "prev_acc = 0\n",
    "acc_cnt = 0\n",
    "\n",
    "for e in range(epoch) :\n",
    "    loss_sum = 0\n",
    "    for x, t in train_dataloader :\n",
    "        #y = F(x)\n",
    "        x = x.to(device)\n",
    "        t = t.to(device)\n",
    "        x = x.reshape(x.shape[0],28*28)\n",
    "        y = F(x)\n",
    "        #손실함수\n",
    "        loss = loss_function(y, t)\n",
    "        loss_sum += loss\n",
    "        #최적화함수\n",
    "        loss.backward()\n",
    "        optimizer.step()\n",
    "        optimizer.zero_grad()\n",
    "    loss_sum /= len(train_dataloader)\n",
    "\n",
    "    correct = 0\n",
    "    total = 0\n",
    "    for x, t in test_dataloader :\n",
    "        x = x.to(device)\n",
    "        t = t.to(device)\n",
    "        x = x.reshape(x.shape[0],28*28)\n",
    "        with torch.no_grad() :\n",
    "            y = F(x)\n",
    "        for i in range(len(x)) :\n",
    "            if torch.argmax(y[i]) == t[i] :\n",
    "                correct += 1\n",
    "            total += 1\n",
    "    acc = correct / total\n",
    "    if acc <= prev_acc + 0.001 :\n",
    "        acc_cnt += 1\n",
    "    else :\n",
    "        acc_cnt = 0\n",
    "        prev_acc = acc\n",
    "    \n",
    "    print(f\"epoch {e+1} | loss {loss_sum} | acc {acc}\")\n",
    "    if acc_cnt >= 3 :\n",
    "        print(\"train halted\")\n",
    "        break\n"
   ]
  },
  {
   "cell_type": "code",
   "execution_count": 4,
   "id": "2a367635-4743-474d-a736-5d379aef53c0",
   "metadata": {},
   "outputs": [
    {
     "name": "stdout",
     "output_type": "stream",
     "text": [
      "acc : 0.974300\n",
      "[149, 241, 247, 259, 290, 320, 321, 381, 445, 448, 582, 610, 619, 646, 659, 691, 707, 720, 810, 813, 844, 900, 938, 951, 962, 1014, 1039, 1044, 1112, 1178, 1181, 1182, 1192, 1194, 1224, 1226, 1232, 1247, 1260, 1299, 1319, 1393, 1395, 1414, 1441, 1444, 1464, 1494, 1500, 1520, 1522, 1527, 1530, 1549, 1553, 1570, 1609, 1621, 1671, 1681, 1709, 1732, 1751, 1754, 1790, 1878, 1901, 1941, 1952, 2004, 2016, 2018, 2044, 2053, 2070, 2098, 2109, 2135, 2182, 2185, 2224, 2272, 2293, 2369, 2381, 2387, 2414, 2422, 2426, 2433, 2488, 2496, 2514, 2582, 2607, 2648, 2654, 2713, 2743, 2863, 2877, 2915, 2921, 2939, 2953, 2995, 3005, 3030, 3073, 3117, 3218, 3289, 3330, 3384, 3405, 3422, 3444, 3503, 3520, 3533, 3558, 3565, 3567, 3575, 3597, 3718, 3767, 3780, 3808, 3811, 3818, 3853, 3869, 3871, 3893, 3906, 3926, 3941, 3968, 4065, 4075, 4078, 4093, 4163, 4201, 4224, 4248, 4255, 4259, 4271, 4289, 4294, 4363, 4425, 4487, 4497, 4534, 4536, 4571, 4601, 4731, 4761, 4807, 4814, 4823, 4838, 4880, 4943, 4956, 4966, 4978, 4989, 5210, 5331, 5457, 5642, 5734, 5749, 5757, 5842, 5887, 5937, 5955, 5972, 5973, 6045, 6059, 6166, 6400, 6555, 6558, 6560, 6571, 6572, 6574, 6597, 6608, 6625, 6651, 6710, 6755, 6765, 6769, 6783, 6847, 7216, 7259, 7434, 7451, 7783, 7812, 7847, 7856, 7886, 7899, 7915, 7990, 8020, 8094, 8183, 8255, 8311, 8325, 8408, 8504, 8519, 8520, 8523, 9009, 9015, 9016, 9019, 9024, 9071, 9280, 9490, 9513, 9530, 9587, 9634, 9664, 9669, 9679, 9692, 9698, 9729, 9733, 9740, 9745, 9768, 9770, 9779, 9792, 9808, 9839, 9858, 9944]\n"
     ]
    }
   ],
   "source": [
    "correct = 0\n",
    "total = 0\n",
    "err = []\n",
    "\n",
    "for x, t in test_dataloader :\n",
    "    x.to(device)\n",
    "    t.to(device)\n",
    "    x = x.reshape(-1, 28*28)\n",
    "    y = F(x)\n",
    "    for i in range(len(x)) :\n",
    "        if torch.argmax(y[i]) == t[i] :\n",
    "            correct += 1\n",
    "        else :\n",
    "            err.append(total)\n",
    "        total += 1\n",
    "\n",
    "print(\"acc : %f\" %(correct / len(test)))\n",
    "print(err)\n",
    "torch.save(F,\"MNIST.pt\")"
   ]
  },
  {
   "cell_type": "code",
   "execution_count": 7,
   "id": "b5061699-3873-42ad-ae40-459b9d693675",
   "metadata": {},
   "outputs": [
    {
     "name": "stdout",
     "output_type": "stream",
     "text": [
      "AI의 제안 : 9\n",
      "정답 : 4\n"
     ]
    },
    {
     "data": {
      "image/png": "[encoded data removed]",
      "text/plain": [
       "<Figure size 640x480 with 1 Axes>"
      ]
     },
     "metadata": {},
     "output_type": "display_data"
    }
   ],
   "source": [
    "#F = torch.load(\"MNIST.pt\", weights_only = False)\n",
    "a = 115\n",
    "\n",
    "img = test[a][0].reshape(28,28)\n",
    "plt.imshow(img)\n",
    "\n",
    "y_array = F(img.reshape(1,28*28))\n",
    "print(f\"AI의 제안 : {torch.argmax(y_array)}\")\n",
    "print(f\"정답 : {test[a][1]}\")"
   ]
  },
  {
   "cell_type": "code",
   "execution_count": null,
   "id": "6810c036-7058-4f0c-94cb-d66aae1c4498",
   "metadata": {},
   "outputs": [],
   "source": []
  }
 ],
 "metadata": {
  "kernelspec": {
   "display_name": "Python 3 (ipykernel)",
   "language": "python",
   "name": "python3"
  },
  "language_info": {
   "codemirror_mode": {
    "name": "ipython",
    "version": 3
   },
   "file_extension": ".py",
   "mimetype": "text/x-python",
   "name": "python",
   "nbconvert_exporter": "python",
   "pygments_lexer": "ipython3",
   "version": "3.12.7"
  }
 },
 "nbformat": 4,
 "nbformat_minor": 5
}
