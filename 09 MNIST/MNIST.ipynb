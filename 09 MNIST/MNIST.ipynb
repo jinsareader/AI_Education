{
 "cells": [
  {
   "cell_type": "code",
   "execution_count": 1,
   "id": "9a9098e9-5e90-4313-bf28-9ee92155e3b1",
   "metadata": {},
   "outputs": [],
   "source": [
    "import os\n",
    "os.environ[\"KMP_DUPLICATE_LIB_OK\"]=\"TRUE\"\n",
    "\n",
    "import numpy\n",
    "import torch\n",
    "import torch.nn as nn\n",
    "from torchvision import datasets, transforms\n",
    "from torch.utils.data import DataLoader\n",
    "import matplotlib.pyplot as plt"
   ]
  },
  {
   "cell_type": "code",
   "execution_count": 2,
   "id": "44b8f7e5-5231-4078-9d64-fd02ded07c86",
   "metadata": {},
   "outputs": [
    {
     "name": "stdout",
     "output_type": "stream",
     "text": [
      "라벨 종류 : 10\n"
     ]
    }
   ],
   "source": [
    "train = datasets.MNIST(root = \"./dataset\", train=True, transform=transforms.ToTensor(), download=True)\n",
    "test = datasets.MNIST(root = \"./dataset\", train=False, transform=transforms.ToTensor(), download=True)\n",
    "\n",
    "train_dataloader = DataLoader(train, batch_size=100, shuffle=True) \n",
    "test_dataloader = DataLoader(test, batch_size=1000, shuffle=False) \n",
    "\n",
    "t_size = max(train.targets) - min(train.targets) + 1\n",
    "print(\"라벨 종류 : {}\".format(t_size))"
   ]
  },
  {
   "cell_type": "code",
   "execution_count": 3,
   "id": "5ce23f68-54e8-491a-bc99-3584d8b97d4f",
   "metadata": {},
   "outputs": [
    {
     "name": "stdout",
     "output_type": "stream",
     "text": [
      "epoch 1 | loss 0.6442269682884216 | acc 0.9132\n",
      "epoch 2 | loss 0.2500894367694855 | acc 0.936\n",
      "epoch 3 | loss 0.1792803257703781 | acc 0.9565\n",
      "epoch 4 | loss 0.1383606642484665 | acc 0.9566\n",
      "epoch 5 | loss 0.11244957894086838 | acc 0.9659\n",
      "epoch 6 | loss 0.09355491399765015 | acc 0.9695\n",
      "epoch 7 | loss 0.08010776340961456 | acc 0.9717\n",
      "epoch 8 | loss 0.06976689398288727 | acc 0.9754\n",
      "epoch 9 | loss 0.061636779457330704 | acc 0.9734\n",
      "epoch 10 | loss 0.05426656827330589 | acc 0.9753\n",
      "epoch 11 | loss 0.047504179179668427 | acc 0.9775\n",
      "epoch 12 | loss 0.042583998292684555 | acc 0.9772\n",
      "epoch 13 | loss 0.03727934509515762 | acc 0.9771\n",
      "epoch 14 | loss 0.0335540845990181 | acc 0.9787\n",
      "epoch 15 | loss 0.029821814969182014 | acc 0.979\n",
      "epoch 16 | loss 0.026735855266451836 | acc 0.9763\n",
      "epoch 17 | loss 0.023767700418829918 | acc 0.9779\n",
      "train halted\n"
     ]
    }
   ],
   "source": [
    "device = \"cuda\" if torch.cuda.is_available() else \"cpu\"\n",
    "e = 0\n",
    "\n",
    "F = nn.Sequential(\n",
    "    nn.Linear(28*28, 128),\n",
    "    nn.ReLU(),\n",
    "    nn.Linear(128,64),\n",
    "    nn.ReLU(),\n",
    "    nn.Linear(64,10),\n",
    ")\n",
    "F = F.to(device)\n",
    "loss_function = nn.CrossEntropyLoss()\n",
    "optimizer = torch.optim.SGD(F.parameters(), lr = 0.1)\n",
    "epoch = 30\n",
    "prev_acc = 0\n",
    "acc_cnt = 0\n",
    "\n",
    "for e in range(epoch) :\n",
    "    loss_sum = 0\n",
    "    for x, t in train_dataloader :\n",
    "        #y = F(x)\n",
    "        x = x.to(device)\n",
    "        t = t.to(device)\n",
    "        x = x.reshape(x.shape[0],28*28)\n",
    "        y = F(x)\n",
    "        #손실함수\n",
    "        loss = loss_function(y, t)\n",
    "        loss_sum += loss\n",
    "        #최적화함수\n",
    "        loss.backward()\n",
    "        optimizer.step()\n",
    "        optimizer.zero_grad()\n",
    "    loss_sum /= len(train_dataloader)\n",
    "\n",
    "    correct = 0\n",
    "    total = 0\n",
    "    for x, t in test_dataloader :\n",
    "        x = x.to(device)\n",
    "        t = t.to(device)\n",
    "        x = x.reshape(x.shape[0],28*28)\n",
    "        with torch.no_grad() :\n",
    "            y = F(x)\n",
    "        for i in range(len(x)) :\n",
    "            if torch.argmax(y[i]) == t[i] :\n",
    "                correct += 1\n",
    "            total += 1\n",
    "    acc = correct / total\n",
    "    if acc <= prev_acc + 0.001 :\n",
    "        acc_cnt += 1\n",
    "    else :\n",
    "        acc_cnt = 0\n",
    "        prev_acc = acc\n",
    "    \n",
    "    print(f\"epoch {e+1} | loss {loss_sum} | acc {acc}\")\n",
    "    if acc_cnt >= 3 :\n",
    "        print(\"train halted\")\n",
    "        break\n"
   ]
  },
  {
   "cell_type": "code",
   "execution_count": 4,
   "id": "2a367635-4743-474d-a736-5d379aef53c0",
   "metadata": {},
   "outputs": [
    {
     "name": "stdout",
     "output_type": "stream",
     "text": [
      "acc : 0.977900\n",
      "[104, 115, 149, 247, 259, 290, 321, 340, 381, 445, 495, 582, 583, 659, 684, 691, 720, 813, 846, 874, 882, 947, 951, 956, 1003, 1014, 1039, 1112, 1156, 1192, 1194, 1226, 1232, 1242, 1247, 1289, 1299, 1319, 1364, 1378, 1393, 1414, 1500, 1522, 1530, 1549, 1553, 1609, 1681, 1717, 1754, 1790, 1813, 1878, 1901, 1940, 1941, 1952, 1984, 1987, 2016, 2035, 2040, 2044, 2053, 2098, 2109, 2118, 2130, 2182, 2272, 2293, 2387, 2393, 2414, 2488, 2514, 2526, 2573, 2597, 2607, 2648, 2654, 2720, 2736, 2758, 2877, 2896, 2921, 2930, 2939, 2953, 2979, 3030, 3062, 3073, 3114, 3117, 3189, 3225, 3289, 3330, 3384, 3422, 3457, 3474, 3503, 3520, 3549, 3558, 3559, 3567, 3597, 3681, 3727, 3757, 3767, 3780, 3808, 3818, 3853, 3869, 3906, 3926, 3941, 3943, 3985, 4065, 4078, 4102, 4163, 4176, 4199, 4224, 4248, 4289, 4300, 4355, 4360, 4369, 4425, 4497, 4534, 4536, 4601, 4731, 4761, 4807, 4814, 4860, 4880, 4890, 4918, 4956, 4966, 5086, 5140, 5331, 5457, 5634, 5642, 5676, 5734, 5749, 5937, 5955, 5972, 5973, 5982, 6011, 6045, 6059, 6166, 6392, 6416, 6532, 6555, 6571, 6572, 6574, 6597, 6608, 6651, 6783, 6847, 7216, 7451, 7492, 7921, 7990, 7991, 8020, 8062, 8094, 8183, 8325, 8408, 8456, 8522, 9009, 9015, 9019, 9024, 9280, 9427, 9517, 9530, 9587, 9634, 9669, 9679, 9692, 9729, 9733, 9745, 9749, 9768, 9770, 9808, 9839, 9944]\n"
     ]
    }
   ],
   "source": [
    "correct = 0\n",
    "total = 0\n",
    "err = []\n",
    "\n",
    "for x, t in test_dataloader :\n",
    "    x.to(device)\n",
    "    t.to(device)\n",
    "    x = x.reshape(-1, 28*28)\n",
    "    y = F(x)\n",
    "    for i in range(len(x)) :\n",
    "        if torch.argmax(y[i]) == t[i] :\n",
    "            correct += 1\n",
    "        else :\n",
    "            err.append(total)\n",
    "        total += 1\n",
    "\n",
    "print(\"acc : %f\" %(correct / len(test)))\n",
    "print(err)\n",
    "torch.save(F.to(\"cpu\"),\"MNIST.pt\")"
   ]
  },
  {
   "cell_type": "code",
   "execution_count": 7,
   "id": "b5061699-3873-42ad-ae40-459b9d693675",
   "metadata": {},
   "outputs": [
    {
     "name": "stdout",
     "output_type": "stream",
     "text": [
      "AI의 제안 : 9\n",
      "정답 : 4\n"
     ]
    },
    {
     "data": {
      "image/png": "[encoded data removed]",
      "text/plain": [
       "<Figure size 640x480 with 1 Axes>"
      ]
     },
     "metadata": {},
     "output_type": "display_data"
    }
   ],
   "source": [
    "#F = torch.load(\"MNIST.pt\", weights_only = False)\n",
    "a = 115\n",
    "\n",
    "img = test[a][0].reshape(28,28)\n",
    "plt.imshow(img)\n",
    "\n",
    "y_array = F(img.reshape(1,28*28))\n",
    "print(f\"AI의 제안 : {torch.argmax(y_array)}\")\n",
    "print(f\"정답 : {test[a][1]}\")"
   ]
  },
  {
   "cell_type": "code",
   "execution_count": null,
   "id": "6810c036-7058-4f0c-94cb-d66aae1c4498",
   "metadata": {},
   "outputs": [],
   "source": []
  }
 ],
 "metadata": {
  "kernelspec": {
   "display_name": "Python 3 (ipykernel)",
   "language": "python",
   "name": "python3"
  },
  "language_info": {
   "codemirror_mode": {
    "name": "ipython",
    "version": 3
   },
   "file_extension": ".py",
   "mimetype": "text/x-python",
   "name": "python",
   "nbconvert_exporter": "python",
   "pygments_lexer": "ipython3",
   "version": "3.12.7"
  }
 },
 "nbformat": 4,
 "nbformat_minor": 5
}
