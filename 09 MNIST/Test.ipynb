{
 "cells": [
  {
   "cell_type": "code",
   "execution_count": 1,
   "id": "8c1488d7-d96f-4021-9c46-466ae5060335",
   "metadata": {},
   "outputs": [],
   "source": [
    "from PIL import Image\n",
    "import numpy\n",
    "import torch\n",
    "import torch.nn as nn\n",
    "import os\n",
    "\n",
    "device = \"cuda\" if torch.cuda.is_available() else \"cpu\""
   ]
  },
  {
   "cell_type": "code",
   "execution_count": 2,
   "id": "ce10d973-9fb6-41dc-bdf4-e2d55aa3a16d",
   "metadata": {},
   "outputs": [],
   "source": [
    "F = torch.load(\"MNIST.pt\", weights_only=False)\n",
    "F = F.to(device)"
   ]
  },
  {
   "cell_type": "code",
   "execution_count": 3,
   "id": "2d6dedaf-cd02-4db9-9a7a-8fd285f19c69",
   "metadata": {},
   "outputs": [
    {
     "name": "stdout",
     "output_type": "stream",
     "text": [
      "['0.png', '1.png', '2.png', '3.png', '4.png', '5.png', '6.png', '7.png', '8.png', '9.png']\n"
     ]
    }
   ],
   "source": [
    "li = os.listdir(\"data\")\n",
    "print(li)"
   ]
  },
  {
   "cell_type": "code",
   "execution_count": 5,
   "id": "496cc9a5-60fa-45d5-b2c2-96a70c4f8c46",
   "metadata": {},
   "outputs": [
    {
     "name": "stdout",
     "output_type": "stream",
     "text": [
      "y :  9\n",
      "t :  0.png\n",
      "\n",
      "y :  1\n",
      "t :  1.png\n",
      "\n",
      "y :  2\n",
      "t :  2.png\n",
      "\n",
      "y :  3\n",
      "t :  3.png\n",
      "\n",
      "y :  4\n",
      "t :  4.png\n",
      "\n",
      "y :  5\n",
      "t :  5.png\n",
      "\n",
      "y :  5\n",
      "t :  6.png\n",
      "\n",
      "y :  2\n",
      "t :  7.png\n",
      "\n",
      "y :  8\n",
      "t :  8.png\n",
      "\n",
      "y :  9\n",
      "t :  9.png\n",
      "\n"
     ]
    }
   ],
   "source": [
    "for name in li :\n",
    "    img = Image.open(\"data\\\\\"+name)\n",
    "    img = img.resize((28, 28))\n",
    "    img = img.convert(mode = \"L\")\n",
    "    \n",
    "    img = numpy.array(img) / 255\n",
    "    x = torch.tensor(img, dtype = torch.float, device = device).reshape(-1,28*28)\n",
    "    y = F(x)\n",
    "    print(\"y : \", y.argmax().item())\n",
    "    print(\"t : \", name)\n",
    "    print()"
   ]
  },
  {
   "cell_type": "code",
   "execution_count": null,
   "id": "ad6fea92-41f7-4baf-bb4d-bfa8cfa8bebb",
   "metadata": {},
   "outputs": [],
   "source": []
  }
 ],
 "metadata": {
  "kernelspec": {
   "display_name": "Python 3 (ipykernel)",
   "language": "python",
   "name": "python3"
  },
  "language_info": {
   "codemirror_mode": {
    "name": "ipython",
    "version": 3
   },
   "file_extension": ".py",
   "mimetype": "text/x-python",
   "name": "python",
   "nbconvert_exporter": "python",
   "pygments_lexer": "ipython3",
   "version": "3.12.7"
  }
 },
 "nbformat": 4,
 "nbformat_minor": 5
}
