{
 "cells": [
  {
   "cell_type": "code",
   "execution_count": 1,
   "id": "de7d96fc-f7c9-485a-afaf-be2d2792f04d",
   "metadata": {},
   "outputs": [],
   "source": [
    "import torch"
   ]
  },
  {
   "cell_type": "code",
   "execution_count": 12,
   "id": "d4b66d2d-36ea-4866-9815-d8075c9f1c02",
   "metadata": {},
   "outputs": [
    {
     "name": "stdout",
     "output_type": "stream",
     "text": [
      "tensor([[[ 0.0371, -0.1100, -0.1617],\n",
      "         [ 0.0720, -0.2431, -0.0763]],\n",
      "\n",
      "        [[ 0.0289, -0.1195, -0.1923],\n",
      "         [ 0.0645, -0.2612, -0.0852]]], grad_fn=<TransposeBackward1>)\n",
      "\n",
      "tensor([[[ 0.0361, -0.3131,  0.7559],\n",
      "         [ 0.0337, -0.1667,  0.8530]],\n",
      "\n",
      "        [[-0.1600,  0.5044,  0.7831],\n",
      "         [-0.2545,  0.4798,  0.8253]],\n",
      "\n",
      "        [[-0.8996,  0.6347,  0.6875],\n",
      "         [-0.8996,  0.6412,  0.6646]],\n",
      "\n",
      "        [[ 0.3043, -0.6666, -0.1917],\n",
      "         [ 0.2913, -0.6656, -0.1934]],\n",
      "\n",
      "        [[-0.0974,  0.6591, -0.0695],\n",
      "         [-0.1083,  0.6529, -0.0765]],\n",
      "\n",
      "        [[ 0.0720, -0.2431, -0.0763],\n",
      "         [ 0.0645, -0.2612, -0.0852]]], grad_fn=<StackBackward0>)\n",
      "\n",
      "torch.Size([6, 2, 3])\n",
      "tensor([[[ 0.0371, -0.1100, -0.1617]],\n",
      "\n",
      "        [[ 0.0289, -0.1195, -0.1923]]], grad_fn=<SliceBackward0>)\n",
      "torch.Size([2, 1, 3])\n"
     ]
    }
   ],
   "source": [
    "F = torch.nn.RNN(5,3,num_layers = 6,batch_first = True)\n",
    "\n",
    "x = torch.tensor([\n",
    "    [[1,0,0,0,0],\n",
    "    [0,1,0,0,0]],\n",
    "    [[0,0,0,1,0],\n",
    "    [0,0,0,0,1]]    \n",
    "], dtype = torch.float)\n",
    "\n",
    "y, h = F(x)\n",
    "\n",
    "print(y)\n",
    "print()\n",
    "print(h)\n",
    "print()\n",
    "print(h.shape)\n",
    "\n",
    "\n",
    "a = y[:,0:1,:]\n",
    "print(a)\n",
    "print(a.shape)"
   ]
  },
  {
   "cell_type": "code",
   "execution_count": null,
   "id": "c89293be-b1ff-4b88-a68d-780d847276c0",
   "metadata": {},
   "outputs": [],
   "source": []
  }
 ],
 "metadata": {
  "kernelspec": {
   "display_name": "Python 3 (ipykernel)",
   "language": "python",
   "name": "python3"
  },
  "language_info": {
   "codemirror_mode": {
    "name": "ipython",
    "version": 3
   },
   "file_extension": ".py",
   "mimetype": "text/x-python",
   "name": "python",
   "nbconvert_exporter": "python",
   "pygments_lexer": "ipython3",
   "version": "3.12.7"
  }
 },
 "nbformat": 4,
 "nbformat_minor": 5
}
