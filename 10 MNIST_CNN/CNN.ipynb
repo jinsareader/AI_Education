{
  "cells": [
    {
      "cell_type": "code",
      "source": [
        "from google.colab import drive\n",
        "drive.mount('/content/drive')"
      ],
      "metadata": {
        "colab": {
          "base_uri": "https://localhost:8080/"
        },
        "id": "OyXN2ywWIklJ",
        "outputId": "6fb886dd-2342-4440-edad-59da6575a739"
      },
      "id": "OyXN2ywWIklJ",
      "execution_count": 1,
      "outputs": [
        {
          "output_type": "stream",
          "name": "stdout",
          "text": [
            "Mounted at /content/drive\n"
          ]
        }
      ]
    },
    {
      "cell_type": "code",
      "source": [
        "%cd '/content/drive/MyDrive/PyAI'"
      ],
      "metadata": {
        "colab": {
          "base_uri": "https://localhost:8080/"
        },
        "id": "MuBbDFiNI6Rx",
        "outputId": "5b99eb85-4793-454e-f958-70caa5a250dc"
      },
      "id": "MuBbDFiNI6Rx",
      "execution_count": 2,
      "outputs": [
        {
          "output_type": "stream",
          "name": "stdout",
          "text": [
            "/content/drive/MyDrive/PyAI\n"
          ]
        }
      ]
    },
    {
      "cell_type": "code",
      "execution_count": 3,
      "id": "b72481b8-2d38-4ae2-b98e-7ec504a1988c",
      "metadata": {
        "id": "b72481b8-2d38-4ae2-b98e-7ec504a1988c"
      },
      "outputs": [],
      "source": [
        "import torch\n",
        "import torch.nn as nn\n",
        "import torchvision.datasets as datasets\n",
        "import torchvision.transforms as transforms\n",
        "from torch.utils.data import DataLoader"
      ]
    },
    {
      "cell_type": "code",
      "execution_count": 4,
      "id": "d454f3ff-74e7-4239-ab8a-98aeecc766bc",
      "metadata": {
        "id": "d454f3ff-74e7-4239-ab8a-98aeecc766bc",
        "colab": {
          "base_uri": "https://localhost:8080/"
        },
        "outputId": "34f673ed-f397-4b57-83d3-428357b8fa82"
      },
      "outputs": [
        {
          "output_type": "stream",
          "name": "stderr",
          "text": [
            "100%|██████████| 9.91M/9.91M [00:02<00:00, 4.55MB/s]\n",
            "100%|██████████| 28.9k/28.9k [00:00<00:00, 133kB/s]\n",
            "100%|██████████| 1.65M/1.65M [00:01<00:00, 1.27MB/s]\n",
            "100%|██████████| 4.54k/4.54k [00:00<00:00, 6.22MB/s]\n"
          ]
        }
      ],
      "source": [
        "train = datasets.MNIST(root = \"/data\", train = True, transform=transforms.ToTensor(), download = True)\n",
        "test = datasets.MNIST(root = \"/data\", train = False, transform=transforms.ToTensor(), download = True)\n",
        "\n",
        "train_data = DataLoader(train, batch_size = 100, shuffle = True)\n",
        "test_data = DataLoader(test, batch_size = 1000, shuffle = False)"
      ]
    },
    {
      "cell_type": "code",
      "execution_count": 5,
      "id": "3e91f201-f3d9-4180-b3fc-adf239c763cb",
      "metadata": {
        "colab": {
          "base_uri": "https://localhost:8080/"
        },
        "id": "3e91f201-f3d9-4180-b3fc-adf239c763cb",
        "outputId": "ce683a88-7bd0-4fcf-967e-3f4510d90918"
      },
      "outputs": [
        {
          "output_type": "stream",
          "name": "stdout",
          "text": [
            "epoch 1 | loss 0.16232287883758545 | acc 0.9866\n",
            "epoch 2 | loss 0.046882644295692444 | acc 0.9898\n",
            "epoch 3 | loss 0.032998330891132355 | acc 0.9901\n",
            "train halted\n"
          ]
        }
      ],
      "source": [
        "device = \"cuda\" if torch.cuda.is_available() else \"cpu\"\n",
        "\n",
        "#x, t 입력\n",
        "#dataloader에서 처리\n",
        "\n",
        "#함수 정의\n",
        "class NN(nn.Module) :\n",
        "    def __init__(self) :\n",
        "        super().__init__()\n",
        "        self.f = nn.Sequential(\n",
        "            nn.Conv2d(in_channels=1,out_channels=16,kernel_size=5), #(1*28*28) -> (16*24*24)\n",
        "            nn.ReLU(),\n",
        "            nn.Conv2d(in_channels=16,out_channels=32,kernel_size=5), #(16*24*24) -> (32*20*20)\n",
        "            nn.ReLU(),\n",
        "            nn.MaxPool2d(kernel_size=2,stride=2), #(32*20*20) -> (32*10*10)\n",
        "            nn.Conv2d(in_channels=32,out_channels=64,kernel_size=5), #(32*10*10) -> (64*6*6)\n",
        "            nn.ReLU(),\n",
        "            nn.MaxPool2d(kernel_size=2,stride=2), #(64*6*6) -> (64*3*3)\n",
        "        )\n",
        "        self.g = nn.Sequential(\n",
        "            nn.Linear(64*3*3,100),\n",
        "            nn.ReLU(),\n",
        "            nn.Linear(100,10),\n",
        "        )\n",
        "    def forward(self,x) :\n",
        "        x = self.f(x)\n",
        "        x = x.reshape(-1, 64*3*3)\n",
        "        x = self.g(x)\n",
        "        return x\n",
        "F = NN()\n",
        "F = F.to(device)\n",
        "loss_func = nn.CrossEntropyLoss()\n",
        "optimizer = torch.optim.Adam(F.parameters(), lr = 0.002)\n",
        "epoch = 10\n",
        "prev_acc = 0\n",
        "cnt = 0\n",
        "\n",
        "for e in range(epoch) :\n",
        "    loss_sum = 0\n",
        "    for x, t in train_data :\n",
        "#순전파\n",
        "        y = F(x.to(device))\n",
        "#손실함수\n",
        "        loss = loss_func(y, t.to(device))\n",
        "        loss_sum += loss\n",
        "#역전파\n",
        "        loss.backward()\n",
        "        optimizer.step()\n",
        "        optimizer.zero_grad()\n",
        "    loss_sum /= len(train_data)\n",
        "\n",
        "    correct = 0\n",
        "    total = 0\n",
        "    for x, t in test_data :\n",
        "        with torch.no_grad() :\n",
        "            y = F(x.to(device))\n",
        "        correct += (y.argmax(dim = 1) == t.to(device)).sum().item()\n",
        "        total += len(x)\n",
        "    acc = correct / total\n",
        "\n",
        "    if acc <= prev_acc + 0.001 :\n",
        "        cnt += 1\n",
        "    else :\n",
        "        cnt = 0\n",
        "        prev_acc = acc\n",
        "    print(f\"epoch {e+1} | loss {loss_sum} | acc {acc}\")\n",
        "    if (cnt >= 3) or (acc >= 0.99) :\n",
        "        print(\"train halted\")\n",
        "        break"
      ]
    },
    {
      "cell_type": "code",
      "execution_count": 6,
      "id": "52d7ce60-1c8d-4168-96c4-b4ca78281bc6",
      "metadata": {
        "colab": {
          "base_uri": "https://localhost:8080/"
        },
        "id": "52d7ce60-1c8d-4168-96c4-b4ca78281bc6",
        "outputId": "bd64ec69-8e27-489e-fad0-b9d0cb9daf98"
      },
      "outputs": [
        {
          "output_type": "stream",
          "name": "stdout",
          "text": [
            "correct_posibility : 0.990100\n",
            "[62, 320, 321, 445, 449, 450, 582, 619, 625, 726, 740, 883, 938, 947, 1014, 1039, 1226, 1247, 1260, 1290, 1319, 1621, 1709, 1901, 1982, 2043, 2129, 2130, 2135, 2182, 2293, 2308, 2462, 2496, 2597, 2654, 2742, 2770, 2896, 2927, 2939, 2953, 2959, 2995, 3005, 3023, 3108, 3225, 3330, 3422, 3441, 3451, 3520, 3534, 3558, 3681, 3808, 3850, 3853, 3906, 3995, 4078, 4163, 4201, 4284, 4380, 4393, 4487, 4639, 4699, 4761, 4807, 5265, 5573, 5634, 5654, 6173, 6560, 6571, 6576, 6597, 6625, 6651, 6783, 7216, 7574, 8316, 8520, 8527, 9071, 9505, 9620, 9642, 9664, 9669, 9679, 9692, 9729, 9856]\n"
          ]
        }
      ],
      "source": [
        "cnt = 0;\n",
        "total = 0\n",
        "err = []\n",
        "\n",
        "for x, t in test_data :\n",
        "    y = F(x.to(device))\n",
        "    for i in range(x.shape[0]) :\n",
        "        if torch.argmax(y[i]) == t.to(device)[i] :\n",
        "            cnt += 1\n",
        "        else :\n",
        "            err.append(total)\n",
        "        total += 1\n",
        "\n",
        "print(\"correct_posibility : %f\" %(cnt / total))\n",
        "print(err)\n",
        "torch.save(F.to(\"cpu\"),\"MNIST.pt\")"
      ]
    }
  ],
  "metadata": {
    "kernelspec": {
      "display_name": "Python 3",
      "name": "python3"
    },
    "language_info": {
      "codemirror_mode": {
        "name": "ipython",
        "version": 3
      },
      "file_extension": ".py",
      "mimetype": "text/x-python",
      "name": "python",
      "nbconvert_exporter": "python",
      "pygments_lexer": "ipython3",
      "version": "3.12.7"
    },
    "colab": {
      "provenance": [],
      "gpuType": "T4"
    },
    "accelerator": "GPU"
  },
  "nbformat": 4,
  "nbformat_minor": 5
}