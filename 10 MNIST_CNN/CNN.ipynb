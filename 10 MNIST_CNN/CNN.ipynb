{
 "cells": [
  {
   "cell_type": "code",
   "execution_count": 7,
   "id": "OyXN2ywWIklJ",
   "metadata": {
    "colab": {
     "base_uri": "https://localhost:8080/"
    },
    "executionInfo": {
     "elapsed": 2195,
     "status": "ok",
     "timestamp": 1746697404143,
     "user": {
      "displayName": "Yong-Jun Jang",
      "userId": "12216012798125380557"
     },
     "user_tz": -540
    },
    "id": "OyXN2ywWIklJ",
    "outputId": "a57c2b5a-1363-482a-ea6a-06ad764a480b"
   },
   "outputs": [
    {
     "name": "stdout",
     "output_type": "stream",
     "text": [
      "Drive already mounted at /content/drive; to attempt to forcibly remount, call drive.mount(\"/content/drive\", force_remount=True).\n"
     ]
    }
   ],
   "source": [
    "from google.colab import drive\n",
    "drive.mount('/content/drive')"
   ]
  },
  {
   "cell_type": "code",
   "execution_count": 8,
   "id": "MuBbDFiNI6Rx",
   "metadata": {
    "colab": {
     "base_uri": "https://localhost:8080/"
    },
    "executionInfo": {
     "elapsed": 9,
     "status": "ok",
     "timestamp": 1746697405970,
     "user": {
      "displayName": "Yong-Jun Jang",
      "userId": "12216012798125380557"
     },
     "user_tz": -540
    },
    "id": "MuBbDFiNI6Rx",
    "outputId": "230223c6-d4ed-4d90-834c-0766df0f6a1b"
   },
   "outputs": [
    {
     "name": "stdout",
     "output_type": "stream",
     "text": [
      "/content/drive/MyDrive/PyAI\n"
     ]
    }
   ],
   "source": [
    "%cd '/content/drive/MyDrive/PyAI'"
   ]
  },
  {
   "cell_type": "code",
   "execution_count": 9,
   "id": "b72481b8-2d38-4ae2-b98e-7ec504a1988c",
   "metadata": {
    "executionInfo": {
     "elapsed": 39,
     "status": "ok",
     "timestamp": 1746697407646,
     "user": {
      "displayName": "Yong-Jun Jang",
      "userId": "12216012798125380557"
     },
     "user_tz": -540
    },
    "id": "b72481b8-2d38-4ae2-b98e-7ec504a1988c"
   },
   "outputs": [],
   "source": [
    "import torch\n",
    "import torch.nn as nn\n",
    "import torchvision.datasets as datasets\n",
    "import torchvision.transforms as transforms\n",
    "from torch.utils.data import DataLoader"
   ]
  },
  {
   "cell_type": "code",
   "execution_count": 10,
   "id": "d454f3ff-74e7-4239-ab8a-98aeecc766bc",
   "metadata": {
    "executionInfo": {
     "elapsed": 50,
     "status": "ok",
     "timestamp": 1746697409882,
     "user": {
      "displayName": "Yong-Jun Jang",
      "userId": "12216012798125380557"
     },
     "user_tz": -540
    },
    "id": "d454f3ff-74e7-4239-ab8a-98aeecc766bc"
   },
   "outputs": [],
   "source": [
    "train = datasets.MNIST(root = \"/data\", train = True, transform=transforms.ToTensor(), download = True)\n",
    "test = datasets.MNIST(root = \"/data\", train = False, transform=transforms.ToTensor(), download = True)\n",
    "\n",
    "train_data = DataLoader(train, batch_size = 100, shuffle = True)\n",
    "test_data = DataLoader(test, batch_size = 1000, shuffle = False)"
   ]
  },
  {
   "cell_type": "code",
   "execution_count": 12,
   "id": "3e91f201-f3d9-4180-b3fc-adf239c763cb",
   "metadata": {
    "colab": {
     "base_uri": "https://localhost:8080/"
    },
    "executionInfo": {
     "elapsed": 18042,
     "status": "ok",
     "timestamp": 1746697452323,
     "user": {
      "displayName": "Yong-Jun Jang",
      "userId": "12216012798125380557"
     },
     "user_tz": -540
    },
    "id": "3e91f201-f3d9-4180-b3fc-adf239c763cb",
    "outputId": "2a279179-6faa-4c10-b475-c8dde8d60273"
   },
   "outputs": [
    {
     "name": "stdout",
     "output_type": "stream",
     "text": [
      "epoch 1 | loss 0.17270225286483765 | acc 0.981\n",
      "epoch 2 | loss 0.04449569806456566 | acc 0.9903\n",
      "train halted\n"
     ]
    }
   ],
   "source": [
    "device = \"cuda\" if torch.cuda.is_available() else \"cpu\"\n",
    "\n",
    "#x, t 입력\n",
    "#dataloader에서 처리\n",
    "\n",
    "#함수 정의\n",
    "class NN(nn.Module) :\n",
    "    def __init__(self) :\n",
    "        super().__init__()\n",
    "        self.f = nn.Sequential(\n",
    "            nn.Conv2d(in_channels=1,out_channels=16,kernel_size=5), #(1*28*28) -> (16*24*24)\n",
    "            nn.ReLU(),\n",
    "            nn.Conv2d(in_channels=16,out_channels=32,kernel_size=5), #(16*24*24) -> (32*20*20)\n",
    "            nn.ReLU(),\n",
    "            nn.MaxPool2d(kernel_size=2,stride=2), #(32*20*20) -> (32*10*10)\n",
    "            nn.Conv2d(in_channels=32,out_channels=64,kernel_size=5), #(32*10*10) -> (64*6*6)\n",
    "            nn.ReLU(),\n",
    "            nn.MaxPool2d(kernel_size=2,stride=2), #(64*6*6) -> (64*3*3)\n",
    "        )\n",
    "        self.g = nn.Sequential(\n",
    "            nn.Linear(64*3*3,100),\n",
    "            nn.ReLU(),\n",
    "            nn.Linear(100,10),\n",
    "        )\n",
    "    def forward(self,x) :\n",
    "        if x.dim() == 3 :\n",
    "            x = x.unsqueeze(0)\n",
    "        x = self.f(x)\n",
    "        x = x.reshape(x.shape[0], -1)\n",
    "        x = self.g(x)\n",
    "        return x\n",
    "F = NN()\n",
    "F = F.to(device)\n",
    "loss_func = nn.CrossEntropyLoss()\n",
    "optimizer = torch.optim.Adam(F.parameters(), lr = 0.002)\n",
    "epoch = 10\n",
    "prev_acc = 0\n",
    "cnt = 0\n",
    "\n",
    "for e in range(epoch) :\n",
    "    loss_sum = 0\n",
    "    for x, t in train_data :\n",
    "#순전파\n",
    "        y = F(x.to(device))\n",
    "#손실함수\n",
    "        loss = loss_func(y, t.to(device))\n",
    "        loss_sum += loss\n",
    "#역전파\n",
    "        loss.backward()\n",
    "        optimizer.step()\n",
    "        optimizer.zero_grad()\n",
    "    loss_sum /= len(train_data)\n",
    "\n",
    "    correct = 0\n",
    "    total = 0\n",
    "    for x, t in test_data :\n",
    "        with torch.no_grad() :\n",
    "            y = F(x.to(device))\n",
    "        correct += (y.argmax(dim = 1) == t.to(device)).sum().item()\n",
    "        total += len(x)\n",
    "    acc = correct / total\n",
    "\n",
    "    if acc <= prev_acc + 0.001 :\n",
    "        cnt += 1\n",
    "    else :\n",
    "        cnt = 0\n",
    "        prev_acc = acc\n",
    "    print(f\"epoch {e+1} | loss {loss_sum} | acc {acc}\")\n",
    "    if (cnt >= 3) or (acc >= 0.99) :\n",
    "        print(\"train halted\")\n",
    "        break"
   ]
  },
  {
   "cell_type": "code",
   "execution_count": 13,
   "id": "52d7ce60-1c8d-4168-96c4-b4ca78281bc6",
   "metadata": {
    "colab": {
     "base_uri": "https://localhost:8080/"
    },
    "executionInfo": {
     "elapsed": 2324,
     "status": "ok",
     "timestamp": 1746697457233,
     "user": {
      "displayName": "Yong-Jun Jang",
      "userId": "12216012798125380557"
     },
     "user_tz": -540
    },
    "id": "52d7ce60-1c8d-4168-96c4-b4ca78281bc6",
    "outputId": "98c43239-4d4c-4a3b-95ad-2e637f354bd5"
   },
   "outputs": [
    {
     "name": "stdout",
     "output_type": "stream",
     "text": [
      "correct_posibility : 0.990300\n",
      "[62, 95, 115, 247, 259, 320, 449, 582, 726, 740, 938, 947, 965, 1014, 1039, 1044, 1112, 1202, 1226, 1247, 1260, 1319, 1393, 1425, 1570, 1621, 1709, 1878, 1901, 2018, 2043, 2129, 2130, 2293, 2329, 2387, 2447, 2454, 2455, 2462, 2597, 2654, 2836, 2896, 2939, 2953, 2995, 3225, 3422, 3503, 3534, 3558, 3559, 3597, 3662, 3726, 3762, 3808, 3906, 3976, 4007, 4265, 4284, 4380, 4620, 4740, 4783, 4807, 5201, 5409, 5450, 5654, 5937, 6172, 6173, 6559, 6560, 6571, 6572, 6576, 6597, 6625, 6632, 6651, 6783, 7235, 7574, 8246, 8382, 8408, 8504, 8527, 9009, 9505, 9664, 9729, 9922]\n"
     ]
    }
   ],
   "source": [
    "cnt = 0;\n",
    "total = 0\n",
    "err = []\n",
    "\n",
    "for x, t in test_data :\n",
    "    y = F(x.to(device))\n",
    "    for i in range(x.shape[0]) :\n",
    "        if torch.argmax(y[i]) == t.to(device)[i] :\n",
    "            cnt += 1\n",
    "        else :\n",
    "            err.append(total)\n",
    "        total += 1\n",
    "\n",
    "print(\"correct_posibility : %f\" %(cnt / total))\n",
    "print(err)\n",
    "torch.save(F.to(\"cpu\"),\"MNIST.pt\")"
   ]
  }
 ],
 "metadata": {
  "accelerator": "GPU",
  "colab": {
   "gpuType": "T4",
   "provenance": []
  },
  "kernelspec": {
   "display_name": "Python 3 (ipykernel)",
   "language": "python",
   "name": "python3"
  },
  "language_info": {
   "codemirror_mode": {
    "name": "ipython",
    "version": 3
   },
   "file_extension": ".py",
   "mimetype": "text/x-python",
   "name": "python",
   "nbconvert_exporter": "python",
   "pygments_lexer": "ipython3",
   "version": "3.12.7"
  }
 },
 "nbformat": 4,
 "nbformat_minor": 5
}
