{
 "cells": [
  {
   "cell_type": "code",
   "execution_count": 1,
   "id": "8f830056-478b-46ee-96cd-5babcda1c866",
   "metadata": {},
   "outputs": [],
   "source": [
    "import torch\n",
    "import torch.nn as nn\n",
    "from torch.utils.data import DataLoader\n",
    "import torchvision.datasets as datasets\n",
    "import torchvision.transforms as transforms\n",
    "import numpy\n",
    "from PIL import Image"
   ]
  },
  {
   "cell_type": "code",
   "execution_count": 2,
   "id": "c8e74402-c663-4800-83be-02d3a437fe5e",
   "metadata": {},
   "outputs": [],
   "source": [
    "device = \"cuda\" if torch.cuda.is_available() else \"cpu\"\n",
    "\n",
    "#커스텀 신경망 클래스 선언\n",
    "\n",
    "class NN(nn.Module) :\n",
    "    def __init__(self) :\n",
    "        super().__init__()\n",
    "        self.f = nn.Sequential(\n",
    "            nn.Conv2d(in_channels=3,out_channels=32,kernel_size=(3,3),padding=(1,1)), #(3,32,32)>(32,32,32)\n",
    "            nn.ReLU(),\n",
    "            nn.Conv2d(in_channels=32,out_channels=32,kernel_size=(3,3),padding=(1,1)), #(32,32,32)>(32,32,32)\n",
    "            nn.ReLU(),\n",
    "            nn.MaxPool2d(kernel_size=2,stride=2), #(32,32,32)>(32,16,16)\n",
    "            nn.Dropout(0.25),\n",
    "\n",
    "            nn.Conv2d(in_channels=32,out_channels=64,kernel_size=(3,3),padding=(1,1)), #(32,16,16)>(64,16,16)\n",
    "            nn.ReLU(),\n",
    "            nn.Conv2d(in_channels=64,out_channels=64,kernel_size=(3,3),padding=(1,1)), #(64,16,16)>(64,16,16)\n",
    "            nn.ReLU(),\n",
    "            nn.MaxPool2d(kernel_size=2,stride=2), #(64,16,16)>(64,8,8)\n",
    "            nn.Dropout(0.25),\n",
    "\n",
    "            nn.Conv2d(in_channels=64,out_channels=128,kernel_size=(3,3),padding=(1,1)), #(64,8,8)>(128,8,8)\n",
    "            nn.MaxPool2d(kernel_size=2,stride=2), #(128,8,8)>(128,4,4)\n",
    "            nn.ReLU(),\n",
    "            nn.Dropout(0.25),\n",
    "\n",
    "            nn.Conv2d(in_channels=128,out_channels=128,kernel_size=(3,3),padding=(1,1)), #(128,4,4)>(128,4,4)\n",
    "            nn.MaxPool2d(kernel_size=2,stride=2), #(128,4,4)>(128,2,2)\n",
    "            nn.ReLU(),\n",
    "            nn.Dropout(0.25),\n",
    "\n",
    "            nn.Conv2d(in_channels=128,out_channels=256,kernel_size=(3,3),padding=(1,1)), #(128,2,2)>(256,2,2)\n",
    "            nn.MaxPool2d(kernel_size=2,stride=2), #(256,2,2)>(256,1,1)\n",
    "            nn.ReLU(),\n",
    "            nn.Dropout(0.25),\n",
    "        )\n",
    "        self.g = nn.Sequential(\n",
    "            nn.Linear(256, 128),\n",
    "            nn.ReLU(),\n",
    "            nn.Dropout(0.5),\n",
    "            nn.Linear(128, 10),\n",
    "        )\n",
    "    def forward(self, x) :\n",
    "        x = self.f(x)\n",
    "        x = x.reshape(-1, 256)\n",
    "        x = self.g(x)\n",
    "        return x"
   ]
  },
  {
   "cell_type": "code",
   "execution_count": 3,
   "id": "7ac087a1-02bf-4561-943b-0d681805e3e5",
   "metadata": {},
   "outputs": [],
   "source": [
    "#커스텀 신경망 불러오기\n",
    "\n",
    "F = torch.load(\"CIFAR10.pt\", weights_only=False)\n",
    "F = F.to(device)"
   ]
  },
  {
   "cell_type": "code",
   "execution_count": 4,
   "id": "1a0ac3bc-5b73-4f97-aeb5-e36703572892",
   "metadata": {},
   "outputs": [
    {
     "name": "stdout",
     "output_type": "stream",
     "text": [
      "['airplane.jpg', 'automobile.jpg', 'bird.jpg', 'cat.jpg', 'deer.jpg', 'dog.jpg', 'frog.jpg', 'horse.jpg', 'ship.jpg', 'truck.jpg']\n"
     ]
    }
   ],
   "source": [
    "import os\n",
    "li = os.listdir(\"image/\")\n",
    "print(li)"
   ]
  },
  {
   "cell_type": "code",
   "execution_count": 8,
   "id": "0cc707ac-7628-4f54-a47e-974b2fd86930",
   "metadata": {},
   "outputs": [
    {
     "name": "stdout",
     "output_type": "stream",
     "text": [
      "['Airplane\\n', 'Automobile\\n', 'Bird\\n', 'Cat\\n', 'Deer\\n', 'Dog\\n', 'Frog\\n', 'Horse\\n', 'Ship\\n', 'Truck']\n"
     ]
    }
   ],
   "source": [
    "with open(\"list.txt\", mode = \"r\") as f:\n",
    "    target_list = f.readlines()\n",
    "\n",
    "print(target_list)"
   ]
  },
  {
   "cell_type": "code",
   "execution_count": 21,
   "id": "5184480e-c594-4cb7-8645-f34223163d10",
   "metadata": {},
   "outputs": [
    {
     "name": "stdout",
     "output_type": "stream",
     "text": [
      "['Airplane\\n', 'Automobile\\n', 'Bird\\n', 'Cat\\n', 'Deer\\n', 'Dog\\n', 'Frog\\n', 'Horse\\n', 'Ship\\n', 'Truck']\n",
      "Airplane:100, Automobile:0, Bird:0, Cat:0, Deer:0, Dog:0, Frog:0, Horse:0, Ship:0, Truck:0, \n",
      "y :  Airplane\n",
      "t :  airplane.jpg\n",
      "\n",
      "Airplane:0, Automobile:100, Bird:0, Cat:0, Deer:0, Dog:0, Frog:0, Horse:0, Ship:0, Truck:0, \n",
      "y :  Automobile\n",
      "t :  automobile.jpg\n",
      "\n",
      "Airplane:0, Automobile:0, Bird:99, Cat:0, Deer:0, Dog:0, Frog:0, Horse:0, Ship:0, Truck:0, \n",
      "y :  Bird\n",
      "t :  bird.jpg\n",
      "\n",
      "Airplane:0, Automobile:0, Bird:0, Cat:99, Deer:0, Dog:0, Frog:0, Horse:0, Ship:0, Truck:0, \n",
      "y :  Cat\n",
      "t :  cat.jpg\n",
      "\n",
      "Airplane:0, Automobile:0, Bird:0, Cat:0, Deer:100, Dog:0, Frog:0, Horse:0, Ship:0, Truck:0, \n",
      "y :  Deer\n",
      "t :  deer.jpg\n",
      "\n",
      "Airplane:0, Automobile:0, Bird:0, Cat:2, Deer:2, Dog:68, Frog:0, Horse:25, Ship:0, Truck:0, \n",
      "y :  Dog\n",
      "t :  dog.jpg\n",
      "\n",
      "Airplane:0, Automobile:0, Bird:0, Cat:0, Deer:0, Dog:0, Frog:100, Horse:0, Ship:0, Truck:0, \n",
      "y :  Frog\n",
      "t :  frog.jpg\n",
      "\n",
      "Airplane:0, Automobile:0, Bird:0, Cat:0, Deer:0, Dog:0, Frog:0, Horse:99, Ship:0, Truck:0, \n",
      "y :  Horse\n",
      "t :  horse.jpg\n",
      "\n",
      "Airplane:0, Automobile:0, Bird:0, Cat:0, Deer:0, Dog:0, Frog:0, Horse:0, Ship:99, Truck:0, \n",
      "y :  Ship\n",
      "t :  ship.jpg\n",
      "\n",
      "Airplane:0, Automobile:0, Bird:0, Cat:0, Deer:0, Dog:0, Frog:0, Horse:0, Ship:0, Truck:100, \n",
      "y :  Truck\n",
      "t :  truck.jpg\n",
      "\n"
     ]
    }
   ],
   "source": [
    "F.eval()\n",
    "print(target_list)\n",
    "for name in li :\n",
    "    if name.find(\".jpg\") < 0 :\n",
    "        continue\n",
    "    img = Image.open(\"image/\"+name)\n",
    "    img = img.convert(mode = \"RGB\").resize((32,32))\n",
    "    img.save(\"image/converted_\"+name)\n",
    "    img = numpy.transpose(numpy.array(img),(2,0,1)) / 255\n",
    "    img = torch.tensor(img, dtype = torch.float, device = device)\n",
    "    \n",
    "    y = F(img)\n",
    "    prop = (nn.functional.softmax(y, dim = -1) * 100).squeeze().type(torch.long).numpy().tolist()\n",
    "    for i in range(len(prop)) :\n",
    "        print(f\"{target_list[i].strip()}:{prop[i]}, \", end = \"\")\n",
    "    print()\n",
    "    print(\"y : \", target_list[y.argmax().item()].strip())\n",
    "    print(\"t : \", name)\n",
    "    print()"
   ]
  },
  {
   "cell_type": "code",
   "execution_count": null,
   "id": "a8035086-36f9-45b6-8b0e-c13535c48a59",
   "metadata": {},
   "outputs": [],
   "source": []
  }
 ],
 "metadata": {
  "kernelspec": {
   "display_name": "Python 3 (ipykernel)",
   "language": "python",
   "name": "python3"
  },
  "language_info": {
   "codemirror_mode": {
    "name": "ipython",
    "version": 3
   },
   "file_extension": ".py",
   "mimetype": "text/x-python",
   "name": "python",
   "nbconvert_exporter": "python",
   "pygments_lexer": "ipython3",
   "version": "3.12.7"
  }
 },
 "nbformat": 4,
 "nbformat_minor": 5
}
