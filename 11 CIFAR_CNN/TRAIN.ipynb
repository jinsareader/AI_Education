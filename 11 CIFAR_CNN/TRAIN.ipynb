{
 "cells": [
  {
   "cell_type": "code",
   "execution_count": 1,
   "metadata": {
    "colab": {
     "base_uri": "https://localhost:8080/"
    },
    "executionInfo": {
     "elapsed": 18795,
     "status": "ok",
     "timestamp": 1746771045439,
     "user": {
      "displayName": "Yong-Jun Jang",
      "userId": "12216012798125380557"
     },
     "user_tz": -540
    },
    "id": "6qah1M1o-QC7",
    "outputId": "bada743e-f62a-4ac9-a75b-7bc618f0b4f9"
   },
   "outputs": [
    {
     "name": "stdout",
     "output_type": "stream",
     "text": [
      "Mounted at /content/drive\n"
     ]
    }
   ],
   "source": [
    "from google.colab import drive\n",
    "drive.mount('/content/drive')"
   ]
  },
  {
   "cell_type": "code",
   "execution_count": 2,
   "metadata": {
    "colab": {
     "base_uri": "https://localhost:8080/"
    },
    "executionInfo": {
     "elapsed": 255,
     "status": "ok",
     "timestamp": 1746771050364,
     "user": {
      "displayName": "Yong-Jun Jang",
      "userId": "12216012798125380557"
     },
     "user_tz": -540
    },
    "id": "OyIl6WBo-lTX",
    "outputId": "1dc54b21-f421-4fd6-863d-5450db905a8c"
   },
   "outputs": [
    {
     "name": "stdout",
     "output_type": "stream",
     "text": [
      "/content/drive/MyDrive/PyAI\n"
     ]
    }
   ],
   "source": [
    "%cd '/content/drive/MyDrive/PyAI'"
   ]
  },
  {
   "cell_type": "code",
   "execution_count": 9,
   "metadata": {
    "executionInfo": {
     "elapsed": 3,
     "status": "ok",
     "timestamp": 1746771143775,
     "user": {
      "displayName": "Yong-Jun Jang",
      "userId": "12216012798125380557"
     },
     "user_tz": -540
    },
    "id": "i6q64jbY-3Re"
   },
   "outputs": [],
   "source": [
    "import torchvision.datasets as datasets #torch에서 데이터 불러오기\n",
    "import torchvision.transforms as transforms\n",
    "import torch\n",
    "import torch.nn as nn\n",
    "from torch.utils.data import DataLoader\n",
    "from tqdm import tqdm"
   ]
  },
  {
   "cell_type": "code",
   "execution_count": 5,
   "metadata": {
    "colab": {
     "base_uri": "https://localhost:8080/"
    },
    "executionInfo": {
     "elapsed": 17,
     "status": "ok",
     "timestamp": 1746771079005,
     "user": {
      "displayName": "Yong-Jun Jang",
      "userId": "12216012798125380557"
     },
     "user_tz": -540
    },
    "id": "aY7u7zxsqpoo",
    "outputId": "b812cb13-22a2-4c3b-87ae-3e25000ee3cb"
   },
   "outputs": [
    {
     "name": "stdout",
     "output_type": "stream",
     "text": [
      "Tesla T4\n"
     ]
    }
   ],
   "source": [
    "print(torch.cuda.get_device_name())"
   ]
  },
  {
   "cell_type": "code",
   "execution_count": 6,
   "metadata": {
    "colab": {
     "base_uri": "https://localhost:8080/"
    },
    "executionInfo": {
     "elapsed": 8258,
     "status": "ok",
     "timestamp": 1746771090727,
     "user": {
      "displayName": "Yong-Jun Jang",
      "userId": "12216012798125380557"
     },
     "user_tz": -540
    },
    "id": "rsgMV6MLGCcl",
    "outputId": "77411aae-1b2f-4e4f-e714-654ef59d4318"
   },
   "outputs": [
    {
     "name": "stderr",
     "output_type": "stream",
     "text": [
      "100%|██████████| 170M/170M [00:04<00:00, 35.7MB/s]\n"
     ]
    }
   ],
   "source": [
    "train = datasets.CIFAR10(root = \"./dataset\", train = True, transform=transforms.ToTensor(), download=True)\n",
    "test = datasets.CIFAR10(root = \"./dataset\", train = False, transform=transforms.ToTensor(), download=True)\n",
    "\n",
    "train_data = DataLoader(train, batch_size = 100, shuffle=True)\n",
    "test_data = DataLoader(test, batch_size=1000, shuffle = False)"
   ]
  },
  {
   "cell_type": "code",
   "execution_count": 10,
   "metadata": {
    "colab": {
     "base_uri": "https://localhost:8080/"
    },
    "executionInfo": {
     "elapsed": 1706977,
     "status": "ok",
     "timestamp": 1746772924572,
     "user": {
      "displayName": "Yong-Jun Jang",
      "userId": "12216012798125380557"
     },
     "user_tz": -540
    },
    "id": "dZ4k6jQLHIQ6",
    "outputId": "44384860-9fda-4f92-ad22-0e996ff88ee2"
   },
   "outputs": [
    {
     "name": "stderr",
     "output_type": "stream",
     "text": [
      "100%|██████████| 200/200 [28:26<00:00,  8.53s/it]\n"
     ]
    }
   ],
   "source": [
    "device = \"cuda\" if torch.cuda.is_available() else \"cpu\"\n",
    "#\n",
    "\n",
    "#\n",
    "class NN(nn.Module) :\n",
    "    def __init__(self) :\n",
    "        super().__init__()\n",
    "        self.f = nn.Sequential(\n",
    "            nn.Conv2d(in_channels=3,out_channels=32,kernel_size=(3,3),padding=(1,1)), #(3,32,32)>(32,32,32)\n",
    "            nn.ReLU(),\n",
    "            nn.Conv2d(in_channels=32,out_channels=32,kernel_size=(3,3),padding=(1,1)), #(32,32,32)>(32,32,32)\n",
    "            nn.ReLU(),\n",
    "            nn.MaxPool2d(kernel_size=2,stride=2), #(32,32,32)>(32,16,16)\n",
    "            nn.Dropout(0.25),\n",
    "\n",
    "            nn.Conv2d(in_channels=32,out_channels=64,kernel_size=(3,3),padding=(1,1)), #(32,16,16)>(64,16,16)\n",
    "            nn.ReLU(),\n",
    "            nn.Conv2d(in_channels=64,out_channels=64,kernel_size=(3,3),padding=(1,1)), #(64,16,16)>(64,16,16)\n",
    "            nn.ReLU(),\n",
    "            nn.MaxPool2d(kernel_size=2,stride=2), #(64,16,16)>(64,8,8)\n",
    "            nn.Dropout(0.25),\n",
    "\n",
    "            nn.Conv2d(in_channels=64,out_channels=128,kernel_size=(3,3),padding=(1,1)), #(64,8,8)>(128,8,8)\n",
    "            nn.MaxPool2d(kernel_size=2,stride=2), #(128,8,8)>(128,4,4)\n",
    "            nn.ReLU(),\n",
    "            nn.Dropout(0.25),\n",
    "\n",
    "            nn.Conv2d(in_channels=128,out_channels=128,kernel_size=(3,3),padding=(1,1)), #(128,4,4)>(128,4,4)\n",
    "            nn.MaxPool2d(kernel_size=2,stride=2), #(128,4,4)>(128,2,2)\n",
    "            nn.ReLU(),\n",
    "            nn.Dropout(0.25),\n",
    "\n",
    "            nn.Conv2d(in_channels=128,out_channels=256,kernel_size=(3,3),padding=(1,1)), #(128,2,2)>(256,2,2)\n",
    "            nn.MaxPool2d(kernel_size=2,stride=2), #(256,2,2)>(256,1,1)\n",
    "            nn.ReLU(),\n",
    "            nn.Dropout(0.25),\n",
    "        )\n",
    "        self.g = nn.Sequential(\n",
    "            nn.Linear(256, 128),\n",
    "            nn.ReLU(),\n",
    "            nn.Dropout(0.5),\n",
    "            nn.Linear(128, 10),\n",
    "        )\n",
    "    def forward(self, x) :\n",
    "        x = self.f(x)\n",
    "        x = x.reshape(-1, 256)\n",
    "        x = self.g(x)\n",
    "        return x\n",
    "\n",
    "F = NN()\n",
    "F = F.to(device)\n",
    "loss_func = nn.CrossEntropyLoss()\n",
    "optimizer = torch.optim.Adam(F.parameters(), lr = 0.001)\n",
    "epoch = 200\n",
    "cnt = 0\n",
    "prev_acc = 0\n",
    "\n",
    "F.train()\n",
    "for e in tqdm(range(epoch)) :\n",
    "    loss_sum = 0\n",
    "    for x, t in train_data :\n",
    "        x = x.to(device)\n",
    "        t = t.to(device)\n",
    "#\n",
    "        y = F(x)\n",
    "#\n",
    "        loss = loss_func(y, t)\n",
    "        loss_sum += loss\n",
    "#\n",
    "        loss.backward()\n",
    "        optimizer.step()\n",
    "        optimizer.zero_grad()\n",
    "    loss_sum /= len(train_data)\n",
    "\n",
    "    # F.eval()\n",
    "    # correct = 0\n",
    "    # total = 0\n",
    "    # for x, t in test_data :\n",
    "    #     x = x.to(device)\n",
    "    #     t = t.to(device)\n",
    "    #     with torch.no_grad() :\n",
    "    #         y = F(x)\n",
    "    #     correct += (y.argmax(dim=1) == t).sum().item()\n",
    "    #     total += len(x)\n",
    "    # acc = correct / total\n",
    "    # if acc <= prev_acc :\n",
    "    #     cnt += 1\n",
    "    # else :\n",
    "    #     cnt = 0\n",
    "    #     prev_acc = acc\n",
    "    # print(f\"epoch {e+1} | loss {loss_sum} | acc {acc}\")\n",
    "    # if cnt >= 3 :\n",
    "    #     print(\"train halted\")\n",
    "    #     break\n",
    "    # F.train()"
   ]
  },
  {
   "cell_type": "code",
   "execution_count": 14,
   "metadata": {
    "colab": {
     "base_uri": "https://localhost:8080/"
    },
    "executionInfo": {
     "elapsed": 1595,
     "status": "ok",
     "timestamp": 1746773022663,
     "user": {
      "displayName": "Yong-Jun Jang",
      "userId": "12216012798125380557"
     },
     "user_tz": -540
    },
    "id": "FXaX_AyRrMM3",
    "outputId": "dcb1e527-4b6b-4ed8-bf58-1a36de6b9648"
   },
   "outputs": [
    {
     "name": "stdout",
     "output_type": "stream",
     "text": [
      "acc 0.8266\n"
     ]
    }
   ],
   "source": [
    "F.eval()\n",
    "correct = 0\n",
    "total = 0\n",
    "for x, t in test_data :\n",
    "    x = x.to(device)\n",
    "    t = t.to(device)\n",
    "    with torch.no_grad() :\n",
    "        y = F(x)\n",
    "    correct += (y.argmax(dim=1) == t).sum().item()\n",
    "    total += len(x)\n",
    "acc = correct / total\n",
    "\n",
    "print(f\"acc {acc}\")"
   ]
  },
  {
   "cell_type": "code",
   "execution_count": 12,
   "metadata": {
    "colab": {
     "base_uri": "https://localhost:8080/"
    },
    "executionInfo": {
     "elapsed": 8604,
     "status": "ok",
     "timestamp": 1746772994520,
     "user": {
      "displayName": "Yong-Jun Jang",
      "userId": "12216012798125380557"
     },
     "user_tz": -540
    },
    "id": "5Y2JIu6AyGoG",
    "outputId": "faf0d306-f639-4aa1-da8e-24cac692de91"
   },
   "outputs": [
    {
     "name": "stdout",
     "output_type": "stream",
     "text": [
      "acc 0.93622\n"
     ]
    }
   ],
   "source": [
    "F.eval()\n",
    "correct = 0\n",
    "total = 0\n",
    "for x, t in train_data :\n",
    "    x = x.to(device)\n",
    "    t = t.to(device)\n",
    "    with torch.no_grad() :\n",
    "        y = F(x)\n",
    "    correct += (y.argmax(dim=1) == t).sum().item()\n",
    "    total += len(x)\n",
    "acc = correct / total\n",
    "\n",
    "print(f\"acc {acc}\")"
   ]
  },
  {
   "cell_type": "code",
   "execution_count": 13,
   "metadata": {
    "executionInfo": {
     "elapsed": 677,
     "status": "ok",
     "timestamp": 1746772998597,
     "user": {
      "displayName": "Yong-Jun Jang",
      "userId": "12216012798125380557"
     },
     "user_tz": -540
    },
    "id": "HK2Jp9h1Qavl"
   },
   "outputs": [],
   "source": [
    "torch.save(F.to(device), \"CIFAR10.pt\")"
   ]
  },
  {
   "cell_type": "code",
   "execution_count": null,
   "metadata": {
    "colab": {
     "base_uri": "https://localhost:8080/"
    },
    "executionInfo": {
     "elapsed": 43,
     "status": "ok",
     "timestamp": 1745154275732,
     "user": {
      "displayName": "Yong-Jun Jang",
      "userId": "12216012798125380557"
     },
     "user_tz": -540
    },
    "id": "SSfeWQ7iISoV",
    "outputId": "1511dafb-dbed-4736-96e5-5341ff9ad315"
   },
   "outputs": [
    {
     "name": "stdout",
     "output_type": "stream",
     "text": [
      "torch.Size([3, 32, 32])\n",
      "0\n",
      "9\n",
      "tensor([[[0.2314, 0.1686, 0.1961,  ..., 0.6196, 0.5961, 0.5804],\n",
      "         [0.0627, 0.0000, 0.0706,  ..., 0.4824, 0.4667, 0.4784],\n",
      "         [0.0980, 0.0627, 0.1922,  ..., 0.4627, 0.4706, 0.4275],\n",
      "         ...,\n",
      "         [0.8157, 0.7882, 0.7765,  ..., 0.6275, 0.2196, 0.2078],\n",
      "         [0.7059, 0.6784, 0.7294,  ..., 0.7216, 0.3804, 0.3255],\n",
      "         [0.6941, 0.6588, 0.7020,  ..., 0.8471, 0.5922, 0.4824]],\n",
      "\n",
      "        [[0.2431, 0.1804, 0.1882,  ..., 0.5176, 0.4902, 0.4863],\n",
      "         [0.0784, 0.0000, 0.0314,  ..., 0.3451, 0.3255, 0.3412],\n",
      "         [0.0941, 0.0275, 0.1059,  ..., 0.3294, 0.3294, 0.2863],\n",
      "         ...,\n",
      "         [0.6667, 0.6000, 0.6314,  ..., 0.5216, 0.1216, 0.1333],\n",
      "         [0.5451, 0.4824, 0.5647,  ..., 0.5804, 0.2431, 0.2078],\n",
      "         [0.5647, 0.5059, 0.5569,  ..., 0.7216, 0.4627, 0.3608]],\n",
      "\n",
      "        [[0.2471, 0.1765, 0.1686,  ..., 0.4235, 0.4000, 0.4039],\n",
      "         [0.0784, 0.0000, 0.0000,  ..., 0.2157, 0.1961, 0.2235],\n",
      "         [0.0824, 0.0000, 0.0314,  ..., 0.1961, 0.1961, 0.1647],\n",
      "         ...,\n",
      "         [0.3765, 0.1333, 0.1020,  ..., 0.2745, 0.0275, 0.0784],\n",
      "         [0.3765, 0.1647, 0.1176,  ..., 0.3686, 0.1333, 0.1333],\n",
      "         [0.4549, 0.3686, 0.3412,  ..., 0.5490, 0.3294, 0.2824]]])\n"
     ]
    }
   ],
   "source": [
    "print(train[0][0].shape) #x의 모양\n",
    "print(min(train.targets)) #t최댓값\n",
    "print(max(train.targets)) #t최솟값\n",
    "print(train[0][0])"
   ]
  }
 ],
 "metadata": {
  "accelerator": "GPU",
  "colab": {
   "authorship_tag": "ABX9TyMQ0nrL8qBTCn2KCiwAs45J",
   "gpuType": "T4",
   "provenance": [
    {
     "file_id": "13q6k955MCxW6cZfdr4B1TZ2wkS8YS-ot",
     "timestamp": 1744696078638
    }
   ]
  },
  "kernelspec": {
   "display_name": "Python 3 (ipykernel)",
   "language": "python",
   "name": "python3"
  },
  "language_info": {
   "codemirror_mode": {
    "name": "ipython",
    "version": 3
   },
   "file_extension": ".py",
   "mimetype": "text/x-python",
   "name": "python",
   "nbconvert_exporter": "python",
   "pygments_lexer": "ipython3",
   "version": "3.12.7"
  }
 },
 "nbformat": 4,
 "nbformat_minor": 4
}
