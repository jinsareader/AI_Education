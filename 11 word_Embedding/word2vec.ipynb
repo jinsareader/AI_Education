{
 "cells": [
  {
   "cell_type": "code",
   "execution_count": 1,
   "id": "60ad9bc0-8f03-43af-bc73-4c1e5ed7d548",
   "metadata": {},
   "outputs": [],
   "source": [
    "import os\n",
    "os.environ[\"KMP_DUPLICATE_LIB_OK\"]=\"TRUE\"\n",
    "\n",
    "import numpy\n",
    "import custom\n",
    "import torch\n",
    "import torch.nn as nn\n",
    "import pandas\n",
    "import matplotlib.pyplot as plt"
   ]
  },
  {
   "cell_type": "code",
   "execution_count": 12,
   "id": "126f03d3-26f8-4e7d-b860-ba45fec47e11",
   "metadata": {},
   "outputs": [],
   "source": [
    "def make_word_pair(corpus, window_size = 1) :\n",
    "    word_pair = []\n",
    "    for s in corpus :\n",
    "        for w in range(len(s)) :\n",
    "            for i in range(1,window_size+1) :\n",
    "                if w-i >= 0 :\n",
    "                    temp = [s[w], s[w-i]]\n",
    "                    word_pair.append(temp)\n",
    "                if w+i < len(s) :\n",
    "                    if s[w+i] > 0 :\n",
    "                        temp = [s[w], s[w+i]]\n",
    "                        word_pair.append(temp)\n",
    "    \n",
    "    return word_pair"
   ]
  },
  {
   "cell_type": "code",
   "execution_count": 3,
   "id": "50f286cb-7322-4d67-a32e-6ee35c1e803e",
   "metadata": {},
   "outputs": [
    {
     "name": "stdout",
     "output_type": "stream",
     "text": [
      "{'<pad>': 0, '<unk>': 1, 'he': 2, 'is': 3, 'a': 4, 'king': 5, 'she': 6, 'queen': 7, 'man': 8, 'woman': 9, 'warsaw': 10, 'poland': 11, 'capital': 12, 'berlin': 13, 'germany': 14, 'paris': 15, 'france': 16, 'seoul': 17, 'korea': 18, 'bejing': 19, 'china': 20, 'tokyo': 21, 'japan': 22}\n",
      "[[ 2  3  4  5]\n",
      " [ 6  3  4  7]\n",
      " [ 2  3  4  8]\n",
      " [ 6  3  4  9]\n",
      " [10  3 11 12]\n",
      " [13  3 14 12]\n",
      " [15  3 16 12]\n",
      " [17  3 18 12]\n",
      " [19  3 20 12]\n",
      " [21  3 22 12]]\n",
      "[[0. 0. 0. 0. 0. 0. 0. 0. 0. 0. 0. 0. 0. 0. 0. 0. 0. 0. 0. 0. 0. 0. 0.]\n",
      " [0. 0. 0. 0. 0. 0. 0. 0. 0. 0. 0. 0. 0. 0. 0. 0. 0. 0. 0. 0. 0. 0. 0.]\n",
      " [0. 0. 0. 2. 2. 0. 0. 0. 0. 0. 0. 0. 0. 0. 0. 0. 0. 0. 0. 0. 0. 0. 0.]\n",
      " [0. 0. 2. 0. 4. 1. 2. 1. 1. 1. 1. 1. 6. 1. 1. 1. 1. 1. 1. 1. 1. 1. 1.]\n",
      " [0. 0. 2. 4. 0. 1. 2. 1. 1. 1. 0. 0. 0. 0. 0. 0. 0. 0. 0. 0. 0. 0. 0.]\n",
      " [0. 0. 0. 1. 1. 0. 0. 0. 0. 0. 0. 0. 0. 0. 0. 0. 0. 0. 0. 0. 0. 0. 0.]\n",
      " [0. 0. 0. 2. 2. 0. 0. 0. 0. 0. 0. 0. 0. 0. 0. 0. 0. 0. 0. 0. 0. 0. 0.]\n",
      " [0. 0. 0. 1. 1. 0. 0. 0. 0. 0. 0. 0. 0. 0. 0. 0. 0. 0. 0. 0. 0. 0. 0.]\n",
      " [0. 0. 0. 1. 1. 0. 0. 0. 0. 0. 0. 0. 0. 0. 0. 0. 0. 0. 0. 0. 0. 0. 0.]\n",
      " [0. 0. 0. 1. 1. 0. 0. 0. 0. 0. 0. 0. 0. 0. 0. 0. 0. 0. 0. 0. 0. 0. 0.]\n",
      " [0. 0. 0. 1. 0. 0. 0. 0. 0. 0. 0. 1. 0. 0. 0. 0. 0. 0. 0. 0. 0. 0. 0.]\n",
      " [0. 0. 0. 1. 0. 0. 0. 0. 0. 0. 1. 0. 1. 0. 0. 0. 0. 0. 0. 0. 0. 0. 0.]\n",
      " [0. 0. 0. 6. 0. 0. 0. 0. 0. 0. 0. 1. 0. 0. 1. 0. 1. 0. 1. 0. 1. 0. 1.]\n",
      " [0. 0. 0. 1. 0. 0. 0. 0. 0. 0. 0. 0. 0. 0. 1. 0. 0. 0. 0. 0. 0. 0. 0.]\n",
      " [0. 0. 0. 1. 0. 0. 0. 0. 0. 0. 0. 0. 1. 1. 0. 0. 0. 0. 0. 0. 0. 0. 0.]\n",
      " [0. 0. 0. 1. 0. 0. 0. 0. 0. 0. 0. 0. 0. 0. 0. 0. 1. 0. 0. 0. 0. 0. 0.]\n",
      " [0. 0. 0. 1. 0. 0. 0. 0. 0. 0. 0. 0. 1. 0. 0. 1. 0. 0. 0. 0. 0. 0. 0.]\n",
      " [0. 0. 0. 1. 0. 0. 0. 0. 0. 0. 0. 0. 0. 0. 0. 0. 0. 0. 1. 0. 0. 0. 0.]\n",
      " [0. 0. 0. 1. 0. 0. 0. 0. 0. 0. 0. 0. 1. 0. 0. 0. 0. 1. 0. 0. 0. 0. 0.]\n",
      " [0. 0. 0. 1. 0. 0. 0. 0. 0. 0. 0. 0. 0. 0. 0. 0. 0. 0. 0. 0. 1. 0. 0.]\n",
      " [0. 0. 0. 1. 0. 0. 0. 0. 0. 0. 0. 0. 1. 0. 0. 0. 0. 0. 0. 1. 0. 0. 0.]\n",
      " [0. 0. 0. 1. 0. 0. 0. 0. 0. 0. 0. 0. 0. 0. 0. 0. 0. 0. 0. 0. 0. 0. 1.]\n",
      " [0. 0. 0. 1. 0. 0. 0. 0. 0. 0. 0. 0. 1. 0. 0. 0. 0. 0. 0. 0. 0. 1. 0.]]\n"
     ]
    }
   ],
   "source": [
    "sentences = [\n",
    "    'He is a king.',\n",
    "    'She is a queen.',\n",
    "    'He is a man.',\n",
    "    'She is a woman.',\n",
    "    'Warsaw is Poland capital.',\n",
    "    'Berlin is Germany capital.',\n",
    "    'Paris is France capital.',\n",
    "    'Seoul is Korea capital.', \n",
    "    'Bejing is China capital.',\n",
    "    'Tokyo is Japan capital.',\n",
    "]\n",
    "\n",
    "word_dict, number_dict = custom.make_dict(sentences)\n",
    "corpus = custom.word_num_encoding(sentences, word_dict)\n",
    "comatrix = custom.make_comatrix(corpus, len(word_dict), window_size=2)\n",
    "\n",
    "print(word_dict)\n",
    "print(corpus)\n",
    "print(comatrix)"
   ]
  },
  {
   "cell_type": "code",
   "execution_count": 14,
   "id": "a11dcec1-c011-4f65-8174-7cd0d392492e",
   "metadata": {},
   "outputs": [
    {
     "name": "stdout",
     "output_type": "stream",
     "text": [
      "[[2, 3], [2, 4], [3, 2], [3, 4], [3, 5], [4, 3], [4, 5], [4, 2], [5, 4], [5, 3], [6, 3], [6, 4], [3, 6], [3, 4], [3, 7], [4, 3], [4, 7], [4, 6], [7, 4], [7, 3], [2, 3], [2, 4], [3, 2], [3, 4], [3, 8], [4, 3], [4, 8], [4, 2], [8, 4], [8, 3], [6, 3], [6, 4], [3, 6], [3, 4], [3, 9], [4, 3], [4, 9], [4, 6], [9, 4], [9, 3], [10, 3], [10, 11], [3, 10], [3, 11], [3, 12], [11, 3], [11, 12], [11, 10], [12, 11], [12, 3], [13, 3], [13, 14], [3, 13], [3, 14], [3, 12], [14, 3], [14, 12], [14, 13], [12, 14], [12, 3], [15, 3], [15, 16], [3, 15], [3, 16], [3, 12], [16, 3], [16, 12], [16, 15], [12, 16], [12, 3], [17, 3], [17, 18], [3, 17], [3, 18], [3, 12], [18, 3], [18, 12], [18, 17], [12, 18], [12, 3], [19, 3], [19, 20], [3, 19], [3, 20], [3, 12], [20, 3], [20, 12], [20, 19], [12, 20], [12, 3], [21, 3], [21, 22], [3, 21], [3, 22], [3, 12], [22, 3], [22, 12], [22, 21], [12, 22], [12, 3]]\n"
     ]
    }
   ],
   "source": [
    "word_pair = make_word_pair(corpus, 2)\n",
    "\n",
    "print(word_pair)"
   ]
  },
  {
   "cell_type": "code",
   "execution_count": 15,
   "id": "0f8ecd06-3f97-4063-a7ed-a58d390d4080",
   "metadata": {},
   "outputs": [],
   "source": [
    "x = []\n",
    "t = []\n",
    "for data in word_pair :\n",
    "    x.append(data[0])\n",
    "    t.append(data[1])\n"
   ]
  },
  {
   "cell_type": "code",
   "execution_count": 24,
   "id": "70c28496-0d69-43dd-8376-b9cb0ac000c5",
   "metadata": {},
   "outputs": [
    {
     "name": "stdout",
     "output_type": "stream",
     "text": [
      "epoch 100 | loss 3.178942918777466\n",
      "epoch 200 | loss 3.038755416870117\n",
      "epoch 300 | loss 2.9051766395568848\n",
      "epoch 400 | loss 2.776942491531372\n",
      "epoch 500 | loss 2.6595237255096436\n",
      "epoch 600 | loss 2.5553579330444336\n",
      "epoch 700 | loss 2.4696407318115234\n",
      "epoch 800 | loss 2.404914140701294\n",
      "epoch 900 | loss 2.3551619052886963\n",
      "epoch 1000 | loss 2.3166251182556152\n",
      "epoch 1100 | loss 2.287808895111084\n",
      "epoch 1200 | loss 2.2635347843170166\n",
      "epoch 1300 | loss 2.242081880569458\n",
      "epoch 1400 | loss 2.2235097885131836\n",
      "epoch 1500 | loss 2.207143545150757\n",
      "epoch 1600 | loss 2.192366361618042\n",
      "epoch 1700 | loss 2.1789848804473877\n",
      "epoch 1800 | loss 2.1668496131896973\n",
      "epoch 1900 | loss 2.155837297439575\n",
      "epoch 2000 | loss 2.1458303928375244\n",
      "epoch 2100 | loss 2.1367080211639404\n",
      "epoch 2200 | loss 2.1283936500549316\n",
      "epoch 2300 | loss 2.120964288711548\n",
      "epoch 2400 | loss 2.114168167114258\n",
      "epoch 2500 | loss 2.107924699783325\n",
      "epoch 2600 | loss 2.102172613143921\n",
      "epoch 2700 | loss 2.096858024597168\n",
      "epoch 2800 | loss 2.091932773590088\n",
      "epoch 2900 | loss 2.0873477458953857\n",
      "epoch 3000 | loss 2.083064317703247\n"
     ]
    }
   ],
   "source": [
    "device = \"cuda\" if torch.cuda.is_available() else \"cpu\"\n",
    "\n",
    "class NN(nn.Module) :\n",
    "    def __init__(self, word_size) :\n",
    "        super().__init__();\n",
    "        self.f = nn.Embedding(word_size, 2, device = device, max_norm=1, padding_idx=0)\n",
    "        self.g = nn.Linear(2, word_size, device = device)\n",
    "    def forward(self, x) :\n",
    "        y = self.f(x)\n",
    "        y = self.g(y)\n",
    "        return y\n",
    "\n",
    "tensor_x = torch.tensor(x, dtype = torch.long, device = device)\n",
    "tensor_t = torch.tensor(t, dtype = torch.long, device = device)\n",
    "\n",
    "F = NN(len(word_dict))\n",
    "loss_function = nn.CrossEntropyLoss()\n",
    "optimizer = torch.optim.Adam(F.parameters())\n",
    "epoch = 3000\n",
    "\n",
    "for e in range(epoch) :\n",
    "    tensor_y = F(tensor_x)\n",
    "\n",
    "    loss = loss_function(tensor_y, tensor_t)\n",
    "\n",
    "    loss.backward()\n",
    "    optimizer.step()\n",
    "    optimizer.zero_grad()\n",
    "\n",
    "    if (e+1) % 100 == 0 :\n",
    "        print(\"epoch {} | loss {}\".format(e+1, loss))"
   ]
  },
  {
   "cell_type": "code",
   "execution_count": 25,
   "id": "cc679423-d8c5-42ed-8e90-a16ff0d44a1b",
   "metadata": {},
   "outputs": [
    {
     "name": "stdout",
     "output_type": "stream",
     "text": [
      "           a         b     word\n",
      "0   0.000000  0.000000    <pad>\n",
      "1   0.601158  0.537198    <unk>\n",
      "2  -0.789327  0.615383       he\n",
      "3  -0.195768 -0.244313       is\n",
      "4   0.822759  0.257774        a\n",
      "5  -0.703048  0.712746     king\n",
      "6  -0.790797  0.613526      she\n",
      "7  -0.668246  0.745569    queen\n",
      "8  -0.763350  0.647504      man\n",
      "9  -0.652548  0.759402    woman\n",
      "10  0.641381  0.768734   warsaw\n",
      "11 -0.497104 -0.263327   poland\n",
      "12  0.515091  0.858502  capital\n",
      "13  0.428425  0.904448   berlin\n",
      "14 -0.393097 -0.411356  germany\n",
      "15  0.360174  0.933874    paris\n",
      "16 -0.947798 -0.319609   france\n",
      "17  0.527053  0.850985    seoul\n",
      "18 -0.540663 -0.315411    korea\n",
      "19  0.578332  0.817264   bejing\n",
      "20 -0.954694 -0.298371    china\n",
      "21  0.489812  0.873116    tokyo\n",
      "22 -0.933410 -0.273658    japan\n"
     ]
    }
   ],
   "source": [
    "\n",
    "vector_df = pandas.DataFrame(F.state_dict()['f.weight'].numpy(), columns = ['a','b'])\n",
    "vector_df['word'] = list(word_dict.keys())\n",
    "\n",
    "print(vector_df)"
   ]
  },
  {
   "cell_type": "code",
   "execution_count": 26,
   "id": "bc01b753-c50f-4155-abe7-f6277c71de00",
   "metadata": {},
   "outputs": [
    {
     "data": {
      "image/png": "[encoded data removed]",
      "text/plain": [
       "<Figure size 1000x1000 with 1 Axes>"
      ]
     },
     "metadata": {},
     "output_type": "display_data"
    }
   ],
   "source": [
    "ano = vector_df['word'].values.tolist()\n",
    "a = vector_df['a'].values.tolist()\n",
    "b = vector_df['b'].values.tolist()\n",
    "\n",
    "fig, ax = plt.subplots(figsize = (10,10))\n",
    "ax.scatter(a,b)\n",
    "\n",
    "for i in range(len(ano)) :\n",
    "    ax.annotate(ano[i], (a[i], b[i]))\n",
    "\n",
    "plt.show()"
   ]
  },
  {
   "cell_type": "code",
   "execution_count": 3,
   "id": "bdf98b52-c8e3-4ce6-a0d6-1681aa38255f",
   "metadata": {},
   "outputs": [
    {
     "name": "stdout",
     "output_type": "stream",
     "text": [
      "tensor([[ 1.5859, -0.2268]], grad_fn=<AddmmBackward0>)\n",
      "[[ 1.5858903  -0.22676873]]\n"
     ]
    }
   ],
   "source": [
    "test = nn.Linear(5,2)\n",
    "a = torch.randn(1,5)\n",
    "\n",
    "print(test(a))\n",
    "print(numpy.dot(a.numpy(), test.state_dict()['weight'].T.numpy()) + test.state_dict()['bias'].numpy())"
   ]
  },
  {
   "cell_type": "code",
   "execution_count": null,
   "id": "580d22a5-49ee-4608-be84-19ecc50b1ce9",
   "metadata": {},
   "outputs": [],
   "source": []
  }
 ],
 "metadata": {
  "kernelspec": {
   "display_name": "Python 3 (ipykernel)",
   "language": "python",
   "name": "python3"
  },
  "language_info": {
   "codemirror_mode": {
    "name": "ipython",
    "version": 3
   },
   "file_extension": ".py",
   "mimetype": "text/x-python",
   "name": "python",
   "nbconvert_exporter": "python",
   "pygments_lexer": "ipython3",
   "version": "3.12.7"
  }
 },
 "nbformat": 4,
 "nbformat_minor": 5
}
