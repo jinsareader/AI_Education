{
 "cells": [
  {
   "cell_type": "code",
   "execution_count": 1,
   "id": "ba8ef4c2-220f-4de9-9b8e-76dcd3f82d5c",
   "metadata": {},
   "outputs": [],
   "source": [
    "import numpy\n",
    "import torch\n",
    "import torch.nn as nn\n",
    "import re"
   ]
  },
  {
   "cell_type": "code",
   "execution_count": 2,
   "id": "dfcf73c8-9c9b-45cd-aca3-79861fe4c4a4",
   "metadata": {},
   "outputs": [],
   "source": [
    "def text_preprocess(text : str) :\n",
    "    text = re.sub(r\"[^0-9a-zA-Z]\",repl=\" \",string=text.lower().replace(\"n't\",\" not\"))\n",
    "    text = re.sub(r\"[0-9]+\",repl=\"N\",string=text)\n",
    "    text = re.sub(r\"\\s+\",repl=\" \",string=text)\n",
    "    return text\n",
    "\n",
    "def make_dict(sentences : list, word_dict : dict = None) :\n",
    "    data = \" \".join(sentences)\n",
    "    data = text_preprocess(data).split()\n",
    "    if word_dict is None :\n",
    "        word_dict = {}\n",
    "        word_dict[\"<pad>\"] = 0 #패딩\n",
    "        word_dict[\"<unk>\"] = 1 #없는 단어\n",
    "    for w in data :\n",
    "        if w not in word_dict :\n",
    "            word_dict[w] = len(word_dict)\n",
    "    number_dict = {i : w for w, i in word_dict.items()}\n",
    "    return word_dict, number_dict\n",
    "\n",
    "def word_num_encoding(sentences : list, word_dict : dict, unk : str = \"<unk>\") :\n",
    "    word_size = len(word_dict)\n",
    "    corpus = []\n",
    "    max_len = 0\n",
    "    for s in sentences :\n",
    "        s = text_preprocess(s).split()\n",
    "        max_len = max(max_len, len(s))\n",
    "    for s in sentences :\n",
    "        s_array = []\n",
    "        s = text_preprocess(s).split()\n",
    "        for i in range(max_len) :\n",
    "            if len(s) <= i :\n",
    "                s_array.append(0)\n",
    "                continue\n",
    "            try :\n",
    "                s_array.append(word_dict[s[i]])\n",
    "            except :\n",
    "                s_array.append(word_dict[unk])\n",
    "        corpus.append(s_array)\n",
    "    corpus = numpy.array(corpus)    \n",
    "    return corpus"
   ]
  },
  {
   "cell_type": "code",
   "execution_count": 3,
   "id": "d4836784-1869-4501-bd0e-b981e129a5a1",
   "metadata": {},
   "outputs": [
    {
     "name": "stdout",
     "output_type": "stream",
     "text": [
      "{'<pad>': 0, '<unk>': 1, 'i': 2, 'like': 3, 'dog': 4, 'love': 5, 'coffee': 6, 'hate': 7, 'milk': 8, 'you': 9, 'cat': 10}\n",
      "[[ 2  3  4]\n",
      " [ 2  5  6]\n",
      " [ 2  7  8]\n",
      " [ 9  3 10]\n",
      " [ 9  5  8]\n",
      " [ 9  7  6]]\n"
     ]
    }
   ],
   "source": [
    "sentences = [\"I like dog\", \"I love coffee\", \"I hate milk\", \"You like cat\", \"You love milk\", \"You hate coffee\"]\n",
    "word_dict, number_dict = make_dict(sentences)\n",
    "corpus = word_num_encoding(sentences, word_dict)\n",
    "\n",
    "print(word_dict)\n",
    "print(corpus)"
   ]
  },
  {
   "cell_type": "code",
   "execution_count": 4,
   "id": "6513b81e-b34d-4654-bf55-729996566df7",
   "metadata": {},
   "outputs": [
    {
     "name": "stdout",
     "output_type": "stream",
     "text": [
      "(6, 3, 11)\n",
      "[[[0. 0. 1. 0. 0. 0. 0. 0. 0. 0. 0.]\n",
      "  [0. 0. 0. 1. 0. 0. 0. 0. 0. 0. 0.]\n",
      "  [0. 0. 0. 0. 1. 0. 0. 0. 0. 0. 0.]]\n",
      "\n",
      " [[0. 0. 1. 0. 0. 0. 0. 0. 0. 0. 0.]\n",
      "  [0. 0. 0. 0. 0. 1. 0. 0. 0. 0. 0.]\n",
      "  [0. 0. 0. 0. 0. 0. 1. 0. 0. 0. 0.]]\n",
      "\n",
      " [[0. 0. 1. 0. 0. 0. 0. 0. 0. 0. 0.]\n",
      "  [0. 0. 0. 0. 0. 0. 0. 1. 0. 0. 0.]\n",
      "  [0. 0. 0. 0. 0. 0. 0. 0. 1. 0. 0.]]\n",
      "\n",
      " [[0. 0. 0. 0. 0. 0. 0. 0. 0. 1. 0.]\n",
      "  [0. 0. 0. 1. 0. 0. 0. 0. 0. 0. 0.]\n",
      "  [0. 0. 0. 0. 0. 0. 0. 0. 0. 0. 1.]]\n",
      "\n",
      " [[0. 0. 0. 0. 0. 0. 0. 0. 0. 1. 0.]\n",
      "  [0. 0. 0. 0. 0. 1. 0. 0. 0. 0. 0.]\n",
      "  [0. 0. 0. 0. 0. 0. 0. 0. 1. 0. 0.]]\n",
      "\n",
      " [[0. 0. 0. 0. 0. 0. 0. 0. 0. 1. 0.]\n",
      "  [0. 0. 0. 0. 0. 0. 0. 1. 0. 0. 0.]\n",
      "  [0. 0. 0. 0. 0. 0. 1. 0. 0. 0. 0.]]]\n"
     ]
    }
   ],
   "source": [
    "eye = numpy.eye(len(word_dict))\n",
    "\n",
    "s_array = []\n",
    "for s in corpus :\n",
    "    temp = []\n",
    "    for w in s :\n",
    "        temp.append(eye[w])\n",
    "    s_array.append(temp)\n",
    "\n",
    "s_array = numpy.array(s_array)\n",
    "print(s_array.shape)\n",
    "print(s_array)"
   ]
  },
  {
   "cell_type": "code",
   "execution_count": 6,
   "id": "b9913685-af8b-43c0-8852-aab25eb95751",
   "metadata": {},
   "outputs": [
    {
     "name": "stdout",
     "output_type": "stream",
     "text": [
      "epoch 10 | loss 5.908846378326416\n",
      "epoch 20 | loss 3.9566662311553955\n",
      "epoch 30 | loss 1.4268100261688232\n",
      "epoch 40 | loss 0.32074546813964844\n",
      "epoch 50 | loss 0.17494863271713257\n",
      "epoch 60 | loss 0.1207888051867485\n",
      "epoch 70 | loss 0.09246902167797089\n",
      "epoch 80 | loss 0.0750012919306755\n",
      "epoch 90 | loss 0.0631246417760849\n",
      "epoch 100 | loss 0.054511457681655884\n",
      "epoch 110 | loss 0.04797303304076195\n",
      "epoch 120 | loss 0.04283611476421356\n",
      "epoch 130 | loss 0.03869238495826721\n",
      "epoch 140 | loss 0.0352780781686306\n",
      "epoch 150 | loss 0.03241501376032829\n",
      "epoch 160 | loss 0.029979674145579338\n",
      "epoch 170 | loss 0.027882732450962067\n",
      "epoch 180 | loss 0.026058126240968704\n",
      "epoch 190 | loss 0.024455921724438667\n",
      "epoch 200 | loss 0.023038089275360107\n"
     ]
    }
   ],
   "source": [
    "class Network(torch.nn.Module):\n",
    "    def __init__(self):\n",
    "        super().__init__()\n",
    "        self.rnn = nn.RNN(11, 5, batch_first=True)\n",
    "        self.seq = nn.Sequential(\n",
    "            nn.Linear(5, 11),\n",
    "        )\n",
    "\n",
    "    def forward(self, x):\n",
    "        x, h = self.rnn(x)\n",
    "        x = self.seq(x[:, -1, :])\n",
    "        return x\n",
    "\n",
    "F = Network()\n",
    "loss_function = nn.CrossEntropyLoss()\n",
    "optimizer = torch.optim.SGD(F.parameters(), lr=0.3)\n",
    "\n",
    "\n",
    "x = torch.tensor(s_array[:, :2, :], dtype=torch.float)\n",
    "t = torch.tensor(s_array[:, 2, :], dtype=torch.long)\n",
    "\n",
    "epoch = 200\n",
    "for e in range(epoch):\n",
    "    loss_sum = 0\n",
    "    for b in range(x.shape[0]):\n",
    "        y = F(x[b:b+1])\n",
    "\n",
    "        loss = loss_function(y, t[b:b+1].argmax(dim=1))\n",
    "        loss_sum += loss\n",
    "\n",
    "        optimizer.zero_grad()\n",
    "        loss.backward()\n",
    "        optimizer.step()\n",
    "\n",
    "    if (e + 1) % 10 == 0:\n",
    "        print(\"epoch {} | loss {}\".format(e + 1, loss_sum))\n"
   ]
  },
  {
   "cell_type": "code",
   "execution_count": 7,
   "id": "149a3768-18ab-4141-9aff-8ae65de78aa5",
   "metadata": {},
   "outputs": [
    {
     "name": "stdout",
     "output_type": "stream",
     "text": [
      "dog\n",
      "coffee\n",
      "milk\n",
      "cat\n",
      "milk\n",
      "coffee\n"
     ]
    }
   ],
   "source": [
    "#sentences = [\"I like dog\", \"I love coffee\", \"I hate milk\", \"You like cat\", \"You love milk\", \"You hate coffee\"]\n",
    "\n",
    "result = F(x)\n",
    "result_arg = torch.argmax(result, dim = 1)\n",
    "for i in result_arg :\n",
    "    print(number_dict[i.item()])\n"
   ]
  },
  {
   "cell_type": "code",
   "execution_count": 8,
   "id": "c131fe8a-bd8e-4a17-a1a4-11158aa94d1a",
   "metadata": {},
   "outputs": [],
   "source": [
    "import pickle\n",
    "\n",
    "with open(\"test.pickle\", mode = \"wb\") as f :\n",
    "    pickle.dump(word_dict, f)"
   ]
  },
  {
   "cell_type": "code",
   "execution_count": 9,
   "id": "6405328f-2658-4689-9127-55cdb895c787",
   "metadata": {},
   "outputs": [
    {
     "name": "stdout",
     "output_type": "stream",
     "text": [
      "{'<pad>': 0, '<unk>': 1, 'i': 2, 'like': 3, 'dog': 4, 'love': 5, 'coffee': 6, 'hate': 7, 'milk': 8, 'you': 9, 'cat': 10}\n"
     ]
    }
   ],
   "source": [
    "with open(\"test.pickle\", mode = \"rb\") as f :\n",
    "    A = pickle.load(f)\n",
    "\n",
    "print(A)"
   ]
  },
  {
   "cell_type": "code",
   "execution_count": null,
   "id": "62550a0d-3b55-4df6-a9c0-f5b0f0f83084",
   "metadata": {},
   "outputs": [],
   "source": []
  }
 ],
 "metadata": {
  "kernelspec": {
   "display_name": "Python 3 (ipykernel)",
   "language": "python",
   "name": "python3"
  },
  "language_info": {
   "codemirror_mode": {
    "name": "ipython",
    "version": 3
   },
   "file_extension": ".py",
   "mimetype": "text/x-python",
   "name": "python",
   "nbconvert_exporter": "python",
   "pygments_lexer": "ipython3",
   "version": "3.12.7"
  }
 },
 "nbformat": 4,
 "nbformat_minor": 5
}
