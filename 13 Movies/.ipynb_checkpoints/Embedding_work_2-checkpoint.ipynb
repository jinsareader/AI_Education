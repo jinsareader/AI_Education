{
 "cells": [
  {
   "cell_type": "code",
   "execution_count": 32,
   "id": "ca594f33-ba19-4cbb-aee1-603b1bf5d71e",
   "metadata": {},
   "outputs": [],
   "source": [
    "import pickle\n",
    "import torch\n",
    "import torch.nn as nn\n",
    "import numpy"
   ]
  },
  {
   "cell_type": "code",
   "execution_count": 2,
   "id": "56280ced-1c76-4d51-afd4-ad174b001d2d",
   "metadata": {},
   "outputs": [],
   "source": [
    "with open(\"data/vector.pkl\", mode = \"rb\") as f :\n",
    "    vec = pickle.load(f)"
   ]
  },
  {
   "cell_type": "code",
   "execution_count": 17,
   "id": "b54a8daf-f44b-4ffd-bb90-b9525fba2f60",
   "metadata": {},
   "outputs": [],
   "source": [
    "device = \"cuda\" if torch.cuda.is_available() else \"cpu\"\n",
    "\n",
    "list_vec = list(vec.values())\n",
    "\n",
    "tensor_vec = torch.tensor(list_vec, dtype = torch.float, device = device)"
   ]
  },
  {
   "cell_type": "code",
   "execution_count": 35,
   "id": "3e2c5ac1-de7f-4248-9841-c310bb624f1f",
   "metadata": {},
   "outputs": [
    {
     "name": "stdout",
     "output_type": "stream",
     "text": [
      "torch.Size([123281, 300])\n",
      "torch.Size([123282, 300])\n",
      "Parameter containing:\n",
      "tensor([[ 0.0000,  0.0000,  0.0000,  ...,  0.0000,  0.0000,  0.0000],\n",
      "        [ 0.0000,  0.0000,  0.0000,  ...,  0.0000,  0.0000,  0.0000],\n",
      "        [ 0.2083, -0.0757,  0.0268,  ..., -0.0862,  0.1980,  0.0193],\n",
      "        ...,\n",
      "        [-0.4538,  0.4766,  0.3102,  ...,  0.1085,  0.1138,  0.1072],\n",
      "        [-0.3087, -0.0506,  0.1245,  ..., -0.5492, -0.2133,  0.4886],\n",
      "        [ 0.0301,  0.0069,  0.1654,  ...,  0.0704,  0.0524,  0.1360]],\n",
      "       requires_grad=True)\n"
     ]
    }
   ],
   "source": [
    "embedding = nn.Embedding(1, 1, padding_idx=0, device = device)\n",
    "\n",
    "new_word_vec = torch.randn(size = (1,300), device = device) / numpy.sqrt(300)\n",
    "new_tensor_vec = torch.cat((tensor_vec, new_word_vec), dim = 0)\n",
    "print(tensor_vec.shape)\n",
    "print(new_tensor_vec.shape)\n",
    "\n",
    "embedding.weight.data = new_tensor_vec\n",
    "print(embedding.weight)"
   ]
  },
  {
   "cell_type": "code",
   "execution_count": null,
   "id": "b178c3d1-2114-4d88-936f-0321757b201c",
   "metadata": {},
   "outputs": [],
   "source": []
  }
 ],
 "metadata": {
  "kernelspec": {
   "display_name": "Python 3 (ipykernel)",
   "language": "python",
   "name": "python3"
  },
  "language_info": {
   "codemirror_mode": {
    "name": "ipython",
    "version": 3
   },
   "file_extension": ".py",
   "mimetype": "text/x-python",
   "name": "python",
   "nbconvert_exporter": "python",
   "pygments_lexer": "ipython3",
   "version": "3.12.7"
  }
 },
 "nbformat": 4,
 "nbformat_minor": 5
}
