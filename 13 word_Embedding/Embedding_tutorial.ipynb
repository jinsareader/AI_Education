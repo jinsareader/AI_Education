{
 "cells": [
  {
   "cell_type": "code",
   "execution_count": 1,
   "id": "20ebd2c6-777e-441f-b47f-cf497f93ec6f",
   "metadata": {},
   "outputs": [],
   "source": [
    "import numpy\n",
    "import re\n",
    "from tqdm import tqdm"
   ]
  },
  {
   "cell_type": "code",
   "execution_count": 2,
   "id": "4a87f663-fe02-4b68-8958-fac9ca3ae8f0",
   "metadata": {},
   "outputs": [],
   "source": [
    "def text_preprocess(text : str) :\n",
    "    text = re.sub(r\"[^0-9a-zA-Z]\",repl=\" \",string=text.lower().replace(\"n't\",\" not\"))\n",
    "    text = re.sub(r\"[0-9]+\",repl=\"N\",string=text)\n",
    "    text = re.sub(r\"\\s+\",repl=\" \",string=text)\n",
    "    return text\n",
    "\n",
    "def make_dict(sentences : list, word_dict : dict = None) :\n",
    "    data = \" \".join(sentences)\n",
    "    data = text_preprocess(data).split()\n",
    "    if word_dict is None :\n",
    "        word_dict = {}\n",
    "        word_dict[\"<pad>\"] = 0 #패딩\n",
    "        word_dict[\"<unk>\"] = 1 #없는 단어\n",
    "    for w in data :\n",
    "        if w not in word_dict :\n",
    "            word_dict[w] = len(word_dict)\n",
    "    number_dict = {i : w for w, i in word_dict.items()}\n",
    "    return word_dict, number_dict\n",
    "\n",
    "def word_num_encoding(sentences : list, word_dict : dict, unk : str = \"<unk>\") :\n",
    "    word_size = len(word_dict)\n",
    "    corpus = []\n",
    "    max_len = 0\n",
    "    for s in sentences :\n",
    "        s = text_preprocess(s).split()\n",
    "        max_len = max(max_len, len(s))\n",
    "    for s in sentences :\n",
    "        s_array = []\n",
    "        s = text_preprocess(s).split()\n",
    "        for i in range(max_len) :\n",
    "            if len(s) <= i :\n",
    "                s_array.append(0)\n",
    "                continue\n",
    "            try :\n",
    "                s_array.append(word_dict[s[i]])\n",
    "            except :\n",
    "                s_array.append(word_dict[unk])\n",
    "        corpus.append(s_array)\n",
    "    corpus = numpy.array(corpus)    \n",
    "    return corpus\n",
    "\n",
    "def make_comatrix(corpus, word_size, window_size = 1) :\n",
    "    comatrix = numpy.zeros(shape = (word_size, word_size))\n",
    "    for s in corpus :\n",
    "        for w in range(len(s)) :\n",
    "            if s[w] == 0 :\n",
    "                continue\n",
    "            for i in range(1,window_size+1) :\n",
    "                if w-i >= 0 :\n",
    "                    if s[w-i] == 0  :\n",
    "                        continue\n",
    "                    comatrix[s[w], s[w-i]] += 1\n",
    "                if w+i < len(s) :\n",
    "                    if s[w+i] == 0  :\n",
    "                        continue\n",
    "                    comatrix[s[w], s[w+i]] += 1\n",
    "    return comatrix\n",
    "\n",
    "def cos_similarity(x, y) :\n",
    "    eps = 1e-15\n",
    "    return numpy.dot(x,y) / (numpy.linalg.norm(x)*numpy.linalg.norm(y) + eps)\n",
    "\n",
    "def euc_distance(x, y) :\n",
    "    return numpy.sqrt(numpy.sum((x - y) ** 2))\n",
    "\n",
    "def most_similiar(query, word_dict, number_dict, vector_array, top = 5, mode : str = \"euc\") :\n",
    "    if query not in word_dict :\n",
    "        print(\"{}(이)가 사전에 존재하지 않습니다.\".format(query))\n",
    "        return\n",
    "\n",
    "    word_size = len(word_dict)\n",
    "    similiar = numpy.zeros(shape = (word_size))\n",
    "    if mode.lower() == \"euc\" :\n",
    "        for i in range(word_size) :\n",
    "            similiar[i] = euc_distance(vector_array[word_dict[query]], vector_array[i])\n",
    "    elif mode.lower() == \"cos\" :\n",
    "        for i in range(word_size) :\n",
    "            similiar[i] = cos_similarity(vector_array[word_dict[query]], vector_array[i])\n",
    "    else :\n",
    "        print(\"{}는 잘못된 모드입니다. 모드 종류 : 'euc', 'cos'\".format(mode))\n",
    "        return\n",
    "    \n",
    "    print(\"검색어 ||\",query)\n",
    "    cnt = 0\n",
    "    if mode.lower() == \"euc\" :\n",
    "        argsort = similiar.argsort()\n",
    "    elif mode.lower() == \"cos\" :\n",
    "        argsort = (-1 * similiar).argsort()\n",
    "    for i in argsort :\n",
    "        if number_dict[i] == query :\n",
    "            continue\n",
    "        print(\"{} : {}\".format(number_dict[i], similiar[i]))\n",
    "        cnt += 1\n",
    "        if cnt >= top :\n",
    "            break\n",
    "    print(\"\")\n",
    "\n",
    "def make_pmi(comatrix, verdose = False) :\n",
    "    P = numpy.zeros_like(comatrix)\n",
    "    N = numpy.sum(comatrix)\n",
    "    S = numpy.sum(comatrix, axis = 0)\n",
    "    eps = 1e-15\n",
    "    \n",
    "    if verdose :\n",
    "        li = tqdm(range(P.shape[0]))\n",
    "    else :\n",
    "        li = range(P.shape[0])\n",
    "        \n",
    "    for i in li :\n",
    "        for j in range(P.shape[1]) :\n",
    "            pmi = numpy.log2(comatrix[i, j] * N / (S[i]*S[j] + eps) + eps)\n",
    "            P[i,j] = max(0, pmi)\n",
    "    return P   "
   ]
  },
  {
   "cell_type": "code",
   "execution_count": 3,
   "id": "fb75e212-c358-4e82-8e50-c4195569f3fe",
   "metadata": {},
   "outputs": [
    {
     "name": "stdout",
     "output_type": "stream",
     "text": [
      "{'<pad>': 0, '<unk>': 1, 'he': 2, 'is': 3, 'a': 4, 'king': 5, 'she': 6, 'queen': 7, 'man': 8, 'woman': 9, 'warsaw': 10, 'poland': 11, 'capital': 12, 'berlin': 13, 'germany': 14, 'paris': 15, 'france': 16, 'seoul': 17, 'korea': 18, 'bejing': 19, 'china': 20, 'tokyo': 21, 'japan': 22}\n",
      "{0: '<pad>', 1: '<unk>', 2: 'he', 3: 'is', 4: 'a', 5: 'king', 6: 'she', 7: 'queen', 8: 'man', 9: 'woman', 10: 'warsaw', 11: 'poland', 12: 'capital', 13: 'berlin', 14: 'germany', 15: 'paris', 16: 'france', 17: 'seoul', 18: 'korea', 19: 'bejing', 20: 'china', 21: 'tokyo', 22: 'japan'}\n",
      "[[ 2  3  4  5]\n",
      " [ 6  3  4  7]\n",
      " [ 2  3  4  8]\n",
      " [ 6  3  4  9]\n",
      " [10  3 11 12]\n",
      " [13  3 14 12]\n",
      " [15  3 16 12]\n",
      " [17  3 18 12]\n",
      " [19  3 20 12]\n",
      " [21  3 22 12]]\n"
     ]
    }
   ],
   "source": [
    "sentence = [\"100 say goodbye and I say hello.\", \"I and You.\"]\n",
    "sentences = [\n",
    "    'He is a king.',\n",
    "    'She is a queen.',\n",
    "    'He is a man.',\n",
    "    'She is a woman.',\n",
    "    'Warsaw is Poland capital.',\n",
    "    'Berlin is Germany capital.',\n",
    "    'Paris is France capital.',\n",
    "    'Seoul is Korea capital.', \n",
    "    'Bejing is China capital.',\n",
    "    'Tokyo is Japan capital.',\n",
    "]\n",
    "\n",
    "word_dict, number_dict = make_dict(sentences)\n",
    "corpus = word_num_encoding(sentences, word_dict)\n",
    "\n",
    "print(word_dict)\n",
    "print(number_dict)\n",
    "print(corpus)\n"
   ]
  },
  {
   "cell_type": "code",
   "execution_count": 4,
   "id": "a0d0784b-bba3-4c2b-b1a8-04c88d71951d",
   "metadata": {},
   "outputs": [
    {
     "name": "stdout",
     "output_type": "stream",
     "text": [
      "[[0. 0. 0. 0. 0. 0. 0. 0. 0. 0. 0. 0. 0. 0. 0. 0. 0. 0. 0. 0. 0. 0. 0.]\n",
      " [0. 0. 0. 0. 0. 0. 0. 0. 0. 0. 0. 0. 0. 0. 0. 0. 0. 0. 0. 0. 0. 0. 0.]\n",
      " [0. 0. 0. 2. 2. 0. 0. 0. 0. 0. 0. 0. 0. 0. 0. 0. 0. 0. 0. 0. 0. 0. 0.]\n",
      " [0. 0. 2. 0. 4. 1. 2. 1. 1. 1. 1. 1. 6. 1. 1. 1. 1. 1. 1. 1. 1. 1. 1.]\n",
      " [0. 0. 2. 4. 0. 1. 2. 1. 1. 1. 0. 0. 0. 0. 0. 0. 0. 0. 0. 0. 0. 0. 0.]\n",
      " [0. 0. 0. 1. 1. 0. 0. 0. 0. 0. 0. 0. 0. 0. 0. 0. 0. 0. 0. 0. 0. 0. 0.]\n",
      " [0. 0. 0. 2. 2. 0. 0. 0. 0. 0. 0. 0. 0. 0. 0. 0. 0. 0. 0. 0. 0. 0. 0.]\n",
      " [0. 0. 0. 1. 1. 0. 0. 0. 0. 0. 0. 0. 0. 0. 0. 0. 0. 0. 0. 0. 0. 0. 0.]\n",
      " [0. 0. 0. 1. 1. 0. 0. 0. 0. 0. 0. 0. 0. 0. 0. 0. 0. 0. 0. 0. 0. 0. 0.]\n",
      " [0. 0. 0. 1. 1. 0. 0. 0. 0. 0. 0. 0. 0. 0. 0. 0. 0. 0. 0. 0. 0. 0. 0.]\n",
      " [0. 0. 0. 1. 0. 0. 0. 0. 0. 0. 0. 1. 0. 0. 0. 0. 0. 0. 0. 0. 0. 0. 0.]\n",
      " [0. 0. 0. 1. 0. 0. 0. 0. 0. 0. 1. 0. 1. 0. 0. 0. 0. 0. 0. 0. 0. 0. 0.]\n",
      " [0. 0. 0. 6. 0. 0. 0. 0. 0. 0. 0. 1. 0. 0. 1. 0. 1. 0. 1. 0. 1. 0. 1.]\n",
      " [0. 0. 0. 1. 0. 0. 0. 0. 0. 0. 0. 0. 0. 0. 1. 0. 0. 0. 0. 0. 0. 0. 0.]\n",
      " [0. 0. 0. 1. 0. 0. 0. 0. 0. 0. 0. 0. 1. 1. 0. 0. 0. 0. 0. 0. 0. 0. 0.]\n",
      " [0. 0. 0. 1. 0. 0. 0. 0. 0. 0. 0. 0. 0. 0. 0. 0. 1. 0. 0. 0. 0. 0. 0.]\n",
      " [0. 0. 0. 1. 0. 0. 0. 0. 0. 0. 0. 0. 1. 0. 0. 1. 0. 0. 0. 0. 0. 0. 0.]\n",
      " [0. 0. 0. 1. 0. 0. 0. 0. 0. 0. 0. 0. 0. 0. 0. 0. 0. 0. 1. 0. 0. 0. 0.]\n",
      " [0. 0. 0. 1. 0. 0. 0. 0. 0. 0. 0. 0. 1. 0. 0. 0. 0. 1. 0. 0. 0. 0. 0.]\n",
      " [0. 0. 0. 1. 0. 0. 0. 0. 0. 0. 0. 0. 0. 0. 0. 0. 0. 0. 0. 0. 1. 0. 0.]\n",
      " [0. 0. 0. 1. 0. 0. 0. 0. 0. 0. 0. 0. 1. 0. 0. 0. 0. 0. 0. 1. 0. 0. 0.]\n",
      " [0. 0. 0. 1. 0. 0. 0. 0. 0. 0. 0. 0. 0. 0. 0. 0. 0. 0. 0. 0. 0. 0. 1.]\n",
      " [0. 0. 0. 1. 0. 0. 0. 0. 0. 0. 0. 0. 1. 0. 0. 0. 0. 0. 0. 0. 0. 1. 0.]]\n"
     ]
    }
   ],
   "source": [
    "comatrix = make_comatrix(corpus, len(word_dict), 2)\n",
    "print(comatrix)\n"
   ]
  },
  {
   "cell_type": "code",
   "execution_count": 5,
   "id": "8f6614eb-e2f8-4205-9393-4efd71502332",
   "metadata": {},
   "outputs": [
    {
     "name": "stdout",
     "output_type": "stream",
     "text": [
      "0.9999999999999996\n"
     ]
    }
   ],
   "source": [
    "#좌표간 유사도 비교법 : 코사인 유사도\n",
    "similarity = cos_similarity(comatrix[word_dict[\"he\"]],comatrix[word_dict[\"she\"]])\n",
    "print(similarity)"
   ]
  },
  {
   "cell_type": "code",
   "execution_count": 6,
   "id": "51445823-1285-4b02-bd75-d40dc04d7b6b",
   "metadata": {},
   "outputs": [
    {
     "name": "stdout",
     "output_type": "stream",
     "text": [
      "0.0\n"
     ]
    }
   ],
   "source": [
    "#좌표간 유사도 비교법 : 유클리디언 거리\n",
    "similarity = euc_distance(comatrix[word_dict[\"he\"]],comatrix[word_dict[\"she\"]])\n",
    "print(similarity)"
   ]
  },
  {
   "cell_type": "code",
   "execution_count": 7,
   "id": "22402976-1062-4b71-97b0-30f8127e2ac4",
   "metadata": {},
   "outputs": [
    {
     "name": "stdout",
     "output_type": "stream",
     "text": [
      "검색어 || king\n",
      "queen : 0.0\n",
      "man : 0.0\n",
      "woman : 0.0\n",
      "<pad> : 1.4142135623730951\n",
      "<unk> : 1.4142135623730951\n",
      "\n"
     ]
    }
   ],
   "source": [
    "most_similiar(\"king\",word_dict, number_dict, comatrix,5, \"euc\")"
   ]
  },
  {
   "cell_type": "code",
   "execution_count": 8,
   "id": "a527b2b2-b259-4744-97fd-ea135ece784b",
   "metadata": {},
   "outputs": [
    {
     "name": "stdout",
     "output_type": "stream",
     "text": [
      "검색어 || king\n",
      "he : 0.9999999999999996\n",
      "she : 0.9999999999999996\n",
      "man : 0.9999999999999993\n",
      "queen : 0.9999999999999993\n",
      "woman : 0.9999999999999993\n",
      "\n"
     ]
    }
   ],
   "source": [
    "most_similiar(\"king\",word_dict, number_dict, comatrix,5, \"cos\")"
   ]
  },
  {
   "cell_type": "code",
   "execution_count": 9,
   "id": "da85609a-2635-4c11-b5e4-b502aeecb019",
   "metadata": {},
   "outputs": [
    {
     "name": "stdout",
     "output_type": "stream",
     "text": [
      "[[0.         0.         0.         0.         0.         0.\n",
      "  0.         0.         0.         0.         0.         0.\n",
      "  0.         0.         0.         0.         0.         0.\n",
      "  0.         0.         0.         0.         0.        ]\n",
      " [0.         0.         0.         0.         0.         0.\n",
      "  0.         0.         0.         0.         0.         0.\n",
      "  0.         0.         0.         0.         0.         0.\n",
      "  0.         0.         0.         0.         0.        ]\n",
      " [0.         0.         0.         0.73696559 2.05889369 0.\n",
      "  0.         0.         0.         0.         0.         0.\n",
      "  0.         0.         0.         0.         0.         0.\n",
      "  0.         0.         0.         0.         0.        ]\n",
      " [0.         0.         0.73696559 0.         0.15200309 0.73696559\n",
      "  0.73696559 0.73696559 0.73696559 0.73696559 0.73696559 0.15200309\n",
      "  0.73696559 0.73696559 0.15200309 0.73696559 0.15200309 0.73696559\n",
      "  0.15200309 0.73696559 0.15200309 0.73696559 0.15200309]\n",
      " [0.         0.         2.05889369 0.15200309 0.         2.05889369\n",
      "  2.05889369 2.05889369 2.05889369 2.05889369 0.         0.\n",
      "  0.         0.         0.         0.         0.         0.\n",
      "  0.         0.         0.         0.         0.        ]\n",
      " [0.         0.         0.         0.73696559 2.05889369 0.\n",
      "  0.         0.         0.         0.         0.         0.\n",
      "  0.         0.         0.         0.         0.         0.\n",
      "  0.         0.         0.         0.         0.        ]\n",
      " [0.         0.         0.         0.73696559 2.05889369 0.\n",
      "  0.         0.         0.         0.         0.         0.\n",
      "  0.         0.         0.         0.         0.         0.\n",
      "  0.         0.         0.         0.         0.        ]\n",
      " [0.         0.         0.         0.73696559 2.05889369 0.\n",
      "  0.         0.         0.         0.         0.         0.\n",
      "  0.         0.         0.         0.         0.         0.\n",
      "  0.         0.         0.         0.         0.        ]\n",
      " [0.         0.         0.         0.73696559 2.05889369 0.\n",
      "  0.         0.         0.         0.         0.         0.\n",
      "  0.         0.         0.         0.         0.         0.\n",
      "  0.         0.         0.         0.         0.        ]\n",
      " [0.         0.         0.         0.73696559 2.05889369 0.\n",
      "  0.         0.         0.         0.         0.         0.\n",
      "  0.         0.         0.         0.         0.         0.\n",
      "  0.         0.         0.         0.         0.        ]\n",
      " [0.         0.         0.         0.73696559 0.         0.\n",
      "  0.         0.         0.         0.         0.         4.05889369\n",
      "  0.         0.         0.         0.         0.         0.\n",
      "  0.         0.         0.         0.         0.        ]\n",
      " [0.         0.         0.         0.15200309 0.         0.\n",
      "  0.         0.         0.         0.         4.05889369 0.\n",
      "  1.47393119 0.         0.         0.         0.         0.\n",
      "  0.         0.         0.         0.         0.        ]\n",
      " [0.         0.         0.         0.73696559 0.         0.\n",
      "  0.         0.         0.         0.         0.         1.47393119\n",
      "  0.         0.         1.47393119 0.         1.47393119 0.\n",
      "  1.47393119 0.         1.47393119 0.         1.47393119]\n",
      " [0.         0.         0.         0.73696559 0.         0.\n",
      "  0.         0.         0.         0.         0.         0.\n",
      "  0.         0.         4.05889369 0.         0.         0.\n",
      "  0.         0.         0.         0.         0.        ]\n",
      " [0.         0.         0.         0.15200309 0.         0.\n",
      "  0.         0.         0.         0.         0.         0.\n",
      "  1.47393119 4.05889369 0.         0.         0.         0.\n",
      "  0.         0.         0.         0.         0.        ]\n",
      " [0.         0.         0.         0.73696559 0.         0.\n",
      "  0.         0.         0.         0.         0.         0.\n",
      "  0.         0.         0.         0.         4.05889369 0.\n",
      "  0.         0.         0.         0.         0.        ]\n",
      " [0.         0.         0.         0.15200309 0.         0.\n",
      "  0.         0.         0.         0.         0.         0.\n",
      "  1.47393119 0.         0.         4.05889369 0.         0.\n",
      "  0.         0.         0.         0.         0.        ]\n",
      " [0.         0.         0.         0.73696559 0.         0.\n",
      "  0.         0.         0.         0.         0.         0.\n",
      "  0.         0.         0.         0.         0.         0.\n",
      "  4.05889369 0.         0.         0.         0.        ]\n",
      " [0.         0.         0.         0.15200309 0.         0.\n",
      "  0.         0.         0.         0.         0.         0.\n",
      "  1.47393119 0.         0.         0.         0.         4.05889369\n",
      "  0.         0.         0.         0.         0.        ]\n",
      " [0.         0.         0.         0.73696559 0.         0.\n",
      "  0.         0.         0.         0.         0.         0.\n",
      "  0.         0.         0.         0.         0.         0.\n",
      "  0.         0.         4.05889369 0.         0.        ]\n",
      " [0.         0.         0.         0.15200309 0.         0.\n",
      "  0.         0.         0.         0.         0.         0.\n",
      "  1.47393119 0.         0.         0.         0.         0.\n",
      "  0.         4.05889369 0.         0.         0.        ]\n",
      " [0.         0.         0.         0.73696559 0.         0.\n",
      "  0.         0.         0.         0.         0.         0.\n",
      "  0.         0.         0.         0.         0.         0.\n",
      "  0.         0.         0.         0.         4.05889369]\n",
      " [0.         0.         0.         0.15200309 0.         0.\n",
      "  0.         0.         0.         0.         0.         0.\n",
      "  1.47393119 0.         0.         0.         0.         0.\n",
      "  0.         0.         0.         4.05889369 0.        ]]\n"
     ]
    }
   ],
   "source": [
    "pmi = make_pmi(comatrix) \n",
    "print(pmi)"
   ]
  },
  {
   "cell_type": "code",
   "execution_count": 10,
   "id": "48cd01e9-bfbf-4f40-9d0a-10ff6b4680ea",
   "metadata": {},
   "outputs": [
    {
     "name": "stdout",
     "output_type": "stream",
     "text": [
      "[-0.14045692  0.13585612]\n"
     ]
    }
   ],
   "source": [
    "U, S, V = numpy.linalg.svd(pmi)\n",
    "print(U[2,:2])"
   ]
  },
  {
   "cell_type": "code",
   "execution_count": 11,
   "id": "bdc6e07e-a829-4bab-a98e-a72173c88258",
   "metadata": {},
   "outputs": [
    {
     "data": {
      "image/png": "[encoded data removed]",
      "text/plain": [
       "<Figure size 640x480 with 1 Axes>"
      ]
     },
     "metadata": {},
     "output_type": "display_data"
    }
   ],
   "source": [
    "import matplotlib.pyplot as plt\n",
    "\n",
    "flg, ax = plt.subplots()\n",
    "for w, i in word_dict.items() :\n",
    "    #ax.annotate(w, (U[i,0], U[i,1], U[i,2]))\n",
    "    ax.text(U[i,0], U[i,1], \"%s\" %(w))\n",
    "ax.scatter(U[:,0], U[:,1], alpha = 0.5)\n",
    "plt.show()"
   ]
  },
  {
   "cell_type": "code",
   "execution_count": null,
   "id": "2b9239cf-6f1c-41b3-a4eb-d7e2243a243d",
   "metadata": {},
   "outputs": [],
   "source": []
  }
 ],
 "metadata": {
  "kernelspec": {
   "display_name": "Python 3 (ipykernel)",
   "language": "python",
   "name": "python3"
  },
  "language_info": {
   "codemirror_mode": {
    "name": "ipython",
    "version": 3
   },
   "file_extension": ".py",
   "mimetype": "text/x-python",
   "name": "python",
   "nbconvert_exporter": "python",
   "pygments_lexer": "ipython3",
   "version": "3.12.7"
  }
 },
 "nbformat": 4,
 "nbformat_minor": 5
}
