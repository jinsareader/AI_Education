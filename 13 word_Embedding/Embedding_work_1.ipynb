{
 "cells": [
  {
   "cell_type": "code",
   "execution_count": 1,
   "id": "c50ca9e3-16be-4579-b759-8c01a3f8fc4b",
   "metadata": {},
   "outputs": [],
   "source": [
    "import os\n",
    "import sys\n",
    "sys.path.append(os.path.join(os.path.dirname(\"\"),\"..\"))\n",
    "\n",
    "import custom\n",
    "import numpy\n",
    "import sklearn\n",
    "import pickle"
   ]
  },
  {
   "cell_type": "code",
   "execution_count": 2,
   "id": "4e3e0d92-7693-4435-a831-6fd30007d530",
   "metadata": {},
   "outputs": [
    {
     "name": "stdout",
     "output_type": "stream",
     "text": [
      "9616\n"
     ]
    }
   ],
   "source": [
    "\n",
    "\n",
    "with open(\"ptb.train.txt\") as f:\n",
    "    text = f.readlines()\n",
    "word_dict, number_dict = custom.make_dict(text)\n",
    "print(len(word_dict))\n"
   ]
  },
  {
   "cell_type": "code",
   "execution_count": 3,
   "id": "e5c3ee98-f5f6-4964-9a15-d96329b1e384",
   "metadata": {},
   "outputs": [
    {
     "name": "stdout",
     "output_type": "stream",
     "text": [
      "[[   2    3    4 ...    0    0    0]\n",
      " [  28   29   30 ...    0    0    0]\n",
      " [  42   29   43 ...    0    0    0]\n",
      " ...\n",
      " [4322 4919   38 ...    0    0    0]\n",
      " [  81  831   33 ...    0    0    0]\n",
      " [ 112 3581 3582 ...    0    0    0]]\n",
      "(42068, 98)\n"
     ]
    }
   ],
   "source": [
    "corpus = custom.word_num_encoding(text, word_dict)\n",
    "print(corpus)\n",
    "print(corpus.shape)"
   ]
  },
  {
   "cell_type": "code",
   "execution_count": 4,
   "id": "2fd0f0d2-fbe9-445d-972b-05bd4ea33914",
   "metadata": {},
   "outputs": [
    {
     "name": "stdout",
     "output_type": "stream",
     "text": [
      "[[0. 0. 0. ... 0. 0. 0.]\n",
      " [0. 0. 0. ... 0. 0. 0.]\n",
      " [0. 0. 0. ... 0. 0. 0.]\n",
      " ...\n",
      " [0. 0. 0. ... 0. 0. 0.]\n",
      " [0. 0. 0. ... 0. 0. 0.]\n",
      " [0. 0. 0. ... 0. 0. 0.]]\n",
      "(9616, 9616)\n"
     ]
    }
   ],
   "source": [
    "comatrix = custom.make_comatrix(corpus, len(word_dict), 2)\n",
    "print(comatrix)\n",
    "print(comatrix.shape)"
   ]
  },
  {
   "cell_type": "code",
   "execution_count": 5,
   "id": "4ef622d7-b14e-429e-b51d-5075563f6765",
   "metadata": {},
   "outputs": [
    {
     "name": "stderr",
     "output_type": "stream",
     "text": [
      "100%|██████████████████████████████████████████████████████████████████████████████| 9616/9616 [08:27<00:00, 18.93it/s]\n"
     ]
    }
   ],
   "source": [
    "pmi = custom.make_pmi(comatrix, True)"
   ]
  },
  {
   "cell_type": "code",
   "execution_count": 6,
   "id": "32b8d185-cd5f-4bb1-b8ec-a932c93aa661",
   "metadata": {},
   "outputs": [],
   "source": [
    "U, S, V = sklearn.utils.extmath.randomized_svd(pmi, n_components=100)\n",
    "#U, S, V = numpy.linalg.svd(pmi)"
   ]
  },
  {
   "cell_type": "code",
   "execution_count": 7,
   "id": "75a273ea-2173-44f1-ad28-585585bc61bd",
   "metadata": {},
   "outputs": [
    {
     "name": "stdout",
     "output_type": "stream",
     "text": [
      "검색어 || you\n",
      "i : 0.27373470050470505\n",
      "we : 0.2578335898033156\n",
      "do : 0.2364842196040093\n",
      "they : 0.20343959828188576\n",
      "if : 0.20331121651452483\n",
      "\n",
      "검색어 || year\n",
      "quarter : 0.2042200682823605\n",
      "next : 0.19196756795265085\n",
      "last : 0.19109999414394496\n",
      "this : 0.18053831440167492\n",
      "n : 0.17889125052038926\n",
      "\n",
      "검색어 || car\n",
      "auto : 0.17119188991341888\n",
      "cars : 0.15146422414076693\n",
      "luxury : 0.14743425777867786\n",
      "rental : 0.12003927983498876\n",
      "competitiveness : 0.10872564434645017\n",
      "\n",
      "검색어 || toyota\n",
      "lexus : 0.21690791593926534\n",
      "honda : 0.18858393587527877\n",
      "motor : 0.17973048808496025\n",
      "stanza : 0.17501195066852984\n",
      "photo : 0.16225440148603826\n",
      "\n"
     ]
    }
   ],
   "source": [
    "word_vecs = U[:,:100]\n",
    "querys = [\"you\", \"year\", \"car\", \"toyota\"]\n",
    "for q in querys :\n",
    "    custom.most_similiar(q, word_dict, number_dict, pmi, top = 5)"
   ]
  },
  {
   "cell_type": "code",
   "execution_count": 8,
   "id": "ba1407d2-3341-4879-9ad1-b420863a097d",
   "metadata": {},
   "outputs": [],
   "source": [
    "with open(\"LSA_vector.pkl\", mode = \"wb\") as f:\n",
    "    pickle.dump(word_vecs, f)"
   ]
  },
  {
   "cell_type": "code",
   "execution_count": null,
   "id": "344e0b0e-8796-4dc3-87e7-bb3e0d0f7b50",
   "metadata": {},
   "outputs": [],
   "source": []
  }
 ],
 "metadata": {
  "kernelspec": {
   "display_name": "Python 3 (ipykernel)",
   "language": "python",
   "name": "python3"
  },
  "language_info": {
   "codemirror_mode": {
    "name": "ipython",
    "version": 3
   },
   "file_extension": ".py",
   "mimetype": "text/x-python",
   "name": "python",
   "nbconvert_exporter": "python",
   "pygments_lexer": "ipython3",
   "version": "3.12.7"
  }
 },
 "nbformat": 4,
 "nbformat_minor": 5
}
