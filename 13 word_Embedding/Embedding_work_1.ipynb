{
 "cells": [
  {
   "cell_type": "code",
   "execution_count": 1,
   "id": "c50ca9e3-16be-4579-b759-8c01a3f8fc4b",
   "metadata": {},
   "outputs": [],
   "source": [
    "import os\n",
    "import sys\n",
    "sys.path.append(os.path.join(os.path.dirname(\"\"),\"..\"))\n",
    "\n",
    "import custom\n",
    "import numpy\n",
    "import sklearn\n",
    "import pickle"
   ]
  },
  {
   "cell_type": "code",
   "execution_count": 2,
   "id": "4e3e0d92-7693-4435-a831-6fd30007d530",
   "metadata": {},
   "outputs": [
    {
     "name": "stdout",
     "output_type": "stream",
     "text": [
      "9616\n"
     ]
    }
   ],
   "source": [
    "\n",
    "\n",
    "with open(\"ptb.train.txt\") as f:\n",
    "    text = f.readlines()\n",
    "word_dict, number_dict = custom.make_dict(text)\n",
    "print(len(word_dict))\n"
   ]
  },
  {
   "cell_type": "code",
   "execution_count": 3,
   "id": "e5c3ee98-f5f6-4964-9a15-d96329b1e384",
   "metadata": {},
   "outputs": [
    {
     "name": "stdout",
     "output_type": "stream",
     "text": [
      "[[   2    3    4 ...    0    0    0]\n",
      " [  28   29   30 ...    0    0    0]\n",
      " [  42   29   43 ...    0    0    0]\n",
      " ...\n",
      " [4322 4919   38 ...    0    0    0]\n",
      " [  81  831   33 ...    0    0    0]\n",
      " [ 112 3581 3582 ...    0    0    0]]\n",
      "(42068, 98)\n"
     ]
    }
   ],
   "source": [
    "corpus = custom.word_num_encoding(text, word_dict)\n",
    "print(corpus)\n",
    "print(corpus.shape)"
   ]
  },
  {
   "cell_type": "code",
   "execution_count": 4,
   "id": "2fd0f0d2-fbe9-445d-972b-05bd4ea33914",
   "metadata": {},
   "outputs": [
    {
     "name": "stdout",
     "output_type": "stream",
     "text": [
      "[[0. 0. 0. ... 0. 0. 0.]\n",
      " [0. 0. 0. ... 0. 0. 0.]\n",
      " [0. 0. 0. ... 0. 0. 0.]\n",
      " ...\n",
      " [0. 0. 0. ... 0. 0. 0.]\n",
      " [0. 0. 0. ... 0. 0. 0.]\n",
      " [0. 0. 0. ... 0. 0. 0.]]\n",
      "(9616, 9616)\n"
     ]
    }
   ],
   "source": [
    "comatrix = custom.make_comatrix(corpus, len(word_dict), 2)\n",
    "print(comatrix)\n",
    "print(comatrix.shape)"
   ]
  },
  {
   "cell_type": "code",
   "execution_count": 5,
   "id": "4ef622d7-b14e-429e-b51d-5075563f6765",
   "metadata": {},
   "outputs": [
    {
     "name": "stderr",
     "output_type": "stream",
     "text": [
      "100%|██████████████████████████████████████████████████████████████████████████████| 9616/9616 [09:02<00:00, 17.74it/s]\n"
     ]
    }
   ],
   "source": [
    "pmi = custom.make_pmi(comatrix, True)"
   ]
  },
  {
   "cell_type": "code",
   "execution_count": 6,
   "id": "32b8d185-cd5f-4bb1-b8ec-a932c93aa661",
   "metadata": {},
   "outputs": [],
   "source": [
    "U, S, V = sklearn.utils.extmath.randomized_svd(pmi, n_components=100)\n",
    "#U, S, V = numpy.linalg.svd(pmi)"
   ]
  },
  {
   "cell_type": "code",
   "execution_count": 7,
   "id": "75a273ea-2173-44f1-ad28-585585bc61bd",
   "metadata": {},
   "outputs": [
    {
     "name": "stdout",
     "output_type": "stream",
     "text": [
      "검색어 || you\n",
      "anybody : 0.20476273336933964\n",
      "someone : 0.21310562080037795\n",
      "something : 0.21485495802161175\n",
      "ve : 0.21705019678951978\n",
      "ll : 0.2182388858963091\n",
      "\n",
      "검색어 || year\n",
      "earlier : 0.11719101128951963\n",
      "ending : 0.1315142774060704\n",
      "period : 0.13279302007270946\n",
      "fiscal : 0.1359869064388898\n",
      "june : 0.13610570332110195\n",
      "\n",
      "검색어 || car\n",
      "luxury : 0.1405358046162343\n",
      "vehicle : 0.14787701395992153\n",
      "auto : 0.14832905751374212\n",
      "truck : 0.15878490436323311\n",
      "lexus : 0.1605086420723749\n",
      "\n",
      "검색어 || toyota\n",
      "motors : 0.07663946441815997\n",
      "lexus : 0.07706505166931496\n",
      "honda : 0.07899646757410717\n",
      "trails : 0.07923722024671896\n",
      "eli : 0.08042974072126016\n",
      "\n"
     ]
    }
   ],
   "source": [
    "word_vecs = U[:,:100]\n",
    "querys = [\"you\", \"year\", \"car\", \"toyota\"]\n",
    "for q in querys :\n",
    "    custom.most_similiar(q, word_dict, number_dict, word_vecs, top = 5)"
   ]
  },
  {
   "cell_type": "code",
   "execution_count": 9,
   "id": "be40d0f3-7166-447b-bdcf-138c7c2dc0fe",
   "metadata": {},
   "outputs": [
    {
     "name": "stdout",
     "output_type": "stream",
     "text": [
      "검색어 || you\n",
      "i : 0.6892528022517318\n",
      "anybody : 0.6221309802414643\n",
      "we : 0.6219012370584684\n",
      "do : 0.5744455206452496\n",
      "someone : 0.5437516443068527\n",
      "\n",
      "검색어 || year\n",
      "earlier : 0.6972788376988982\n",
      "month : 0.6836648741228849\n",
      "last : 0.6322811585933213\n",
      "next : 0.6181776114114584\n",
      "ending : 0.5870230200434854\n",
      "\n",
      "검색어 || car\n",
      "auto : 0.6471252836214121\n",
      "luxury : 0.6447017328128396\n",
      "vehicle : 0.5940508843169175\n",
      "cars : 0.527911034578664\n",
      "truck : 0.5196932207631606\n",
      "\n",
      "검색어 || toyota\n",
      "motor : 0.6923176263894517\n",
      "nissan : 0.6650830436674195\n",
      "motors : 0.6650538916316926\n",
      "lexus : 0.6107272975473549\n",
      "honda : 0.5936282808520756\n",
      "\n"
     ]
    }
   ],
   "source": [
    "word_vecs = U[:,:100]\n",
    "querys = [\"you\", \"year\", \"car\", \"toyota\"]\n",
    "for q in querys :\n",
    "    custom.most_similiar(q, word_dict, number_dict, word_vecs, top = 5, mode = \"cos\")"
   ]
  },
  {
   "cell_type": "code",
   "execution_count": 8,
   "id": "ba1407d2-3341-4879-9ad1-b420863a097d",
   "metadata": {},
   "outputs": [],
   "source": [
    "with open(\"LSA_vector.pkl\", mode = \"wb\") as f:\n",
    "    pickle.dump(word_vecs, f)"
   ]
  },
  {
   "cell_type": "code",
   "execution_count": null,
   "id": "344e0b0e-8796-4dc3-87e7-bb3e0d0f7b50",
   "metadata": {},
   "outputs": [],
   "source": []
  }
 ],
 "metadata": {
  "kernelspec": {
   "display_name": "Python 3 (ipykernel)",
   "language": "python",
   "name": "python3"
  },
  "language_info": {
   "codemirror_mode": {
    "name": "ipython",
    "version": 3
   },
   "file_extension": ".py",
   "mimetype": "text/x-python",
   "name": "python",
   "nbconvert_exporter": "python",
   "pygments_lexer": "ipython3",
   "version": "3.12.7"
  }
 },
 "nbformat": 4,
 "nbformat_minor": 5
}
