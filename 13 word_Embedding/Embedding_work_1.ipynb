{
 "cells": [
  {
   "cell_type": "code",
   "execution_count": 1,
   "id": "c50ca9e3-16be-4579-b759-8c01a3f8fc4b",
   "metadata": {},
   "outputs": [],
   "source": [
    "import os\n",
    "import sys\n",
    "sys.path.append(os.path.join(os.path.dirname(\"\"),\"..\"))\n",
    "\n",
    "import custom\n",
    "import numpy\n",
    "import sklearn\n",
    "import pickle"
   ]
  },
  {
   "cell_type": "code",
   "execution_count": 2,
   "id": "4e3e0d92-7693-4435-a831-6fd30007d530",
   "metadata": {},
   "outputs": [
    {
     "name": "stdout",
     "output_type": "stream",
     "text": [
      "9616\n"
     ]
    }
   ],
   "source": [
    "\n",
    "\n",
    "with open(\"ptb.train.txt\") as f:\n",
    "    text = f.readlines()\n",
    "word_dict, number_dict = custom.make_dict(text)\n",
    "print(len(word_dict))\n"
   ]
  },
  {
   "cell_type": "code",
   "execution_count": 3,
   "id": "e5c3ee98-f5f6-4964-9a15-d96329b1e384",
   "metadata": {},
   "outputs": [
    {
     "name": "stdout",
     "output_type": "stream",
     "text": [
      "[[   2    3    4 ...    0    0    0]\n",
      " [  28   29   30 ...    0    0    0]\n",
      " [  42   29   43 ...    0    0    0]\n",
      " ...\n",
      " [4322 4919   38 ...    0    0    0]\n",
      " [  81  831   33 ...    0    0    0]\n",
      " [ 112 3581 3582 ...    0    0    0]]\n",
      "(42068, 98)\n"
     ]
    }
   ],
   "source": [
    "corpus = custom.word_num_encoding(text, word_dict)\n",
    "print(corpus)\n",
    "print(corpus.shape)"
   ]
  },
  {
   "cell_type": "code",
   "execution_count": 4,
   "id": "2fd0f0d2-fbe9-445d-972b-05bd4ea33914",
   "metadata": {},
   "outputs": [
    {
     "name": "stdout",
     "output_type": "stream",
     "text": [
      "[[0. 0. 0. ... 0. 0. 0.]\n",
      " [0. 0. 0. ... 0. 0. 0.]\n",
      " [0. 0. 0. ... 0. 0. 0.]\n",
      " ...\n",
      " [0. 0. 0. ... 0. 0. 0.]\n",
      " [0. 0. 0. ... 0. 0. 0.]\n",
      " [0. 0. 0. ... 0. 0. 0.]]\n",
      "(9616, 9616)\n"
     ]
    }
   ],
   "source": [
    "comatrix = custom.make_comatrix(corpus, len(word_dict), 2)\n",
    "print(comatrix)\n",
    "print(comatrix.shape)"
   ]
  },
  {
   "cell_type": "code",
   "execution_count": 5,
   "id": "4ef622d7-b14e-429e-b51d-5075563f6765",
   "metadata": {},
   "outputs": [
    {
     "name": "stderr",
     "output_type": "stream",
     "text": [
      "100%|██████████████████████████████████████████████████████████████████████████████| 9616/9616 [08:57<00:00, 17.88it/s]\n"
     ]
    }
   ],
   "source": [
    "pmi = custom.make_pmi(comatrix, True)"
   ]
  },
  {
   "cell_type": "code",
   "execution_count": 6,
   "id": "32b8d185-cd5f-4bb1-b8ec-a932c93aa661",
   "metadata": {},
   "outputs": [],
   "source": [
    "U, S, V = sklearn.utils.extmath.randomized_svd(pmi, n_components=100)\n",
    "#U, S, V = numpy.linalg.svd(pmi)"
   ]
  },
  {
   "cell_type": "code",
   "execution_count": 7,
   "id": "75a273ea-2173-44f1-ad28-585585bc61bd",
   "metadata": {},
   "outputs": [],
   "source": [
    "word_vecs = U[:,:100]\n",
    "querys = [\"you\", \"year\", \"car\", \"toyota\"]\n",
    "for q in querys :\n",
    "    custom.most_similiar(q, word_dict, number_dict, word_vecs, top = 5)"
   ]
  },
  {
   "cell_type": "code",
   "execution_count": 12,
   "id": "be40d0f3-7166-447b-bdcf-138c7c2dc0fe",
   "metadata": {},
   "outputs": [
    {
     "name": "stdout",
     "output_type": "stream",
     "text": [
      "검색어 :  you\n",
      "i : 0.6554179409125903\n",
      "we : 0.6156994571447962\n",
      "anybody : 0.5976590099480082\n",
      "else : 0.560103099771577\n",
      "yourself : 0.5402685041087784\n",
      "\n",
      "검색어 :  year\n",
      "month : 0.7032349741997864\n",
      "period : 0.6717734552776626\n",
      "earlier : 0.6707900075413255\n",
      "ending : 0.5951819670540283\n",
      "next : 0.5895011113767139\n",
      "\n",
      "검색어 :  car\n",
      "luxury : 0.7220645503418273\n",
      "auto : 0.6851632891578503\n",
      "vehicle : 0.6098784086184947\n",
      "truck : 0.5725774576846673\n",
      "corsica : 0.5377983055525232\n",
      "\n",
      "검색어 :  toyota\n",
      "motor : 0.726029156807912\n",
      "motors : 0.6823964121124367\n",
      "lexus : 0.6244535214566014\n",
      "nissan : 0.6216516227728542\n",
      "honda : 0.612464147846379\n",
      "\n"
     ]
    }
   ],
   "source": [
    "word_vecs = U[:,:100]\n",
    "querys = [\"you\", \"year\", \"car\", \"toyota\"]\n",
    "for q in querys :\n",
    "    result = custom.most_similiar(q, word_dict, number_dict, word_vecs, top = 5, mode = \"cos\")\n",
    "    print(\"검색어 : \", q)\n",
    "    for r in result :\n",
    "        print(f\"{r[0]} : {r[1]}\")\n",
    "    print()"
   ]
  },
  {
   "cell_type": "code",
   "execution_count": 13,
   "id": "ba1407d2-3341-4879-9ad1-b420863a097d",
   "metadata": {},
   "outputs": [],
   "source": [
    "with open(\"LSA_vector.pkl\", mode = \"wb\") as f:\n",
    "    pickle.dump(word_vecs, f)"
   ]
  },
  {
   "cell_type": "code",
   "execution_count": null,
   "id": "344e0b0e-8796-4dc3-87e7-bb3e0d0f7b50",
   "metadata": {},
   "outputs": [],
   "source": []
  }
 ],
 "metadata": {
  "kernelspec": {
   "display_name": "Python 3 (ipykernel)",
   "language": "python",
   "name": "python3"
  },
  "language_info": {
   "codemirror_mode": {
    "name": "ipython",
    "version": 3
   },
   "file_extension": ".py",
   "mimetype": "text/x-python",
   "name": "python",
   "nbconvert_exporter": "python",
   "pygments_lexer": "ipython3",
   "version": "3.12.7"
  }
 },
 "nbformat": 4,
 "nbformat_minor": 5
}
