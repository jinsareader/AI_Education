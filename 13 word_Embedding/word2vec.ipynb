{
 "cells": [
  {
   "cell_type": "code",
   "execution_count": 1,
   "id": "60ad9bc0-8f03-43af-bc73-4c1e5ed7d548",
   "metadata": {},
   "outputs": [],
   "source": [
    "import os\n",
    "import sys\n",
    "os.environ[\"KMP_DUPLICATE_LIB_OK\"]=\"TRUE\"\n",
    "sys.path.append(os.path.join(os.path.dirname(\"\"),\"..\"))\n",
    "\n",
    "import numpy\n",
    "import custom\n",
    "import torch\n",
    "import torch.nn as nn\n",
    "import pandas\n",
    "import matplotlib.pyplot as plt"
   ]
  },
  {
   "cell_type": "code",
   "execution_count": 2,
   "id": "126f03d3-26f8-4e7d-b860-ba45fec47e11",
   "metadata": {},
   "outputs": [],
   "source": [
    "def make_word_pair(comatrix) :\n",
    "    word_pair = []\n",
    "    rows = comatrix.shape[0]\n",
    "    cols = comatrix.shape[1]\n",
    "    for r in range(rows) :\n",
    "        for c in range(r+1,cols) :\n",
    "            if comatrix[r][c] > 0 :\n",
    "                word_pair.append([r,c])\n",
    "                word_pair.append([c,r])\n",
    "        \n",
    "    return numpy.array(word_pair)"
   ]
  },
  {
   "cell_type": "code",
   "execution_count": 3,
   "id": "50f286cb-7322-4d67-a32e-6ee35c1e803e",
   "metadata": {},
   "outputs": [
    {
     "name": "stdout",
     "output_type": "stream",
     "text": [
      "{'<pad>': 0, '<unk>': 1, 'he': 2, 'is': 3, 'a': 4, 'king': 5, 'she': 6, 'queen': 7, 'man': 8, 'woman': 9, 'warsaw': 10, 'poland': 11, 'capital': 12, 'berlin': 13, 'germany': 14, 'paris': 15, 'france': 16, 'seoul': 17, 'korea': 18, 'bejing': 19, 'china': 20, 'tokyo': 21, 'japan': 22}\n",
      "[[ 2  3  4  5]\n",
      " [ 6  3  4  7]\n",
      " [ 2  3  4  8]\n",
      " [ 6  3  4  9]\n",
      " [10  3 11 12]\n",
      " [13  3 14 12]\n",
      " [15  3 16 12]\n",
      " [17  3 18 12]\n",
      " [19  3 20 12]\n",
      " [21  3 22 12]]\n",
      "[[0. 0. 0. 0. 0. 0. 0. 0. 0. 0. 0. 0. 0. 0. 0. 0. 0. 0. 0. 0. 0. 0. 0.]\n",
      " [0. 0. 0. 0. 0. 0. 0. 0. 0. 0. 0. 0. 0. 0. 0. 0. 0. 0. 0. 0. 0. 0. 0.]\n",
      " [0. 0. 0. 2. 2. 0. 0. 0. 0. 0. 0. 0. 0. 0. 0. 0. 0. 0. 0. 0. 0. 0. 0.]\n",
      " [0. 0. 2. 0. 4. 1. 2. 1. 1. 1. 1. 1. 6. 1. 1. 1. 1. 1. 1. 1. 1. 1. 1.]\n",
      " [0. 0. 2. 4. 0. 1. 2. 1. 1. 1. 0. 0. 0. 0. 0. 0. 0. 0. 0. 0. 0. 0. 0.]\n",
      " [0. 0. 0. 1. 1. 0. 0. 0. 0. 0. 0. 0. 0. 0. 0. 0. 0. 0. 0. 0. 0. 0. 0.]\n",
      " [0. 0. 0. 2. 2. 0. 0. 0. 0. 0. 0. 0. 0. 0. 0. 0. 0. 0. 0. 0. 0. 0. 0.]\n",
      " [0. 0. 0. 1. 1. 0. 0. 0. 0. 0. 0. 0. 0. 0. 0. 0. 0. 0. 0. 0. 0. 0. 0.]\n",
      " [0. 0. 0. 1. 1. 0. 0. 0. 0. 0. 0. 0. 0. 0. 0. 0. 0. 0. 0. 0. 0. 0. 0.]\n",
      " [0. 0. 0. 1. 1. 0. 0. 0. 0. 0. 0. 0. 0. 0. 0. 0. 0. 0. 0. 0. 0. 0. 0.]\n",
      " [0. 0. 0. 1. 0. 0. 0. 0. 0. 0. 0. 1. 0. 0. 0. 0. 0. 0. 0. 0. 0. 0. 0.]\n",
      " [0. 0. 0. 1. 0. 0. 0. 0. 0. 0. 1. 0. 1. 0. 0. 0. 0. 0. 0. 0. 0. 0. 0.]\n",
      " [0. 0. 0. 6. 0. 0. 0. 0. 0. 0. 0. 1. 0. 0. 1. 0. 1. 0. 1. 0. 1. 0. 1.]\n",
      " [0. 0. 0. 1. 0. 0. 0. 0. 0. 0. 0. 0. 0. 0. 1. 0. 0. 0. 0. 0. 0. 0. 0.]\n",
      " [0. 0. 0. 1. 0. 0. 0. 0. 0. 0. 0. 0. 1. 1. 0. 0. 0. 0. 0. 0. 0. 0. 0.]\n",
      " [0. 0. 0. 1. 0. 0. 0. 0. 0. 0. 0. 0. 0. 0. 0. 0. 1. 0. 0. 0. 0. 0. 0.]\n",
      " [0. 0. 0. 1. 0. 0. 0. 0. 0. 0. 0. 0. 1. 0. 0. 1. 0. 0. 0. 0. 0. 0. 0.]\n",
      " [0. 0. 0. 1. 0. 0. 0. 0. 0. 0. 0. 0. 0. 0. 0. 0. 0. 0. 1. 0. 0. 0. 0.]\n",
      " [0. 0. 0. 1. 0. 0. 0. 0. 0. 0. 0. 0. 1. 0. 0. 0. 0. 1. 0. 0. 0. 0. 0.]\n",
      " [0. 0. 0. 1. 0. 0. 0. 0. 0. 0. 0. 0. 0. 0. 0. 0. 0. 0. 0. 0. 1. 0. 0.]\n",
      " [0. 0. 0. 1. 0. 0. 0. 0. 0. 0. 0. 0. 1. 0. 0. 0. 0. 0. 0. 1. 0. 0. 0.]\n",
      " [0. 0. 0. 1. 0. 0. 0. 0. 0. 0. 0. 0. 0. 0. 0. 0. 0. 0. 0. 0. 0. 0. 1.]\n",
      " [0. 0. 0. 1. 0. 0. 0. 0. 0. 0. 0. 0. 1. 0. 0. 0. 0. 0. 0. 0. 0. 1. 0.]]\n"
     ]
    }
   ],
   "source": [
    "sentences = [\n",
    "    'He is a king.',\n",
    "    'She is a queen.',\n",
    "    'He is a man.',\n",
    "    'She is a woman.',\n",
    "    'Warsaw is Poland capital.',\n",
    "    'Berlin is Germany capital.',\n",
    "    'Paris is France capital.',\n",
    "    'Seoul is Korea capital.', \n",
    "    'Bejing is China capital.',\n",
    "    'Tokyo is Japan capital.',\n",
    "]\n",
    "\n",
    "word_dict, number_dict = custom.make_dict(sentences)\n",
    "corpus = custom.word_num_encoding(sentences, word_dict)\n",
    "comatrix = custom.make_comatrix(corpus, len(word_dict), window_size=2)\n",
    "\n",
    "print(word_dict)\n",
    "print(corpus)\n",
    "print(comatrix)"
   ]
  },
  {
   "cell_type": "code",
   "execution_count": 4,
   "id": "a11dcec1-c011-4f65-8174-7cd0d392492e",
   "metadata": {},
   "outputs": [
    {
     "name": "stdout",
     "output_type": "stream",
     "text": [
      "[[ 2  3]\n",
      " [ 3  2]\n",
      " [ 2  4]\n",
      " [ 4  2]\n",
      " [ 3  4]\n",
      " [ 4  3]\n",
      " [ 3  5]\n",
      " [ 5  3]\n",
      " [ 3  6]\n",
      " [ 6  3]\n",
      " [ 3  7]\n",
      " [ 7  3]\n",
      " [ 3  8]\n",
      " [ 8  3]\n",
      " [ 3  9]\n",
      " [ 9  3]\n",
      " [ 3 10]\n",
      " [10  3]\n",
      " [ 3 11]\n",
      " [11  3]\n",
      " [ 3 12]\n",
      " [12  3]\n",
      " [ 3 13]\n",
      " [13  3]\n",
      " [ 3 14]\n",
      " [14  3]\n",
      " [ 3 15]\n",
      " [15  3]\n",
      " [ 3 16]\n",
      " [16  3]\n",
      " [ 3 17]\n",
      " [17  3]\n",
      " [ 3 18]\n",
      " [18  3]\n",
      " [ 3 19]\n",
      " [19  3]\n",
      " [ 3 20]\n",
      " [20  3]\n",
      " [ 3 21]\n",
      " [21  3]\n",
      " [ 3 22]\n",
      " [22  3]\n",
      " [ 4  5]\n",
      " [ 5  4]\n",
      " [ 4  6]\n",
      " [ 6  4]\n",
      " [ 4  7]\n",
      " [ 7  4]\n",
      " [ 4  8]\n",
      " [ 8  4]\n",
      " [ 4  9]\n",
      " [ 9  4]\n",
      " [10 11]\n",
      " [11 10]\n",
      " [11 12]\n",
      " [12 11]\n",
      " [12 14]\n",
      " [14 12]\n",
      " [12 16]\n",
      " [16 12]\n",
      " [12 18]\n",
      " [18 12]\n",
      " [12 20]\n",
      " [20 12]\n",
      " [12 22]\n",
      " [22 12]\n",
      " [13 14]\n",
      " [14 13]\n",
      " [15 16]\n",
      " [16 15]\n",
      " [17 18]\n",
      " [18 17]\n",
      " [19 20]\n",
      " [20 19]\n",
      " [21 22]\n",
      " [22 21]]\n"
     ]
    }
   ],
   "source": [
    "word_pair = make_word_pair(comatrix)\n",
    "\n",
    "print(word_pair)"
   ]
  },
  {
   "cell_type": "code",
   "execution_count": 5,
   "id": "0f8ecd06-3f97-4063-a7ed-a58d390d4080",
   "metadata": {},
   "outputs": [],
   "source": [
    "device = \"cuda\" if torch.cuda.is_available() else \"cpu\"\n",
    "\n",
    "tensor_x = torch.tensor(word_pair[:,0], dtype = torch.long, device = device)\n",
    "tensor_t = torch.tensor(word_pair[:,1], dtype = torch.long, device = device)\n"
   ]
  },
  {
   "cell_type": "code",
   "execution_count": 6,
   "id": "70c28496-0d69-43dd-8376-b9cb0ac000c5",
   "metadata": {},
   "outputs": [
    {
     "name": "stdout",
     "output_type": "stream",
     "text": [
      "epoch 100 | loss 2.058992862701416\n",
      "epoch 200 | loss 2.035658836364746\n",
      "epoch 300 | loss 2.0234599113464355\n",
      "epoch 400 | loss 2.0142836570739746\n",
      "epoch 500 | loss 2.0056076049804688\n",
      "epoch 600 | loss 2.000678777694702\n",
      "epoch 700 | loss 1.9966243505477905\n",
      "epoch 800 | loss 1.992519736289978\n",
      "epoch 900 | loss 1.9893953800201416\n",
      "epoch 1000 | loss 1.9857585430145264\n",
      "epoch 1100 | loss 1.9833192825317383\n",
      "epoch 1200 | loss 1.9811958074569702\n",
      "epoch 1300 | loss 1.9793983697891235\n",
      "epoch 1400 | loss 1.9775665998458862\n",
      "epoch 1500 | loss 1.9761205911636353\n",
      "epoch 1600 | loss 1.974506139755249\n",
      "epoch 1700 | loss 1.973107933998108\n",
      "epoch 1800 | loss 1.9718375205993652\n",
      "epoch 1900 | loss 1.9707893133163452\n",
      "epoch 2000 | loss 1.9701359272003174\n",
      "epoch 2100 | loss 1.9684553146362305\n",
      "epoch 2200 | loss 1.96746027469635\n",
      "epoch 2300 | loss 1.9664336442947388\n",
      "epoch 2400 | loss 1.96727454662323\n",
      "epoch 2500 | loss 1.9652941226959229\n",
      "epoch 2600 | loss 1.9642974138259888\n",
      "epoch 2700 | loss 1.9629586935043335\n",
      "epoch 2800 | loss 1.9624598026275635\n",
      "epoch 2900 | loss 1.9613884687423706\n",
      "epoch 3000 | loss 1.9607065916061401\n"
     ]
    }
   ],
   "source": [
    "device = \"cuda\" if torch.cuda.is_available() else \"cpu\"\n",
    "\n",
    "class NN(nn.Module) :\n",
    "    def __init__(self, word_size) :\n",
    "        super().__init__();\n",
    "        self.f = nn.Embedding(word_size, 2, max_norm=1, padding_idx=0)\n",
    "        self.g = nn.Linear(2, word_size)\n",
    "    def forward(self, x) :\n",
    "        y = self.f(x)\n",
    "        y = self.g(y)\n",
    "        return y\n",
    "\n",
    "F = NN(len(word_dict))\n",
    "F = F.to(device)\n",
    "loss_function = nn.CrossEntropyLoss()\n",
    "optimizer = torch.optim.Adam(F.parameters(), lr = 0.05)\n",
    "epoch = 3000\n",
    "\n",
    "for e in range(epoch) :\n",
    "    tensor_y = F(tensor_x)\n",
    "\n",
    "    loss = loss_function(tensor_y, tensor_t)\n",
    "\n",
    "    loss.backward()\n",
    "    optimizer.step()\n",
    "    optimizer.zero_grad()\n",
    "\n",
    "    if (e+1) % 100 == 0 :\n",
    "        print(\"epoch {} | loss {}\".format(e+1, loss))"
   ]
  },
  {
   "cell_type": "code",
   "execution_count": 7,
   "id": "cc679423-d8c5-42ed-8e90-a16ff0d44a1b",
   "metadata": {},
   "outputs": [
    {
     "name": "stdout",
     "output_type": "stream",
     "text": [
      "           a         b     word\n",
      "0   0.000000  0.000000    <pad>\n",
      "1  -0.381532  0.473872    <unk>\n",
      "2  -0.427711  0.963991       he\n",
      "3   0.938739 -0.183637       is\n",
      "4   0.922894 -0.253478        a\n",
      "5  -0.453735  0.953412     king\n",
      "6  -0.454372  0.952844      she\n",
      "7  -0.454551  0.952981    queen\n",
      "8  -0.454667  0.952853      man\n",
      "9  -0.447834  0.956203    woman\n",
      "10  0.907697  0.030647   warsaw\n",
      "11 -0.738994 -0.744768   poland\n",
      "12  0.857914  0.065007  capital\n",
      "13  0.640437  0.619297   berlin\n",
      "14 -0.780306 -0.638254  germany\n",
      "15  0.510120  0.703766    paris\n",
      "16 -0.779690 -0.638619   france\n",
      "17  0.624468  0.030532    seoul\n",
      "18 -0.781023 -0.637967    korea\n",
      "19  0.624503  0.032369   bejing\n",
      "20 -0.779838 -0.638444    china\n",
      "21  0.630439  0.034551    tokyo\n",
      "22 -0.781302 -0.637792    japan\n"
     ]
    }
   ],
   "source": [
    "F = F.to(\"cpu\")\n",
    "vector_df = pandas.DataFrame(F.state_dict()['f.weight'].numpy(), columns = ['a','b'])\n",
    "vector_df['word'] = list(word_dict.keys())\n",
    "\n",
    "print(vector_df)"
   ]
  },
  {
   "cell_type": "code",
   "execution_count": 8,
   "id": "bc01b753-c50f-4155-abe7-f6277c71de00",
   "metadata": {},
   "outputs": [
    {
     "data": {
      "image/png": "[encoded data removed]",
      "text/plain": [
       "<Figure size 1000x1000 with 1 Axes>"
      ]
     },
     "metadata": {},
     "output_type": "display_data"
    }
   ],
   "source": [
    "ano = vector_df['word'].values.tolist()\n",
    "a = vector_df['a'].values.tolist()\n",
    "b = vector_df['b'].values.tolist()\n",
    "\n",
    "fig, ax = plt.subplots(figsize = (10,10))\n",
    "ax.scatter(a,b)\n",
    "\n",
    "for i in range(len(ano)) :\n",
    "    ax.annotate(ano[i], (a[i], b[i]))\n",
    "\n",
    "plt.show()"
   ]
  },
  {
   "cell_type": "code",
   "execution_count": 9,
   "id": "bdf98b52-c8e3-4ce6-a0d6-1681aa38255f",
   "metadata": {},
   "outputs": [
    {
     "name": "stdout",
     "output_type": "stream",
     "text": [
      "tensor([[-0.1672, -0.2709]], grad_fn=<AddmmBackward0>)\n",
      "[[-0.16722387 -0.27091324]]\n"
     ]
    }
   ],
   "source": [
    "test = nn.Linear(5,2)\n",
    "a = torch.randn(1,5)\n",
    "\n",
    "print(test(a))\n",
    "print(numpy.dot(a.numpy(), test.state_dict()['weight'].T.numpy()) + test.state_dict()['bias'].numpy())"
   ]
  },
  {
   "cell_type": "code",
   "execution_count": null,
   "id": "580d22a5-49ee-4608-be84-19ecc50b1ce9",
   "metadata": {},
   "outputs": [],
   "source": []
  }
 ],
 "metadata": {
  "kernelspec": {
   "display_name": "Python 3 (ipykernel)",
   "language": "python",
   "name": "python3"
  },
  "language_info": {
   "codemirror_mode": {
    "name": "ipython",
    "version": 3
   },
   "file_extension": ".py",
   "mimetype": "text/x-python",
   "name": "python",
   "nbconvert_exporter": "python",
   "pygments_lexer": "ipython3",
   "version": "3.12.7"
  }
 },
 "nbformat": 4,
 "nbformat_minor": 5
}
