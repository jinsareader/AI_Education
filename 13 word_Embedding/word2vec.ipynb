{
 "cells": [
  {
   "cell_type": "code",
   "execution_count": 1,
   "id": "60ad9bc0-8f03-43af-bc73-4c1e5ed7d548",
   "metadata": {},
   "outputs": [],
   "source": [
    "import os\n",
    "import sys\n",
    "os.environ[\"KMP_DUPLICATE_LIB_OK\"]=\"TRUE\"\n",
    "sys.path.append(os.path.join(os.path.dirname(\"\"),\"..\"))\n",
    "\n",
    "import numpy\n",
    "import custom\n",
    "import torch\n",
    "import torch.nn as nn\n",
    "import pandas\n",
    "import matplotlib.pyplot as plt"
   ]
  },
  {
   "cell_type": "code",
   "execution_count": 2,
   "id": "126f03d3-26f8-4e7d-b860-ba45fec47e11",
   "metadata": {},
   "outputs": [],
   "source": [
    "def make_word_pair(corpus, window_size = 1) :\n",
    "    word_pair = []\n",
    "    for s in corpus :\n",
    "        for w in range(len(s)) :\n",
    "            for i in range(1,window_size+1) :\n",
    "                if w-i >= 0 :\n",
    "                    temp = [s[w], s[w-i]]\n",
    "                    word_pair.append(temp)\n",
    "                if w+i < len(s) :\n",
    "                    if s[w+i] > 0 :\n",
    "                        temp = [s[w], s[w+i]]\n",
    "                        word_pair.append(temp)\n",
    "    \n",
    "    return word_pair"
   ]
  },
  {
   "cell_type": "code",
   "execution_count": 3,
   "id": "50f286cb-7322-4d67-a32e-6ee35c1e803e",
   "metadata": {},
   "outputs": [
    {
     "name": "stdout",
     "output_type": "stream",
     "text": [
      "{'<pad>': 0, '<unk>': 1, 'he': 2, 'is': 3, 'a': 4, 'king': 5, 'she': 6, 'queen': 7, 'man': 8, 'woman': 9, 'warsaw': 10, 'poland': 11, 'capital': 12, 'berlin': 13, 'germany': 14, 'paris': 15, 'france': 16, 'seoul': 17, 'korea': 18, 'bejing': 19, 'china': 20, 'tokyo': 21, 'japan': 22}\n",
      "[[ 2  3  4  5]\n",
      " [ 6  3  4  7]\n",
      " [ 2  3  4  8]\n",
      " [ 6  3  4  9]\n",
      " [10  3 11 12]\n",
      " [13  3 14 12]\n",
      " [15  3 16 12]\n",
      " [17  3 18 12]\n",
      " [19  3 20 12]\n",
      " [21  3 22 12]]\n",
      "[[0. 0. 0. 0. 0. 0. 0. 0. 0. 0. 0. 0. 0. 0. 0. 0. 0. 0. 0. 0. 0. 0. 0.]\n",
      " [0. 0. 0. 0. 0. 0. 0. 0. 0. 0. 0. 0. 0. 0. 0. 0. 0. 0. 0. 0. 0. 0. 0.]\n",
      " [0. 0. 0. 2. 2. 0. 0. 0. 0. 0. 0. 0. 0. 0. 0. 0. 0. 0. 0. 0. 0. 0. 0.]\n",
      " [0. 0. 2. 0. 4. 1. 2. 1. 1. 1. 1. 1. 6. 1. 1. 1. 1. 1. 1. 1. 1. 1. 1.]\n",
      " [0. 0. 2. 4. 0. 1. 2. 1. 1. 1. 0. 0. 0. 0. 0. 0. 0. 0. 0. 0. 0. 0. 0.]\n",
      " [0. 0. 0. 1. 1. 0. 0. 0. 0. 0. 0. 0. 0. 0. 0. 0. 0. 0. 0. 0. 0. 0. 0.]\n",
      " [0. 0. 0. 2. 2. 0. 0. 0. 0. 0. 0. 0. 0. 0. 0. 0. 0. 0. 0. 0. 0. 0. 0.]\n",
      " [0. 0. 0. 1. 1. 0. 0. 0. 0. 0. 0. 0. 0. 0. 0. 0. 0. 0. 0. 0. 0. 0. 0.]\n",
      " [0. 0. 0. 1. 1. 0. 0. 0. 0. 0. 0. 0. 0. 0. 0. 0. 0. 0. 0. 0. 0. 0. 0.]\n",
      " [0. 0. 0. 1. 1. 0. 0. 0. 0. 0. 0. 0. 0. 0. 0. 0. 0. 0. 0. 0. 0. 0. 0.]\n",
      " [0. 0. 0. 1. 0. 0. 0. 0. 0. 0. 0. 1. 0. 0. 0. 0. 0. 0. 0. 0. 0. 0. 0.]\n",
      " [0. 0. 0. 1. 0. 0. 0. 0. 0. 0. 1. 0. 1. 0. 0. 0. 0. 0. 0. 0. 0. 0. 0.]\n",
      " [0. 0. 0. 6. 0. 0. 0. 0. 0. 0. 0. 1. 0. 0. 1. 0. 1. 0. 1. 0. 1. 0. 1.]\n",
      " [0. 0. 0. 1. 0. 0. 0. 0. 0. 0. 0. 0. 0. 0. 1. 0. 0. 0. 0. 0. 0. 0. 0.]\n",
      " [0. 0. 0. 1. 0. 0. 0. 0. 0. 0. 0. 0. 1. 1. 0. 0. 0. 0. 0. 0. 0. 0. 0.]\n",
      " [0. 0. 0. 1. 0. 0. 0. 0. 0. 0. 0. 0. 0. 0. 0. 0. 1. 0. 0. 0. 0. 0. 0.]\n",
      " [0. 0. 0. 1. 0. 0. 0. 0. 0. 0. 0. 0. 1. 0. 0. 1. 0. 0. 0. 0. 0. 0. 0.]\n",
      " [0. 0. 0. 1. 0. 0. 0. 0. 0. 0. 0. 0. 0. 0. 0. 0. 0. 0. 1. 0. 0. 0. 0.]\n",
      " [0. 0. 0. 1. 0. 0. 0. 0. 0. 0. 0. 0. 1. 0. 0. 0. 0. 1. 0. 0. 0. 0. 0.]\n",
      " [0. 0. 0. 1. 0. 0. 0. 0. 0. 0. 0. 0. 0. 0. 0. 0. 0. 0. 0. 0. 1. 0. 0.]\n",
      " [0. 0. 0. 1. 0. 0. 0. 0. 0. 0. 0. 0. 1. 0. 0. 0. 0. 0. 0. 1. 0. 0. 0.]\n",
      " [0. 0. 0. 1. 0. 0. 0. 0. 0. 0. 0. 0. 0. 0. 0. 0. 0. 0. 0. 0. 0. 0. 1.]\n",
      " [0. 0. 0. 1. 0. 0. 0. 0. 0. 0. 0. 0. 1. 0. 0. 0. 0. 0. 0. 0. 0. 1. 0.]]\n"
     ]
    }
   ],
   "source": [
    "sentences = [\n",
    "    'He is a king.',\n",
    "    'She is a queen.',\n",
    "    'He is a man.',\n",
    "    'She is a woman.',\n",
    "    'Warsaw is Poland capital.',\n",
    "    'Berlin is Germany capital.',\n",
    "    'Paris is France capital.',\n",
    "    'Seoul is Korea capital.', \n",
    "    'Bejing is China capital.',\n",
    "    'Tokyo is Japan capital.',\n",
    "]\n",
    "\n",
    "word_dict, number_dict = custom.make_dict(sentences)\n",
    "corpus = custom.word_num_encoding(sentences, word_dict)\n",
    "comatrix = custom.make_comatrix(corpus, len(word_dict), window_size=2)\n",
    "\n",
    "print(word_dict)\n",
    "print(corpus)\n",
    "print(comatrix)"
   ]
  },
  {
   "cell_type": "code",
   "execution_count": 4,
   "id": "a11dcec1-c011-4f65-8174-7cd0d392492e",
   "metadata": {},
   "outputs": [
    {
     "name": "stdout",
     "output_type": "stream",
     "text": [
      "[[2, 3], [2, 4], [3, 2], [3, 4], [3, 5], [4, 3], [4, 5], [4, 2], [5, 4], [5, 3], [6, 3], [6, 4], [3, 6], [3, 4], [3, 7], [4, 3], [4, 7], [4, 6], [7, 4], [7, 3], [2, 3], [2, 4], [3, 2], [3, 4], [3, 8], [4, 3], [4, 8], [4, 2], [8, 4], [8, 3], [6, 3], [6, 4], [3, 6], [3, 4], [3, 9], [4, 3], [4, 9], [4, 6], [9, 4], [9, 3], [10, 3], [10, 11], [3, 10], [3, 11], [3, 12], [11, 3], [11, 12], [11, 10], [12, 11], [12, 3], [13, 3], [13, 14], [3, 13], [3, 14], [3, 12], [14, 3], [14, 12], [14, 13], [12, 14], [12, 3], [15, 3], [15, 16], [3, 15], [3, 16], [3, 12], [16, 3], [16, 12], [16, 15], [12, 16], [12, 3], [17, 3], [17, 18], [3, 17], [3, 18], [3, 12], [18, 3], [18, 12], [18, 17], [12, 18], [12, 3], [19, 3], [19, 20], [3, 19], [3, 20], [3, 12], [20, 3], [20, 12], [20, 19], [12, 20], [12, 3], [21, 3], [21, 22], [3, 21], [3, 22], [3, 12], [22, 3], [22, 12], [22, 21], [12, 22], [12, 3]]\n"
     ]
    }
   ],
   "source": [
    "word_pair = make_word_pair(corpus, 2)\n",
    "\n",
    "print(word_pair)"
   ]
  },
  {
   "cell_type": "code",
   "execution_count": 5,
   "id": "0f8ecd06-3f97-4063-a7ed-a58d390d4080",
   "metadata": {},
   "outputs": [],
   "source": [
    "x = []\n",
    "t = []\n",
    "for data in word_pair :\n",
    "    x.append(data[0])\n",
    "    t.append(data[1])\n"
   ]
  },
  {
   "cell_type": "code",
   "execution_count": 6,
   "id": "70c28496-0d69-43dd-8376-b9cb0ac000c5",
   "metadata": {},
   "outputs": [
    {
     "name": "stdout",
     "output_type": "stream",
     "text": [
      "epoch 100 | loss 3.2969884872436523\n",
      "epoch 200 | loss 3.1529855728149414\n",
      "epoch 300 | loss 3.007655143737793\n",
      "epoch 400 | loss 2.866257667541504\n",
      "epoch 500 | loss 2.7386183738708496\n",
      "epoch 600 | loss 2.627227544784546\n",
      "epoch 700 | loss 2.534878730773926\n",
      "epoch 800 | loss 2.457144021987915\n",
      "epoch 900 | loss 2.3943839073181152\n",
      "epoch 1000 | loss 2.3473684787750244\n",
      "epoch 1100 | loss 2.3118836879730225\n",
      "epoch 1200 | loss 2.285196542739868\n",
      "epoch 1300 | loss 2.264643907546997\n",
      "epoch 1400 | loss 2.248727321624756\n",
      "epoch 1500 | loss 2.235870838165283\n",
      "epoch 1600 | loss 2.2250466346740723\n",
      "epoch 1700 | loss 2.215860366821289\n",
      "epoch 1800 | loss 2.207441806793213\n",
      "epoch 1900 | loss 2.1996424198150635\n",
      "epoch 2000 | loss 2.192375898361206\n",
      "epoch 2100 | loss 2.185598850250244\n",
      "epoch 2200 | loss 2.17931866645813\n",
      "epoch 2300 | loss 2.1733617782592773\n",
      "epoch 2400 | loss 2.167581558227539\n",
      "epoch 2500 | loss 2.161820888519287\n",
      "epoch 2600 | loss 2.1559271812438965\n",
      "epoch 2700 | loss 2.1498191356658936\n",
      "epoch 2800 | loss 2.143575429916382\n",
      "epoch 2900 | loss 2.137441873550415\n",
      "epoch 3000 | loss 2.1316590309143066\n"
     ]
    }
   ],
   "source": [
    "device = \"cuda\" if torch.cuda.is_available() else \"cpu\"\n",
    "\n",
    "class NN(nn.Module) :\n",
    "    def __init__(self, word_size) :\n",
    "        super().__init__();\n",
    "        self.f = nn.Embedding(word_size, 2, device = device, max_norm=1, padding_idx=0)\n",
    "        self.g = nn.Linear(2, word_size, device = device)\n",
    "    def forward(self, x) :\n",
    "        y = self.f(x)\n",
    "        y = self.g(y)\n",
    "        return y\n",
    "\n",
    "tensor_x = torch.tensor(x, dtype = torch.long, device = device)\n",
    "tensor_t = torch.tensor(t, dtype = torch.long, device = device)\n",
    "\n",
    "F = NN(len(word_dict))\n",
    "loss_function = nn.CrossEntropyLoss()\n",
    "optimizer = torch.optim.Adam(F.parameters())\n",
    "epoch = 3000\n",
    "\n",
    "for e in range(epoch) :\n",
    "    tensor_y = F(tensor_x)\n",
    "\n",
    "    loss = loss_function(tensor_y, tensor_t)\n",
    "\n",
    "    loss.backward()\n",
    "    optimizer.step()\n",
    "    optimizer.zero_grad()\n",
    "\n",
    "    if (e+1) % 100 == 0 :\n",
    "        print(\"epoch {} | loss {}\".format(e+1, loss))"
   ]
  },
  {
   "cell_type": "code",
   "execution_count": 7,
   "id": "cc679423-d8c5-42ed-8e90-a16ff0d44a1b",
   "metadata": {},
   "outputs": [
    {
     "name": "stdout",
     "output_type": "stream",
     "text": [
      "           a         b     word\n",
      "0   0.000000  0.000000    <pad>\n",
      "1  -0.103747  0.596194    <unk>\n",
      "2  -0.997267 -0.084300       he\n",
      "3   0.384586 -0.857056       is\n",
      "4   0.227255  0.974897        a\n",
      "5  -0.997152 -0.083953     king\n",
      "6  -0.997325 -0.083358      she\n",
      "7  -0.997244 -0.083566    queen\n",
      "8  -0.997323 -0.083534      man\n",
      "9  -0.997322 -0.083566    woman\n",
      "10 -0.539097  0.409465   warsaw\n",
      "11 -0.061356  0.543879   poland\n",
      "12 -0.724626  0.258355  capital\n",
      "13 -0.688494  0.314888   berlin\n",
      "14  0.051446  0.756350  germany\n",
      "15 -0.970322  0.157813    paris\n",
      "16  0.052281  0.818910   france\n",
      "17 -0.663105  0.277856    seoul\n",
      "18  0.003166  0.718626    korea\n",
      "19 -0.922338  0.199392   bejing\n",
      "20  0.174695  0.985809    china\n",
      "21 -0.634993  0.334631    tokyo\n",
      "22  0.143709  0.990924    japan\n"
     ]
    }
   ],
   "source": [
    "\n",
    "vector_df = pandas.DataFrame(F.state_dict()['f.weight'].numpy(), columns = ['a','b'])\n",
    "vector_df['word'] = list(word_dict.keys())\n",
    "\n",
    "print(vector_df)"
   ]
  },
  {
   "cell_type": "code",
   "execution_count": 8,
   "id": "bc01b753-c50f-4155-abe7-f6277c71de00",
   "metadata": {},
   "outputs": [
    {
     "data": {
      "image/png": "[encoded data removed]",
      "text/plain": [
       "<Figure size 1000x1000 with 1 Axes>"
      ]
     },
     "metadata": {},
     "output_type": "display_data"
    }
   ],
   "source": [
    "ano = vector_df['word'].values.tolist()\n",
    "a = vector_df['a'].values.tolist()\n",
    "b = vector_df['b'].values.tolist()\n",
    "\n",
    "fig, ax = plt.subplots(figsize = (10,10))\n",
    "ax.scatter(a,b)\n",
    "\n",
    "for i in range(len(ano)) :\n",
    "    ax.annotate(ano[i], (a[i], b[i]))\n",
    "\n",
    "plt.show()"
   ]
  },
  {
   "cell_type": "code",
   "execution_count": 3,
   "id": "bdf98b52-c8e3-4ce6-a0d6-1681aa38255f",
   "metadata": {},
   "outputs": [
    {
     "name": "stdout",
     "output_type": "stream",
     "text": [
      "tensor([[ 1.5859, -0.2268]], grad_fn=<AddmmBackward0>)\n",
      "[[ 1.5858903  -0.22676873]]\n"
     ]
    }
   ],
   "source": [
    "test = nn.Linear(5,2)\n",
    "a = torch.randn(1,5)\n",
    "\n",
    "print(test(a))\n",
    "print(numpy.dot(a.numpy(), test.state_dict()['weight'].T.numpy()) + test.state_dict()['bias'].numpy())"
   ]
  },
  {
   "cell_type": "code",
   "execution_count": null,
   "id": "580d22a5-49ee-4608-be84-19ecc50b1ce9",
   "metadata": {},
   "outputs": [],
   "source": []
  }
 ],
 "metadata": {
  "kernelspec": {
   "display_name": "Python 3 (ipykernel)",
   "language": "python",
   "name": "python3"
  },
  "language_info": {
   "codemirror_mode": {
    "name": "ipython",
    "version": 3
   },
   "file_extension": ".py",
   "mimetype": "text/x-python",
   "name": "python",
   "nbconvert_exporter": "python",
   "pygments_lexer": "ipython3",
   "version": "3.12.7"
  }
 },
 "nbformat": 4,
 "nbformat_minor": 5
}
