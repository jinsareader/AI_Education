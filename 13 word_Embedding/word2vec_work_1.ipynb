{
 "cells": [
  {
   "cell_type": "code",
   "execution_count": null,
   "id": "R-FRB_UUOaph",
   "metadata": {
    "executionInfo": {
     "elapsed": 431,
     "status": "ok",
     "timestamp": 1747070115307,
     "user": {
      "displayName": "Yong-Jun Jang",
      "userId": "12216012798125380557"
     },
     "user_tz": -540
    },
    "id": "R-FRB_UUOaph"
   },
   "outputs": [],
   "source": []
  },
  {
   "cell_type": "code",
   "execution_count": 1,
   "id": "fxR45dmuObhC",
   "metadata": {
    "colab": {
     "base_uri": "https://localhost:8080/"
    },
    "executionInfo": {
     "elapsed": 1944,
     "status": "ok",
     "timestamp": 1747070117249,
     "user": {
      "displayName": "Yong-Jun Jang",
      "userId": "12216012798125380557"
     },
     "user_tz": -540
    },
    "id": "fxR45dmuObhC",
    "outputId": "b76af365-3d8c-4293-f0e1-b4b64ee311d1"
   },
   "outputs": [
    {
     "name": "stdout",
     "output_type": "stream",
     "text": [
      "Drive already mounted at /content/drive; to attempt to forcibly remount, call drive.mount(\"/content/drive\", force_remount=True).\n"
     ]
    }
   ],
   "source": [
    "from google.colab import drive\n",
    "drive.mount('/content/drive')"
   ]
  },
  {
   "cell_type": "code",
   "execution_count": 2,
   "id": "DZTtt5NXOjd4",
   "metadata": {
    "colab": {
     "base_uri": "https://localhost:8080/"
    },
    "executionInfo": {
     "elapsed": 3,
     "status": "ok",
     "timestamp": 1747070117249,
     "user": {
      "displayName": "Yong-Jun Jang",
      "userId": "12216012798125380557"
     },
     "user_tz": -540
    },
    "id": "DZTtt5NXOjd4",
    "outputId": "9ef7192a-41f6-4a69-c6a2-85a6604b61c4"
   },
   "outputs": [
    {
     "name": "stdout",
     "output_type": "stream",
     "text": [
      "/content/drive/MyDrive/PyAI\n"
     ]
    }
   ],
   "source": [
    "%cd /content/drive/MyDrive/PyAI"
   ]
  },
  {
   "cell_type": "code",
   "execution_count": 3,
   "id": "4ce0d106-de1d-4dfe-b807-8a56700ccb6d",
   "metadata": {
    "executionInfo": {
     "elapsed": 3420,
     "status": "ok",
     "timestamp": 1747070120667,
     "user": {
      "displayName": "Yong-Jun Jang",
      "userId": "12216012798125380557"
     },
     "user_tz": -540
    },
    "id": "4ce0d106-de1d-4dfe-b807-8a56700ccb6d"
   },
   "outputs": [],
   "source": [
    "import os\n",
    "import sys\n",
    "sys.path.append(os.path.join(os.path.dirname(\"\"),\"..\"))\n",
    "\n",
    "import custom\n",
    "import numpy\n",
    "import pickle\n",
    "import torch\n",
    "import torch.nn as nn\n",
    "from torch.utils.data import DataLoader"
   ]
  },
  {
   "cell_type": "code",
   "execution_count": 4,
   "id": "d77629bb-49ea-421c-81ed-168ab7bb1a0e",
   "metadata": {
    "colab": {
     "base_uri": "https://localhost:8080/"
    },
    "executionInfo": {
     "elapsed": 2428,
     "status": "ok",
     "timestamp": 1747070123092,
     "user": {
      "displayName": "Yong-Jun Jang",
      "userId": "12216012798125380557"
     },
     "user_tz": -540
    },
    "id": "d77629bb-49ea-421c-81ed-168ab7bb1a0e",
    "outputId": "affb306a-46ec-4e21-fbaf-9a0756834871"
   },
   "outputs": [
    {
     "name": "stdout",
     "output_type": "stream",
     "text": [
      "9616\n"
     ]
    }
   ],
   "source": [
    "with open(\"ptb.train.txt\") as f:\n",
    "    text = f.readlines()\n",
    "word_dict, number_dict = custom.make_dict(text)\n",
    "print(len(word_dict))"
   ]
  },
  {
   "cell_type": "code",
   "execution_count": 5,
   "id": "b2a4cb41-8009-4914-ab51-be1f7ccf182a",
   "metadata": {
    "colab": {
     "base_uri": "https://localhost:8080/"
    },
    "executionInfo": {
     "elapsed": 8400,
     "status": "ok",
     "timestamp": 1747070131491,
     "user": {
      "displayName": "Yong-Jun Jang",
      "userId": "12216012798125380557"
     },
     "user_tz": -540
    },
    "id": "b2a4cb41-8009-4914-ab51-be1f7ccf182a",
    "outputId": "3fc6d6da-6405-4b17-ce80-74c16dc0899a"
   },
   "outputs": [
    {
     "name": "stdout",
     "output_type": "stream",
     "text": [
      "[[0. 0. 0. ... 0. 0. 0.]\n",
      " [0. 0. 0. ... 0. 0. 0.]\n",
      " [0. 0. 0. ... 0. 0. 0.]\n",
      " ...\n",
      " [0. 0. 0. ... 0. 0. 0.]\n",
      " [0. 0. 0. ... 0. 0. 0.]\n",
      " [0. 0. 0. ... 0. 0. 0.]]\n",
      "(9616, 9616)\n"
     ]
    }
   ],
   "source": [
    "corpus = custom.word_num_encoding(text, word_dict)\n",
    "comatrix = custom.make_comatrix(corpus, len(word_dict), window_size=2)\n",
    "print(comatrix)\n",
    "print(comatrix.shape)"
   ]
  },
  {
   "cell_type": "code",
   "execution_count": 6,
   "id": "187c54de-f2b8-498c-b438-651bc2fdde1b",
   "metadata": {
    "colab": {
     "base_uri": "https://localhost:8080/"
    },
    "executionInfo": {
     "elapsed": 16160,
     "status": "ok",
     "timestamp": 1747070147648,
     "user": {
      "displayName": "Yong-Jun Jang",
      "userId": "12216012798125380557"
     },
     "user_tz": -540
    },
    "id": "187c54de-f2b8-498c-b438-651bc2fdde1b",
    "outputId": "cc8bd933-e3db-492d-86a5-e85e10ced7bf"
   },
   "outputs": [
    {
     "name": "stdout",
     "output_type": "stream",
     "text": [
      "[[   2    3]\n",
      " [   3    2]\n",
      " [   2    4]\n",
      " ...\n",
      " [9576 9574]\n",
      " [9580 9581]\n",
      " [9581 9580]]\n",
      "(899500, 2)\n"
     ]
    }
   ],
   "source": [
    "word_pair = custom.make_word_pair(comatrix)\n",
    "print(word_pair)\n",
    "print(word_pair.shape)"
   ]
  },
  {
   "cell_type": "code",
   "execution_count": 7,
   "id": "e8ed2ec5-d256-4068-abc4-ab347f3f4880",
   "metadata": {
    "executionInfo": {
     "elapsed": 4763,
     "status": "ok",
     "timestamp": 1747070152409,
     "user": {
      "displayName": "Yong-Jun Jang",
      "userId": "12216012798125380557"
     },
     "user_tz": -540
    },
    "id": "e8ed2ec5-d256-4068-abc4-ab347f3f4880"
   },
   "outputs": [],
   "source": [
    "device = \"cuda\" if torch.cuda.is_available() else \"cpu\"\n",
    "\n",
    "tensor_x = torch.tensor(word_pair[:,0], dtype = torch.long, device = device)\n",
    "tensor_t = torch.tensor(word_pair[:,1], dtype = torch.long, device = device)\n",
    "zip_list = list(zip(tensor_x, tensor_t))\n",
    "dataloader = DataLoader(zip_list,batch_size=1000,shuffle=True)\n",
    "\n",
    "tensor_x = None\n",
    "tensor_t = None\n",
    "zip_list = None"
   ]
  },
  {
   "cell_type": "code",
   "execution_count": 13,
   "id": "1febe2d5-4dae-4ea0-8105-0450b6b0b622",
   "metadata": {
    "colab": {
     "base_uri": "https://localhost:8080/"
    },
    "executionInfo": {
     "elapsed": 531208,
     "status": "ok",
     "timestamp": 1747070771807,
     "user": {
      "displayName": "Yong-Jun Jang",
      "userId": "12216012798125380557"
     },
     "user_tz": -540
    },
    "id": "1febe2d5-4dae-4ea0-8105-0450b6b0b622",
    "outputId": "322a8493-86e3-4f03-c399-32a784b44356"
   },
   "outputs": [
    {
     "name": "stdout",
     "output_type": "stream",
     "text": [
      "epoch 1 | loss 8.621912002563477\n",
      "epoch 2 | loss 8.03363037109375\n",
      "epoch 3 | loss 7.9815850257873535\n",
      "epoch 4 | loss 7.938289165496826\n",
      "epoch 5 | loss 7.894077301025391\n",
      "epoch 6 | loss 7.852311611175537\n",
      "epoch 7 | loss 7.812238693237305\n",
      "epoch 8 | loss 7.773858070373535\n",
      "epoch 9 | loss 7.736598968505859\n",
      "epoch 10 | loss 7.701250076293945\n",
      "epoch 11 | loss 7.667359352111816\n",
      "epoch 12 | loss 7.6351776123046875\n",
      "epoch 13 | loss 7.604589939117432\n",
      "epoch 14 | loss 7.575479030609131\n",
      "epoch 15 | loss 7.547812461853027\n",
      "epoch 16 | loss 7.521609783172607\n",
      "epoch 17 | loss 7.4967217445373535\n",
      "epoch 18 | loss 7.472884178161621\n",
      "epoch 19 | loss 7.450355529785156\n",
      "epoch 20 | loss 7.428776264190674\n",
      "epoch 21 | loss 7.408275604248047\n",
      "epoch 22 | loss 7.388728618621826\n",
      "epoch 23 | loss 7.369999408721924\n",
      "epoch 24 | loss 7.3520188331604\n",
      "epoch 25 | loss 7.33505916595459\n",
      "epoch 26 | loss 7.318798065185547\n",
      "epoch 27 | loss 7.303086280822754\n",
      "epoch 28 | loss 7.288135051727295\n",
      "epoch 29 | loss 7.273746967315674\n",
      "epoch 30 | loss 7.259912967681885\n",
      "epoch 31 | loss 7.246689319610596\n",
      "epoch 32 | loss 7.233962535858154\n",
      "epoch 33 | loss 7.221396446228027\n",
      "epoch 34 | loss 7.209564208984375\n",
      "epoch 35 | loss 7.198261260986328\n",
      "epoch 36 | loss 7.187217712402344\n",
      "epoch 37 | loss 7.17661714553833\n",
      "epoch 38 | loss 7.1661481857299805\n",
      "epoch 39 | loss 7.156271457672119\n",
      "epoch 40 | loss 7.146667003631592\n",
      "epoch 41 | loss 7.137341022491455\n",
      "epoch 43 | loss 7.119429588317871\n",
      "epoch 44 | loss 7.110928535461426\n",
      "epoch 45 | loss 7.10272741317749\n",
      "epoch 46 | loss 7.094605922698975\n",
      "epoch 47 | loss 7.086941242218018\n",
      "epoch 48 | loss 7.079477787017822\n",
      "epoch 49 | loss 7.0721964836120605\n",
      "epoch 50 | loss 7.064877986907959\n",
      "epoch 51 | loss 7.058042526245117\n",
      "epoch 52 | loss 7.0512871742248535\n",
      "epoch 53 | loss 7.0449018478393555\n",
      "epoch 54 | loss 7.038422584533691\n",
      "epoch 55 | loss 7.03231954574585\n",
      "epoch 56 | loss 7.026215553283691\n",
      "epoch 57 | loss 7.020309925079346\n",
      "epoch 58 | loss 7.014569282531738\n",
      "epoch 59 | loss 7.009024620056152\n",
      "epoch 60 | loss 7.00353479385376\n",
      "epoch 61 | loss 6.998258113861084\n",
      "epoch 62 | loss 6.993013858795166\n",
      "epoch 63 | loss 6.9880571365356445\n",
      "epoch 64 | loss 6.983116626739502\n",
      "epoch 65 | loss 6.978329181671143\n",
      "epoch 66 | loss 6.973536491394043\n",
      "epoch 67 | loss 6.968961715698242\n",
      "epoch 68 | loss 6.964448928833008\n",
      "epoch 69 | loss 6.960025787353516\n",
      "epoch 70 | loss 6.955766677856445\n",
      "epoch 71 | loss 6.951617240905762\n",
      "epoch 72 | loss 6.947551250457764\n",
      "epoch 73 | loss 6.943532943725586\n",
      "epoch 74 | loss 6.939603805541992\n",
      "epoch 75 | loss 6.935840129852295\n",
      "epoch 76 | loss 6.93196964263916\n",
      "epoch 77 | loss 6.928359031677246\n",
      "epoch 78 | loss 6.9248456954956055\n",
      "epoch 79 | loss 6.921306610107422\n",
      "epoch 80 | loss 6.917977809906006\n",
      "epoch 81 | loss 6.914397239685059\n",
      "epoch 82 | loss 6.9111247062683105\n",
      "epoch 83 | loss 6.907882213592529\n",
      "epoch 84 | loss 6.904745578765869\n",
      "epoch 85 | loss 6.901839733123779\n",
      "epoch 86 | loss 6.8987016677856445\n",
      "epoch 87 | loss 6.89560079574585\n",
      "epoch 88 | loss 6.8928446769714355\n",
      "epoch 89 | loss 6.889989376068115\n",
      "epoch 90 | loss 6.887025356292725\n",
      "epoch 91 | loss 6.884418964385986\n",
      "epoch 92 | loss 6.881793022155762\n",
      "epoch 93 | loss 6.879014015197754\n",
      "epoch 94 | loss 6.876393795013428\n",
      "epoch 95 | loss 6.873808860778809\n",
      "epoch 96 | loss 6.871388912200928\n",
      "epoch 97 | loss 6.8691487312316895\n",
      "epoch 98 | loss 6.866438865661621\n",
      "epoch 99 | loss 6.8641204833984375\n",
      "epoch 100 | loss 6.861747741699219\n"
     ]
    }
   ],
   "source": [
    "\n",
    "\n",
    "class NN(nn.Module) :\n",
    "    def __init__(self, word_size) :\n",
    "        super().__init__();\n",
    "        self.f = nn.Embedding(word_size, 100, max_norm=1, padding_idx=0)\n",
    "        self.g = nn.Linear(100, word_size)\n",
    "    def forward(self, x) :\n",
    "        y = self.f(x)\n",
    "        y = self.g(y)\n",
    "        return y\n",
    "\n",
    "F = NN(len(word_dict))\n",
    "F = F.to(device)\n",
    "loss_function = nn.CrossEntropyLoss()\n",
    "optimizer = torch.optim.Adam(F.parameters(), lr =0.001)\n",
    "epoch = 100\n",
    "\n",
    "for e in range(epoch) :\n",
    "    loss_sum = 0\n",
    "    for x, t in dataloader :\n",
    "        y = F(x)\n",
    "\n",
    "        loss = loss_function(y, t)\n",
    "        loss_sum += loss\n",
    "\n",
    "        loss.backward()\n",
    "        optimizer.step()\n",
    "        optimizer.zero_grad()\n",
    "    loss_sum /= len(dataloader)\n",
    "\n",
    "    if (e+1) % 1 == 0 :\n",
    "        print(\"epoch {} | loss {}\".format(e+1, loss_sum))\n"
   ]
  },
  {
   "cell_type": "code",
   "execution_count": 14,
   "id": "53da135f-602b-4146-a225-809422a37101",
   "metadata": {
    "colab": {
     "base_uri": "https://localhost:8080/"
    },
    "executionInfo": {
     "elapsed": 6,
     "status": "ok",
     "timestamp": 1747070771808,
     "user": {
      "displayName": "Yong-Jun Jang",
      "userId": "12216012798125380557"
     },
     "user_tz": -540
    },
    "id": "53da135f-602b-4146-a225-809422a37101",
    "outputId": "88d59be5-6ed6-47e1-907e-e7fc4d72a648"
   },
   "outputs": [
    {
     "name": "stdout",
     "output_type": "stream",
     "text": [
      "(9616, 100)\n",
      "[[ 0.0000000e+00  0.0000000e+00  0.0000000e+00 ...  0.0000000e+00\n",
      "   0.0000000e+00  0.0000000e+00]\n",
      " [-2.0628695e+00  4.1457182e-01  3.3503395e-01 ... -1.4180155e+00\n",
      "  -6.4852610e-02 -3.6146756e-02]\n",
      " [ 1.4360501e-01 -1.0947106e-01 -4.7382742e-02 ...  8.5782573e-02\n",
      "  -1.4418074e-01  7.3031202e-02]\n",
      " ...\n",
      " [-8.6332656e-02  1.4061081e-01  1.0999815e-01 ... -2.8560665e-02\n",
      "   2.0091102e-01 -1.4574155e-01]\n",
      " [-1.3666832e-01 -2.2194084e-02 -6.7969626e-03 ...  7.8827158e-02\n",
      "   3.1291302e-02 -1.5549462e-03]\n",
      " [-1.2314524e-01 -4.1916226e-03 -1.9783165e-02 ... -5.4212973e-02\n",
      "  -1.9959524e-02  8.2199745e-02]]\n"
     ]
    }
   ],
   "source": [
    "F.to(\"cpu\")\n",
    "word_vecs = F.state_dict()['f.weight'].numpy()\n",
    "\n",
    "print(word_vecs.shape)\n",
    "print(word_vecs)"
   ]
  },
  {
   "cell_type": "code",
   "execution_count": 15,
   "id": "8333489e-b8ed-463a-81a2-ef638ad253eb",
   "metadata": {
    "colab": {
     "base_uri": "https://localhost:8080/"
    },
    "executionInfo": {
     "elapsed": 5,
     "status": "ok",
     "timestamp": 1747070771808,
     "user": {
      "displayName": "Yong-Jun Jang",
      "userId": "12216012798125380557"
     },
     "user_tz": -540
    },
    "id": "8333489e-b8ed-463a-81a2-ef638ad253eb",
    "outputId": "ba18955d-1312-4bda-9358-139125a0432d"
   },
   "outputs": [
    {
     "name": "stdout",
     "output_type": "stream",
     "text": [
      "9616\n"
     ]
    }
   ],
   "source": [
    "word_vecs_list = word_vecs.tolist()\n",
    "vector_dict = {}\n",
    "words = list(word_dict.keys())\n",
    "\n",
    "for i in range(len(word_vecs_list)) :\n",
    "    vector_dict[words[i]] = word_vecs_list[i]\n",
    "\n",
    "print(len(vector_dict))"
   ]
  },
  {
   "cell_type": "code",
   "execution_count": 16,
   "id": "PtblWS-ySh6S",
   "metadata": {
    "colab": {
     "base_uri": "https://localhost:8080/"
    },
    "executionInfo": {
     "elapsed": 4,
     "status": "ok",
     "timestamp": 1747070771808,
     "user": {
      "displayName": "Yong-Jun Jang",
      "userId": "12216012798125380557"
     },
     "user_tz": -540
    },
    "id": "PtblWS-ySh6S",
    "outputId": "21b62da0-eba0-4d3b-ed24-0afdcd8690e1"
   },
   "outputs": [
    {
     "name": "stdout",
     "output_type": "stream",
     "text": [
      "검색어 || you\n",
      "i : 0.9586864709854126\n",
      "can : 0.9839915633201599\n",
      "<pad> : 0.9848583936691284\n",
      "we : 1.012019157409668\n",
      "they : 1.0184091329574585\n",
      "\n",
      "검색어 || year\n",
      "last : 0.8900653123855591\n",
      "n : 0.9026908874511719\n",
      "this : 0.9036263227462769\n",
      "next : 0.9511094093322754\n",
      "a : 0.9774905443191528\n",
      "\n",
      "검색어 || car\n",
      "<pad> : 1.0003896951675415\n",
      "luxury : 1.0230761766433716\n",
      "unk : 1.1095541715621948\n",
      "and : 1.1202186346054077\n",
      "machine : 1.12130868434906\n",
      "\n",
      "검색어 || toyota\n",
      "<pad> : 1.0003238916397095\n",
      "luxury : 1.0157811641693115\n",
      "honda : 1.0214217901229858\n",
      "model : 1.036908507347107\n",
      "nissan : 1.0810128450393677\n",
      "\n"
     ]
    }
   ],
   "source": [
    "querys = [\"you\", \"year\", \"car\", \"toyota\"]\n",
    "for q in querys :\n",
    "    custom.most_similiar(q, word_dict, number_dict, word_vecs, top = 5, mode = \"euc\")"
   ]
  },
  {
   "cell_type": "code",
   "execution_count": 18,
   "id": "lpmFFFMniMpq",
   "metadata": {
    "colab": {
     "base_uri": "https://localhost:8080/"
    },
    "executionInfo": {
     "elapsed": 371,
     "status": "ok",
     "timestamp": 1747070809410,
     "user": {
      "displayName": "Yong-Jun Jang",
      "userId": "12216012798125380557"
     },
     "user_tz": -540
    },
    "id": "lpmFFFMniMpq",
    "outputId": "6982fe8b-3808-4f92-fa19-bb6fe9a6c0a1"
   },
   "outputs": [
    {
     "name": "stdout",
     "output_type": "stream",
     "text": [
      "검색어 || you\n",
      "i : 0.5274022817611694\n",
      "can : 0.5011430382728577\n",
      "we : 0.4688571095466614\n",
      "they : 0.42274051904678345\n",
      "if : 0.4207979738712311\n",
      "\n",
      "검색어 || year\n",
      "last : 0.5982062816619873\n",
      "this : 0.5491846203804016\n",
      "next : 0.541416585445404\n",
      "n : 0.4814510941505432\n",
      "quarter : 0.45778846740722656\n",
      "\n",
      "검색어 || car\n",
      "luxury : 0.4751872420310974\n",
      "machine : 0.36990612745285034\n",
      "chevrolet : 0.363070011138916\n",
      "milk : 0.3580988943576813\n",
      "vehicle : 0.3341018855571747\n",
      "\n",
      "검색어 || toyota\n",
      "luxury : 0.48261070251464844\n",
      "honda : 0.47866004705429077\n",
      "model : 0.4635608494281769\n",
      "photo : 0.42089420557022095\n",
      "nissan : 0.4142617881298065\n",
      "\n"
     ]
    }
   ],
   "source": [
    "querys = [\"you\", \"year\", \"car\", \"toyota\"]\n",
    "for q in querys :\n",
    "    custom.most_similiar(q, word_dict, number_dict, word_vecs, top = 5, mode = \"cos\")"
   ]
  },
  {
   "cell_type": "code",
   "execution_count": 17,
   "id": "1225d6ae-3be8-4625-b4fe-b87ca9abc362",
   "metadata": {
    "executionInfo": {
     "elapsed": 3,
     "status": "ok",
     "timestamp": 1747070771808,
     "user": {
      "displayName": "Yong-Jun Jang",
      "userId": "12216012798125380557"
     },
     "user_tz": -540
    },
    "id": "1225d6ae-3be8-4625-b4fe-b87ca9abc362"
   },
   "outputs": [],
   "source": [
    "with open(\"word2vec_vector.pkl\", mode = \"wb\") as f :\n",
    "    pickle.dump(word_vecs, f)"
   ]
  }
 ],
 "metadata": {
  "accelerator": "GPU",
  "colab": {
   "gpuType": "T4",
   "provenance": []
  },
  "kernelspec": {
   "display_name": "Python 3 (ipykernel)",
   "language": "python",
   "name": "python3"
  },
  "language_info": {
   "codemirror_mode": {
    "name": "ipython",
    "version": 3
   },
   "file_extension": ".py",
   "mimetype": "text/x-python",
   "name": "python",
   "nbconvert_exporter": "python",
   "pygments_lexer": "ipython3",
   "version": "3.12.7"
  }
 },
 "nbformat": 4,
 "nbformat_minor": 5
}
