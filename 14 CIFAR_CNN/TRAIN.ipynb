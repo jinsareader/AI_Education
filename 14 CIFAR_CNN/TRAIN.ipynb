{
 "cells": [
  {
   "cell_type": "code",
   "execution_count": 1,
   "metadata": {
    "colab": {
     "base_uri": "https://localhost:8080/"
    },
    "executionInfo": {
     "elapsed": 1184,
     "status": "ok",
     "timestamp": 1745154295886,
     "user": {
      "displayName": "Yong-Jun Jang",
      "userId": "12216012798125380557"
     },
     "user_tz": -540
    },
    "id": "6qah1M1o-QC7",
    "outputId": "d0f18d24-940c-4638-9337-fac780b8bd86"
   },
   "outputs": [
    {
     "name": "stdout",
     "output_type": "stream",
     "text": [
      "Drive already mounted at /content/drive; to attempt to forcibly remount, call drive.mount(\"/content/drive\", force_remount=True).\n"
     ]
    }
   ],
   "source": [
    "from google.colab import drive\n",
    "drive.mount('/content/drive')"
   ]
  },
  {
   "cell_type": "code",
   "execution_count": 2,
   "metadata": {
    "colab": {
     "base_uri": "https://localhost:8080/"
    },
    "executionInfo": {
     "elapsed": 425,
     "status": "ok",
     "timestamp": 1745154298049,
     "user": {
      "displayName": "Yong-Jun Jang",
      "userId": "12216012798125380557"
     },
     "user_tz": -540
    },
    "id": "OyIl6WBo-lTX",
    "outputId": "ca0c71ca-bcc6-4a8f-851a-4698716e130e"
   },
   "outputs": [
    {
     "name": "stdout",
     "output_type": "stream",
     "text": [
      "/content/drive/MyDrive/PyAI\n"
     ]
    }
   ],
   "source": [
    "%cd '/content/drive/MyDrive/PyAI'"
   ]
  },
  {
   "cell_type": "code",
   "execution_count": 3,
   "metadata": {
    "executionInfo": {
     "elapsed": 2843,
     "status": "ok",
     "timestamp": 1745154302748,
     "user": {
      "displayName": "Yong-Jun Jang",
      "userId": "12216012798125380557"
     },
     "user_tz": -540
    },
    "id": "i6q64jbY-3Re"
   },
   "outputs": [],
   "source": [
    "import torchvision.datasets as datasets #torch에서 데이터 불러오기\n",
    "import torchvision.transforms as transforms\n",
    "import torch\n",
    "import torch.nn as nn\n",
    "from torch.utils.data import DataLoader"
   ]
  },
  {
   "cell_type": "code",
   "execution_count": 4,
   "metadata": {
    "executionInfo": {
     "elapsed": 5001,
     "status": "ok",
     "timestamp": 1745154308832,
     "user": {
      "displayName": "Yong-Jun Jang",
      "userId": "12216012798125380557"
     },
     "user_tz": -540
    },
    "id": "rsgMV6MLGCcl"
   },
   "outputs": [],
   "source": [
    "train = datasets.CIFAR10(root = \"/data\", train = True, transform=transforms.ToTensor(), download=True)\n",
    "test = datasets.CIFAR10(root = \"/data\", train = False, transform=transforms.ToTensor(), download=True)\n",
    "\n",
    "train_data = DataLoader(train, batch_size = 100, shuffle=True)\n",
    "test_data = DataLoader(test, batch_size=1000, shuffle = False)"
   ]
  },
  {
   "cell_type": "code",
   "execution_count": 7,
   "metadata": {
    "colab": {
     "base_uri": "https://localhost:8080/"
    },
    "executionInfo": {
     "elapsed": 833758,
     "status": "ok",
     "timestamp": 1745155224847,
     "user": {
      "displayName": "Yong-Jun Jang",
      "userId": "12216012798125380557"
     },
     "user_tz": -540
    },
    "id": "dZ4k6jQLHIQ6",
    "outputId": "ddbb3a19-6d39-4256-abb7-20ed9a4199e1"
   },
   "outputs": [
    {
     "name": "stdout",
     "output_type": "stream",
     "text": [
      "epoch 1 | loss 1.8986808061599731\n",
      "epoch 2 | loss 1.5129705667495728\n",
      "epoch 3 | loss 1.3249338865280151\n",
      "epoch 4 | loss 1.210802674293518\n",
      "epoch 5 | loss 1.1266666650772095\n",
      "epoch 6 | loss 1.0610690116882324\n",
      "epoch 7 | loss 1.008978247642517\n",
      "epoch 8 | loss 0.964852511882782\n",
      "epoch 9 | loss 0.9192347526550293\n",
      "epoch 10 | loss 0.8908122181892395\n",
      "epoch 11 | loss 0.8645144701004028\n",
      "epoch 12 | loss 0.8429259657859802\n",
      "epoch 13 | loss 0.8184678554534912\n",
      "epoch 14 | loss 0.8006001710891724\n",
      "epoch 15 | loss 0.7842457294464111\n",
      "epoch 16 | loss 0.7715557813644409\n",
      "epoch 17 | loss 0.7597318887710571\n",
      "epoch 18 | loss 0.7469639778137207\n",
      "epoch 19 | loss 0.7307722568511963\n",
      "epoch 20 | loss 0.7260173559188843\n",
      "epoch 21 | loss 0.7085958123207092\n",
      "epoch 22 | loss 0.712296724319458\n",
      "epoch 23 | loss 0.6993889808654785\n",
      "epoch 24 | loss 0.692719578742981\n",
      "epoch 25 | loss 0.6779728531837463\n",
      "epoch 26 | loss 0.6774918437004089\n",
      "epoch 27 | loss 0.6653558015823364\n",
      "epoch 28 | loss 0.6587547063827515\n",
      "epoch 29 | loss 0.656877875328064\n",
      "epoch 30 | loss 0.6443622708320618\n",
      "epoch 31 | loss 0.6375349760055542\n",
      "epoch 32 | loss 0.632904589176178\n",
      "epoch 33 | loss 0.6310505867004395\n",
      "epoch 34 | loss 0.6283568739891052\n",
      "epoch 35 | loss 0.6309154629707336\n",
      "epoch 36 | loss 0.6151109337806702\n",
      "epoch 37 | loss 0.6199374198913574\n",
      "epoch 38 | loss 0.6063469052314758\n",
      "epoch 39 | loss 0.6066997647285461\n",
      "epoch 40 | loss 0.596844494342804\n",
      "epoch 41 | loss 0.5956124663352966\n",
      "epoch 42 | loss 0.5938015580177307\n",
      "epoch 43 | loss 0.589346170425415\n",
      "epoch 44 | loss 0.5838318467140198\n",
      "epoch 45 | loss 0.5817847847938538\n",
      "epoch 46 | loss 0.5763225555419922\n",
      "epoch 47 | loss 0.580235481262207\n",
      "epoch 48 | loss 0.5709320902824402\n",
      "epoch 49 | loss 0.5691946744918823\n",
      "epoch 50 | loss 0.5653619170188904\n",
      "epoch 51 | loss 0.564191997051239\n",
      "epoch 52 | loss 0.5641446113586426\n",
      "epoch 53 | loss 0.5543517470359802\n",
      "epoch 54 | loss 0.5546170473098755\n",
      "epoch 55 | loss 0.5529881119728088\n",
      "epoch 56 | loss 0.550180196762085\n",
      "epoch 57 | loss 0.5501599907875061\n",
      "epoch 58 | loss 0.5466811656951904\n",
      "epoch 59 | loss 0.5418199300765991\n",
      "epoch 60 | loss 0.5467948317527771\n",
      "epoch 61 | loss 0.536276638507843\n",
      "epoch 62 | loss 0.5395016074180603\n",
      "epoch 63 | loss 0.5386051535606384\n",
      "epoch 64 | loss 0.5323060750961304\n",
      "epoch 65 | loss 0.5297907590866089\n",
      "epoch 66 | loss 0.5309687852859497\n",
      "epoch 67 | loss 0.5296235680580139\n",
      "epoch 68 | loss 0.5239908695220947\n",
      "epoch 69 | loss 0.5287861227989197\n",
      "epoch 70 | loss 0.521358072757721\n",
      "epoch 71 | loss 0.5143194198608398\n",
      "epoch 72 | loss 0.5213708877563477\n",
      "epoch 73 | loss 0.5168468952178955\n",
      "epoch 74 | loss 0.5132872462272644\n",
      "epoch 75 | loss 0.5099732875823975\n",
      "epoch 76 | loss 0.5081144571304321\n",
      "epoch 77 | loss 0.5184581279754639\n",
      "epoch 78 | loss 0.5106871724128723\n",
      "epoch 79 | loss 0.5073612928390503\n",
      "epoch 80 | loss 0.5107647180557251\n",
      "epoch 81 | loss 0.5032760500907898\n",
      "epoch 82 | loss 0.5019469857215881\n",
      "epoch 83 | loss 0.5038262009620667\n",
      "epoch 84 | loss 0.4966970682144165\n",
      "epoch 85 | loss 0.49476516246795654\n",
      "epoch 86 | loss 0.4931487441062927\n",
      "epoch 87 | loss 0.49795615673065186\n",
      "epoch 88 | loss 0.48754608631134033\n",
      "epoch 89 | loss 0.49620163440704346\n",
      "epoch 90 | loss 0.48721519112586975\n",
      "epoch 91 | loss 0.4895632266998291\n",
      "epoch 92 | loss 0.49046722054481506\n",
      "epoch 93 | loss 0.47771644592285156\n",
      "epoch 94 | loss 0.4855978488922119\n",
      "epoch 95 | loss 0.4851027727127075\n",
      "epoch 96 | loss 0.484212726354599\n",
      "epoch 97 | loss 0.47494974732398987\n",
      "epoch 98 | loss 0.4798721373081207\n",
      "epoch 99 | loss 0.47989678382873535\n",
      "epoch 100 | loss 0.47028297185897827\n"
     ]
    }
   ],
   "source": [
    "device = \"cuda\" if torch.cuda.is_available() else \"cpu\"\n",
    "#\n",
    "\n",
    "#\n",
    "class NN(nn.Module) :\n",
    "    def __init__(self) :\n",
    "        super().__init__()\n",
    "        self.f = nn.Sequential(\n",
    "            nn.Conv2d(in_channels=3,out_channels=32,kernel_size=3, device = device), #(3,32,32)>(32,30,30)\n",
    "            nn.ReLU(),\n",
    "            nn.Conv2d(in_channels=32,out_channels=32,kernel_size=3, device = device), #(32,30,30)>(32,28,28)\n",
    "            nn.ReLU(),\n",
    "            nn.MaxPool2d(kernel_size=2,stride=2), #(32,28,28)>(16,14,14)\n",
    "            nn.Dropout(0.25),\n",
    "\n",
    "            nn.Conv2d(in_channels=32,out_channels=64,kernel_size=3, device = device), #(32,14,14)>(64,12,12)\n",
    "            nn.ReLU(),\n",
    "            nn.Conv2d(in_channels=64,out_channels=64,kernel_size=3, device = device), #(64,12,12)>(64,10,10)\n",
    "            nn.ReLU(),\n",
    "            nn.MaxPool2d(kernel_size=2,stride=2), #(64,10,10)>(64,5,5)\n",
    "            nn.Dropout(0.25),\n",
    "\n",
    "            nn.Conv2d(in_channels=64,out_channels=128,kernel_size=3, device = device), #(64,5,5)>(128,3,3)\n",
    "            nn.ReLU(),\n",
    "            nn.Dropout(0.25),\n",
    "            nn.Conv2d(in_channels=128,out_channels=256,kernel_size=3, device = device), #(128,3,3)>(256,1,1)\n",
    "            nn.ReLU(),\n",
    "            nn.Dropout(0.25),\n",
    "        )\n",
    "        self.g = nn.Sequential(\n",
    "            nn.Linear(256, 128, device = device),\n",
    "            nn.ReLU(),\n",
    "            nn.Linear(128, 64, device = device),\n",
    "            nn.ReLU(),\n",
    "            nn.Linear(64, 10, device = device),\n",
    "        )\n",
    "    def forward(self, x) :\n",
    "        if len(x.shape) == 3 :\n",
    "            x = x.unsqueeze(dim = 0)\n",
    "        x = self.f(x)\n",
    "        x = x.reshape(x.shape[0], -1)\n",
    "        x = self.g(x)\n",
    "        return x\n",
    "\n",
    "F = NN()\n",
    "loss_func = nn.CrossEntropyLoss()\n",
    "optimizer = torch.optim.Adam(F.parameters(), lr = 0.001)\n",
    "epoch = 100\n",
    "F.train()\n",
    "\n",
    "for e in range(epoch) :\n",
    "    loss_sum = 0\n",
    "    for x, t in train_data :\n",
    "        x = x.to(device)\n",
    "        t = t.to(device)\n",
    "#\n",
    "        y = F(x)\n",
    "#\n",
    "        loss = loss_func(y, t)\n",
    "        loss_sum += loss\n",
    "#\n",
    "        loss.backward()\n",
    "        optimizer.step()\n",
    "        optimizer.zero_grad()\n",
    "\n",
    "    print(f\"epoch {e+1} | loss {loss_sum / len(train_data)}\")"
   ]
  },
  {
   "cell_type": "code",
   "execution_count": 11,
   "metadata": {
    "colab": {
     "base_uri": "https://localhost:8080/"
    },
    "executionInfo": {
     "elapsed": 1889,
     "status": "ok",
     "timestamp": 1745155924412,
     "user": {
      "displayName": "Yong-Jun Jang",
      "userId": "12216012798125380557"
     },
     "user_tz": -540
    },
    "id": "sF3uhkxQNSw3",
    "outputId": "13d1550e-ac01-495e-d62e-1349de80be40"
   },
   "outputs": [
    {
     "name": "stdout",
     "output_type": "stream",
     "text": [
      "0.8084\n"
     ]
    }
   ],
   "source": [
    "cnt = 0\n",
    "F.eval()\n",
    "\n",
    "for x, t in test_data :\n",
    "    x = x.to(device)\n",
    "    t = t.to(device)\n",
    "    y = F(x)\n",
    "    for i in range(len(x)) :\n",
    "        if torch.argmax(y[i]) == t[i] :\n",
    "            cnt += 1\n",
    "\n",
    "print(cnt / len(test))"
   ]
  },
  {
   "cell_type": "code",
   "execution_count": 12,
   "metadata": {
    "executionInfo": {
     "elapsed": 12,
     "status": "ok",
     "timestamp": 1745155932165,
     "user": {
      "displayName": "Yong-Jun Jang",
      "userId": "12216012798125380557"
     },
     "user_tz": -540
    },
    "id": "HK2Jp9h1Qavl"
   },
   "outputs": [],
   "source": [
    "torch.save(F, \"CIFAR10.pt\")"
   ]
  },
  {
   "cell_type": "code",
   "execution_count": 8,
   "metadata": {
    "colab": {
     "base_uri": "https://localhost:8080/"
    },
    "executionInfo": {
     "elapsed": 43,
     "status": "ok",
     "timestamp": 1745154275732,
     "user": {
      "displayName": "Yong-Jun Jang",
      "userId": "12216012798125380557"
     },
     "user_tz": -540
    },
    "id": "SSfeWQ7iISoV",
    "outputId": "1511dafb-dbed-4736-96e5-5341ff9ad315"
   },
   "outputs": [
    {
     "name": "stdout",
     "output_type": "stream",
     "text": [
      "torch.Size([3, 32, 32])\n",
      "0\n",
      "9\n",
      "tensor([[[0.2314, 0.1686, 0.1961,  ..., 0.6196, 0.5961, 0.5804],\n",
      "         [0.0627, 0.0000, 0.0706,  ..., 0.4824, 0.4667, 0.4784],\n",
      "         [0.0980, 0.0627, 0.1922,  ..., 0.4627, 0.4706, 0.4275],\n",
      "         ...,\n",
      "         [0.8157, 0.7882, 0.7765,  ..., 0.6275, 0.2196, 0.2078],\n",
      "         [0.7059, 0.6784, 0.7294,  ..., 0.7216, 0.3804, 0.3255],\n",
      "         [0.6941, 0.6588, 0.7020,  ..., 0.8471, 0.5922, 0.4824]],\n",
      "\n",
      "        [[0.2431, 0.1804, 0.1882,  ..., 0.5176, 0.4902, 0.4863],\n",
      "         [0.0784, 0.0000, 0.0314,  ..., 0.3451, 0.3255, 0.3412],\n",
      "         [0.0941, 0.0275, 0.1059,  ..., 0.3294, 0.3294, 0.2863],\n",
      "         ...,\n",
      "         [0.6667, 0.6000, 0.6314,  ..., 0.5216, 0.1216, 0.1333],\n",
      "         [0.5451, 0.4824, 0.5647,  ..., 0.5804, 0.2431, 0.2078],\n",
      "         [0.5647, 0.5059, 0.5569,  ..., 0.7216, 0.4627, 0.3608]],\n",
      "\n",
      "        [[0.2471, 0.1765, 0.1686,  ..., 0.4235, 0.4000, 0.4039],\n",
      "         [0.0784, 0.0000, 0.0000,  ..., 0.2157, 0.1961, 0.2235],\n",
      "         [0.0824, 0.0000, 0.0314,  ..., 0.1961, 0.1961, 0.1647],\n",
      "         ...,\n",
      "         [0.3765, 0.1333, 0.1020,  ..., 0.2745, 0.0275, 0.0784],\n",
      "         [0.3765, 0.1647, 0.1176,  ..., 0.3686, 0.1333, 0.1333],\n",
      "         [0.4549, 0.3686, 0.3412,  ..., 0.5490, 0.3294, 0.2824]]])\n"
     ]
    }
   ],
   "source": [
    "print(train[0][0].shape) #x의 모양\n",
    "print(min(train.targets)) #t최댓값\n",
    "print(max(train.targets)) #t최솟값\n",
    "print(train[0][0])"
   ]
  }
 ],
 "metadata": {
  "accelerator": "GPU",
  "colab": {
   "authorship_tag": "ABX9TyPtmwiYdXMfUsWEAXGKaetb",
   "gpuType": "T4",
   "provenance": [
    {
     "file_id": "13q6k955MCxW6cZfdr4B1TZ2wkS8YS-ot",
     "timestamp": 1744696078638
    }
   ]
  },
  "kernelspec": {
   "display_name": "Python 3 (ipykernel)",
   "language": "python",
   "name": "python3"
  },
  "language_info": {
   "codemirror_mode": {
    "name": "ipython",
    "version": 3
   },
   "file_extension": ".py",
   "mimetype": "text/x-python",
   "name": "python",
   "nbconvert_exporter": "python",
   "pygments_lexer": "ipython3",
   "version": "3.12.7"
  }
 },
 "nbformat": 4,
 "nbformat_minor": 4
}
