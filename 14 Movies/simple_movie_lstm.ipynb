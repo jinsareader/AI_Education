{
 "cells": [
  {
   "cell_type": "code",
   "execution_count": 1,
   "id": "2fea160e-7079-49f2-8a88-c5a7266a2df2",
   "metadata": {},
   "outputs": [],
   "source": [
    "import sys\n",
    "import os\n",
    "sys.path.append(os.path.join(os.path.dirname(''), '..'))\n",
    "\n",
    "import numpy\n",
    "import pandas\n",
    "import custom\n",
    "import pickle\n",
    "import torch\n",
    "import torch.nn as nn\n",
    "from torch.utils.data import DataLoader\n",
    "from IPython.display import display\n"
   ]
  },
  {
   "cell_type": "code",
   "execution_count": 2,
   "id": "109639e0-26d5-4b3a-84c7-41dabf15c836",
   "metadata": {},
   "outputs": [],
   "source": [
    "def word_vectorize(sentence : [str,list], vec_dict : dict, word_len : [int, None] = None) :\n",
    "    temp = []\n",
    "    \n",
    "    if type(sentence) == str : \n",
    "        words = str(sentence).split()\n",
    "    else :\n",
    "        words = sentence\n",
    "    if word_len is None :\n",
    "        word_len = len(sentence)\n",
    "        \n",
    "    for i in range(word_len - len(words)) :\n",
    "        temp.append(vec_dict[\"<pad>\"])\n",
    "    for i in range(len(words)) :\n",
    "        if words[i] not in vec_dict :\n",
    "            temp.append(vec_dict[\"<unk>\"])\n",
    "            continue\n",
    "        temp.append(vec_dict[words[i]])\n",
    "\n",
    "    return temp"
   ]
  },
  {
   "cell_type": "code",
   "execution_count": 3,
   "id": "ec951be3-cb79-4e90-b900-8374bffbf642",
   "metadata": {},
   "outputs": [
    {
     "data": {
      "text/html": [
       "<div>\n",
       "<style scoped>\n",
       "    .dataframe tbody tr th:only-of-type {\n",
       "        vertical-align: middle;\n",
       "    }\n",
       "\n",
       "    .dataframe tbody tr th {\n",
       "        vertical-align: top;\n",
       "    }\n",
       "\n",
       "    .dataframe thead th {\n",
       "        text-align: right;\n",
       "    }\n",
       "</style>\n",
       "<table border=\"1\" class=\"dataframe\">\n",
       "  <thead>\n",
       "    <tr style=\"text-align: right;\">\n",
       "      <th></th>\n",
       "      <th>quote</th>\n",
       "      <th>scoreSentiment</th>\n",
       "      <th>word_len</th>\n",
       "    </tr>\n",
       "  </thead>\n",
       "  <tbody>\n",
       "    <tr>\n",
       "      <th>0</th>\n",
       "      <td>if you have not seen it do</td>\n",
       "      <td>1</td>\n",
       "      <td>7</td>\n",
       "    </tr>\n",
       "    <tr>\n",
       "      <th>1</th>\n",
       "      <td>it s benchmark cinema a highpoint of movie his...</td>\n",
       "      <td>1</td>\n",
       "      <td>9</td>\n",
       "    </tr>\n",
       "    <tr>\n",
       "      <th>2</th>\n",
       "      <td>this movie is all about brando</td>\n",
       "      <td>1</td>\n",
       "      <td>6</td>\n",
       "    </tr>\n",
       "    <tr>\n",
       "      <th>3</th>\n",
       "      <td>this is sean connery at his best</td>\n",
       "      <td>1</td>\n",
       "      <td>7</td>\n",
       "    </tr>\n",
       "    <tr>\n",
       "      <th>4</th>\n",
       "      <td>there are so many questions that the script ne...</td>\n",
       "      <td>0</td>\n",
       "      <td>10</td>\n",
       "    </tr>\n",
       "    <tr>\n",
       "      <th>...</th>\n",
       "      <td>...</td>\n",
       "      <td>...</td>\n",
       "      <td>...</td>\n",
       "    </tr>\n",
       "    <tr>\n",
       "      <th>101047</th>\n",
       "      <td>technically a little bit crude but it delivers</td>\n",
       "      <td>1</td>\n",
       "      <td>8</td>\n",
       "    </tr>\n",
       "    <tr>\n",
       "      <th>101048</th>\n",
       "      <td>a sturdy N entertaining late night watch N</td>\n",
       "      <td>1</td>\n",
       "      <td>8</td>\n",
       "    </tr>\n",
       "    <tr>\n",
       "      <th>101049</th>\n",
       "      <td>what on earth happened here N</td>\n",
       "      <td>0</td>\n",
       "      <td>6</td>\n",
       "    </tr>\n",
       "    <tr>\n",
       "      <th>101050</th>\n",
       "      <td>is it tuesday yet</td>\n",
       "      <td>0</td>\n",
       "      <td>4</td>\n",
       "    </tr>\n",
       "    <tr>\n",
       "      <th>101051</th>\n",
       "      <td>N jackie N chan is at his damn finest N</td>\n",
       "      <td>1</td>\n",
       "      <td>10</td>\n",
       "    </tr>\n",
       "  </tbody>\n",
       "</table>\n",
       "<p>101052 rows × 3 columns</p>\n",
       "</div>"
      ],
      "text/plain": [
       "                                                    quote  scoreSentiment  \\\n",
       "0                             if you have not seen it do                1   \n",
       "1       it s benchmark cinema a highpoint of movie his...               1   \n",
       "2                         this movie is all about brando                1   \n",
       "3                       this is sean connery at his best                1   \n",
       "4       there are so many questions that the script ne...               0   \n",
       "...                                                   ...             ...   \n",
       "101047    technically a little bit crude but it delivers                1   \n",
       "101048        a sturdy N entertaining late night watch N                1   \n",
       "101049                     what on earth happened here N                0   \n",
       "101050                                 is it tuesday yet                0   \n",
       "101051           N jackie N chan is at his damn finest N                1   \n",
       "\n",
       "        word_len  \n",
       "0              7  \n",
       "1              9  \n",
       "2              6  \n",
       "3              7  \n",
       "4             10  \n",
       "...          ...  \n",
       "101047         8  \n",
       "101048         8  \n",
       "101049         6  \n",
       "101050         4  \n",
       "101051        10  \n",
       "\n",
       "[101052 rows x 3 columns]"
      ]
     },
     "metadata": {},
     "output_type": "display_data"
    },
    {
     "name": "stdout",
     "output_type": "stream",
     "text": [
      "124833\n"
     ]
    }
   ],
   "source": [
    "##데이터 불러오기\n",
    "df = pandas.read_csv(\"data/simple_movie_data.csv\", encoding=\"UTF8\")\n",
    "display(df)\n",
    "\n",
    "with open(\"data/vector.pkl\", mode=\"rb\") as f:\n",
    "    vec = pickle.load(f)\n",
    "\n",
    "print(len(vec))"
   ]
  },
  {
   "cell_type": "code",
   "execution_count": 4,
   "id": "18d5c8c9-4ee2-4a52-9f9a-1df189839cd7",
   "metadata": {},
   "outputs": [
    {
     "name": "stdout",
     "output_type": "stream",
     "text": [
      "(101052, 10, 300)\n"
     ]
    }
   ],
   "source": [
    "##데이터 전처리\n",
    "\n",
    "sentences = df[\"quote\"].values.tolist()\n",
    "t = df[\"scoreSentiment\"].values.tolist()\n",
    "word_len = df[\"word_len\"].max()\n",
    "\n",
    "x = []\n",
    "for s in sentences :\n",
    "    s = custom.text_preprocess(s)\n",
    "    x.append(word_vectorize(s, vec, word_len))\n",
    "x = numpy.array(x)\n",
    "\n",
    "print(x.shape)\n",
    "    "
   ]
  },
  {
   "cell_type": "code",
   "execution_count": 5,
   "id": "4024ade0-3622-4ca8-b2d4-60032d0dad27",
   "metadata": {},
   "outputs": [
    {
     "name": "stdout",
     "output_type": "stream",
     "text": [
      "506\n",
      "11\n"
     ]
    }
   ],
   "source": [
    "device = \"cuda\" if torch.cuda.is_available() else \"cpu\"\n",
    "\n",
    "##DataLoader 생성\n",
    "tensor_x = torch.tensor(x, dtype = torch.float, device = device)\n",
    "tensor_t = torch.tensor(t, dtype = torch.long, device = device)\n",
    "zip_list = list(zip(tensor_x, tensor_t))\n",
    "dataloader = DataLoader(zip_list, batch_size= 200, shuffle= True)\n",
    "test_dataloader = DataLoader(zip_list, batch_size= 10000, shuffle= False)\n",
    "\n",
    "print(len(dataloader))\n",
    "print(len(test_dataloader))\n",
    "\n"
   ]
  },
  {
   "cell_type": "code",
   "execution_count": 6,
   "id": "b7f8d41f-e5c9-465c-889d-4a4bdc87df0b",
   "metadata": {},
   "outputs": [],
   "source": [
    "##AI 만들기\n",
    "#함수 선언\n",
    "class NN(nn.Module) :\n",
    "    def __init__(self) :\n",
    "        super().__init__()\n",
    "        self.rnn = nn.LSTM(300,10,batch_first = True,device = device)\n",
    "        self.f = nn.Sequential(\n",
    "            nn.Linear(10,2),\n",
    "            nn.ReLU()\n",
    "        )\n",
    "    def forward(self, x) :\n",
    "        x, h = self.rnn(x)\n",
    "        x = x[:,-1,:]\n",
    "        x = self.f(x)\n",
    "        return x\n",
    "F = NN()\n"
   ]
  },
  {
   "cell_type": "code",
   "execution_count": 7,
   "id": "790917c9-9fce-4794-a544-249a521ef634",
   "metadata": {},
   "outputs": [
    {
     "name": "stdout",
     "output_type": "stream",
     "text": [
      "epoch 1 || loss 0.5452408790588379\n",
      "epoch 2 || loss 0.4808312654495239\n",
      "epoch 3 || loss 0.468647837638855\n",
      "epoch 4 || loss 0.4610574245452881\n",
      "epoch 5 || loss 0.45565298199653625\n",
      "epoch 6 || loss 0.4094552993774414\n",
      "epoch 7 || loss 0.38706666231155396\n",
      "epoch 8 || loss 0.37621432542800903\n",
      "epoch 9 || loss 0.3655543029308319\n",
      "epoch 10 || loss 0.3589748740196228\n",
      "epoch 11 || loss 0.3520294427871704\n",
      "epoch 12 || loss 0.34668344259262085\n",
      "epoch 13 || loss 0.3393911123275757\n",
      "epoch 14 || loss 0.3346388041973114\n",
      "epoch 15 || loss 0.33082181215286255\n",
      "epoch 16 || loss 0.32687440514564514\n",
      "epoch 17 || loss 0.3223250210285187\n",
      "epoch 18 || loss 0.3175757825374603\n",
      "epoch 19 || loss 0.3137519657611847\n",
      "epoch 20 || loss 0.31128910183906555\n",
      "epoch 21 || loss 0.3072192966938019\n",
      "epoch 22 || loss 0.30466362833976746\n",
      "epoch 23 || loss 0.30182793736457825\n",
      "epoch 24 || loss 0.29864034056663513\n",
      "epoch 25 || loss 0.2958507239818573\n",
      "epoch 26 || loss 0.2933337092399597\n",
      "epoch 27 || loss 0.29012730717658997\n",
      "epoch 28 || loss 0.28862592577934265\n",
      "epoch 29 || loss 0.2863437533378601\n",
      "epoch 30 || loss 0.2839345932006836\n"
     ]
    }
   ],
   "source": [
    "loss_function = nn.CrossEntropyLoss()\n",
    "optimizer = torch.optim.SGD(F.parameters(), lr = 2)\n",
    "epoch = 30\n",
    "\n",
    "for e in range(epoch) :\n",
    "    loss_sum = 0\n",
    "    for x, t in dataloader :\n",
    "    # x, t 입력\n",
    "    # y = F(x)\n",
    "        y = F(x)\n",
    "    # 손실함수\n",
    "        loss = loss_function(y,t)\n",
    "        loss_sum += loss\n",
    "    # 최적화함수\n",
    "        optimizer.zero_grad()\n",
    "        loss.backward()\n",
    "        optimizer.step()\n",
    "\n",
    "    print(f\"epoch {e+1} || loss {loss_sum / len(dataloader)}\")"
   ]
  },
  {
   "cell_type": "code",
   "execution_count": 8,
   "id": "7695fe5c-f763-47d2-b152-bb57338012be",
   "metadata": {},
   "outputs": [
    {
     "name": "stdout",
     "output_type": "stream",
     "text": [
      "possiblity : 0.874659\n"
     ]
    }
   ],
   "source": [
    "cnt = 0\n",
    "total = 0\n",
    "\n",
    "for x, t in test_dataloader :\n",
    "    y = F(x)\n",
    "    cnt += (y.argmax(dim=1) == t).sum().item()\n",
    "    total += len(x)\n",
    "\n",
    "print(\"possiblity : %f\" %(cnt / total))"
   ]
  },
  {
   "cell_type": "code",
   "execution_count": 9,
   "id": "c70dbf09-3ac9-4160-a600-5522ecdb5e3a",
   "metadata": {},
   "outputs": [],
   "source": [
    "torch.save(F.to(\"cpu\"), \"simple_movie_LSTM.pt\")"
   ]
  },
  {
   "cell_type": "code",
   "execution_count": null,
   "id": "0b6d1951-e36b-4ae9-9980-7aca70db5767",
   "metadata": {},
   "outputs": [],
   "source": []
  }
 ],
 "metadata": {
  "kernelspec": {
   "display_name": "Python 3 (ipykernel)",
   "language": "python",
   "name": "python3"
  },
  "language_info": {
   "codemirror_mode": {
    "name": "ipython",
    "version": 3
   },
   "file_extension": ".py",
   "mimetype": "text/x-python",
   "name": "python",
   "nbconvert_exporter": "python",
   "pygments_lexer": "ipython3",
   "version": "3.12.7"
  }
 },
 "nbformat": 4,
 "nbformat_minor": 5
}
