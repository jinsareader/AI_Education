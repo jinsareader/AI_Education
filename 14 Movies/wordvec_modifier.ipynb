{
 "cells": [
  {
   "cell_type": "code",
   "execution_count": 1,
   "id": "1c4e4aad-746b-437b-a456-ac53641c1903",
   "metadata": {},
   "outputs": [],
   "source": [
    "import sys\n",
    "import os\n",
    "sys.path.append(os.path.join(os.path.dirname(''), '..'))\n",
    "\n",
    "import numpy\n",
    "import custom\n",
    "import pickle\n",
    "from tqdm import tqdm"
   ]
  },
  {
   "cell_type": "code",
   "execution_count": 2,
   "id": "f2b9db3f-de37-40fa-aae4-ab2c19145ee1",
   "metadata": {},
   "outputs": [],
   "source": [
    "with open(\"data/model.txt\", mode = \"r\") as f:\n",
    "    original_data = f.read()"
   ]
  },
  {
   "cell_type": "code",
   "execution_count": 3,
   "id": "3c5fa51b-aa85-41de-af7b-054f2c83468c",
   "metadata": {},
   "outputs": [
    {
     "name": "stderr",
     "output_type": "stream",
     "text": [
      "100%|████████████████████████████████████████████████████████████████████████| 199431/199431 [00:34<00:00, 5839.18it/s]"
     ]
    },
    {
     "name": "stdout",
     "output_type": "stream",
     "text": [
      "123281\n"
     ]
    },
    {
     "name": "stderr",
     "output_type": "stream",
     "text": [
      "\n"
     ]
    }
   ],
   "source": [
    "data = original_data.replace(\"_\",\" \")\n",
    "data = data.split(\"\\n\")\n",
    "\n",
    "vec_dict = {}\n",
    "line_len = len(data[1].split())\n",
    "zero_list = []\n",
    "for i in range(line_len - 2) :\n",
    "    zero_list.append(0)\n",
    "vec_dict[\"<pad>\"] = zero_list\n",
    "vec_dict[\"<unk>\"] = zero_list\n",
    "\n",
    "for i in tqdm(range(1,len(data))) :\n",
    "    vec = []\n",
    "    line = data[i].split()\n",
    "    if len(line) != line_len : #벡터 길이 맞지 않으면 넘김\n",
    "        continue\n",
    "    word = custom.text_preprocess(line[0]).replace(\" \",\"\").replace(\"N\",\"\")\n",
    "    if word in vec_dict : #빈 단어면 넘김 or 이미 있는 단어면 넘김\n",
    "        continue\n",
    "    for j in range(2,len(line)) :\n",
    "        vec.append(float(line[j]))\n",
    "    vec_dict[word] = vec\n",
    "\n",
    "print(len(vec_dict))"
   ]
  },
  {
   "cell_type": "code",
   "execution_count": 4,
   "id": "30901e77-3a4d-4740-b755-c674576a72f9",
   "metadata": {},
   "outputs": [],
   "source": [
    "with open(\"data/vector.pkl\", mode = \"wb\") as f :\n",
    "    pickle.dump(vec_dict, f)\n",
    "\n"
   ]
  },
  {
   "cell_type": "code",
   "execution_count": null,
   "id": "bbffb07f-da4e-4bb0-b03e-f6a42b453052",
   "metadata": {},
   "outputs": [],
   "source": []
  }
 ],
 "metadata": {
  "kernelspec": {
   "display_name": "Python 3 (ipykernel)",
   "language": "python",
   "name": "python3"
  },
  "language_info": {
   "codemirror_mode": {
    "name": "ipython",
    "version": 3
   },
   "file_extension": ".py",
   "mimetype": "text/x-python",
   "name": "python",
   "nbconvert_exporter": "python",
   "pygments_lexer": "ipython3",
   "version": "3.12.7"
  }
 },
 "nbformat": 4,
 "nbformat_minor": 5
}
