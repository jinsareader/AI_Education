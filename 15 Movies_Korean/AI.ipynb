{
 "cells": [
  {
   "cell_type": "code",
   "execution_count": null,
   "id": "zcblxLTXcg9Y",
   "metadata": {
    "executionInfo": {
     "elapsed": 15,
     "status": "ok",
     "timestamp": 1747120838011,
     "user": {
      "displayName": "Yong-Jun Jang",
      "userId": "12216012798125380557"
     },
     "user_tz": -540
    },
    "id": "zcblxLTXcg9Y"
   },
   "outputs": [],
   "source": []
  },
  {
   "cell_type": "code",
   "execution_count": 1,
   "id": "e3cc1476-b2da-4836-9066-f0cac7688a3c",
   "metadata": {
    "executionInfo": {
     "elapsed": 4517,
     "status": "ok",
     "timestamp": 1747120844008,
     "user": {
      "displayName": "Yong-Jun Jang",
      "userId": "12216012798125380557"
     },
     "user_tz": -540
    },
    "id": "e3cc1476-b2da-4836-9066-f0cac7688a3c"
   },
   "outputs": [],
   "source": [
    "import sys\n",
    "import os\n",
    "sys.path.append(os.path.join(os.path.dirname(\"\"),\"..\"))\n",
    "\n",
    "import custom\n",
    "from tqdm import tqdm\n",
    "import numpy\n",
    "import pickle\n",
    "import pandas\n",
    "from IPython.display import display\n",
    "\n",
    "import torch\n",
    "import torch.nn as nn\n",
    "from torch.utils.data import DataLoader\n"
   ]
  },
  {
   "cell_type": "code",
   "execution_count": 2,
   "id": "66a76bf6-5e57-44d7-a323-43551c6ec72a",
   "metadata": {
    "colab": {
     "base_uri": "https://localhost:8080/",
     "height": 864
    },
    "executionInfo": {
     "elapsed": 3141,
     "status": "ok",
     "timestamp": 1747120847153,
     "user": {
      "displayName": "Yong-Jun Jang",
      "userId": "12216012798125380557"
     },
     "user_tz": -540
    },
    "id": "66a76bf6-5e57-44d7-a323-43551c6ec72a",
    "outputId": "6d1c1bee-dede-4f00-f950-232a39467f7c"
   },
   "outputs": [
    {
     "name": "stdout",
     "output_type": "stream",
     "text": [
      "30188\n",
      "30188\n"
     ]
    },
    {
     "data": {
      "text/html": [
       "<div>\n",
       "<style scoped>\n",
       "    .dataframe tbody tr th:only-of-type {\n",
       "        vertical-align: middle;\n",
       "    }\n",
       "\n",
       "    .dataframe tbody tr th {\n",
       "        vertical-align: top;\n",
       "    }\n",
       "\n",
       "    .dataframe thead th {\n",
       "        text-align: right;\n",
       "    }\n",
       "</style>\n",
       "<table border=\"1\" class=\"dataframe\">\n",
       "  <thead>\n",
       "    <tr style=\"text-align: right;\">\n",
       "      <th></th>\n",
       "      <th>document</th>\n",
       "      <th>label</th>\n",
       "      <th>word_len</th>\n",
       "    </tr>\n",
       "  </thead>\n",
       "  <tbody>\n",
       "    <tr>\n",
       "      <th>0</th>\n",
       "      <td>아 더빙 . 진짜 짜증 나 네요 목소리</td>\n",
       "      <td>0</td>\n",
       "      <td>8</td>\n",
       "    </tr>\n",
       "    <tr>\n",
       "      <th>1</th>\n",
       "      <td>흠 . 포스터 보고 초딩 영화 줄 . 오버 연기 조차 가볍 지 않 구나</td>\n",
       "      <td>1</td>\n",
       "      <td>15</td>\n",
       "    </tr>\n",
       "    <tr>\n",
       "      <th>2</th>\n",
       "      <td>너무재밓 었 다 그래서 보 는 것 을 추천 하 ᆫ다</td>\n",
       "      <td>0</td>\n",
       "      <td>11</td>\n",
       "    </tr>\n",
       "    <tr>\n",
       "      <th>3</th>\n",
       "      <td>교도소 이야기 이 구먼 . 솔직히 재미 는 없 다 . 평점 조정</td>\n",
       "      <td>0</td>\n",
       "      <td>13</td>\n",
       "    </tr>\n",
       "    <tr>\n",
       "      <th>4</th>\n",
       "      <td>사이몬페그 의 익살 스럽 ᆫ 연기 가 돋보이 었 던 영화 ! 스파이더맨 에서 늙 어...</td>\n",
       "      <td>1</td>\n",
       "      <td>32</td>\n",
       "    </tr>\n",
       "    <tr>\n",
       "      <th>...</th>\n",
       "      <td>...</td>\n",
       "      <td>...</td>\n",
       "      <td>...</td>\n",
       "    </tr>\n",
       "    <tr>\n",
       "      <th>149995</th>\n",
       "      <td>인간 이 문제 이 지 . 소 는 뭔 죄 이 ᆫ가 .</td>\n",
       "      <td>0</td>\n",
       "      <td>13</td>\n",
       "    </tr>\n",
       "    <tr>\n",
       "      <th>149996</th>\n",
       "      <td>평점 이 너무 낮 어서 .</td>\n",
       "      <td>1</td>\n",
       "      <td>6</td>\n",
       "    </tr>\n",
       "    <tr>\n",
       "      <th>149997</th>\n",
       "      <td>이것 이 뭐 요 ? 한국인 은 거들먹거리 고 필리핀 혼혈 은 착하 다 ?</td>\n",
       "      <td>0</td>\n",
       "      <td>15</td>\n",
       "    </tr>\n",
       "    <tr>\n",
       "      <th>149998</th>\n",
       "      <td>청춘 영화 의 최 고봉 . 방황 과 우울 하 었 던 날 들 의 자화상</td>\n",
       "      <td>1</td>\n",
       "      <td>16</td>\n",
       "    </tr>\n",
       "    <tr>\n",
       "      <th>149999</th>\n",
       "      <td>한국 영화 최초 로 수 간 하 는 내용 이 담기 ᆫ 영화</td>\n",
       "      <td>0</td>\n",
       "      <td>13</td>\n",
       "    </tr>\n",
       "  </tbody>\n",
       "</table>\n",
       "<p>148963 rows × 3 columns</p>\n",
       "</div>"
      ],
      "text/plain": [
       "                                                 document  label  word_len\n",
       "0                                   아 더빙 . 진짜 짜증 나 네요 목소리      0         8\n",
       "1                 흠 . 포스터 보고 초딩 영화 줄 . 오버 연기 조차 가볍 지 않 구나      1        15\n",
       "2                            너무재밓 었 다 그래서 보 는 것 을 추천 하 ᆫ다      0        11\n",
       "3                     교도소 이야기 이 구먼 . 솔직히 재미 는 없 다 . 평점 조정      0        13\n",
       "4       사이몬페그 의 익살 스럽 ᆫ 연기 가 돋보이 었 던 영화 ! 스파이더맨 에서 늙 어...      1        32\n",
       "...                                                   ...    ...       ...\n",
       "149995                       인간 이 문제 이 지 . 소 는 뭔 죄 이 ᆫ가 .      0        13\n",
       "149996                                     평점 이 너무 낮 어서 .      1         6\n",
       "149997           이것 이 뭐 요 ? 한국인 은 거들먹거리 고 필리핀 혼혈 은 착하 다 ?      0        15\n",
       "149998             청춘 영화 의 최 고봉 . 방황 과 우울 하 었 던 날 들 의 자화상      1        16\n",
       "149999                    한국 영화 최초 로 수 간 하 는 내용 이 담기 ᆫ 영화      0        13\n",
       "\n",
       "[148963 rows x 3 columns]"
      ]
     },
     "metadata": {},
     "output_type": "display_data"
    },
    {
     "data": {
      "text/html": [
       "<div>\n",
       "<style scoped>\n",
       "    .dataframe tbody tr th:only-of-type {\n",
       "        vertical-align: middle;\n",
       "    }\n",
       "\n",
       "    .dataframe tbody tr th {\n",
       "        vertical-align: top;\n",
       "    }\n",
       "\n",
       "    .dataframe thead th {\n",
       "        text-align: right;\n",
       "    }\n",
       "</style>\n",
       "<table border=\"1\" class=\"dataframe\">\n",
       "  <thead>\n",
       "    <tr style=\"text-align: right;\">\n",
       "      <th></th>\n",
       "      <th>document</th>\n",
       "      <th>label</th>\n",
       "      <th>word_len</th>\n",
       "    </tr>\n",
       "  </thead>\n",
       "  <tbody>\n",
       "    <tr>\n",
       "      <th>0</th>\n",
       "      <td>굳</td>\n",
       "      <td>1</td>\n",
       "      <td>1</td>\n",
       "    </tr>\n",
       "    <tr>\n",
       "      <th>2</th>\n",
       "      <td>뭐 이 야 이 평점 들 은 . 나쁘 지 ᆫ 않 지만 점 짜리 는 더더욱 아니 잖아</td>\n",
       "      <td>0</td>\n",
       "      <td>19</td>\n",
       "    </tr>\n",
       "    <tr>\n",
       "      <th>3</th>\n",
       "      <td>지루하 지 는 않 은데 완전 막장 이 ᆷ . 돈 주 고 보 기 에 는 .</td>\n",
       "      <td>0</td>\n",
       "      <td>18</td>\n",
       "    </tr>\n",
       "    <tr>\n",
       "      <th>4</th>\n",
       "      <td>만 아니 었 어도 별 다섯 개 주 었 을 터 이 ᆫ데 . 왜 로 나오 어서 저 의 ...</td>\n",
       "      <td>0</td>\n",
       "      <td>28</td>\n",
       "    </tr>\n",
       "    <tr>\n",
       "      <th>5</th>\n",
       "      <td>음악 이 주 가 되 ᆫ 최고 의 음악 영화</td>\n",
       "      <td>1</td>\n",
       "      <td>10</td>\n",
       "    </tr>\n",
       "    <tr>\n",
       "      <th>...</th>\n",
       "      <td>...</td>\n",
       "      <td>...</td>\n",
       "      <td>...</td>\n",
       "    </tr>\n",
       "    <tr>\n",
       "      <th>49995</th>\n",
       "      <td>오랜만 에 평점 로 이 기 ᆫ 하 었 네 킹왕짱 쌈 뽕 하 ᆫ 영화 를 만나 었 습...</td>\n",
       "      <td>1</td>\n",
       "      <td>25</td>\n",
       "    </tr>\n",
       "    <tr>\n",
       "      <th>49996</th>\n",
       "      <td>의지 박약 들 이나 하 는 거 다 탈영 은 일단 주인공 김대희 닮 었 고 이등병 찐따</td>\n",
       "      <td>0</td>\n",
       "      <td>18</td>\n",
       "    </tr>\n",
       "    <tr>\n",
       "      <th>49997</th>\n",
       "      <td>그림 도 좋 고 완성도 도 높 었 지만 . 보 는 내내 불안 하 게 만들 ᆫ다</td>\n",
       "      <td>0</td>\n",
       "      <td>18</td>\n",
       "    </tr>\n",
       "    <tr>\n",
       "      <th>49998</th>\n",
       "      <td>절대 보 어서 는 안 되 ᆯ 영화 . 재미 도 없 고 기분 만 잡치 고 . 한 세트...</td>\n",
       "      <td>0</td>\n",
       "      <td>26</td>\n",
       "    </tr>\n",
       "    <tr>\n",
       "      <th>49999</th>\n",
       "      <td>마무리 는 또 왜 이렇 어</td>\n",
       "      <td>0</td>\n",
       "      <td>6</td>\n",
       "    </tr>\n",
       "  </tbody>\n",
       "</table>\n",
       "<p>49622 rows × 3 columns</p>\n",
       "</div>"
      ],
      "text/plain": [
       "                                                document  label  word_len\n",
       "0                                                      굳      1         1\n",
       "2          뭐 이 야 이 평점 들 은 . 나쁘 지 ᆫ 않 지만 점 짜리 는 더더욱 아니 잖아      0        19\n",
       "3               지루하 지 는 않 은데 완전 막장 이 ᆷ . 돈 주 고 보 기 에 는 .      0        18\n",
       "4      만 아니 었 어도 별 다섯 개 주 었 을 터 이 ᆫ데 . 왜 로 나오 어서 저 의 ...      0        28\n",
       "5                                음악 이 주 가 되 ᆫ 최고 의 음악 영화      1        10\n",
       "...                                                  ...    ...       ...\n",
       "49995  오랜만 에 평점 로 이 기 ᆫ 하 었 네 킹왕짱 쌈 뽕 하 ᆫ 영화 를 만나 었 습...      1        25\n",
       "49996    의지 박약 들 이나 하 는 거 다 탈영 은 일단 주인공 김대희 닮 었 고 이등병 찐따      0        18\n",
       "49997        그림 도 좋 고 완성도 도 높 었 지만 . 보 는 내내 불안 하 게 만들 ᆫ다      0        18\n",
       "49998  절대 보 어서 는 안 되 ᆯ 영화 . 재미 도 없 고 기분 만 잡치 고 . 한 세트...      0        26\n",
       "49999                                     마무리 는 또 왜 이렇 어      0         6\n",
       "\n",
       "[49622 rows x 3 columns]"
      ]
     },
     "metadata": {},
     "output_type": "display_data"
    }
   ],
   "source": [
    "with open(\"data/korean_word.pkl\", mode = \"rb\") as f :\n",
    "    word_dict = pickle.load(f)\n",
    "\n",
    "with open(\"data/korean_vector_list.pkl\", mode = \"rb\") as f :\n",
    "    vec_list = pickle.load(f)\n",
    "\n",
    "train_df = pandas.read_csv(\"data/korean_movie_train.txt\", sep = \"\\t\", encoding = \"UTF8\", index_col = 0)\n",
    "test_df = pandas.read_csv(\"data/korean_movie_test.txt\", sep = \"\\t\", encoding = \"UTF8\", index_col = 0)\n",
    "\n",
    "print(len(word_dict))\n",
    "print(len(vec_list))\n",
    "display(train_df)\n",
    "display(test_df)"
   ]
  },
  {
   "cell_type": "code",
   "execution_count": 3,
   "id": "1625a9c2-2b29-422a-afd9-8999108eae58",
   "metadata": {
    "colab": {
     "base_uri": "https://localhost:8080/"
    },
    "executionInfo": {
     "elapsed": 3010,
     "status": "ok",
     "timestamp": 1747120850165,
     "user": {
      "displayName": "Yong-Jun Jang",
      "userId": "12216012798125380557"
     },
     "user_tz": -540
    },
    "id": "1625a9c2-2b29-422a-afd9-8999108eae58",
    "outputId": "9aa31cc5-80a0-4d96-bf1c-d7ef2d9a5454"
   },
   "outputs": [
    {
     "name": "stderr",
     "output_type": "stream",
     "text": [
      "100%|███████████████████████████████████████████████████████████████████████| 148963/148963 [00:06<00:00, 23762.16it/s]\n"
     ]
    },
    {
     "name": "stdout",
     "output_type": "stream",
     "text": [
      "30\n",
      "\n",
      "torch.Size([148963, 30])\n",
      "torch.Size([148963])\n"
     ]
    }
   ],
   "source": [
    "x = []\n",
    "for i in tqdm(train_df.index) :\n",
    "    x.append(custom.word_vectorize(train_df.loc[i, \"document\"], word_dict, 30))\n",
    "\n",
    "t = train_df['label'].values.tolist()\n",
    "\n",
    "print(len(x[1]))\n",
    "\n",
    "device = \"cuda\" if torch.cuda.is_available() else \"cpu\"\n",
    "\n",
    "tensor_x = torch.tensor(x, dtype = torch.long, device = device)\n",
    "tensor_t = torch.tensor(t, dtype = torch.long, device = device)\n",
    "\n",
    "dataloader = DataLoader(list(zip(tensor_x, tensor_t)),batch_size=300,shuffle=True)\n",
    "\n",
    "\n",
    "print()\n",
    "print(tensor_x.shape)\n",
    "print(tensor_t.shape)"
   ]
  },
  {
   "cell_type": "code",
   "execution_count": 4,
   "id": "6964a26f-eb2a-4924-8ae1-88b27bc9994c",
   "metadata": {
    "colab": {
     "base_uri": "https://localhost:8080/"
    },
    "executionInfo": {
     "elapsed": 762,
     "status": "ok",
     "timestamp": 1747121082097,
     "user": {
      "displayName": "Yong-Jun Jang",
      "userId": "12216012798125380557"
     },
     "user_tz": -540
    },
    "id": "6964a26f-eb2a-4924-8ae1-88b27bc9994c",
    "outputId": "4f710f35-0345-4923-a668-0dcbf38710ad"
   },
   "outputs": [
    {
     "name": "stderr",
     "output_type": "stream",
     "text": [
      "100%|█████████████████████████████████████████████████████████████████████████| 49622/49622 [00:02<00:00, 21938.43it/s]\n"
     ]
    },
    {
     "name": "stdout",
     "output_type": "stream",
     "text": [
      "\n",
      "2\n",
      "1\n"
     ]
    }
   ],
   "source": [
    "x = []\n",
    "for i in tqdm(test_df.index) :\n",
    "    x.append(custom.word_vectorize(test_df.loc[i, \"document\"], word_dict, 40))\n",
    "\n",
    "t = test_df['label'].values.tolist()\n",
    "\n",
    "\n",
    "\n",
    "device = \"cuda\" if torch.cuda.is_available() else \"cpu\"\n",
    "\n",
    "tensor_x = torch.tensor(x, dtype = torch.long, device = device)\n",
    "tensor_t = torch.tensor(t, dtype = torch.long, device = device)\n",
    "\n",
    "test_dataloader = DataLoader(list(zip(tensor_x, tensor_t)),batch_size=1000,shuffle=True)\n",
    "\n",
    "print()\n",
    "print(len(tensor_x.shape))\n",
    "print(len(tensor_t.shape))"
   ]
  },
  {
   "cell_type": "code",
   "execution_count": 5,
   "id": "4ff68d1f-97f0-48a5-9465-75ae95667242",
   "metadata": {
    "colab": {
     "base_uri": "https://localhost:8080/"
    },
    "executionInfo": {
     "elapsed": 90803,
     "status": "ok",
     "timestamp": 1747121076540,
     "user": {
      "displayName": "Yong-Jun Jang",
      "userId": "12216012798125380557"
     },
     "user_tz": -540
    },
    "id": "4ff68d1f-97f0-48a5-9465-75ae95667242",
    "outputId": "e336d652-a106-4c5d-932f-708fce4cae23"
   },
   "outputs": [
    {
     "name": "stdout",
     "output_type": "stream",
     "text": [
      "epoch 1 | loss 0.6108079397942219 | acc 0.7500302285276692 | cnt 0\n",
      "epoch 2 | loss 0.4821653300727637 | acc 0.7820523155052195 | cnt 0\n",
      "epoch 3 | loss 0.4583440205940538 | acc 0.7686106968683245 | cnt 1\n",
      "epoch 4 | loss 0.4436380791832024 | acc 0.7714118737656684 | cnt 2\n",
      "epoch 5 | loss 0.431205969881004 | acc 0.7933779372052718 | cnt 0\n",
      "epoch 6 | loss 0.4214150925997038 | acc 0.8043609689250736 | cnt 0\n",
      "epoch 7 | loss 0.413586242398026 | acc 0.8006730885494338 | cnt 1\n",
      "epoch 8 | loss 0.40538035426101454 | acc 0.8128451090242231 | cnt 0\n",
      "epoch 9 | loss 0.3999943653462638 | acc 0.8002095844585063 | cnt 1\n",
      "epoch 10 | loss 0.3936622620108622 | acc 0.7862036999717867 | cnt 2\n",
      "epoch 11 | loss 0.390005303400623 | acc 0.7907178267703842 | cnt 3\n",
      "epoch 12 | loss 0.3859336516506955 | acc 0.8010358308814639 | cnt 4\n",
      "epoch 13 | loss 0.38139531825869616 | acc 0.8193946233525452 | cnt 0\n",
      "epoch 14 | loss 0.37839945365245675 | acc 0.8220345814356536 | cnt 0\n",
      "epoch 15 | loss 0.3750091276658133 | acc 0.823525855467333 | cnt 0\n",
      "epoch 16 | loss 0.37238379989111686 | acc 0.8231631131353029 | cnt 1\n",
      "epoch 17 | loss 0.36864343507429004 | acc 0.8234250937084358 | cnt 2\n",
      "epoch 18 | loss 0.3659699222811271 | acc 0.8247349965741002 | cnt 0\n",
      "epoch 19 | loss 0.36475783814366913 | acc 0.825037281850792 | cnt 1\n",
      "epoch 20 | loss 0.36265314189001346 | acc 0.8165934464552014 | cnt 2\n",
      "epoch 21 | loss 0.3607914717624365 | acc 0.8242714924831728 | cnt 3\n",
      "epoch 22 | loss 0.35835817828024896 | acc 0.8214703155858288 | cnt 4\n",
      "epoch 23 | loss 0.3559596208139684 | acc 0.8282616581355045 | cnt 0\n",
      "epoch 24 | loss 0.35496059905595223 | acc 0.8232034178388618 | cnt 1\n",
      "epoch 25 | loss 0.35353394905086494 | acc 0.8258232235701907 | cnt 2\n",
      "epoch 26 | loss 0.352322468635302 | acc 0.8227399137479344 | cnt 3\n",
      "epoch 27 | loss 0.34970590784036415 | acc 0.8167748176212164 | cnt 4\n",
      "epoch 28 | loss 0.34841650331643986 | acc 0.8297932368707428 | cnt 0\n",
      "epoch 29 | loss 0.34715932949448014 | acc 0.8304381121276853 | cnt 1\n",
      "epoch 30 | loss 0.34607234729127867 | acc 0.8279996775623716 | cnt 2\n"
     ]
    }
   ],
   "source": [
    "##AI\n",
    "class NN(nn.Module) :\n",
    "    def __init__(self, embedding_tensor) :\n",
    "        super().__init__()\n",
    "        self.embedding = nn.Embedding.from_pretrained(embedding_tensor, freeze=True, padding_idx=0)\n",
    "        self.rnn = nn.LSTM(embedding_tensor.shape[1],10,batch_first = True)\n",
    "        self.f = nn.Sequential(\n",
    "            nn.Linear(10,2),\n",
    "        )\n",
    "    def forward(self, x) :\n",
    "        x = self.embedding(x)\n",
    "        x, h = self.rnn(x)\n",
    "        x = x[:,-1,:]\n",
    "        x = self.f(x)\n",
    "        return x\n",
    "\n",
    "embedding_tensor = torch.tensor(vec_list, dtype = torch.float)\n",
    "F = NN(embedding_tensor)\n",
    "F = F.to(device)\n",
    "loss_function = nn.CrossEntropyLoss()\n",
    "optimizer = torch.optim.SGD(F.parameters(), lr = 2)\n",
    "epoch = 30\n",
    "prev_acc = 0\n",
    "cnt = 0\n",
    "\n",
    "for e in range(epoch) :\n",
    "    loss_sum = 0\n",
    "    for x, t in dataloader :\n",
    "        #\n",
    "        y = F(x)\n",
    "        #\n",
    "        loss = loss_function(y, t)\n",
    "        loss_sum += loss.item()\n",
    "        #\n",
    "        optimizer.zero_grad()\n",
    "        loss.backward()\n",
    "        optimizer.step()\n",
    "    loss_sum /= len(dataloader)\n",
    "\n",
    "    #\n",
    "    correct = 0\n",
    "    total = 0\n",
    "    for x, t in test_dataloader :\n",
    "        with torch.no_grad() :\n",
    "            y = F(x)\n",
    "        correct += (y.argmax(dim = -1) == t).sum().item()\n",
    "        total += len(x)\n",
    "    acc = correct / total\n",
    "\n",
    "    if acc <= prev_acc + 0.001 :\n",
    "        cnt += 1\n",
    "    else :\n",
    "        cnt = 0\n",
    "        prev_acc = acc\n",
    "    print(f\"epoch {e+1} | loss {loss_sum} | acc {acc} | cnt {cnt}\")\n",
    "    if cnt >= 5 :\n",
    "        print(\"train end\")\n",
    "        break\n",
    "\n"
   ]
  },
  {
   "cell_type": "code",
   "execution_count": 6,
   "id": "c325ad84-2b87-420f-87f4-c4e8761241d4",
   "metadata": {
    "executionInfo": {
     "elapsed": 6,
     "status": "ok",
     "timestamp": 1747121139389,
     "user": {
      "displayName": "Yong-Jun Jang",
      "userId": "12216012798125380557"
     },
     "user_tz": -540
    },
    "id": "c325ad84-2b87-420f-87f4-c4e8761241d4"
   },
   "outputs": [],
   "source": [
    "torch.save(F.to(\"cpu\"), \"korean_movie.pt\")"
   ]
  },
  {
   "cell_type": "code",
   "execution_count": null,
   "id": "518d10a9-2a68-460d-bb26-99826f0217c0",
   "metadata": {},
   "outputs": [],
   "source": []
  }
 ],
 "metadata": {
  "accelerator": "GPU",
  "colab": {
   "gpuType": "T4",
   "provenance": []
  },
  "kernelspec": {
   "display_name": "Python 3 (ipykernel)",
   "language": "python",
   "name": "python3"
  },
  "language_info": {
   "codemirror_mode": {
    "name": "ipython",
    "version": 3
   },
   "file_extension": ".py",
   "mimetype": "text/x-python",
   "name": "python",
   "nbconvert_exporter": "python",
   "pygments_lexer": "ipython3",
   "version": "3.12.7"
  }
 },
 "nbformat": 4,
 "nbformat_minor": 5
}
