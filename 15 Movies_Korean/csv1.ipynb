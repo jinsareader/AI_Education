{
 "cells": [
  {
   "cell_type": "code",
   "execution_count": 1,
   "id": "798ff8a6-35d2-459f-9c8b-1d0e2f57ceb6",
   "metadata": {},
   "outputs": [],
   "source": [
    "import sys\n",
    "import os\n",
    "sys.path.append(os.path.join(os.path.dirname(\"\"),\"..\"))\n",
    "\n",
    "import numpy\n",
    "import pandas\n",
    "from IPython.display import display\n",
    "import custom\n",
    "from konlpy.tag import Kkma as word_div\n",
    "from tqdm import tqdm\n",
    "import threading"
   ]
  },
  {
   "cell_type": "code",
   "execution_count": 2,
   "id": "95fc81ad-ba11-4fab-a2fe-a20e08726dc0",
   "metadata": {},
   "outputs": [],
   "source": [
    "class Preprocessor() :\n",
    "    def __init__(self) :\n",
    "        self._result = None\n",
    "        self._error = None\n",
    "    def _process_with_timeout(self, s : str, timeout : int) :\n",
    "        def work() :\n",
    "            try :\n",
    "                self._result = word_div().morphs(s)\n",
    "            except Exception as e :\n",
    "                self._error = e        \n",
    "        self._error = None\n",
    "        thread = threading.Thread(target=work, daemon=True)\n",
    "        thread.start()\n",
    "        thread.join(timeout=timeout)\n",
    "\n",
    "        if thread.is_alive() :\n",
    "            raise Exception(f\"Error : Time Exceeded\")\n",
    "        if self._error is not None :\n",
    "            raise Exception(str(self._error))\n",
    "\n",
    "        return self._result\n",
    "    def process(self, s : str, timeout : int = 10) :\n",
    "        result = self._process_with_timeout(s, timeout)\n",
    "        return result\n"
   ]
  },
  {
   "cell_type": "code",
   "execution_count": 3,
   "id": "2a3d47ab-cfc2-4e5d-af77-9351c9526d3f",
   "metadata": {},
   "outputs": [
    {
     "name": "stdout",
     "output_type": "stream",
     "text": [
      "['안녕', '하', '세요']\n"
     ]
    }
   ],
   "source": [
    "print(Preprocessor().process(\"안녕하세요\"))\n",
    "# print(Preprocessor().process(\"진짜 조낸 재밌다 굿굿굿굿굿굿굿굿굿굿굿굿굿굿굿굿굿굿굿굿굿굿\"))"
   ]
  },
  {
   "cell_type": "code",
   "execution_count": 4,
   "id": "d133aff8-de8d-4c72-a42a-73928f197464",
   "metadata": {},
   "outputs": [
    {
     "data": {
      "text/html": [
       "<div>\n",
       "<style scoped>\n",
       "    .dataframe tbody tr th:only-of-type {\n",
       "        vertical-align: middle;\n",
       "    }\n",
       "\n",
       "    .dataframe tbody tr th {\n",
       "        vertical-align: top;\n",
       "    }\n",
       "\n",
       "    .dataframe thead th {\n",
       "        text-align: right;\n",
       "    }\n",
       "</style>\n",
       "<table border=\"1\" class=\"dataframe\">\n",
       "  <thead>\n",
       "    <tr style=\"text-align: right;\">\n",
       "      <th></th>\n",
       "      <th>id</th>\n",
       "      <th>document</th>\n",
       "      <th>label</th>\n",
       "    </tr>\n",
       "  </thead>\n",
       "  <tbody>\n",
       "    <tr>\n",
       "      <th>0</th>\n",
       "      <td>6270596</td>\n",
       "      <td>굳 ㅋ</td>\n",
       "      <td>1</td>\n",
       "    </tr>\n",
       "    <tr>\n",
       "      <th>1</th>\n",
       "      <td>9274899</td>\n",
       "      <td>GDNTOPCLASSINTHECLUB</td>\n",
       "      <td>0</td>\n",
       "    </tr>\n",
       "    <tr>\n",
       "      <th>2</th>\n",
       "      <td>8544678</td>\n",
       "      <td>뭐야 이 평점들은.... 나쁘진 않지만 10점 짜리는 더더욱 아니잖아</td>\n",
       "      <td>0</td>\n",
       "    </tr>\n",
       "    <tr>\n",
       "      <th>3</th>\n",
       "      <td>6825595</td>\n",
       "      <td>지루하지는 않은데 완전 막장임... 돈주고 보기에는....</td>\n",
       "      <td>0</td>\n",
       "    </tr>\n",
       "    <tr>\n",
       "      <th>4</th>\n",
       "      <td>6723715</td>\n",
       "      <td>3D만 아니었어도 별 다섯 개 줬을텐데.. 왜 3D로 나와서 제 심기를 불편하게 하죠??</td>\n",
       "      <td>0</td>\n",
       "    </tr>\n",
       "    <tr>\n",
       "      <th>...</th>\n",
       "      <td>...</td>\n",
       "      <td>...</td>\n",
       "      <td>...</td>\n",
       "    </tr>\n",
       "    <tr>\n",
       "      <th>49995</th>\n",
       "      <td>4608761</td>\n",
       "      <td>오랜만에 평점 로긴했네ㅋㅋ 킹왕짱 쌈뽕한 영화를 만났습니다 강렬하게 육쾌함</td>\n",
       "      <td>1</td>\n",
       "    </tr>\n",
       "    <tr>\n",
       "      <th>49996</th>\n",
       "      <td>5308387</td>\n",
       "      <td>의지 박약들이나 하는거다 탈영은 일단 주인공 김대희 닮았고 이등병 찐따 OOOO</td>\n",
       "      <td>0</td>\n",
       "    </tr>\n",
       "    <tr>\n",
       "      <th>49997</th>\n",
       "      <td>9072549</td>\n",
       "      <td>그림도 좋고 완성도도 높았지만... 보는 내내 불안하게 만든다</td>\n",
       "      <td>0</td>\n",
       "    </tr>\n",
       "    <tr>\n",
       "      <th>49998</th>\n",
       "      <td>5802125</td>\n",
       "      <td>절대 봐서는 안 될 영화.. 재미도 없고 기분만 잡치고.. 한 세트장에서 다 해먹네</td>\n",
       "      <td>0</td>\n",
       "    </tr>\n",
       "    <tr>\n",
       "      <th>49999</th>\n",
       "      <td>6070594</td>\n",
       "      <td>마무리는 또 왜이래</td>\n",
       "      <td>0</td>\n",
       "    </tr>\n",
       "  </tbody>\n",
       "</table>\n",
       "<p>50000 rows × 3 columns</p>\n",
       "</div>"
      ],
      "text/plain": [
       "            id                                           document  label\n",
       "0      6270596                                                굳 ㅋ      1\n",
       "1      9274899                               GDNTOPCLASSINTHECLUB      0\n",
       "2      8544678             뭐야 이 평점들은.... 나쁘진 않지만 10점 짜리는 더더욱 아니잖아      0\n",
       "3      6825595                   지루하지는 않은데 완전 막장임... 돈주고 보기에는....      0\n",
       "4      6723715  3D만 아니었어도 별 다섯 개 줬을텐데.. 왜 3D로 나와서 제 심기를 불편하게 하죠??      0\n",
       "...        ...                                                ...    ...\n",
       "49995  4608761          오랜만에 평점 로긴했네ㅋㅋ 킹왕짱 쌈뽕한 영화를 만났습니다 강렬하게 육쾌함      1\n",
       "49996  5308387       의지 박약들이나 하는거다 탈영은 일단 주인공 김대희 닮았고 이등병 찐따 OOOO      0\n",
       "49997  9072549                 그림도 좋고 완성도도 높았지만... 보는 내내 불안하게 만든다      0\n",
       "49998  5802125     절대 봐서는 안 될 영화.. 재미도 없고 기분만 잡치고.. 한 세트장에서 다 해먹네      0\n",
       "49999  6070594                                         마무리는 또 왜이래      0\n",
       "\n",
       "[50000 rows x 3 columns]"
      ]
     },
     "metadata": {},
     "output_type": "display_data"
    }
   ],
   "source": [
    "original_df = pandas.read_csv(\"data/ratings_test.txt\", sep = \"\\t\", encoding = \"UTF8\")\n",
    "\n",
    "display(original_df)"
   ]
  },
  {
   "cell_type": "code",
   "execution_count": 5,
   "id": "5c4f7435-42cb-4f7d-b112-4a46f01fbde9",
   "metadata": {},
   "outputs": [
    {
     "name": "stderr",
     "output_type": "stream",
     "text": [
      " 67%|█████████████████████████████████████████████████▌                        | 33452/50000 [15:09<1:58:49,  2.32it/s]"
     ]
    },
    {
     "name": "stdout",
     "output_type": "stream",
     "text": [
      "Error : Time Exceeded 문장 : 진짜 조낸 재밌다 굿굿굿굿굿굿굿굿굿굿굿굿굿굿굿굿굿굿굿굿굿굿\n"
     ]
    },
    {
     "name": "stderr",
     "output_type": "stream",
     "text": [
      " 70%|███████████████████████████████████████████████████▌                      | 34802/50000 [16:03<2:51:53,  1.47it/s]"
     ]
    },
    {
     "name": "stdout",
     "output_type": "stream",
     "text": [
      "Error : Time Exceeded 문장 : 황시욬황시욬황시욬황시욬황시욬황시욬황시욬황시욬황시욬황시욬\n"
     ]
    },
    {
     "name": "stderr",
     "output_type": "stream",
     "text": [
      " 82%|████████████████████████████████████████████████████████████▊             | 41131/50000 [20:47<2:40:48,  1.09s/it]"
     ]
    },
    {
     "name": "stdout",
     "output_type": "stream",
     "text": [
      "Error : Time Exceeded 문장 : 우리 나라 드라마 계가 망해간다는것을 몸소 보여준다. 연기력 쓰레기에 그리 좋은 스토리도 아닌데 이렇게 호응해주는 사람들이 신기할 지경. 왕의 연애 소설이나 다룬 작품. 역사적 사실이 담겨있지도 않은 사극을 봐봤자 몰입도도 떨어지고 말도 안되는 설정.\n"
     ]
    },
    {
     "name": "stderr",
     "output_type": "stream",
     "text": [
      "100%|████████████████████████████████████████████████████████████████████████████| 50000/50000 [25:51<00:00, 32.24it/s]\n"
     ]
    },
    {
     "data": {
      "text/html": [
       "<div>\n",
       "<style scoped>\n",
       "    .dataframe tbody tr th:only-of-type {\n",
       "        vertical-align: middle;\n",
       "    }\n",
       "\n",
       "    .dataframe tbody tr th {\n",
       "        vertical-align: top;\n",
       "    }\n",
       "\n",
       "    .dataframe thead th {\n",
       "        text-align: right;\n",
       "    }\n",
       "</style>\n",
       "<table border=\"1\" class=\"dataframe\">\n",
       "  <thead>\n",
       "    <tr style=\"text-align: right;\">\n",
       "      <th></th>\n",
       "      <th>document</th>\n",
       "      <th>label</th>\n",
       "      <th>word_len</th>\n",
       "    </tr>\n",
       "  </thead>\n",
       "  <tbody>\n",
       "    <tr>\n",
       "      <th>0</th>\n",
       "      <td>굳</td>\n",
       "      <td>1</td>\n",
       "      <td>1</td>\n",
       "    </tr>\n",
       "    <tr>\n",
       "      <th>2</th>\n",
       "      <td>뭐 야 이 평점 들 은 . 나쁘 지 는 않 지만 점 짜리 는 더더욱 아니 잖아</td>\n",
       "      <td>0</td>\n",
       "      <td>18</td>\n",
       "    </tr>\n",
       "    <tr>\n",
       "      <th>3</th>\n",
       "      <td>지루 하 지 는 않 은데 완전 막장 임 . 도 ㄴ 주고 보 기에 는 .</td>\n",
       "      <td>0</td>\n",
       "      <td>17</td>\n",
       "    </tr>\n",
       "    <tr>\n",
       "      <th>4</th>\n",
       "      <td>만 아니 었 어도 별 다섯 개 주 었 을 터 이 ㄴ데 . 왜 로 나오 아서 저 의 ...</td>\n",
       "      <td>0</td>\n",
       "      <td>28</td>\n",
       "    </tr>\n",
       "    <tr>\n",
       "      <th>5</th>\n",
       "      <td>음악 이 주가 되 ㄴ 최고 의 음악 영화</td>\n",
       "      <td>1</td>\n",
       "      <td>9</td>\n",
       "    </tr>\n",
       "    <tr>\n",
       "      <th>...</th>\n",
       "      <td>...</td>\n",
       "      <td>...</td>\n",
       "      <td>...</td>\n",
       "    </tr>\n",
       "    <tr>\n",
       "      <th>49995</th>\n",
       "      <td>오랜만 에 평점 로 긴하 었 네 킹 왕 짱 쌈 뽕 하 ㄴ 영화 를 만나 었 습니다 ...</td>\n",
       "      <td>1</td>\n",
       "      <td>26</td>\n",
       "    </tr>\n",
       "    <tr>\n",
       "      <th>49996</th>\n",
       "      <td>의지 박약 들 이나 하 는 거 이 다 탈영 은 일단 주인공 김 대희 닮 았 고 이등...</td>\n",
       "      <td>0</td>\n",
       "      <td>22</td>\n",
       "    </tr>\n",
       "    <tr>\n",
       "      <th>49997</th>\n",
       "      <td>그림 도 좋 고 완성도 도 높 았 지만 . 보 는 내내 불안 하 게 만들 ㄴ다</td>\n",
       "      <td>0</td>\n",
       "      <td>18</td>\n",
       "    </tr>\n",
       "    <tr>\n",
       "      <th>49998</th>\n",
       "      <td>절대 보 아서 는 안 되 ㄹ 영화 . 재미 도 없 고 기분 만 잡치 고 . 하 ㄴ ...</td>\n",
       "      <td>0</td>\n",
       "      <td>25</td>\n",
       "    </tr>\n",
       "    <tr>\n",
       "      <th>49999</th>\n",
       "      <td>마무리 는 또 왜 이래</td>\n",
       "      <td>0</td>\n",
       "      <td>5</td>\n",
       "    </tr>\n",
       "  </tbody>\n",
       "</table>\n",
       "<p>49619 rows × 3 columns</p>\n",
       "</div>"
      ],
      "text/plain": [
       "                                                document  label  word_len\n",
       "0                                                      굳      1         1\n",
       "2            뭐 야 이 평점 들 은 . 나쁘 지 는 않 지만 점 짜리 는 더더욱 아니 잖아      0        18\n",
       "3                지루 하 지 는 않 은데 완전 막장 임 . 도 ㄴ 주고 보 기에 는 .      0        17\n",
       "4      만 아니 었 어도 별 다섯 개 주 었 을 터 이 ㄴ데 . 왜 로 나오 아서 저 의 ...      0        28\n",
       "5                                 음악 이 주가 되 ㄴ 최고 의 음악 영화      1         9\n",
       "...                                                  ...    ...       ...\n",
       "49995  오랜만 에 평점 로 긴하 었 네 킹 왕 짱 쌈 뽕 하 ㄴ 영화 를 만나 었 습니다 ...      1        26\n",
       "49996  의지 박약 들 이나 하 는 거 이 다 탈영 은 일단 주인공 김 대희 닮 았 고 이등...      0        22\n",
       "49997        그림 도 좋 고 완성도 도 높 았 지만 . 보 는 내내 불안 하 게 만들 ㄴ다      0        18\n",
       "49998  절대 보 아서 는 안 되 ㄹ 영화 . 재미 도 없 고 기분 만 잡치 고 . 하 ㄴ ...      0        25\n",
       "49999                                       마무리 는 또 왜 이래      0         5\n",
       "\n",
       "[49619 rows x 3 columns]"
      ]
     },
     "metadata": {},
     "output_type": "display_data"
    }
   ],
   "source": [
    "df = original_df[['document','label']]\n",
    "\n",
    "for i in tqdm(range(len(df))) :\n",
    "    text = custom.text_preprocess_kor(str(df.iloc[i,0]), end_mark = True)\n",
    "    if text == \" \" :\n",
    "        df.iloc[i,0] = text\n",
    "        continue\n",
    "    try :\n",
    "        df.iloc[i,0] = \" \".join(Preprocessor().process(text))\n",
    "    except Exception as e :\n",
    "        df.iloc[i,0] = \" \"\n",
    "        print(str(e), f\"문장 : {text}\")\n",
    "    \n",
    "word_len = []\n",
    "for i in range(len(df)) :\n",
    "    word_len.append(len(str(df.iloc[i,0]).split()))\n",
    "df[\"word_len\"] = word_len\n",
    "\n",
    "df = df.drop(df[df[\"word_len\"] == 0].index, axis = 0)\n",
    "\n",
    "display(df)\n"
   ]
  },
  {
   "cell_type": "code",
   "execution_count": 6,
   "id": "531022b9-fede-48bb-a2c9-f297ee6f040d",
   "metadata": {},
   "outputs": [],
   "source": [
    "\n",
    "df.to_csv(\"data/korean_movie_test.txt\", sep = \"\\t\", encoding = \"UTF8\")"
   ]
  },
  {
   "cell_type": "code",
   "execution_count": 7,
   "id": "0844f460-d020-4af1-be3e-776176d35628",
   "metadata": {},
   "outputs": [
    {
     "name": "stdout",
     "output_type": "stream",
     "text": [
      "105\n",
      "19.236804449908302\n",
      "16.350658068148533\n"
     ]
    }
   ],
   "source": [
    "print(df[\"word_len\"].max())\n",
    "print(df[\"word_len\"].mean())\n",
    "print(df[\"word_len\"].std())"
   ]
  },
  {
   "cell_type": "code",
   "execution_count": null,
   "id": "e02e13f6-3198-4f51-a552-b7f0cb6403d8",
   "metadata": {},
   "outputs": [],
   "source": []
  }
 ],
 "metadata": {
  "kernelspec": {
   "display_name": "Python 3 (ipykernel)",
   "language": "python",
   "name": "python3"
  },
  "language_info": {
   "codemirror_mode": {
    "name": "ipython",
    "version": 3
   },
   "file_extension": ".py",
   "mimetype": "text/x-python",
   "name": "python",
   "nbconvert_exporter": "python",
   "pygments_lexer": "ipython3",
   "version": "3.12.7"
  }
 },
 "nbformat": 4,
 "nbformat_minor": 5
}
