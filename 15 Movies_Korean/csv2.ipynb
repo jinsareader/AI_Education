{
 "cells": [
  {
   "cell_type": "code",
   "execution_count": 1,
   "id": "798ff8a6-35d2-459f-9c8b-1d0e2f57ceb6",
   "metadata": {},
   "outputs": [],
   "source": [
    "import sys\n",
    "import os\n",
    "sys.path.append(os.path.join(os.path.dirname(\"\"),\"..\"))\n",
    "\n",
    "import numpy\n",
    "import pandas\n",
    "from IPython.display import display\n",
    "import custom\n",
    "from konlpy.tag import Kkma as word_div\n",
    "from tqdm import tqdm\n",
    "import threading"
   ]
  },
  {
   "cell_type": "code",
   "execution_count": 2,
   "id": "95fc81ad-ba11-4fab-a2fe-a20e08726dc0",
   "metadata": {},
   "outputs": [],
   "source": [
    "class Preprocessor() :\n",
    "    def __init__(self) :\n",
    "        self._result = None\n",
    "        self._error = None\n",
    "    def _process_with_timeout(self, s : str, timeout : int) :\n",
    "        def work() :\n",
    "            try :\n",
    "                self._result = word_div().morphs(s)\n",
    "            except Exception as e :\n",
    "                self._error = e        \n",
    "        self._error = None\n",
    "        thread = threading.Thread(target=work, daemon=True)\n",
    "        thread.start()\n",
    "        thread.join(timeout=timeout)\n",
    "\n",
    "        if thread.is_alive() :\n",
    "            raise Exception(f\"Error : Time Exceeded\")\n",
    "        if self._error is not None :\n",
    "            raise Exception(str(self._error))\n",
    "\n",
    "        return self._result\n",
    "    def process(self, s : str, timeout : int = 10) :\n",
    "        result = self._process_with_timeout(s, timeout)\n",
    "        return result\n"
   ]
  },
  {
   "cell_type": "code",
   "execution_count": 3,
   "id": "2a3d47ab-cfc2-4e5d-af77-9351c9526d3f",
   "metadata": {},
   "outputs": [
    {
     "name": "stdout",
     "output_type": "stream",
     "text": [
      "['안녕', '하', '세요']\n"
     ]
    }
   ],
   "source": [
    "print(Preprocessor().process(\"안녕하세요\"))\n",
    "# print(Preprocessor().process(\"진짜 조낸 재밌다 굿굿굿굿굿굿굿굿굿굿굿굿굿굿굿굿굿굿굿굿굿굿\"))"
   ]
  },
  {
   "cell_type": "code",
   "execution_count": 4,
   "id": "d133aff8-de8d-4c72-a42a-73928f197464",
   "metadata": {},
   "outputs": [
    {
     "data": {
      "text/html": [
       "<div>\n",
       "<style scoped>\n",
       "    .dataframe tbody tr th:only-of-type {\n",
       "        vertical-align: middle;\n",
       "    }\n",
       "\n",
       "    .dataframe tbody tr th {\n",
       "        vertical-align: top;\n",
       "    }\n",
       "\n",
       "    .dataframe thead th {\n",
       "        text-align: right;\n",
       "    }\n",
       "</style>\n",
       "<table border=\"1\" class=\"dataframe\">\n",
       "  <thead>\n",
       "    <tr style=\"text-align: right;\">\n",
       "      <th></th>\n",
       "      <th>id</th>\n",
       "      <th>document</th>\n",
       "      <th>label</th>\n",
       "    </tr>\n",
       "  </thead>\n",
       "  <tbody>\n",
       "    <tr>\n",
       "      <th>0</th>\n",
       "      <td>9976970</td>\n",
       "      <td>아 더빙.. 진짜 짜증나네요 목소리</td>\n",
       "      <td>0</td>\n",
       "    </tr>\n",
       "    <tr>\n",
       "      <th>1</th>\n",
       "      <td>3819312</td>\n",
       "      <td>흠...포스터보고 초딩영화줄....오버연기조차 가볍지 않구나</td>\n",
       "      <td>1</td>\n",
       "    </tr>\n",
       "    <tr>\n",
       "      <th>2</th>\n",
       "      <td>10265843</td>\n",
       "      <td>너무재밓었다그래서보는것을추천한다</td>\n",
       "      <td>0</td>\n",
       "    </tr>\n",
       "    <tr>\n",
       "      <th>3</th>\n",
       "      <td>9045019</td>\n",
       "      <td>교도소 이야기구먼 ..솔직히 재미는 없다..평점 조정</td>\n",
       "      <td>0</td>\n",
       "    </tr>\n",
       "    <tr>\n",
       "      <th>4</th>\n",
       "      <td>6483659</td>\n",
       "      <td>사이몬페그의 익살스런 연기가 돋보였던 영화!스파이더맨에서 늙어보이기만 했던 커스틴 ...</td>\n",
       "      <td>1</td>\n",
       "    </tr>\n",
       "    <tr>\n",
       "      <th>...</th>\n",
       "      <td>...</td>\n",
       "      <td>...</td>\n",
       "      <td>...</td>\n",
       "    </tr>\n",
       "    <tr>\n",
       "      <th>149995</th>\n",
       "      <td>6222902</td>\n",
       "      <td>인간이 문제지.. 소는 뭔죄인가..</td>\n",
       "      <td>0</td>\n",
       "    </tr>\n",
       "    <tr>\n",
       "      <th>149996</th>\n",
       "      <td>8549745</td>\n",
       "      <td>평점이 너무 낮아서...</td>\n",
       "      <td>1</td>\n",
       "    </tr>\n",
       "    <tr>\n",
       "      <th>149997</th>\n",
       "      <td>9311800</td>\n",
       "      <td>이게 뭐요? 한국인은 거들먹거리고 필리핀 혼혈은 착하다?</td>\n",
       "      <td>0</td>\n",
       "    </tr>\n",
       "    <tr>\n",
       "      <th>149998</th>\n",
       "      <td>2376369</td>\n",
       "      <td>청춘 영화의 최고봉.방황과 우울했던 날들의 자화상</td>\n",
       "      <td>1</td>\n",
       "    </tr>\n",
       "    <tr>\n",
       "      <th>149999</th>\n",
       "      <td>9619869</td>\n",
       "      <td>한국 영화 최초로 수간하는 내용이 담긴 영화</td>\n",
       "      <td>0</td>\n",
       "    </tr>\n",
       "  </tbody>\n",
       "</table>\n",
       "<p>150000 rows × 3 columns</p>\n",
       "</div>"
      ],
      "text/plain": [
       "              id                                           document  label\n",
       "0        9976970                                아 더빙.. 진짜 짜증나네요 목소리      0\n",
       "1        3819312                  흠...포스터보고 초딩영화줄....오버연기조차 가볍지 않구나      1\n",
       "2       10265843                                  너무재밓었다그래서보는것을추천한다      0\n",
       "3        9045019                      교도소 이야기구먼 ..솔직히 재미는 없다..평점 조정      0\n",
       "4        6483659  사이몬페그의 익살스런 연기가 돋보였던 영화!스파이더맨에서 늙어보이기만 했던 커스틴 ...      1\n",
       "...          ...                                                ...    ...\n",
       "149995   6222902                                인간이 문제지.. 소는 뭔죄인가..      0\n",
       "149996   8549745                                      평점이 너무 낮아서...      1\n",
       "149997   9311800                    이게 뭐요? 한국인은 거들먹거리고 필리핀 혼혈은 착하다?      0\n",
       "149998   2376369                        청춘 영화의 최고봉.방황과 우울했던 날들의 자화상      1\n",
       "149999   9619869                           한국 영화 최초로 수간하는 내용이 담긴 영화      0\n",
       "\n",
       "[150000 rows x 3 columns]"
      ]
     },
     "metadata": {},
     "output_type": "display_data"
    }
   ],
   "source": [
    "original_df = pandas.read_csv(\"data/ratings_train.txt\", sep = \"\\t\", encoding = \"UTF8\")\n",
    "\n",
    "display(original_df)"
   ]
  },
  {
   "cell_type": "code",
   "execution_count": 5,
   "id": "5c4f7435-42cb-4f7d-b112-4a46f01fbde9",
   "metadata": {},
   "outputs": [
    {
     "name": "stderr",
     "output_type": "stream",
     "text": [
      " 52%|█████████████████████████████████████                                   | 77289/150000 [38:28<12:55:31,  1.56it/s]"
     ]
    },
    {
     "name": "stdout",
     "output_type": "stream",
     "text": [
      "Error : Time Exceeded 문장 : 숨은글씨 찾기 의리의리의리의리의리의리의리의리의리의리의리의리의리의리의리의리의리의리의리의리의리의리의리니의리의리의리의리의리의리의리의리의리의리의리의리의리의리의리의리의리의리의리의리의리의리의리의리의리의리의리의리의리의리의리의리의리의리의리의리의리의리의리의리의리\n"
     ]
    },
    {
     "name": "stderr",
     "output_type": "stream",
     "text": [
      " 69%|█████████████████████████████████████████████████▌                      | 103164/150000 [52:56<7:22:11,  1.77it/s]"
     ]
    },
    {
     "name": "stdout",
     "output_type": "stream",
     "text": [
      "Error : Time Exceeded 문장 : 야야야야야야야야야야야야야야야야야야야야야야야야야야야야야\n"
     ]
    },
    {
     "name": "stderr",
     "output_type": "stream",
     "text": [
      "100%|████████████████████████████████████████████████████████████████████████| 150000/150000 [1:18:27<00:00, 31.86it/s]\n"
     ]
    },
    {
     "data": {
      "text/html": [
       "<div>\n",
       "<style scoped>\n",
       "    .dataframe tbody tr th:only-of-type {\n",
       "        vertical-align: middle;\n",
       "    }\n",
       "\n",
       "    .dataframe tbody tr th {\n",
       "        vertical-align: top;\n",
       "    }\n",
       "\n",
       "    .dataframe thead th {\n",
       "        text-align: right;\n",
       "    }\n",
       "</style>\n",
       "<table border=\"1\" class=\"dataframe\">\n",
       "  <thead>\n",
       "    <tr style=\"text-align: right;\">\n",
       "      <th></th>\n",
       "      <th>document</th>\n",
       "      <th>label</th>\n",
       "      <th>word_len</th>\n",
       "    </tr>\n",
       "  </thead>\n",
       "  <tbody>\n",
       "    <tr>\n",
       "      <th>0</th>\n",
       "      <td>아 아 더빙 . 진짜 짜증나 네요 목소리</td>\n",
       "      <td>0</td>\n",
       "      <td>8</td>\n",
       "    </tr>\n",
       "    <tr>\n",
       "      <th>1</th>\n",
       "      <td>흠 . 포스터 보고 초 딩 영화 줄 . 오버 연기 조차 가볍 지 않 구나</td>\n",
       "      <td>1</td>\n",
       "      <td>16</td>\n",
       "    </tr>\n",
       "    <tr>\n",
       "      <th>2</th>\n",
       "      <td>너무 재 밓 어 었 다 그래서 보 는 것 을 추천 하 ㄴ다</td>\n",
       "      <td>0</td>\n",
       "      <td>14</td>\n",
       "    </tr>\n",
       "    <tr>\n",
       "      <th>3</th>\n",
       "      <td>교도소 이야기 구 멀 ㄴ . 솔직히 재미 는 없 다 . 평점 조정</td>\n",
       "      <td>0</td>\n",
       "      <td>14</td>\n",
       "    </tr>\n",
       "    <tr>\n",
       "      <th>4</th>\n",
       "      <td>사이몬페그 의 익살 스럽 ㄴ 연기 가 돋보이 었 더 ㄴ 영화 ! 스파이 더 맨 에서...</td>\n",
       "      <td>1</td>\n",
       "      <td>36</td>\n",
       "    </tr>\n",
       "    <tr>\n",
       "      <th>...</th>\n",
       "      <td>...</td>\n",
       "      <td>...</td>\n",
       "      <td>...</td>\n",
       "    </tr>\n",
       "    <tr>\n",
       "      <th>149995</th>\n",
       "      <td>인간 이 문제지 . 소 는 뭔 죄 이 ㄴ가 .</td>\n",
       "      <td>0</td>\n",
       "      <td>11</td>\n",
       "    </tr>\n",
       "    <tr>\n",
       "      <th>149996</th>\n",
       "      <td>평점 이 너무 낮 아서 .</td>\n",
       "      <td>1</td>\n",
       "      <td>6</td>\n",
       "    </tr>\n",
       "    <tr>\n",
       "      <th>149997</th>\n",
       "      <td>이것 이 뭐 이 요 ? 한국 인은 거들먹거리 고 필리핀 혼혈 은 착하 다 ?</td>\n",
       "      <td>0</td>\n",
       "      <td>16</td>\n",
       "    </tr>\n",
       "    <tr>\n",
       "      <th>149998</th>\n",
       "      <td>청춘 영화 의 최고 봉 . 방황 과 우울하 었 더 ㄴ 날 들 의 자화상</td>\n",
       "      <td>1</td>\n",
       "      <td>16</td>\n",
       "    </tr>\n",
       "    <tr>\n",
       "      <th>149999</th>\n",
       "      <td>한국 영화 최초 로 수간 하 는 내용 이 담기 ㄴ 영화</td>\n",
       "      <td>0</td>\n",
       "      <td>12</td>\n",
       "    </tr>\n",
       "  </tbody>\n",
       "</table>\n",
       "<p>148961 rows × 3 columns</p>\n",
       "</div>"
      ],
      "text/plain": [
       "                                                 document  label  word_len\n",
       "0                                  아 아 더빙 . 진짜 짜증나 네요 목소리      0         8\n",
       "1                흠 . 포스터 보고 초 딩 영화 줄 . 오버 연기 조차 가볍 지 않 구나      1        16\n",
       "2                        너무 재 밓 어 었 다 그래서 보 는 것 을 추천 하 ㄴ다      0        14\n",
       "3                    교도소 이야기 구 멀 ㄴ . 솔직히 재미 는 없 다 . 평점 조정      0        14\n",
       "4       사이몬페그 의 익살 스럽 ㄴ 연기 가 돋보이 었 더 ㄴ 영화 ! 스파이 더 맨 에서...      1        36\n",
       "...                                                   ...    ...       ...\n",
       "149995                          인간 이 문제지 . 소 는 뭔 죄 이 ㄴ가 .      0        11\n",
       "149996                                     평점 이 너무 낮 아서 .      1         6\n",
       "149997         이것 이 뭐 이 요 ? 한국 인은 거들먹거리 고 필리핀 혼혈 은 착하 다 ?      0        16\n",
       "149998            청춘 영화 의 최고 봉 . 방황 과 우울하 었 더 ㄴ 날 들 의 자화상      1        16\n",
       "149999                     한국 영화 최초 로 수간 하 는 내용 이 담기 ㄴ 영화      0        12\n",
       "\n",
       "[148961 rows x 3 columns]"
      ]
     },
     "metadata": {},
     "output_type": "display_data"
    }
   ],
   "source": [
    "df = original_df[['document','label']]\n",
    "\n",
    "for i in tqdm(range(len(df))) :\n",
    "    text = custom.text_preprocess_kor(str(df.iloc[i,0]), end_mark = True)\n",
    "    if text == \" \" :\n",
    "        df.iloc[i,0] = text\n",
    "        continue\n",
    "    try :\n",
    "        df.iloc[i,0] = \" \".join(Preprocessor().process(text))\n",
    "    except Exception as e :\n",
    "        df.iloc[i,0] = \" \"\n",
    "        print(str(e), f\"문장 : {text}\")\n",
    "    \n",
    "word_len = []\n",
    "for i in range(len(df)) :\n",
    "    word_len.append(len(str(df.iloc[i,0]).split()))\n",
    "df[\"word_len\"] = word_len\n",
    "\n",
    "df = df.drop(df[df[\"word_len\"] == 0].index, axis = 0)\n",
    "\n",
    "display(df)\n"
   ]
  },
  {
   "cell_type": "code",
   "execution_count": 6,
   "id": "531022b9-fede-48bb-a2c9-f297ee6f040d",
   "metadata": {},
   "outputs": [],
   "source": [
    "\n",
    "df.to_csv(\"data/korean_movie_train.txt\", sep = \"\\t\", encoding = \"UTF8\")"
   ]
  },
  {
   "cell_type": "code",
   "execution_count": 7,
   "id": "0844f460-d020-4af1-be3e-776176d35628",
   "metadata": {},
   "outputs": [
    {
     "name": "stdout",
     "output_type": "stream",
     "text": [
      "110\n",
      "19.13843220708776\n",
      "16.248429319582733\n"
     ]
    }
   ],
   "source": [
    "print(df[\"word_len\"].max())\n",
    "print(df[\"word_len\"].mean())\n",
    "print(df[\"word_len\"].std())"
   ]
  },
  {
   "cell_type": "code",
   "execution_count": null,
   "id": "e02e13f6-3198-4f51-a552-b7f0cb6403d8",
   "metadata": {},
   "outputs": [],
   "source": []
  }
 ],
 "metadata": {
  "kernelspec": {
   "display_name": "Python 3 (ipykernel)",
   "language": "python",
   "name": "python3"
  },
  "language_info": {
   "codemirror_mode": {
    "name": "ipython",
    "version": 3
   },
   "file_extension": ".py",
   "mimetype": "text/x-python",
   "name": "python",
   "nbconvert_exporter": "python",
   "pygments_lexer": "ipython3",
   "version": "3.12.7"
  }
 },
 "nbformat": 4,
 "nbformat_minor": 5
}
