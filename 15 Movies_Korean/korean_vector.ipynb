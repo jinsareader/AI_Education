{
 "cells": [
  {
   "cell_type": "code",
   "execution_count": 1,
   "id": "c48b6077-a7e9-4ce4-834d-b237e2a53c12",
   "metadata": {},
   "outputs": [],
   "source": [
    "import numpy\n",
    "import pickle"
   ]
  },
  {
   "cell_type": "code",
   "execution_count": 2,
   "id": "7bee9e13-5568-4eac-b1b6-ef04b4e144cc",
   "metadata": {},
   "outputs": [],
   "source": [
    "with open(\"data/ko.vec\", mode = \"r\", encoding=\"UTF8\") as f:\n",
    "    original_data = f.read()"
   ]
  },
  {
   "cell_type": "code",
   "execution_count": 3,
   "id": "d33c4007-76b5-4acc-89d5-5a77e96c94ad",
   "metadata": {},
   "outputs": [],
   "source": [
    "data = original_data.split(\"\\n\")\n",
    "\n",
    "vec_dict = {}\n",
    "zero_list = []\n",
    "for i in range(200) :\n",
    "    zero_list.append(0)\n",
    "vec_dict[\"<pad>\"] = zero_list\n",
    "vec_dict[\"<unk>\"] = zero_list\n",
    "\n",
    "for line in data :\n",
    "    temp = line.split()\n",
    "    if len(temp) != 201 :\n",
    "        continue\n",
    "    word = temp[0]\n",
    "    if word in vec_dict :\n",
    "        continue\n",
    "    vec_list = []\n",
    "    for i in range(1,len(temp)) :\n",
    "        vec_list.append(float(temp[i]))\n",
    "    vec_dict[word] = vec_list"
   ]
  },
  {
   "cell_type": "code",
   "execution_count": 4,
   "id": "1aa7bf1d-a93c-4dcf-93c8-b51e8cded74e",
   "metadata": {},
   "outputs": [
    {
     "name": "stdout",
     "output_type": "stream",
     "text": [
      "30188\n",
      "[-0.03014, 0.033452, 0.19745, -0.069206, -0.083098, 0.061587, 0.16461, 0.21392, 0.059086, -0.048765, 0.025915, -0.057084, 0.040678, -0.059689, 0.17544, 0.040829, -0.12207, 0.15664, 0.037407, -0.13631, -0.15621, 0.13331, 0.15597, -0.065099, 0.13329, 0.14064, -0.067173, 0.10533, -0.17251, 0.016879, -0.058656, 0.12946, -0.32592, -0.094444, 0.1447, 0.073218, -0.2574, -0.13739, -0.30335, -0.11595, 0.065816, 0.18047, -0.024451, 0.090694, -0.048277, 0.11695, 0.16838, -0.0098964, -0.0108, 0.036487, 0.21562, 0.043518, 0.13543, -0.17406, 0.095177, 0.27582, 0.15551, 0.050713, 0.12319, 0.051205, 0.15755, -0.21434, -0.017122, -0.28388, 0.0039904, 0.025668, -0.16291, 0.10152, 0.12126, 0.02128, -0.15503, -0.057132, 0.043571, 0.023414, 0.065556, -0.14362, 0.11778, -0.079068, -0.038817, -0.068603, 0.225, -0.13504, 0.21547, 0.36014, -0.09194, 0.1925, -0.072264, 0.0034766, -0.090422, -0.097024, -0.0013986, -0.25156, 0.025003, 0.18521, -0.0089931, -0.15514, -0.14789, -0.10961, -0.030646, 0.063799, 0.10151, -0.070347, 0.15434, -0.045382, 0.0046895, 0.17255, 0.042922, 0.14684, 0.024965, -0.052912, -0.049021, 0.05846, 0.24672, 0.13804, -0.11648, 0.093973, -0.02899, -0.12096, -0.20789, 0.18566, 0.13515, 0.0015275, -0.13899, 0.13254, 0.050455, -0.026871, -0.0084232, -0.059771, 0.078249, 0.023616, 0.047615, 0.085404, -0.087612, -0.014265, -0.034376, -0.1629, -0.37317, 0.27099, 0.055204, -0.08193, -0.035597, -0.16108, -0.11259, -0.1283, 0.023458, 0.1446, 0.14347, -0.083462, 0.14279, -0.20497, 0.018741, 0.040814, 0.1892, 0.10119, 0.085267, -0.058502, 0.014868, -0.0043962, -0.012424, 0.063434, -0.26852, -0.11966, -0.11527, -0.063139, 0.091998, -0.11711, 0.14777, -0.079494, 0.12474, 0.14948, 0.22154, -0.061913, -0.021291, -0.20773, -0.006418, 0.083372, 0.014436, 0.12935, -0.10866, -0.0050246, 0.060248, -0.097206, 0.0086786, -0.052912, -0.057164, -0.041264, -0.14257, -0.092, 0.16995, 0.030259, -0.060946, 0.019235, -0.0097342, 0.30071, 0.21199, -0.14751, -0.11828, -0.066563, -0.021044, -0.048816]\n"
     ]
    }
   ],
   "source": [
    "print(len(vec_dict))\n",
    "print(vec_dict[list(vec_dict.keys())[10]])"
   ]
  },
  {
   "cell_type": "code",
   "execution_count": 5,
   "id": "6c589855-b48c-403c-a912-07908a6ad70a",
   "metadata": {},
   "outputs": [],
   "source": [
    "with open(\"data/korean_vector.pkl\", mode = \"wb\") as f:\n",
    "    pickle.dump(vec_dict, f)"
   ]
  },
  {
   "cell_type": "code",
   "execution_count": 6,
   "id": "23be31f6-7c81-4768-8f37-70611464ccbc",
   "metadata": {},
   "outputs": [
    {
     "name": "stdout",
     "output_type": "stream",
     "text": [
      "30188\n",
      "30188\n"
     ]
    }
   ],
   "source": [
    "#단어와 벡터 분리해서 저장\n",
    "\n",
    "word_dict = {}\n",
    "vec_list = []\n",
    "num = 0\n",
    "\n",
    "for k, v in vec_dict.items() :\n",
    "    word_dict[k] = num\n",
    "    vec_list.append(v)\n",
    "    num += 1\n",
    "\n",
    "print(len(word_dict))\n",
    "print(len(vec_list))"
   ]
  },
  {
   "cell_type": "code",
   "execution_count": 7,
   "id": "c55fef7a-28f7-43cd-aa92-acae057c644e",
   "metadata": {},
   "outputs": [],
   "source": [
    "with open(\"data/korean_word.pkl\", mode = \"wb\") as f:\n",
    "    pickle.dump(word_dict, f)\n",
    "\n",
    "with open(\"data/korean_vector_list.pkl\", mode = \"wb\") as f:\n",
    "    pickle.dump(vec_list, f)\n",
    "    \n"
   ]
  },
  {
   "cell_type": "code",
   "execution_count": null,
   "id": "edfe278d-a4b3-45ac-bbcc-3f3fcf00c4b8",
   "metadata": {},
   "outputs": [],
   "source": []
  }
 ],
 "metadata": {
  "kernelspec": {
   "display_name": "Python 3 (ipykernel)",
   "language": "python",
   "name": "python3"
  },
  "language_info": {
   "codemirror_mode": {
    "name": "ipython",
    "version": 3
   },
   "file_extension": ".py",
   "mimetype": "text/x-python",
   "name": "python",
   "nbconvert_exporter": "python",
   "pygments_lexer": "ipython3",
   "version": "3.12.7"
  }
 },
 "nbformat": 4,
 "nbformat_minor": 5
}
