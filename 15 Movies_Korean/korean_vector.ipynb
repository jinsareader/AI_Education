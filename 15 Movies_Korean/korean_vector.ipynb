{
 "cells": [
  {
   "cell_type": "code",
   "execution_count": 1,
   "id": "c48b6077-a7e9-4ce4-834d-b237e2a53c12",
   "metadata": {},
   "outputs": [],
   "source": [
    "import numpy\n",
    "import pickle"
   ]
  },
  {
   "cell_type": "code",
   "execution_count": 2,
   "id": "7bee9e13-5568-4eac-b1b6-ef04b4e144cc",
   "metadata": {},
   "outputs": [],
   "source": [
    "with open(\"data/ko.tsv\", mode = \"r\", encoding=\"UTF8\") as f:\n",
    "    original_data = f.read()"
   ]
  },
  {
   "cell_type": "code",
   "execution_count": 3,
   "id": "d33c4007-76b5-4acc-89d5-5a77e96c94ad",
   "metadata": {},
   "outputs": [],
   "source": [
    "data = original_data.replace(\"\\n\",\" \").replace(\"]\",\"\\n\").replace(\"[\",\" \")\n",
    "data = data.split(\"\\n\")\n",
    "\n",
    "vec_dict = {}\n",
    "zero_list = []\n",
    "for i in range(200) :\n",
    "    zero_list.append(0)\n",
    "vec_dict[\"<pad>\"] = zero_list\n",
    "vec_dict[\"<unk>\"] = zero_list\n",
    "\n",
    "for line in data :\n",
    "    temp = line.split(\"\\t\")\n",
    "    if len(temp) != 3 :\n",
    "        continue\n",
    "    word = temp[1]\n",
    "    if word in vec_dict :\n",
    "        continue\n",
    "    vec = temp[2].split()\n",
    "    if len(vec) != 200 :\n",
    "        continue\n",
    "    vec_list = []\n",
    "    for v in vec :\n",
    "        vec_list.append(float(v))\n",
    "    vec_dict[word] = vec_list"
   ]
  },
  {
   "cell_type": "code",
   "execution_count": 4,
   "id": "1aa7bf1d-a93c-4dcf-93c8-b51e8cded74e",
   "metadata": {},
   "outputs": [
    {
     "name": "stdout",
     "output_type": "stream",
     "text": [
      "30187\n"
     ]
    }
   ],
   "source": [
    "print(len(vec_dict))"
   ]
  },
  {
   "cell_type": "code",
   "execution_count": 5,
   "id": "6c589855-b48c-403c-a912-07908a6ad70a",
   "metadata": {},
   "outputs": [],
   "source": [
    "with open(\"data/korean_vector.pkl\", mode = \"wb\") as f:\n",
    "    pickle.dump(vec_dict, f)"
   ]
  },
  {
   "cell_type": "code",
   "execution_count": 6,
   "id": "23be31f6-7c81-4768-8f37-70611464ccbc",
   "metadata": {},
   "outputs": [
    {
     "name": "stdout",
     "output_type": "stream",
     "text": [
      "30187\n",
      "30187\n"
     ]
    }
   ],
   "source": [
    "#단어와 벡터 분리해서 저장\n",
    "\n",
    "word_dict = {}\n",
    "vec_list = []\n",
    "num = 0\n",
    "\n",
    "for k, v in vec_dict.items() :\n",
    "    word_dict[k] = num\n",
    "    vec_list.append(v)\n",
    "    num += 1\n",
    "\n",
    "print(len(word_dict))\n",
    "print(len(vec_list))"
   ]
  },
  {
   "cell_type": "code",
   "execution_count": 7,
   "id": "c55fef7a-28f7-43cd-aa92-acae057c644e",
   "metadata": {},
   "outputs": [],
   "source": [
    "with open(\"data/korean_word.pkl\", mode = \"wb\") as f:\n",
    "    pickle.dump(word_dict, f)\n",
    "\n",
    "with open(\"data/korean_vector_list.pkl\", mode = \"wb\") as f:\n",
    "    pickle.dump(vec_list, f)\n",
    "    \n"
   ]
  },
  {
   "cell_type": "code",
   "execution_count": null,
   "id": "edfe278d-a4b3-45ac-bbcc-3f3fcf00c4b8",
   "metadata": {},
   "outputs": [],
   "source": []
  }
 ],
 "metadata": {
  "kernelspec": {
   "display_name": "Python 3 (ipykernel)",
   "language": "python",
   "name": "python3"
  },
  "language_info": {
   "codemirror_mode": {
    "name": "ipython",
    "version": 3
   },
   "file_extension": ".py",
   "mimetype": "text/x-python",
   "name": "python",
   "nbconvert_exporter": "python",
   "pygments_lexer": "ipython3",
   "version": "3.12.7"
  }
 },
 "nbformat": 4,
 "nbformat_minor": 5
}
