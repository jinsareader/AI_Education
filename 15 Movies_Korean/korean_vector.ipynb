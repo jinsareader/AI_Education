{
 "cells": [
  {
   "cell_type": "code",
   "execution_count": 1,
   "id": "8f584914-6d2b-4351-ad30-67350ae23acb",
   "metadata": {},
   "outputs": [],
   "source": [
    "### tsv 되있는 파일을 pickle로 변환\n",
    "\n",
    "import numpy\n",
    "import pickle\n",
    "from tqdm import tqdm"
   ]
  },
  {
   "cell_type": "code",
   "execution_count": 2,
   "id": "3c3629c6-4e51-4d5d-a6b7-9f2dee0c558a",
   "metadata": {},
   "outputs": [],
   "source": [
    "## .tsv 가져오기\n",
    "with open(\"data/ko.tsv\", mode = \"r\", encoding = \"UTF8\") as f:\n",
    "    ori_data = f.read()"
   ]
  },
  {
   "cell_type": "code",
   "execution_count": 3,
   "id": "8c4f1998-223a-49ed-8647-f0199464220d",
   "metadata": {},
   "outputs": [],
   "source": [
    "#데이터 한단어가 한줄에 전부 표시되도록 변경\n",
    "data = ori_data.replace(\"\\n\",\" \").replace(\"]\",\"\\n\").replace(\"[\",\" \")\n",
    "data = data.split(\"\\n\")\n",
    "\n",
    "# print(len(data))\n",
    "# print(data[10])"
   ]
  },
  {
   "cell_type": "code",
   "execution_count": 4,
   "id": "b1f6fd40-a166-4239-82cf-dcaa7bc29ef9",
   "metadata": {},
   "outputs": [
    {
     "name": "stderr",
     "output_type": "stream",
     "text": [
      "100%|█████████████████████████████████████████████████████████████████████████| 30186/30186 [00:01<00:00, 24469.30it/s]"
     ]
    },
    {
     "name": "stdout",
     "output_type": "stream",
     "text": [
      "30187\n"
     ]
    },
    {
     "name": "stderr",
     "output_type": "stream",
     "text": [
      "\n"
     ]
    }
   ],
   "source": [
    "#데이터 dictionary로 옮기기\n",
    "vec_dict = {}\n",
    "#예외 : padding단어, 모르는 단어 추가\n",
    "zero_list = []\n",
    "for i in range(200) :\n",
    "    zero_list.append(0.0)\n",
    "vec_dict[\"<pad>\"] = zero_list\n",
    "vec_dict[\"<unk>\"] = zero_list\n",
    "\n",
    "for line in tqdm(data) :\n",
    "    temp = line.split(\"\\t\") # 번호, 단어, 벡터 로 데이터 나눔\n",
    "    #예외 : 번호, 단어, 벡터로 안되어있는 경우\n",
    "    if len(temp) != 3 :\n",
    "        continue\n",
    "        \n",
    "    word = temp[1] #단어 \n",
    "    #예외 : 중복된 단어\n",
    "    if word in vec_dict :\n",
    "        continue\n",
    "    vector = temp[2].split() #벡터 \n",
    "    #예외 : 벡터 길이가 200이 아님 \n",
    "    if len(vector) != 200 :\n",
    "        continue\n",
    "        \n",
    "    vector_list = [] #숫자로 변환된 벡터 저장 임시 변수\n",
    "    for v in vector :\n",
    "        vector_list.append(float(v)) #벡터 숫자로 변환\n",
    "        \n",
    "    vec_dict[word] = vector_list\n",
    "\n",
    "print(len(vec_dict))"
   ]
  },
  {
   "cell_type": "code",
   "execution_count": 5,
   "id": "525e71b3-0e78-4648-b7f1-0b8bf7caddcc",
   "metadata": {},
   "outputs": [],
   "source": [
    "with open(\"data/korean_vector.pkl\", mode = \"wb\") as f :\n",
    "    pickle.dump(vec_dict, f)"
   ]
  },
  {
   "cell_type": "code",
   "execution_count": 6,
   "id": "8476b89a-1f77-404e-8d74-129866927797",
   "metadata": {},
   "outputs": [
    {
     "name": "stdout",
     "output_type": "stream",
     "text": [
      "30187\n",
      "30187\n",
      "10\n"
     ]
    }
   ],
   "source": [
    "## 벡터사전에서 단어와 벡터값을 분리해서 저장하겠습니다\n",
    "\n",
    "word_dict = {} # 단어만 저장 dictr\n",
    "vec_list = [] #벡터 저장 list\n",
    "num = 0\n",
    "\n",
    "for k, v in vec_dict.items() : #(key, value) 형태로 출력해주는 generator\n",
    "    word_dict[k] = num\n",
    "    vec_list.append(v)\n",
    "    num += 1\n",
    "\n",
    "print(len(word_dict))\n",
    "print(len(vec_list))\n",
    "print(word_dict['었'])"
   ]
  },
  {
   "cell_type": "code",
   "execution_count": 7,
   "id": "502f53fd-c5cd-46d8-a5b4-da4c032b854e",
   "metadata": {},
   "outputs": [],
   "source": [
    "#단어와 vector를 따로 저장\n",
    "with open(\"data/korean_word.pkl\", mode = \"wb\") as f:\n",
    "    pickle.dump(word_dict, f)\n",
    "\n",
    "with open(\"data/korean_vector_list.pkl\", mode = \"wb\") as f:\n",
    "    pickle.dump(vec_list, f)"
   ]
  },
  {
   "cell_type": "code",
   "execution_count": 8,
   "id": "3eb959e0-1703-4289-91a1-b01c552c8bcc",
   "metadata": {},
   "outputs": [
    {
     "name": "stdout",
     "output_type": "stream",
     "text": [
      "('었', [-2.29217005, 0.222326323, -1.97479141, 1.91949487, 2.01505327, 0.00170559296, -2.33527398, 1.63534224, -4.54404068, -0.394111305, 0.912044704, -2.46255612, 2.40886259, -1.29553342, 1.74220586, 1.33007479, -1.82467508, -0.369157374, -1.10596895, -0.550423265, 0.267196119, 2.35314822, 0.777520061, 1.9091574, -1.7649256, 0.956968784, -1.39386749, 1.87736702, -0.219743416, 0.0085897781, 0.413831741, -5.57047272, -0.608447134, 1.30711937, -1.51677823, 0.211357981, 0.567107797, 0.876193881, 0.888905168, 0.104361758, -0.108683087, -1.15530515, 0.786896169, -2.19469333, 1.01506829, -0.221481308, 1.13545251, -1.4105854, -1.42335975, 1.80808485, 1.44888222, 2.52519417, -0.938057303, -0.152046472, 1.17280853, -0.159546107, -2.11375022, 0.0601758435, -0.0517514125, -2.38726163, 1.30795562, 2.67272425, 1.88860869, -1.46893179, 0.429665923, 2.37159419, -2.65492368, -1.55171967, 3.42572165, -0.911436379, -1.42947638, -1.88333845, -1.17095613, 0.957197666, 4.18684816, -0.849027395, 2.5835712, -4.23323488, 2.66210365, -0.0444402061, 0.416276902, 0.834952712, -1.91319454, -1.87490046, -0.157846555, 3.21948338, 1.51583302, -0.746506751, 1.29387963, -0.91504246, -0.352673382, -0.586313128, -0.610263228, 0.461164832, 1.61831367, 0.140227631, -1.68239486, 1.61083865, -0.637298286, 0.498102516, -0.868822813, -0.132176265, -2.61622524, -0.407341987, 0.0767240673, -0.106320567, 0.126570523, -1.58938456, -1.75891817, 1.36943626, 2.86976147, 1.22105682, 3.29560637, -0.990766227, 1.74257672, -1.65857685, -0.770289898, -0.757945657, 0.913051426, -2.95340085, 0.954053938, 1.78751695, 1.92880285, -0.181223556, 0.127306402, -1.5020299, 1.06307876, -0.474127799, -0.0792620555, 0.182647213, -0.623704851, -1.30437613, 0.40743047, 0.444969326, 2.87998939, 0.917284548, -1.47594166, 1.52175105, -1.75833094, 2.04491735, 2.42275381, -0.498963654, 1.58070052, 0.687775075, 0.249156475, -2.86897945, 0.478400826, -1.95545828, -0.990455627, 0.472079396, 0.30829832, 0.814048886, -1.7180897, -0.678038657, 2.71427894, 1.27750504, 3.87929678, 1.59036243, -0.362635255, -1.8210429, 0.402423233, 0.866978288, -2.48023176, -1.66206384, 0.275581956, -1.74219656, -0.999721885, -1.16611731, -0.891219318, -2.62629271, -0.470633477, -0.48610267, 0.478496462, 0.502528906, 0.628720999, 0.83662039, 2.25334835, -0.353181511, 2.71555924, -1.84139991, 0.325163811, -0.558458626, -2.39165688, -2.67308855, -1.04940009, 1.16627061, -1.11306453, -0.124759011, -2.69840264, -0.0496644415, 0.941739142, 1.46585083, 0.930882096, 1.39029169, 1.47031689, 2.05371165, -0.761249721, 1.81474423, -1.28172147, 1.1279633])\n"
     ]
    }
   ],
   "source": [
    "print(list(vec_dict.items())[10])"
   ]
  },
  {
   "cell_type": "code",
   "execution_count": null,
   "id": "4ff848b4-7a5b-479e-b6f5-1792d06b20ed",
   "metadata": {},
   "outputs": [],
   "source": []
  }
 ],
 "metadata": {
  "kernelspec": {
   "display_name": "Python 3 (ipykernel)",
   "language": "python",
   "name": "python3"
  },
  "language_info": {
   "codemirror_mode": {
    "name": "ipython",
    "version": 3
   },
   "file_extension": ".py",
   "mimetype": "text/x-python",
   "name": "python",
   "nbconvert_exporter": "python",
   "pygments_lexer": "ipython3",
   "version": "3.12.7"
  }
 },
 "nbformat": 4,
 "nbformat_minor": 5
}
