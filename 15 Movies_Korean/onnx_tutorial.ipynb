{
 "cells": [
  {
   "cell_type": "code",
   "execution_count": 1,
   "id": "d2d16342-85ed-441b-b359-813d55bd22df",
   "metadata": {},
   "outputs": [],
   "source": [
    "import torch\n",
    "import torch.nn as nn\n",
    "import torch.onnx\n",
    "import onnx\n",
    "import onnxruntime\n",
    "import numpy as np"
   ]
  },
  {
   "cell_type": "code",
   "execution_count": 2,
   "id": "96fe5b08-8db7-46cc-942c-88154ebdf575",
   "metadata": {},
   "outputs": [],
   "source": [
    "##AI\n",
    "class NN(nn.Module) :\n",
    "    def __init__(self, embedding_tensor) :\n",
    "        super().__init__()\n",
    "        self.embedding = nn.Embedding.from_pretrained(embedding_tensor, freeze=True, padding_idx=0)\n",
    "        self.rnn = nn.LSTM(embedding_tensor.shape[1],10,batch_first = True)\n",
    "        self.f = nn.Sequential(\n",
    "            nn.Linear(10,2),\n",
    "        )\n",
    "    def forward(self, x) :\n",
    "        x = self.embedding(x)\n",
    "        x, h = self.rnn(x)\n",
    "        x = x[:,-1,:]\n",
    "        x = self.f(x)\n",
    "        return x"
   ]
  },
  {
   "cell_type": "code",
   "execution_count": 3,
   "id": "5e94ca91-c8b4-4da2-a6c0-e12fe5890b91",
   "metadata": {},
   "outputs": [
    {
     "name": "stdout",
     "output_type": "stream",
     "text": [
      "NN(\n",
      "  (embedding): Embedding(30187, 200, padding_idx=0)\n",
      "  (rnn): LSTM(200, 10, batch_first=True)\n",
      "  (f): Sequential(\n",
      "    (0): Linear(in_features=10, out_features=2, bias=True)\n",
      "  )\n",
      ")\n"
     ]
    }
   ],
   "source": [
    "torch_F = torch.load(\"korean_movie.pt\", weights_only=False)\n",
    "print(torch_F)"
   ]
  },
  {
   "cell_type": "code",
   "execution_count": 5,
   "id": "63aa885a-e03c-4b4a-ad08-5fa1f0194b32",
   "metadata": {},
   "outputs": [
    {
     "name": "stderr",
     "output_type": "stream",
     "text": [
      "C:\\ProgramData\\anaconda3\\Lib\\site-packages\\torch\\onnx\\utils.py:1824: UserWarning: Provided key input for dynamic axes is not a valid input/output name\n",
      "  warnings.warn(\n",
      "C:\\ProgramData\\anaconda3\\Lib\\site-packages\\torch\\onnx\\utils.py:1824: UserWarning: Provided key output for dynamic axes is not a valid input/output name\n",
      "  warnings.warn(\n",
      "C:\\ProgramData\\anaconda3\\Lib\\site-packages\\torch\\onnx\\symbolic_opset9.py:4277: UserWarning: Exporting a model to ONNX with a batch_size other than 1, with a variable length with LSTM can cause an error when running the ONNX model with a different batch size. Make sure to save the model with a batch size of 1, or define the initial states (h0/c0) as inputs of the model. \n",
      "  warnings.warn(\n"
     ]
    }
   ],
   "source": [
    "x = torch.randint(0,30187,size = (1,30))\n",
    "\n",
    "torch_F.eval()\n",
    "torch.onnx.export(\n",
    "    torch_F,\n",
    "    x,\n",
    "    \"korean_movie_onnx.onnx\",\n",
    "    export_params = True,\n",
    "    opset_version = 10,\n",
    "    do_constant_folding = True,\n",
    "    input_name = [\"input\"],\n",
    "    output_name = [\"output\"],\n",
    "    dynamic_axes= {\"input\" : {0 : \"b\"}, \"output\" : {0 : \"b\"}}\n",
    ")"
   ]
  },
  {
   "cell_type": "code",
   "execution_count": 6,
   "id": "b4485331-2ad9-4a44-b73f-c9ab00b64732",
   "metadata": {},
   "outputs": [],
   "source": [
    "\n",
    "onnx_F = onnx.load(\"korean_movie_onnx.onnx\")\n",
    "onnx.checker.check_model(onnx_F)"
   ]
  },
  {
   "cell_type": "code",
   "execution_count": 7,
   "id": "1376ff4c-0dd0-4f81-bd95-8594438aa435",
   "metadata": {},
   "outputs": [
    {
     "name": "stdout",
     "output_type": "stream",
     "text": [
      "torch 계산값 :  [[ 0.86239684 -1.306062  ]]\n",
      "onnx 계산값 :  [[ 0.8623967 -1.3060617]]\n"
     ]
    }
   ],
   "source": [
    "numpy_x = np.random.randint(0, 30187, size = (1,30)).astype(np.int64)\n",
    "torch_x = torch.tensor(numpy_x, dtype = torch.long)\n",
    "\n",
    "onnx_F = onnxruntime.InferenceSession(\"korean_movie_onnx.onnx\", providers=[\"CPUExecutionProvider\"])\n",
    "\n",
    "onnx_x = {onnx_F.get_inputs()[0].name : numpy_x}\n",
    "onnx_y = onnx_F.run(None, onnx_x)\n",
    "\n",
    "torch_y = torch_F(torch_x)\n",
    "\n",
    "print(\"torch 계산값 : \", torch_y.detach().numpy())\n",
    "print(\"onnx 계산값 : \", onnx_y[0])"
   ]
  },
  {
   "cell_type": "code",
   "execution_count": null,
   "id": "b95fc861-2947-4b0c-a1eb-9ebe174340b3",
   "metadata": {},
   "outputs": [],
   "source": []
  }
 ],
 "metadata": {
  "kernelspec": {
   "display_name": "Python 3 (ipykernel)",
   "language": "python",
   "name": "python3"
  },
  "language_info": {
   "codemirror_mode": {
    "name": "ipython",
    "version": 3
   },
   "file_extension": ".py",
   "mimetype": "text/x-python",
   "name": "python",
   "nbconvert_exporter": "python",
   "pygments_lexer": "ipython3",
   "version": "3.12.7"
  }
 },
 "nbformat": 4,
 "nbformat_minor": 5
}
