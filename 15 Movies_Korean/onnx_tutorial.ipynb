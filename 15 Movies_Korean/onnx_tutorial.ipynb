{
 "cells": [
  {
   "cell_type": "code",
   "execution_count": 1,
   "id": "ad731961-c2a3-4553-9347-90e9479f5f5a",
   "metadata": {},
   "outputs": [],
   "source": [
    "import numpy as np\n",
    "import torch\n",
    "import torch.nn as nn\n",
    "import torch.onnx #torch신경망을 onnx로 변환\n",
    "import onnx\n",
    "import onnxruntime"
   ]
  },
  {
   "cell_type": "code",
   "execution_count": 2,
   "id": "392d1765-6f55-4339-86fd-b60982813b94",
   "metadata": {},
   "outputs": [],
   "source": [
    "# torch 신경망 불러오는 목적\n",
    "\n",
    "class NN(nn.Module) :\n",
    "    def __init__(self, vector_tensor) :\n",
    "        super().__init__()\n",
    "        self.embedding = nn.Embedding.from_pretrained(vector_tensor, freeze = True, padding_idx = 0) #freeze : 해당 벡터사전 고정, padding_idx = 패딩 인스스\n",
    "        self.rnn = nn.LSTM(200,20,batch_first = True)\n",
    "        self.f = nn.Sequential(\n",
    "            nn.Linear(20, 2)\n",
    "        )\n",
    "    def forward(self, x) :\n",
    "        x = self.embedding(x)\n",
    "        y, h = self.rnn(x)\n",
    "        y = y[:,-1,:]\n",
    "        y = self.f(y)\n",
    "        return y"
   ]
  },
  {
   "cell_type": "code",
   "execution_count": 3,
   "id": "a9ef3a87-fcbe-4f1c-ad62-7b5204623a3d",
   "metadata": {},
   "outputs": [
    {
     "name": "stdout",
     "output_type": "stream",
     "text": [
      "NN(\n",
      "  (embedding): Embedding(30187, 200, padding_idx=0)\n",
      "  (rnn): LSTM(200, 20, batch_first=True)\n",
      "  (f): Sequential(\n",
      "    (0): Linear(in_features=20, out_features=2, bias=True)\n",
      "  )\n",
      ")\n"
     ]
    }
   ],
   "source": [
    "torch_F = torch.load(\"korean_movie_2.pt\", weights_only=False)\n",
    "print(torch_F)"
   ]
  },
  {
   "cell_type": "code",
   "execution_count": 4,
   "id": "7383513e-1884-4173-85b8-e2cee5443076",
   "metadata": {},
   "outputs": [
    {
     "name": "stdout",
     "output_type": "stream",
     "text": [
      "tensor([[ 8584,   623,   262, 19086, 13338,  5349, 13080,  5136, 21274, 25445,\n",
      "         26824, 16946, 14903, 12644, 28889, 20574, 11081, 30033, 11209, 14279,\n",
      "          1428,  9359,   559, 29866,  9391, 27034, 22940, 17678,  9278,  7080]])\n",
      "torch.Size([1, 30])\n"
     ]
    }
   ],
   "source": [
    "#변환하기 전 더미 입력값\n",
    "x = torch.randint(0,30187,size = (1,30)).type(torch.long)\n",
    "print(x)\n",
    "print(x.shape)"
   ]
  },
  {
   "cell_type": "code",
   "execution_count": 5,
   "id": "e07505e3-74f7-4034-a0d4-df3aec3d2588",
   "metadata": {},
   "outputs": [
    {
     "name": "stderr",
     "output_type": "stream",
     "text": [
      "C:\\Users\\Administrator\\anaconda3\\Lib\\site-packages\\torch\\onnx\\symbolic_opset9.py:4244: UserWarning: Exporting a model to ONNX with a batch_size other than 1, with a variable length with LSTM can cause an error when running the ONNX model with a different batch size. Make sure to save the model with a batch size of 1, or define the initial states (h0/c0) as inputs of the model. \n",
      "  warnings.warn(\n"
     ]
    }
   ],
   "source": [
    "torch.onnx.export(torch_F, #신경망\n",
    "                 x, #입력값 tensor 형태\n",
    "                 \"onnx_korean_nn.onnx\", #저장할 파일 이름\n",
    "                 export_params = True, #모델 가중치(w, b)값을 저장할지\n",
    "                 opset_version = 10, #ONNX 버전\n",
    "                 do_constant_folding = True,\n",
    "                 input_names = ['input'], #입력 텐서의 이름\n",
    "                 output_names = ['output'], #출력 텐서의 이름\n",
    "                 dynamic_axes = {'input' : {0 : 'b'}, 'output' : {0 : 'b'}}\n",
    "                 )"
   ]
  },
  {
   "cell_type": "code",
   "execution_count": 6,
   "id": "944f3f40-2bbf-4433-8d9d-79691fa6702f",
   "metadata": {},
   "outputs": [],
   "source": [
    "onnx_model = onnx.load(\"onnx_korean_nn.onnx\")\n",
    "onnx.checker.check_model(onnx_model)\n",
    "\n",
    "#메세지 안뜨면 onnx 변환이 잘 된것"
   ]
  },
  {
   "cell_type": "code",
   "execution_count": 7,
   "id": "8a16b964-9e0e-4dd3-b570-374c7e5a4beb",
   "metadata": {},
   "outputs": [
    {
     "name": "stdout",
     "output_type": "stream",
     "text": [
      "torch 함수의 결과값 :  [[ 1.6751504 -1.9235777]]\n",
      "onnx 함수의 결과값 :  [[ 1.6751499 -1.9235772]]\n"
     ]
    }
   ],
   "source": [
    "onnx_F = onnxruntime.InferenceSession(\"onnx_korean_nn.onnx\", provider = [\"CPUExcutionProvider\"])\n",
    "\n",
    "numpy_x = np.random.randint(0,30187,size = (1,30)).astype(np.int64)\n",
    "torch_x = torch.tensor(numpy_x, dtype = torch.long)\n",
    "\n",
    "ort_inputs = {onnx_F.get_inputs()[0].name : numpy_x} #onnx에서 x 입력방법, dict 형태로 입력해야 함\n",
    "onnx_y = onnx_F.run(None, ort_inputs)\n",
    "\n",
    "torch_y = torch_F(torch_x)\n",
    "\n",
    "print(\"torch 함수의 결과값 : \", torch_y.detach().numpy())\n",
    "print(\"onnx 함수의 결과값 : \", onnx_y[0])"
   ]
  },
  {
   "cell_type": "code",
   "execution_count": null,
   "id": "1eb4af2d-fb5b-40c4-bb73-0bd0c767435a",
   "metadata": {},
   "outputs": [],
   "source": []
  }
 ],
 "metadata": {
  "kernelspec": {
   "display_name": "Python 3 (ipykernel)",
   "language": "python",
   "name": "python3"
  },
  "language_info": {
   "codemirror_mode": {
    "name": "ipython",
    "version": 3
   },
   "file_extension": ".py",
   "mimetype": "text/x-python",
   "name": "python",
   "nbconvert_exporter": "python",
   "pygments_lexer": "ipython3",
   "version": "3.12.7"
  }
 },
 "nbformat": 4,
 "nbformat_minor": 5
}
