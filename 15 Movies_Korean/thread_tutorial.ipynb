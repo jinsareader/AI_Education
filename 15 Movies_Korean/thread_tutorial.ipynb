{
 "cells": [
  {
   "cell_type": "markdown",
   "id": "16cb245a-e302-44e9-a2c3-5957eea0d68d",
   "metadata": {},
   "source": [
    "# 멀티스레드 연습\n",
    "## \"안녕하세요\"를 1초 단위로 무한으로 반복 출력하는 스레드가 존재\n",
    "## 아무 명령어를 입력하면 안녕하세요 출력 중지"
   ]
  },
  {
   "cell_type": "code",
   "execution_count": 2,
   "id": "459b6a9b-430c-43c1-9da2-765ce29ec38f",
   "metadata": {},
   "outputs": [],
   "source": [
    "import threading\n",
    "import time"
   ]
  },
  {
   "cell_type": "code",
   "execution_count": 3,
   "id": "5a65c84a-1907-4cf6-8e2d-170af6f70dc6",
   "metadata": {},
   "outputs": [
    {
     "name": "stdout",
     "output_type": "stream",
     "text": [
      "안녕하세요.\n",
      "안녕하세요.\n",
      "안녕하세요.\n",
      "안녕하세요.\n",
      "안녕하세요.\n",
      "안녕하세요.\n"
     ]
    },
    {
     "name": "stdin",
     "output_type": "stream",
     "text": [
      "아무 명령어 입력 :  dfadsf\n"
     ]
    }
   ],
   "source": [
    "# 안녕하세요 출력하는 클래스 만들겠습니다\n",
    "class HelloPrinter() :\n",
    "    def __init__(self) :\n",
    "        self.query = None #명령어 저장하는 변수\n",
    "        self._hello_thread()\n",
    "    def _hello_thread(self) :\n",
    "        def print_hello() : #무한 출력하는 함수\n",
    "            while True :\n",
    "                print(\"안녕하세요.\")\n",
    "                time.sleep(1) # 1초 쉬기\n",
    "                if self.query is not None :\n",
    "                    break\n",
    "        #스레드 구현\n",
    "        t = threading.Thread(target = print_hello, daemon=True) #target : 스레드 돌릴 함수, daemon : 부모 스레드가 죽으면 같이 죽는거 \n",
    "        #스레드 실행\n",
    "        t.start()\n",
    "\n",
    "    def input_query(self, text) :\n",
    "        self.query = text\n",
    "\n",
    "hello_printer = HelloPrinter()\n",
    "text = input(\"아무 명령어 입력 : \")\n",
    "hello_printer.input_query(text)"
   ]
  },
  {
   "cell_type": "code",
   "execution_count": 4,
   "id": "06110752-9af4-44fb-b170-3e11f590ea48",
   "metadata": {},
   "outputs": [
    {
     "name": "stdout",
     "output_type": "stream",
     "text": [
      "안녕하세요.\n",
      "안녕하세요.\n",
      "안녕하세요.\n",
      "안녕하세요.\n",
      "안녕하세요.\n",
      "안녕하세요.\n",
      "안녕하세요.\n",
      "안녕하세요.\n",
      "안녕하세요.\n",
      "안녕하세요.\n",
      "안녕하세요.\n",
      "안녕하세요.\n",
      "안녕하세요.\n",
      "안녕하세요.\n",
      "안녕하세요.\n",
      "안녕하세요.\n",
      "안녕하세요.\n",
      "안녕하세요.\n",
      "안녕하세요.\n"
     ]
    },
    {
     "ename": "KeyboardInterrupt",
     "evalue": "",
     "output_type": "error",
     "traceback": [
      "\u001b[1;31m---------------------------------------------------------------------------\u001b[0m",
      "\u001b[1;31mKeyboardInterrupt\u001b[0m                         Traceback (most recent call last)",
      "Cell \u001b[1;32mIn[4], line 10\u001b[0m\n\u001b[0;32m      7\u001b[0m         \u001b[38;5;28;01mif\u001b[39;00m query \u001b[38;5;129;01mis\u001b[39;00m \u001b[38;5;129;01mnot\u001b[39;00m \u001b[38;5;28;01mNone\u001b[39;00m :\n\u001b[0;32m      8\u001b[0m             \u001b[38;5;28;01mbreak\u001b[39;00m\n\u001b[1;32m---> 10\u001b[0m print_hello()\n\u001b[0;32m     11\u001b[0m query \u001b[38;5;241m=\u001b[39m \u001b[38;5;28minput\u001b[39m(\u001b[38;5;124m\"\u001b[39m\u001b[38;5;124m아무 명령어 입력 : \u001b[39m\u001b[38;5;124m\"\u001b[39m)\n",
      "Cell \u001b[1;32mIn[4], line 6\u001b[0m, in \u001b[0;36mprint_hello\u001b[1;34m()\u001b[0m\n\u001b[0;32m      4\u001b[0m \u001b[38;5;28;01mwhile\u001b[39;00m \u001b[38;5;28;01mTrue\u001b[39;00m :\n\u001b[0;32m      5\u001b[0m     \u001b[38;5;28mprint\u001b[39m(\u001b[38;5;124m\"\u001b[39m\u001b[38;5;124m안녕하세요.\u001b[39m\u001b[38;5;124m\"\u001b[39m)\n\u001b[1;32m----> 6\u001b[0m     time\u001b[38;5;241m.\u001b[39msleep(\u001b[38;5;241m1\u001b[39m) \u001b[38;5;66;03m# 1초 쉬기\u001b[39;00m\n\u001b[0;32m      7\u001b[0m     \u001b[38;5;28;01mif\u001b[39;00m query \u001b[38;5;129;01mis\u001b[39;00m \u001b[38;5;129;01mnot\u001b[39;00m \u001b[38;5;28;01mNone\u001b[39;00m :\n\u001b[0;32m      8\u001b[0m         \u001b[38;5;28;01mbreak\u001b[39;00m\n",
      "\u001b[1;31mKeyboardInterrupt\u001b[0m: "
     ]
    }
   ],
   "source": [
    "## 스레드를 사용하지 않으면 중간에 멈출 수 없음\n",
    "\n",
    "query = None\n",
    "\n",
    "def print_hello() : #무한 출력하는 함수\n",
    "    while True :\n",
    "        print(\"안녕하세요.\")\n",
    "        time.sleep(1) # 1초 쉬기\n",
    "        if query is not None :\n",
    "            break\n",
    "\n",
    "print_hello()\n",
    "query = input(\"아무 명령어 입력 : \")"
   ]
  },
  {
   "cell_type": "code",
   "execution_count": 5,
   "id": "cb8e4962-8c77-48a2-bfe2-d0d6f549fd48",
   "metadata": {},
   "outputs": [],
   "source": [
    "## 특정시간 이상 (5초) 실행되는 함수를 중간에 멈추는 스레드 (.join() 사용)\n",
    "\n",
    "class Test() :\n",
    "    def __init__(self) :\n",
    "        self._result = None #함수 결과값 저장하는 곳\n",
    "        self._error = None #에러메세지 저장하는 곳\n",
    "    def process(self, timer : int) : #함수 실행\n",
    "        def work() :\n",
    "            try :\n",
    "                for i in range(timer) :\n",
    "                    print(f\"함수 실행중....({i})\")\n",
    "                    time.sleep(1)\n",
    "                self._result = \"결과값\" #함수 실행이 끝나면 return값 _result에 저장\n",
    "            except Exception as e:\n",
    "                self._error = e #오류가 발생하면 오류 메세지 _error에 저장\n",
    "\n",
    "        t = threading.Thread(target=work, daemon=True) #args :스레드 돌릴 target 함수의 파라미터 따로 입력하는 파라미터 \n",
    "        t.start()\n",
    "        t.join(timeout = 5) #서브 스레드 동작하는 동안 메인 스레드가 기다려주게 하는 함수, timeout은 몇초 기다릴지 정해주는 parameter\n",
    "\n",
    "        if t.is_alive() : #t라는 이름의 스레드가 살아있으면, (5초동안 기다려줬는데 아직도 동작중이라면)\n",
    "            raise Exception(f\"너무 오래 걸려요\")  #에러 띄웁시다.\n",
    "        if self._error is not None : #에러값이 있으면\n",
    "            raise Exception(str(self._error))\n",
    "\n",
    "        return self._result\n",
    "\n",
    "    def work_function(self, timer : int) :\n",
    "        result = self.process(timer)\n",
    "        return result\n",
    "\n"
   ]
  },
  {
   "cell_type": "code",
   "execution_count": 6,
   "id": "e9f2eadd-078f-4480-8948-941ba0895c22",
   "metadata": {},
   "outputs": [
    {
     "name": "stdout",
     "output_type": "stream",
     "text": [
      "함수 실행중....(0)\n",
      "함수 실행중....(1)\n",
      "함수 실행중....(2)\n",
      "결과값\n"
     ]
    }
   ],
   "source": [
    "#3초 실행\n",
    "\n",
    "result = Test().work_function(3)\n",
    "print(result)"
   ]
  },
  {
   "cell_type": "code",
   "execution_count": 7,
   "id": "8a29b584-d52d-46c1-aeae-254d8c7da7b8",
   "metadata": {},
   "outputs": [
    {
     "name": "stdout",
     "output_type": "stream",
     "text": [
      "함수 실행중....(0)\n",
      "함수 실행중....(1)\n",
      "함수 실행중....(2)\n",
      "함수 실행중....(3)\n",
      "함수 실행중....(4)\n",
      "함수 실행중....(5)\n"
     ]
    },
    {
     "ename": "Exception",
     "evalue": "너무 오래 걸려요",
     "output_type": "error",
     "traceback": [
      "\u001b[1;31m---------------------------------------------------------------------------\u001b[0m",
      "\u001b[1;31mException\u001b[0m                                 Traceback (most recent call last)",
      "Cell \u001b[1;32mIn[7], line 3\u001b[0m\n\u001b[0;32m      1\u001b[0m \u001b[38;5;66;03m#10초 실행\u001b[39;00m\n\u001b[1;32m----> 3\u001b[0m result \u001b[38;5;241m=\u001b[39m Test()\u001b[38;5;241m.\u001b[39mwork_function(\u001b[38;5;241m10\u001b[39m)\n\u001b[0;32m      4\u001b[0m \u001b[38;5;28mprint\u001b[39m(result)\n",
      "Cell \u001b[1;32mIn[5], line 29\u001b[0m, in \u001b[0;36mTest.work_function\u001b[1;34m(self, timer)\u001b[0m\n\u001b[0;32m     28\u001b[0m \u001b[38;5;28;01mdef\u001b[39;00m \u001b[38;5;21mwork_function\u001b[39m(\u001b[38;5;28mself\u001b[39m, timer : \u001b[38;5;28mint\u001b[39m) :\n\u001b[1;32m---> 29\u001b[0m     result \u001b[38;5;241m=\u001b[39m \u001b[38;5;28mself\u001b[39m\u001b[38;5;241m.\u001b[39mprocess(timer)\n\u001b[0;32m     30\u001b[0m     \u001b[38;5;28;01mreturn\u001b[39;00m result\n",
      "Cell \u001b[1;32mIn[5], line 22\u001b[0m, in \u001b[0;36mTest.process\u001b[1;34m(self, timer)\u001b[0m\n\u001b[0;32m     19\u001b[0m t\u001b[38;5;241m.\u001b[39mjoin(timeout \u001b[38;5;241m=\u001b[39m \u001b[38;5;241m5\u001b[39m) \u001b[38;5;66;03m#서브 스레드 동작하는 동안 메인 스레드가 기다려주게 하는 함수, timeout은 몇초 기다릴지 정해주는 parameter\u001b[39;00m\n\u001b[0;32m     21\u001b[0m \u001b[38;5;28;01mif\u001b[39;00m t\u001b[38;5;241m.\u001b[39mis_alive() : \u001b[38;5;66;03m#t라는 이름의 스레드가 살아있으면, (5초동안 기다려줬는데 아직도 동작중이라면)\u001b[39;00m\n\u001b[1;32m---> 22\u001b[0m     \u001b[38;5;28;01mraise\u001b[39;00m \u001b[38;5;167;01mException\u001b[39;00m(\u001b[38;5;124mf\u001b[39m\u001b[38;5;124m\"\u001b[39m\u001b[38;5;124m너무 오래 걸려요\u001b[39m\u001b[38;5;124m\"\u001b[39m)  \u001b[38;5;66;03m#에러 띄웁시다.\u001b[39;00m\n\u001b[0;32m     23\u001b[0m \u001b[38;5;28;01mif\u001b[39;00m \u001b[38;5;28mself\u001b[39m\u001b[38;5;241m.\u001b[39m_error \u001b[38;5;129;01mis\u001b[39;00m \u001b[38;5;129;01mnot\u001b[39;00m \u001b[38;5;28;01mNone\u001b[39;00m : \u001b[38;5;66;03m#에러값이 있으면\u001b[39;00m\n\u001b[0;32m     24\u001b[0m     \u001b[38;5;28;01mraise\u001b[39;00m \u001b[38;5;167;01mException\u001b[39;00m(\u001b[38;5;28mstr\u001b[39m(\u001b[38;5;28mself\u001b[39m\u001b[38;5;241m.\u001b[39m_error))\n",
      "\u001b[1;31mException\u001b[0m: 너무 오래 걸려요"
     ]
    },
    {
     "name": "stdout",
     "output_type": "stream",
     "text": [
      "함수 실행중....(6)\n",
      "함수 실행중....(7)\n",
      "함수 실행중....(8)\n",
      "함수 실행중....(9)\n"
     ]
    }
   ],
   "source": [
    "#10초 실행\n",
    "\n",
    "result = Test().work_function(10)\n",
    "print(result)"
   ]
  },
  {
   "cell_type": "code",
   "execution_count": null,
   "id": "bc15c106-c826-4580-8a3e-af93b5998232",
   "metadata": {},
   "outputs": [],
   "source": []
  }
 ],
 "metadata": {
  "kernelspec": {
   "display_name": "Python 3 (ipykernel)",
   "language": "python",
   "name": "python3"
  },
  "language_info": {
   "codemirror_mode": {
    "name": "ipython",
    "version": 3
   },
   "file_extension": ".py",
   "mimetype": "text/x-python",
   "name": "python",
   "nbconvert_exporter": "python",
   "pygments_lexer": "ipython3",
   "version": "3.12.7"
  }
 },
 "nbformat": 4,
 "nbformat_minor": 5
}
