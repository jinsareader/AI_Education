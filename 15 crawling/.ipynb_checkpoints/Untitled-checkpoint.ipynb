{
 "cells": [
  {
   "cell_type": "code",
   "execution_count": 1,
   "id": "e73ffc44-5f20-409d-b971-f0dcdf958c09",
   "metadata": {},
   "outputs": [],
   "source": [
    "import requests\n",
    "from bs4 import BeautifulSoup as bs"
   ]
  },
  {
   "cell_type": "code",
   "execution_count": 14,
   "id": "cd5063ad-ced1-47ca-ae2e-4dee6d0c60d7",
   "metadata": {},
   "outputs": [],
   "source": [
    "url = \"https://v.daum.net/v/20250421184515604\"\n",
    "res = requests.get(url)\n",
    "soup = bs(res.content, \"lxml\")"
   ]
  },
  {
   "cell_type": "code",
   "execution_count": 22,
   "id": "f8432faa-1636-43b5-8b51-eb3d00ee51bc",
   "metadata": {},
   "outputs": [
    {
     "name": "stdout",
     "output_type": "stream",
     "text": [
      "None\n"
     ]
    }
   ],
   "source": [
    "selector = \"#mArticle > div.news_view.fs_type1 > div.article_view > section\"\n",
    "\n",
    "comment = soup.select(selector)\n",
    "print(comment[0].text)"
   ]
  },
  {
   "cell_type": "code",
   "execution_count": null,
   "id": "87f98be2-4f4e-40da-9891-02915581b093",
   "metadata": {},
   "outputs": [],
   "source": []
  }
 ],
 "metadata": {
  "kernelspec": {
   "display_name": "Python 3 (ipykernel)",
   "language": "python",
   "name": "python3"
  },
  "language_info": {
   "codemirror_mode": {
    "name": "ipython",
    "version": 3
   },
   "file_extension": ".py",
   "mimetype": "text/x-python",
   "name": "python",
   "nbconvert_exporter": "python",
   "pygments_lexer": "ipython3",
   "version": "3.12.7"
  }
 },
 "nbformat": 4,
 "nbformat_minor": 5
}
