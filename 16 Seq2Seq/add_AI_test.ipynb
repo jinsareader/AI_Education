{
 "cells": [
  {
   "cell_type": "code",
   "execution_count": 1,
   "id": "9ae1c19f-ee75-4fa5-b9d2-8c5545704675",
   "metadata": {},
   "outputs": [],
   "source": [
    "import os\n",
    "import sys\n",
    "sys.path.append(os.path.join(os.path.dirname(\"\"),\"..\"))\n",
    "\n",
    "import custom\n",
    "import numpy as np\n",
    "import onnxruntime\n",
    "import re\n"
   ]
  },
  {
   "cell_type": "code",
   "execution_count": 2,
   "id": "f995fa71-4af4-42ae-8f4e-e70deeaf1c33",
   "metadata": {},
   "outputs": [],
   "source": [
    "\n",
    "encoder = onnxruntime.InferenceSession(\"num_encoder.onnx\", providers=[\"CPUExecutionProvider\"])\n",
    "decoder = onnxruntime.InferenceSession(\"num_decoder.onnx\", providers=[\"CPUExecutionProvider\"])\n"
   ]
  },
  {
   "cell_type": "code",
   "execution_count": 3,
   "id": "e613fcc9-8bdf-45ea-87df-c3e441149698",
   "metadata": {},
   "outputs": [
    {
     "name": "stdin",
     "output_type": "stream",
     "text": [
      "식을 입력하세요 (최대 길이 7) :  31+47\n"
     ]
    },
    {
     "name": "stdout",
     "output_type": "stream",
     "text": [
      "77  "
     ]
    },
    {
     "name": "stdin",
     "output_type": "stream",
     "text": [
      "식을 입력하세요 (최대 길이 7) :  4+5\n"
     ]
    },
    {
     "name": "stdout",
     "output_type": "stream",
     "text": [
      "10  "
     ]
    },
    {
     "name": "stdin",
     "output_type": "stream",
     "text": [
      "식을 입력하세요 (최대 길이 7) :  8+7\n"
     ]
    },
    {
     "name": "stdout",
     "output_type": "stream",
     "text": [
      "15  "
     ]
    },
    {
     "name": "stdin",
     "output_type": "stream",
     "text": [
      "식을 입력하세요 (최대 길이 7) :  20+30\n"
     ]
    },
    {
     "name": "stdout",
     "output_type": "stream",
     "text": [
      "50  "
     ]
    },
    {
     "name": "stdin",
     "output_type": "stream",
     "text": [
      "식을 입력하세요 (최대 길이 7) :  123+345\n"
     ]
    },
    {
     "name": "stdout",
     "output_type": "stream",
     "text": [
      "469 "
     ]
    },
    {
     "name": "stdin",
     "output_type": "stream",
     "text": [
      "식을 입력하세요 (최대 길이 7) :  1+1\n"
     ]
    },
    {
     "name": "stdout",
     "output_type": "stream",
     "text": [
      "2   "
     ]
    },
    {
     "name": "stdin",
     "output_type": "stream",
     "text": [
      "식을 입력하세요 (최대 길이 7) :  2+2\n"
     ]
    },
    {
     "name": "stdout",
     "output_type": "stream",
     "text": [
      "6   "
     ]
    },
    {
     "name": "stdin",
     "output_type": "stream",
     "text": [
      "식을 입력하세요 (최대 길이 7) :  3+3\n"
     ]
    },
    {
     "name": "stdout",
     "output_type": "stream",
     "text": [
      "7   "
     ]
    },
    {
     "name": "stdin",
     "output_type": "stream",
     "text": [
      "식을 입력하세요 (최대 길이 7) :  4+4\n"
     ]
    },
    {
     "name": "stdout",
     "output_type": "stream",
     "text": [
      "19  "
     ]
    },
    {
     "name": "stdin",
     "output_type": "stream",
     "text": [
      "식을 입력하세요 (최대 길이 7) :  종료\n"
     ]
    }
   ],
   "source": [
    "dic = {' ': 0, '1': 1, '2': 2, '3': 3, '4': 4, '5': 5, '6': 6, '7': 7, '8': 8, '9': 9, '0': 10, '+': 11}\n",
    "query = None\n",
    "\n",
    "while True :\n",
    "    query = input(\"식을 입력하세요 (최대 길이 7) : \")\n",
    "    if query == \"종료\" :\n",
    "        break\n",
    "    query = re.sub(r\"[^0-9+]\", \"\", string = query)\n",
    "    query = list(query)\n",
    "    query = custom.word_vectorize(query, dic, 7, False, \" \", \" \")\n",
    "    query = [query]\n",
    "    arr = np.array(query).astype(np.int64)\n",
    "    \n",
    "    inputs = {encoder.get_inputs()[0].name : arr}\n",
    "    outputs = encoder.run(None, inputs)\n",
    "    output = outputs[0]\n",
    "    h = outputs[1]\n",
    "    c = outputs[2]\n",
    "    inputs = {decoder.get_inputs()[0].name : output, decoder.get_inputs()[1].name : h, decoder.get_inputs()[2].name : c}\n",
    "    outputs = decoder.run(None, inputs)\n",
    "    ys = outputs[0]\n",
    "    \n",
    "    for y in ys[0] :\n",
    "        print(list(dic.keys())[y.argmax(axis = -1)], end = \"\")"
   ]
  },
  {
   "cell_type": "code",
   "execution_count": null,
   "id": "bd34af78-2299-49f3-aef8-3b31c245b168",
   "metadata": {},
   "outputs": [],
   "source": []
  }
 ],
 "metadata": {
  "kernelspec": {
   "display_name": "Python 3 (ipykernel)",
   "language": "python",
   "name": "python3"
  },
  "language_info": {
   "codemirror_mode": {
    "name": "ipython",
    "version": 3
   },
   "file_extension": ".py",
   "mimetype": "text/x-python",
   "name": "python",
   "nbconvert_exporter": "python",
   "pygments_lexer": "ipython3",
   "version": "3.12.7"
  }
 },
 "nbformat": 4,
 "nbformat_minor": 5
}
