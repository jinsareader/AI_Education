{
 "cells": [
  {
   "cell_type": "code",
   "execution_count": 1,
   "id": "5319f009-ecce-41f7-957d-c120299e80de",
   "metadata": {
    "executionInfo": {
     "elapsed": 11,
     "status": "ok",
     "timestamp": 1748692982039,
     "user": {
      "displayName": "Yong-Jun Jang",
      "userId": "12216012798125380557"
     },
     "user_tz": -540
    },
    "id": "5319f009-ecce-41f7-957d-c120299e80de"
   },
   "outputs": [],
   "source": [
    "# 덧셈만 하는 deeplearing ai 만들기\n",
    "# 숫자값을 int가 아니라 str 문자 하나로 생각해서 제작"
   ]
  },
  {
   "cell_type": "code",
   "execution_count": 3,
   "id": "63e04307-1813-4cea-a87a-df93604caf0b",
   "metadata": {
    "executionInfo": {
     "elapsed": 3724,
     "status": "ok",
     "timestamp": 1748692987145,
     "user": {
      "displayName": "Yong-Jun Jang",
      "userId": "12216012798125380557"
     },
     "user_tz": -540
    },
    "id": "63e04307-1813-4cea-a87a-df93604caf0b"
   },
   "outputs": [],
   "source": [
    "#필요한 module import\n",
    "\n",
    "import os\n",
    "import sys\n",
    "sys.path.append(os.path.join(os.path.dirname(\"\"), \"..\"))\n",
    "\n",
    "import custom\n",
    "import numpy as np\n",
    "import torch\n",
    "import torch.nn as nn\n",
    "from torch.utils.data import DataLoader"
   ]
  },
  {
   "cell_type": "code",
   "execution_count": 4,
   "id": "1f83ec98-fbb2-4551-b35e-3b27cc02af92",
   "metadata": {
    "colab": {
     "base_uri": "https://localhost:8080/"
    },
    "executionInfo": {
     "elapsed": 15,
     "status": "ok",
     "timestamp": 1748692987156,
     "user": {
      "displayName": "Yong-Jun Jang",
      "userId": "12216012798125380557"
     },
     "user_tz": -540
    },
    "id": "1f83ec98-fbb2-4551-b35e-3b27cc02af92",
    "outputId": "e3d09160-41c4-4866-d65c-132ca99b0090"
   },
   "outputs": [
    {
     "name": "stdout",
     "output_type": "stream",
     "text": [
      "tensor([[0., 0., 0., 0., 0., 0., 0., 0., 0., 0., 0.],\n",
      "        [1., 0., 0., 0., 0., 0., 0., 0., 0., 0., 0.],\n",
      "        [0., 1., 0., 0., 0., 0., 0., 0., 0., 0., 0.],\n",
      "        [0., 0., 1., 0., 0., 0., 0., 0., 0., 0., 0.],\n",
      "        [0., 0., 0., 1., 0., 0., 0., 0., 0., 0., 0.],\n",
      "        [0., 0., 0., 0., 1., 0., 0., 0., 0., 0., 0.],\n",
      "        [0., 0., 0., 0., 0., 1., 0., 0., 0., 0., 0.],\n",
      "        [0., 0., 0., 0., 0., 0., 1., 0., 0., 0., 0.],\n",
      "        [0., 0., 0., 0., 0., 0., 0., 1., 0., 0., 0.],\n",
      "        [0., 0., 0., 0., 0., 0., 0., 0., 1., 0., 0.],\n",
      "        [0., 0., 0., 0., 0., 0., 0., 0., 0., 1., 0.],\n",
      "        [0., 0., 0., 0., 0., 0., 0., 0., 0., 0., 1.]])\n"
     ]
    }
   ],
   "source": [
    "# 데이터 불러오기 전에 원핫 인코딩 리스트, 숫자-라벨링 사전 두개 만들어서 원핫 인코딩 리스트는 신경망 안에 집어넣기\n",
    "#[' ',1,2,3,4,5,6,7,8,9,0,+]\n",
    "\n",
    "#원한 인코딩 리스트\n",
    "embedding_tensor = torch.cat([torch.zeros(1,11), torch.eye(11)])\n",
    "#torch.zeros : 파라미터 크기의 0텐서 생성\n",
    "#torch.eye : 정사각 단위행렬 (대각선이 1이고 나머진 0인 행렬) 생성\n",
    "print(embedding_tensor)\n",
    "#0번째 : 공백(padding), 1~10번째 : 1~0, 11번째 : +"
   ]
  },
  {
   "cell_type": "code",
   "execution_count": 5,
   "id": "272801aa-1a6d-44d7-94e4-e861293f421a",
   "metadata": {
    "colab": {
     "base_uri": "https://localhost:8080/"
    },
    "executionInfo": {
     "elapsed": 60,
     "status": "ok",
     "timestamp": 1748692987222,
     "user": {
      "displayName": "Yong-Jun Jang",
      "userId": "12216012798125380557"
     },
     "user_tz": -540
    },
    "id": "272801aa-1a6d-44d7-94e4-e861293f421a",
    "outputId": "49b00bc7-3f36-4cb6-b136-77d13f817d81"
   },
   "outputs": [
    {
     "name": "stdout",
     "output_type": "stream",
     "text": [
      "{' ': 0, '1': 1, '2': 2, '3': 3, '4': 4, '5': 5, '6': 6, '7': 7, '8': 8, '9': 9, '0': 10, '+': 11}\n"
     ]
    }
   ],
   "source": [
    "#숫자 문자 - 라벨링 사전\n",
    "\n",
    "num_dict = {}\n",
    "\n",
    "num_dict[\" \"] = 0\n",
    "for i in range(1,10) :\n",
    "    num_dict[str(i)] = i\n",
    "num_dict[\"0\"] = 10\n",
    "num_dict[\"+\"] = 11\n",
    "\n",
    "print(num_dict)"
   ]
  },
  {
   "cell_type": "code",
   "execution_count": 6,
   "id": "f0be3001-ded7-41d4-b911-7ded0cda4a7a",
   "metadata": {
    "executionInfo": {
     "elapsed": 6,
     "status": "ok",
     "timestamp": 1748692987223,
     "user": {
      "displayName": "Yong-Jun Jang",
      "userId": "12216012798125380557"
     },
     "user_tz": -540
    },
    "id": "f0be3001-ded7-41d4-b911-7ded0cda4a7a"
   },
   "outputs": [],
   "source": [
    "# 데이터 읽어오기\n",
    "\n",
    "with open(\"addition.txt\", mode = \"r\") as f:\n",
    "    ori_data = f.read()"
   ]
  },
  {
   "cell_type": "code",
   "execution_count": 7,
   "id": "fcd19ef0-fc32-4a0b-9bfe-0e61af7018ac",
   "metadata": {
    "colab": {
     "base_uri": "https://localhost:8080/"
    },
    "executionInfo": {
     "elapsed": 91,
     "status": "ok",
     "timestamp": 1748692987311,
     "user": {
      "displayName": "Yong-Jun Jang",
      "userId": "12216012798125380557"
     },
     "user_tz": -540
    },
    "id": "fcd19ef0-fc32-4a0b-9bfe-0e61af7018ac",
    "outputId": "d136a37b-7be3-4605-d214-7644a96f66a8"
   },
   "outputs": [
    {
     "name": "stdout",
     "output_type": "stream",
     "text": [
      "x의 갯수 :  50000\n",
      "x문자의 갯수 :  7\n",
      "x를 문자로 나눈 것 :  ['1', '8', '+', '8', ' ', ' ', ' ']\n",
      "t의 갯수 :  50000\n",
      "t문자의 갯수 :  4\n",
      "t를 문자로 나눈 것 :  ['2', '6', ' ', ' ']\n"
     ]
    }
   ],
   "source": [
    "# 데이터 x, t로 나누기\n",
    "data = ori_data.split(\"\\n\")\n",
    "\n",
    "x = []\n",
    "t = []\n",
    "for nums in data :\n",
    "    if nums.find(\"_\") < 0 :\n",
    "        continue\n",
    "    nums = nums.split(\"_\") # _를 기준으로 나누고\n",
    "    x.append(nums[0]) #앞의 입력값\n",
    "    t.append(nums[1]) #뒤의 출력값\n",
    "\n",
    "print(\"x의 갯수 : \", len(x))\n",
    "print(\"x문자의 갯수 : \", len(x[10]))\n",
    "print(\"x를 문자로 나눈 것 : \", list(x[10]))\n",
    "\n",
    "print(\"t의 갯수 : \", len(t))\n",
    "print(\"t문자의 갯수 : \", len(t[10]))\n",
    "print(\"t를 문자로 나눈 것 : \", list(t[10]))"
   ]
  },
  {
   "cell_type": "code",
   "execution_count": 8,
   "id": "5a09aa76-0560-4dae-a3ab-926832033360",
   "metadata": {
    "colab": {
     "base_uri": "https://localhost:8080/"
    },
    "executionInfo": {
     "elapsed": 420,
     "status": "ok",
     "timestamp": 1748692987733,
     "user": {
      "displayName": "Yong-Jun Jang",
      "userId": "12216012798125380557"
     },
     "user_tz": -540
    },
    "id": "5a09aa76-0560-4dae-a3ab-926832033360",
    "outputId": "c8d6fc7a-df11-4a4a-da62-023713871fb3"
   },
   "outputs": [
    {
     "name": "stdout",
     "output_type": "stream",
     "text": [
      "x 모양 :  (50000, 7)\n",
      "10번째 라벨값 :  [ 1  8 11  8  0  0  0]\n"
     ]
    }
   ],
   "source": [
    "#x 문자들을 라벨링\n",
    "vector_x = []\n",
    "for i in range(len(x)) :\n",
    "    temp = list(x[i]) #str을 문자단위로 끊은 list로 바꾸기\n",
    "    vector = custom.word_vectorize(temp, num_dict)\n",
    "    vector_x.append(vector)\n",
    "\n",
    "vector_x = np.array(vector_x)\n",
    "print(\"x 모양 : \", vector_x.shape)\n",
    "print(\"10번째 라벨값 : \", vector_x[10])"
   ]
  },
  {
   "cell_type": "code",
   "execution_count": 9,
   "id": "9144ca76-8aab-4a85-a70c-5400e7ce2ced",
   "metadata": {
    "colab": {
     "base_uri": "https://localhost:8080/"
    },
    "executionInfo": {
     "elapsed": 433,
     "status": "ok",
     "timestamp": 1748692988160,
     "user": {
      "displayName": "Yong-Jun Jang",
      "userId": "12216012798125380557"
     },
     "user_tz": -540
    },
    "id": "9144ca76-8aab-4a85-a70c-5400e7ce2ced",
    "outputId": "7d8a0743-9863-485c-ae05-97afa99c1fa5"
   },
   "outputs": [
    {
     "name": "stdout",
     "output_type": "stream",
     "text": [
      "t 모양 :  (50000, 4)\n",
      "10번째 라벨값 :  [2 6 0 0]\n"
     ]
    }
   ],
   "source": [
    "#t 문자들을 라벨링 (출력값 y와 비교하기 위해서)\n",
    "vector_t = []\n",
    "for i in range(len(t)) :\n",
    "    temp = list(t[i])\n",
    "    vector = custom.word_vectorize(temp, num_dict)\n",
    "    vector_t.append(vector)\n",
    "\n",
    "vector_t = np.array(vector_t)\n",
    "print(\"t 모양 : \", vector_t.shape)\n",
    "print(\"10번째 라벨값 : \", vector_t[10])"
   ]
  },
  {
   "cell_type": "code",
   "execution_count": 10,
   "id": "8967e8ef-9548-4942-b555-acd47f4de879",
   "metadata": {
    "colab": {
     "base_uri": "https://localhost:8080/"
    },
    "executionInfo": {
     "elapsed": 675,
     "status": "ok",
     "timestamp": 1748692988839,
     "user": {
      "displayName": "Yong-Jun Jang",
      "userId": "12216012798125380557"
     },
     "user_tz": -540
    },
    "id": "8967e8ef-9548-4942-b555-acd47f4de879",
    "outputId": "6a4efca5-617b-422b-be40-3727d36b8eb6"
   },
   "outputs": [
    {
     "name": "stdout",
     "output_type": "stream",
     "text": [
      "400\n",
      "10\n"
     ]
    }
   ],
   "source": [
    "# 전처리한 데이터 x, t를 DataLoader에 싣기\n",
    "# train, test 나누겠습니다. 앞의 40000개는 train, 뒤의 10000개는 test\n",
    "device = \"cuda\" if torch.cuda.is_available() else \"cpu\"\n",
    "s = 40000\n",
    "\n",
    "tensor_x = torch.tensor(vector_x, dtype = torch.long, device = device)\n",
    "tensor_t = torch.tensor(vector_t, dtype = torch.long, device = device)\n",
    "\n",
    "train_zip_list = list(zip(tensor_x[:s], tensor_t[:s]))\n",
    "test_zip_list = list(zip(tensor_x[s:], tensor_t[s:]))\n",
    "\n",
    "train_dataloader = DataLoader(train_zip_list, batch_size=100, shuffle=True)\n",
    "test_dataloader = DataLoader(test_zip_list, batch_size=1000, shuffle=False)\n",
    "\n",
    "print(len(train_dataloader))\n",
    "print(len(test_dataloader))"
   ]
  },
  {
   "cell_type": "code",
   "execution_count": 11,
   "id": "fccf2adf-7710-40f5-847b-2ede81ab1f94",
   "metadata": {
    "executionInfo": {
     "elapsed": 12,
     "status": "ok",
     "timestamp": 1748692988853,
     "user": {
      "displayName": "Yong-Jun Jang",
      "userId": "12216012798125380557"
     },
     "user_tz": -540
    },
    "id": "fccf2adf-7710-40f5-847b-2ede81ab1f94"
   },
   "outputs": [],
   "source": [
    "# 함수들 만들기\n",
    "class Encoder(nn.Module) :\n",
    "    def __init__(self, embedding_vector) :\n",
    "        super().__init__()\n",
    "        self.embedding = nn.Embedding.from_pretrained(embedding_vector, freeze = True, padding_idx = 0) # 라벨값을 벡터로 바꾸는 Embedding 함수\n",
    "        self.rnn = nn.RNN(embedding_vector.shape[1], embedding_vector.shape[1], batch_first = True) #임베딩 열 크기를 받아서 임베딩 열 크기를 출력\n",
    "    def forward(self, x) :\n",
    "        x = self.embedding(x)\n",
    "        y, h = self.rnn(x)\n",
    "        return y, h\n",
    "\n",
    "class Decoder(nn.Module) :\n",
    "    def __init__(self, embedding_vector) :\n",
    "        super().__init__()\n",
    "        self.embedding = nn.Embedding.from_pretrained(embedding_vector, freeze = True, padding_idx = 0)\n",
    "        self.rnn = nn.RNN(embedding_vector.shape[1], embedding_vector.shape[1], batch_first = True)\n",
    "        self.f = nn.Linear(embedding_vector.shape[1], embedding_vector.shape[0]) #RNN을 계산하고 난 뒤 벡터값을 다시 라벨값으로 바꾸는 용도, 단어 출력 용도\n",
    "        self.encoder_h_context = None #encoder_h 가공값 저장할 변수\n",
    "    def forward(self, encoder_output, encoder_h, t = None) : #문장 여러개 처리하기 위해서 encoder_output.shape가 필요함\n",
    "        #decoder 학습 방법 2가지 (greedy, teaching_force)\n",
    "        batch_size = encoder_output.shape[0] #문장 갯수 정하기 = encoder에서 처리한 문장 갯수\n",
    "        decoder_input = torch.zeros(batch_size, 1).type(torch.long).to(encoder_output.device) #처음 넣는 단어 (0번째 단어인 padding)\n",
    "        decoder_h = encoder_h\n",
    "        decoder_output_list = [] #단어들 모아서 문장으로 만들어 출력\n",
    "\n",
    "        for i in range(4) : #t의 문자갯수만큼 반복\n",
    "            decoder_output, decoder_h = self.forward_cal(decoder_input, decoder_h)\n",
    "            decoder_output_list.append(decoder_output)\n",
    "\n",
    "            if t is None : #greedy (t가 없음)\n",
    "                decoder_input = decoder_output.argmax(dim = -1).detach()\n",
    "            else : #teaching-force (t가 있음)\n",
    "                decoder_input = t[:, i:i+1]\n",
    "\n",
    "        decoder_output_list = torch.cat(decoder_output_list, dim = 1) #for 문 종료 후 list로 모아놓은 tensor들을 tensor로 합치는 작업\n",
    "        return decoder_output_list, decoder_h, None\n",
    "\n",
    "    def forward_cal(self, x, h) : #실제 신경망 계산 함수\n",
    "        x = self.embedding(x) #라벨을 벡터로\n",
    "        output, h = self.rnn(x, h) #처음 h값을 지정하고 싶으면 x 뒤에 h값 입력하세요\n",
    "        output = self.f(output) #벡터 계산값을 다시 라벨값으로 변환\n",
    "        return output, h\n",
    "\n",
    "class NN(nn.Module) :\n",
    "    def __init__(self, embedding_vector) :\n",
    "        super().__init__()\n",
    "        self.encoder = Encoder(embedding_vector)\n",
    "        self.decoder = Decoder(embedding_vector)\n",
    "\n",
    "    def forward(self, x, t = None) :\n",
    "        y, h = self.encoder(x)\n",
    "        y, _, _ = self.decoder(y, h, t)\n",
    "        return y\n"
   ]
  },
  {
   "cell_type": "code",
   "execution_count": 12,
   "id": "ebcddf0d-a2ee-4a1c-be54-b30bacdd43a7",
   "metadata": {
    "colab": {
     "base_uri": "https://localhost:8080/"
    },
    "executionInfo": {
     "elapsed": 73546,
     "status": "ok",
     "timestamp": 1748693062403,
     "user": {
      "displayName": "Yong-Jun Jang",
      "userId": "12216012798125380557"
     },
     "user_tz": -540
    },
    "id": "ebcddf0d-a2ee-4a1c-be54-b30bacdd43a7",
    "outputId": "69556008-0c27-4d2d-b7d9-f1d8eafc493b"
   },
   "outputs": [
    {
     "name": "stdout",
     "output_type": "stream",
     "text": [
      "epoch 1 | loss 1.761526042521 | acc 0.272875 | cnt 0\n",
      "epoch 2 | loss 1.5425023791193961 | acc 0.38925 | cnt 0\n",
      "epoch 3 | loss 1.4479051449894904 | acc 0.424275 | cnt 0\n",
      "epoch 4 | loss 1.3953946825861931 | acc 0.450325 | cnt 0\n",
      "epoch 5 | loss 1.3615773701667786 | acc 0.449625 | cnt 1\n",
      "epoch 6 | loss 1.3411293935775757 | acc 0.460525 | cnt 0\n",
      "epoch 7 | loss 1.322231209874153 | acc 0.452625 | cnt 1\n",
      "epoch 8 | loss 1.3132311940193175 | acc 0.452875 | cnt 2\n",
      "epoch 9 | loss 1.291072368323803 | acc 0.467275 | cnt 0\n",
      "epoch 10 | loss 1.2774634584784508 | acc 0.478575 | cnt 0\n",
      "epoch 11 | loss 1.262138338983059 | acc 0.476825 | cnt 1\n",
      "epoch 12 | loss 1.2531061774492265 | acc 0.467675 | cnt 2\n",
      "epoch 13 | loss 1.2339955148100854 | acc 0.489475 | cnt 0\n",
      "epoch 14 | loss 1.2336946761608123 | acc 0.492075 | cnt 0\n",
      "epoch 15 | loss 1.2231068006157875 | acc 0.4857 | cnt 1\n",
      "epoch 16 | loss 1.2137904304265976 | acc 0.497775 | cnt 0\n",
      "epoch 17 | loss 1.2084565219283103 | acc 0.499025 | cnt 0\n",
      "epoch 18 | loss 1.1968141916394233 | acc 0.499225 | cnt 0\n",
      "epoch 19 | loss 1.1921537896990777 | acc 0.47435 | cnt 1\n",
      "epoch 20 | loss 1.1837842962145806 | acc 0.5059 | cnt 0\n",
      "epoch 21 | loss 1.1822975584864617 | acc 0.514425 | cnt 0\n",
      "epoch 22 | loss 1.1740337854623795 | acc 0.49095 | cnt 1\n",
      "epoch 23 | loss 1.1587794411182404 | acc 0.5015 | cnt 2\n",
      "epoch 24 | loss 1.1618347772955895 | acc 0.523575 | cnt 0\n",
      "epoch 25 | loss 1.1505316931009293 | acc 0.50795 | cnt 1\n",
      "epoch 26 | loss 1.1455404230952262 | acc 0.445625 | cnt 2\n",
      "epoch 27 | loss 1.1546642947196961 | acc 0.496025 | cnt 3\n",
      "epoch 28 | loss 1.1284301477670668 | acc 0.49515 | cnt 4\n",
      "epoch 29 | loss 1.1438535419106484 | acc 0.523125 | cnt 5\n",
      "train stopped\n"
     ]
    }
   ],
   "source": [
    "#AI 만들기\n",
    "# x,t 입력은 데이터로더에서 완료\n",
    "\n",
    "F = NN(embedding_tensor).to(device)\n",
    "loss_function = nn.CrossEntropyLoss()\n",
    "optimizer = torch.optim.Adam(F.parameters(), lr = 0.015)\n",
    "epoch = 100\n",
    "prev_acc = 0\n",
    "acc_cnt = 0\n",
    "\n",
    "for e in range(epoch) :\n",
    "    F.train() #드롭아웃 활성화\n",
    "    loss_sum = 0\n",
    "    for x, t in train_dataloader :\n",
    "# y = F(x)\n",
    "        y = F(x, t)\n",
    "# y, t 비교\n",
    "        loss = loss_function(y.reshape(-1, y.shape[-1]), t.reshape(-1)) #cross entropy loss 계산 위해서 3차원을 2차원으로\n",
    "        loss_sum += loss.item()\n",
    "# F(x) 수정\n",
    "        loss.backward()\n",
    "        optimizer.step()\n",
    "        optimizer.zero_grad()\n",
    "    loss_sum /= len(train_dataloader)\n",
    "# 중간 acc 점검, earlystopper 구현\n",
    "    F.eval() #드롭아웃 꺼주기\n",
    "    correct = 0\n",
    "    total = 0\n",
    "    for x, t in test_dataloader :\n",
    "        y = F(x, None) #성능 평가기 때문에 t 입력 안함\n",
    "        correct += (y.argmax(dim = -1) == t).sum().item()\n",
    "        total += len(x) * 4\n",
    "    acc = correct / total\n",
    "\n",
    "    if acc <= prev_acc :\n",
    "        acc_cnt += 1\n",
    "    else :\n",
    "        acc_cnt = 0\n",
    "        prev_acc = acc\n",
    "    print(f\"epoch {e+1} | loss {loss_sum} | acc {acc} | cnt {acc_cnt}\")\n",
    "    if acc_cnt >= 5:\n",
    "        print(\"train stopped\")\n",
    "        break"
   ]
  },
  {
   "cell_type": "code",
   "execution_count": 12,
   "id": "403b22ad-2013-44e5-9de4-d09db71d0b62",
   "metadata": {
    "executionInfo": {
     "elapsed": 5,
     "status": "ok",
     "timestamp": 1748693062414,
     "user": {
      "displayName": "Yong-Jun Jang",
      "userId": "12216012798125380557"
     },
     "user_tz": -540
    },
    "id": "403b22ad-2013-44e5-9de4-d09db71d0b62"
   },
   "outputs": [],
   "source": []
  }
 ],
 "metadata": {
  "colab": {
   "provenance": []
  },
  "kernelspec": {
   "display_name": "Python 3 (ipykernel)",
   "language": "python",
   "name": "python3"
  },
  "language_info": {
   "codemirror_mode": {
    "name": "ipython",
    "version": 3
   },
   "file_extension": ".py",
   "mimetype": "text/x-python",
   "name": "python",
   "nbconvert_exporter": "python",
   "pygments_lexer": "ipython3",
   "version": "3.12.7"
  }
 },
 "nbformat": 4,
 "nbformat_minor": 5
}
