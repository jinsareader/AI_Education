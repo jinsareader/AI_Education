{
 "cells": [
  {
   "cell_type": "code",
   "execution_count": 1,
   "id": "54b7d960-0cc9-4dfd-a94b-88010fa16839",
   "metadata": {},
   "outputs": [],
   "source": [
    "import torch\n",
    "import torch.nn as nn\n",
    "import torch.onnx\n",
    "import numpy as np\n",
    "import onnx\n",
    "import onnxruntime"
   ]
  },
  {
   "cell_type": "code",
   "execution_count": 2,
   "id": "f559e5fb-26b6-4abe-9e53-0c62ed571af2",
   "metadata": {},
   "outputs": [],
   "source": [
    "class Encoder(nn.Module):\n",
    "    def __init__(self, embedding_tensor):\n",
    "        super().__init__()\n",
    "        self.embedding = nn.Embedding.from_pretrained(embedding_tensor, freeze=True, padding_idx=0)\n",
    "        self.rnn = nn.LSTM(embedding_tensor.shape[1], embedding_tensor.shape[1], batch_first=True, bidirectional=True)\n",
    "\n",
    "    def forward(self, x):\n",
    "        # x = torch.flip(x, [-1])\n",
    "        x = self.embedding(x)\n",
    "        output, hc = self.rnn(x)\n",
    "        return output, hc\n",
    "\n",
    "class Decoder(nn.Module) :\n",
    "    def __init__(self, embedding_tensor):\n",
    "        super().__init__()\n",
    "        self.embedding = nn.Embedding.from_pretrained(embedding_tensor, freeze=True, padding_idx=0)\n",
    "        self.rnn = nn.LSTM(embedding_tensor.shape[1] * 3, embedding_tensor.shape[1], batch_first=True, bidirectional=True)\n",
    "        self.f = nn.Linear(embedding_tensor.shape[1] * 4, embedding_tensor.shape[0])\n",
    "        self.encoder_h_context = None\n",
    "\n",
    "    def forward(self, encoder_output, encoder_hc, t = None) :\n",
    "        encoder_h_forward = encoder_hc[0][0:1,:,:]\n",
    "        encoder_h_backward = encoder_hc[0][1:2,:,:]\n",
    "        self.encoder_h_context = torch.concat([encoder_h_forward,encoder_h_backward], dim = -1).transpose(0,1)\n",
    "        batch_size = encoder_output.shape[0]\n",
    "        decoder_input = torch.zeros(batch_size, 1).type(torch.long).to(encoder_output.device)\n",
    "        decoder_hc = encoder_hc\n",
    "        decoder_output_list = []\n",
    "\n",
    "        for i in range(4) :\n",
    "            decoder_output, decoder_hc = self.forward_sub(decoder_input, decoder_hc)\n",
    "            decoder_output_list.append(decoder_output)\n",
    "\n",
    "            if t is None :\n",
    "                decoder_input = decoder_output.argmax(dim = -1).detach()\n",
    "            else :\n",
    "                decoder_input = t[:, i].unsqueeze(-1)\n",
    "\n",
    "        decoder_output_list = torch.cat(decoder_output_list, dim=1)\n",
    "        return decoder_output_list, decoder_hc, None\n",
    "\n",
    "    def forward_sub(self, x, h) :\n",
    "        x = self.embedding(x)\n",
    "        x = torch.concat([self.encoder_h_context, x], dim = -1)\n",
    "        output, hc = self.rnn(x, h)\n",
    "        output = torch.concat([self.encoder_h_context, output], dim = -1)\n",
    "        output = self.f(output)\n",
    "        return output, hc"
   ]
  },
  {
   "cell_type": "code",
   "execution_count": 3,
   "id": "1fe4e614-0afc-4b7f-97aa-17fb88a378e7",
   "metadata": {},
   "outputs": [
    {
     "name": "stdout",
     "output_type": "stream",
     "text": [
      "Encoder(\n",
      "  (embedding): Embedding(12, 11, padding_idx=0)\n",
      "  (rnn): LSTM(11, 11, batch_first=True, bidirectional=True)\n",
      ")\n"
     ]
    }
   ],
   "source": [
    "encoder = torch.load(\"num_encoder.pt\", weights_only=False)\n",
    "print(encoder)"
   ]
  },
  {
   "cell_type": "code",
   "execution_count": 4,
   "id": "65c80dc2-dae6-4863-a594-2dcf9aaae94e",
   "metadata": {},
   "outputs": [
    {
     "name": "stderr",
     "output_type": "stream",
     "text": [
      "C:\\ProgramData\\anaconda3\\Lib\\site-packages\\torch\\onnx\\symbolic_opset9.py:4277: UserWarning: Exporting a model to ONNX with a batch_size other than 1, with a variable length with LSTM can cause an error when running the ONNX model with a different batch size. Make sure to save the model with a batch size of 1, or define the initial states (h0/c0) as inputs of the model. \n",
      "  warnings.warn(\n"
     ]
    }
   ],
   "source": [
    "x = torch.randint(0,12,size = (1,7)).type(torch.long)\n",
    "dynamic_axes = {\"input\" : {0 : \"b\"}, \"output\" : {0 : \"b\"}, \"h\" : {1 : \"b\"}, \"c\" : {1 : \"b\"}}\n",
    "\n",
    "encoder.eval()\n",
    "torch.onnx.export(\n",
    "    encoder,\n",
    "    x,\n",
    "    \"num_encoder.onnx\",\n",
    "    export_params=True,\n",
    "    opset_version=10,\n",
    "    do_constant_folding=True,\n",
    "    input_names=[\"input\"],\n",
    "    output_names=[\"output\", \"h\", \"c\"],\n",
    "    dynamic_axes=dynamic_axes\n",
    ")"
   ]
  },
  {
   "cell_type": "code",
   "execution_count": 5,
   "id": "8dd1b921-5032-4d56-8bb0-17c499b2ac67",
   "metadata": {},
   "outputs": [],
   "source": [
    "onnx_encoder = onnx.load(\"num_encoder.onnx\")\n",
    "onnx.checker.check_model(onnx_encoder)"
   ]
  },
  {
   "cell_type": "code",
   "execution_count": 6,
   "id": "fece5d8a-ebb6-49cb-a51b-d0f9ce61f16b",
   "metadata": {},
   "outputs": [],
   "source": [
    "np_x = np.random.randint(0,12,size=(1,7)).astype(np.int64)\n",
    "tensor_x = torch.tensor(np_x, dtype = torch.long)\n",
    "\n",
    "onnx_encoder = onnxruntime.InferenceSession(\"num_encoder.onnx\", providers=[\"CPUExecutionProvider\"])\n",
    "inputs = {onnx_encoder.get_inputs()[0].name : np_x}\n",
    "np_y = onnx_encoder.run(None, inputs)\n",
    "\n",
    "y, hc = encoder(tensor_x)\n",
    "\n",
    "np.testing.assert_allclose(y.detach().numpy(), np_y[0], rtol=1e-03, atol=1e-05)\n",
    "np.testing.assert_allclose(hc[0].detach().numpy(), np_y[1], rtol=1e-03, atol=1e-05)\n",
    "np.testing.assert_allclose(hc[1].detach().numpy(), np_y[2], rtol=1e-03, atol=1e-05)"
   ]
  },
  {
   "cell_type": "code",
   "execution_count": 7,
   "id": "21d021ab-5844-4a15-b53f-d44493d78703",
   "metadata": {},
   "outputs": [
    {
     "name": "stdout",
     "output_type": "stream",
     "text": [
      "Decoder(\n",
      "  (embedding): Embedding(12, 11, padding_idx=0)\n",
      "  (rnn): LSTM(33, 11, batch_first=True, bidirectional=True)\n",
      "  (f): Linear(in_features=44, out_features=12, bias=True)\n",
      ")\n"
     ]
    }
   ],
   "source": [
    "decoder = torch.load(\"num_decoder.pt\", weights_only=False)\n",
    "print(decoder)"
   ]
  },
  {
   "cell_type": "code",
   "execution_count": 8,
   "id": "9e70c821-9bee-42f5-941b-2c2246909fa4",
   "metadata": {},
   "outputs": [],
   "source": [
    "encoder_output = torch.randn(1,7,22)\n",
    "encoder_h = torch.randn(2,1,11)\n",
    "encoder_c = torch.randn(2,1,11)\n",
    "encoder_hc = (encoder_h, encoder_c)\n",
    "dynamic_axes = {\"encoder_output\" : {0 : 'b'}, \"encoder_h\" : {1 : 'b'}, \"encoder_c\" : {1 : 'b'}, \"output\" : {0 : 'b'}, \"h\" : {1 : 'b'}, \"c\" : {1 : 'b'}}\n",
    "\n",
    "decoder.eval()\n",
    "torch.onnx.export(\n",
    "    decoder,\n",
    "    (encoder_output, encoder_hc, None),\n",
    "    \"num_decoder.onnx\",\n",
    "    export_params=True,\n",
    "    opset_version=10,\n",
    "    do_constant_folding=True,\n",
    "    input_names=[\"encoder_output\", \"encoder_h\", \"encoder_c\"],\n",
    "    output_names=[\"output\",\"h\",\"c\"],\n",
    "    dynamic_axes=dynamic_axes\n",
    ")"
   ]
  },
  {
   "cell_type": "code",
   "execution_count": 9,
   "id": "8b3c24b8-b89e-4fe8-89e6-bb598f4214ad",
   "metadata": {},
   "outputs": [],
   "source": [
    "onnx_decoder = onnx.load(\"num_decoder.onnx\")\n",
    "onnx.checker.check_model(onnx_decoder)"
   ]
  },
  {
   "cell_type": "code",
   "execution_count": 11,
   "id": "6a75c788-6f86-40ac-992d-bde6e3cac4cd",
   "metadata": {},
   "outputs": [],
   "source": [
    "np_encoder_input = np.random.randn(1,7,22).astype(np.float32)\n",
    "np_encoder_h = np.random.randn(2,1,11).astype(np.float32)\n",
    "np_encoder_c = np.random.randn(2,1,11).astype(np.float32)\n",
    "\n",
    "onnx_decoder = onnxruntime.InferenceSession(\"num_decoder.onnx\", providers=[\"CPUExecutionProvider\"])\n",
    "inputs = {onnx_decoder.get_inputs()[0].name : np_encoder_input, onnx_decoder.get_inputs()[1].name : np_encoder_h, onnx_decoder.get_inputs()[2].name : np_encoder_c}\n",
    "np_y = onnx_decoder.run(None, inputs)\n",
    "\n",
    "tensor_encoder_input = torch.tensor(np_encoder_input, dtype = torch.float)\n",
    "tensor_encoder_h = torch.tensor(np_encoder_h, dtype = torch.float)\n",
    "tensor_encoder_c = torch.tensor(np_encoder_c, dtype = torch.float)\n",
    "\n",
    "y, hc, _ = decoder(tensor_encoder_input, (tensor_encoder_h, tensor_encoder_c), None)\n",
    "\n",
    "np.testing.assert_allclose(y.detach().numpy(), np_y[0], rtol=1e-03, atol=1e-05)\n",
    "np.testing.assert_allclose(hc[0].detach().numpy(), np_y[1], rtol=1e-03, atol=1e-05)\n",
    "np.testing.assert_allclose(hc[1].detach().numpy(), np_y[2], rtol=1e-03, atol=1e-05)"
   ]
  },
  {
   "cell_type": "code",
   "execution_count": null,
   "id": "b4acec8f-b19e-4263-a34f-e849fb23b281",
   "metadata": {},
   "outputs": [],
   "source": []
  }
 ],
 "metadata": {
  "kernelspec": {
   "display_name": "Python 3 (ipykernel)",
   "language": "python",
   "name": "python3"
  },
  "language_info": {
   "codemirror_mode": {
    "name": "ipython",
    "version": 3
   },
   "file_extension": ".py",
   "mimetype": "text/x-python",
   "name": "python",
   "nbconvert_exporter": "python",
   "pygments_lexer": "ipython3",
   "version": "3.12.7"
  }
 },
 "nbformat": 4,
 "nbformat_minor": 5
}
