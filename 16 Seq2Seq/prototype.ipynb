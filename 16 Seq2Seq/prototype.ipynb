{
 "cells": [
  {
   "cell_type": "code",
   "execution_count": 1,
   "id": "21abb573-38ee-40b9-8074-eb203549d09d",
   "metadata": {},
   "outputs": [],
   "source": [
    "# 실제 AI한테 더하기 계산식 (더하기 밖에 학습을 안시켜서 더하기밖에 못함) 입력해보기\n",
    "\n",
    "##1. 계산식 입력\n",
    "##2. 계산식 문장을 전처리\n",
    "##3. 계산식 문장을 encoder와 decoder에 넣어서 y를 출력\n",
    "##4. y값 분석해서 다시 문장으로 바꾸기\n"
   ]
  },
  {
   "cell_type": "code",
   "execution_count": 2,
   "id": "87dbaf25-b760-47c9-9892-45434125a45c",
   "metadata": {},
   "outputs": [],
   "source": [
    "import os\n",
    "import sys\n",
    "sys.path.append(os.path.join(os.path.dirname(\"\"), \"..\"))\n",
    "\n",
    "import custom\n",
    "import numpy\n",
    "\n",
    "import torch\n",
    "import torch.nn as nn"
   ]
  },
  {
   "cell_type": "code",
   "execution_count": 3,
   "id": "9334c069-de12-4a9a-8b0e-37b49ca64f67",
   "metadata": {},
   "outputs": [],
   "source": [
    "# 신경망 커스텀 class 선언\n",
    "\n",
    "# 함수들 만들기\n",
    "class Encoder(nn.Module) :\n",
    "    def __init__(self, embedding_vector) :\n",
    "        super().__init__()\n",
    "        self.embedding = nn.Embedding.from_pretrained(embedding_vector, freeze = True, padding_idx = 0) # 라벨값을 벡터로 바꾸는 Embedding 함수\n",
    "        self.rnn = nn.LSTM(embedding_vector.shape[1], embedding_vector.shape[1], batch_first = True, bidirectional = True) #임베딩 열 크기를 받아서 임베딩 열 크기를 출력\n",
    "    def forward(self, x) :\n",
    "        x = self.embedding(x)\n",
    "        y, hc = self.rnn(x)\n",
    "        return y, hc\n",
    "\n",
    "class Decoder(nn.Module) :\n",
    "    def __init__(self, embedding_vector) :\n",
    "        super().__init__()\n",
    "        self.embedding = nn.Embedding.from_pretrained(embedding_vector, freeze = True, padding_idx = 0)\n",
    "        self.rnn = nn.LSTM(embedding_vector.shape[1] * 3, embedding_vector.shape[1], batch_first = True, bidirectional = True)\n",
    "        self.f = nn.Linear(embedding_vector.shape[1] * 4, embedding_vector.shape[0]) #RNN을 계산하고 난 뒤 벡터값을 다시 라벨값으로 바꾸는 용도, 단어 출력 용도\n",
    "        self.encoder_h_context = None #encoder_h 가공값 저장할 변수\n",
    "    def forward(self, encoder_output, encoder_hc, t = None) : #문장 여러개 처리하기 위해서 encoder_output.shape가 필요함\n",
    "        #decoder 학습 방법 2가지 (greedy, teaching_force)\n",
    "        #encoder_h 가공\n",
    "        encoder_h_forward = encoder_hc[0][0:1,:,:]\n",
    "        encoder_h_backward = encoder_hc[0][1:2,:,:] #encoder의 h값 반으로 쪼개기\n",
    "        self.encoder_h_context = torch.concat([encoder_h_forward, encoder_h_backward], dim = -1).transpose(0,1)\n",
    "        \n",
    "        batch_size = encoder_output.shape[0] #문장 갯수 정하기 = encoder에서 처리한 문장 갯수\n",
    "        decoder_input = torch.zeros(batch_size, 1).type(torch.long).to(encoder_output.device) #처음 넣는 단어 (0번째 단어인 padding)\n",
    "        decoder_hc = encoder_hc\n",
    "        decoder_output_list = [] #단어들 모아서 문장으로 만들어 출력\n",
    "\n",
    "        for i in range(4) : #t의 문자갯수만큼 반복\n",
    "            decoder_output, decoder_hc = self.forward_cal(decoder_input, decoder_hc)\n",
    "            decoder_output_list.append(decoder_output)\n",
    "\n",
    "            if t is None : #greedy (t가 없음)\n",
    "                decoder_input = decoder_output.argmax(dim = -1).detach()\n",
    "            else : #teaching-force (t가 있음)\n",
    "                decoder_input = t[:, i:i+1]\n",
    "\n",
    "        decoder_output_list = torch.cat(decoder_output_list, dim = 1) #for 문 종료 후 list로 모아놓은 tensor들을 tensor로 합치는 작업\n",
    "        return decoder_output_list, decoder_hc\n",
    "        \n",
    "    def forward_cal(self, x, h) : #실제 신경망 계산 함수\n",
    "        x = self.embedding(x) #라벨을 벡터로\n",
    "        x = torch.concat([self.encoder_h_context, x], dim = -1)\n",
    "        output, h = self.rnn(x, h) #처음 h값을 지정하고 싶으면 x 뒤에 h값 입력하세요\n",
    "        output = torch.concat([self.encoder_h_context, output], dim = -1)\n",
    "        output = self.f(output) #벡터 계산값을 다시 라벨값으로 변환\n",
    "        return output, h\n"
   ]
  },
  {
   "cell_type": "code",
   "execution_count": 4,
   "id": "7260869d-f4ef-48ec-b742-fd0ad53fb794",
   "metadata": {},
   "outputs": [
    {
     "name": "stdout",
     "output_type": "stream",
     "text": [
      "Encoder(\n",
      "  (embedding): Embedding(12, 11, padding_idx=0)\n",
      "  (rnn): LSTM(11, 11, batch_first=True, bidirectional=True)\n",
      ")\n",
      "Decoder(\n",
      "  (embedding): Embedding(12, 11, padding_idx=0)\n",
      "  (rnn): LSTM(33, 11, batch_first=True, bidirectional=True)\n",
      "  (f): Linear(in_features=44, out_features=12, bias=True)\n",
      ")\n"
     ]
    }
   ],
   "source": [
    "# 신경망 불러오기\n",
    "encoder = torch.load(\"num_encoder.pt\", weights_only=False).to(\"cpu\") #신경망 불러와서 cpu로 변환\n",
    "decoder = torch.load(\"num_decoder.pt\", weights_only=False).to(\"cpu\")\n",
    "\n",
    "encoder.eval() #dropout 꺼주기\n",
    "decoder.eval()\n",
    "\n",
    "print(encoder)\n",
    "print(decoder)"
   ]
  },
  {
   "cell_type": "code",
   "execution_count": 5,
   "id": "79ae44f8-66b8-4425-8670-d84a2fedc200",
   "metadata": {},
   "outputs": [
    {
     "name": "stdout",
     "output_type": "stream",
     "text": [
      "{' ': 0, '1': 1, '2': 2, '3': 3, '4': 4, '5': 5, '6': 6, '7': 7, '8': 8, '9': 9, '0': 10, '+': 11}\n"
     ]
    }
   ],
   "source": [
    "## 숫자-라벨링 사전 정의\n",
    "\n",
    "num_dict = {' ': 0, '1': 1, '2': 2, '3': 3, '4': 4, '5': 5, '6': 6, '7': 7, '8': 8, '9': 9, '0': 10, '+': 11}\n",
    "\n",
    "print(num_dict)"
   ]
  },
  {
   "cell_type": "code",
   "execution_count": 6,
   "id": "5b41ea22-3f92-4dda-9994-5a5840127a19",
   "metadata": {},
   "outputs": [
    {
     "name": "stdin",
     "output_type": "stream",
     "text": [
      "계산식 입력하세요 (7개 문자까지만 가능) :  5+12\n"
     ]
    },
    {
     "name": "stdout",
     "output_type": "stream",
     "text": [
      "tensor([[[-18.9582,  28.4378,  24.1172,  13.4422,  -3.2165, -13.4384, -11.5027,\n",
      "          -14.3919, -25.1196, -22.7492,  26.5713,  -9.1549],\n",
      "         [  7.4898,  -0.7630,  -9.4761, -13.0095,  -9.7613,  -1.0292,  10.0346,\n",
      "           13.9712,   9.6204,   0.5125,   6.4941, -10.0765],\n",
      "         [ 62.3868,  -9.5715, -17.5198, -21.5635, -14.0712,  -4.3158,   8.9685,\n",
      "           16.4402,  18.6293,   7.4377,  -5.3554,  -7.8343],\n",
      "         [ 45.4433,   4.7260,  15.9797,  17.1387,  11.1716,   4.3421,  -3.8997,\n",
      "          -17.5642, -32.0090, -31.1792,  -7.4532,  -8.9791]]],\n",
      "       grad_fn=<CatBackward0>)\n",
      "torch.Size([1, 4, 12])\n",
      "결과값 : 17  "
     ]
    }
   ],
   "source": [
    "\n",
    "##1. 계산식 입력\n",
    "query = input(\"계산식 입력하세요 (7개 문자까지만 가능) : \")\n",
    "\n",
    "##2. 계산식 문장을 전처리\n",
    "query = list(query) #문자 하나단위로 끊기\n",
    "vector = custom.word_vectorize(query, num_dict, 7, False, \" \", \" \") #문자 라벨링\n",
    "vector = [vector] #2차원으로 만들기\n",
    "tensor = torch.tensor(vector, dtype = torch.long) #tensor로 변환\n",
    "\n",
    "##3. 계산식 문장을 encoder와 decoder에 넣어서 y를 출력\n",
    "encoder_y, encoder_hc = encoder(tensor)\n",
    "y, _ = decoder(encoder_y, encoder_hc)\n",
    "print(y)\n",
    "print(y.shape)\n",
    "\n",
    "##4. y값 분석해서 다시 문장으로 바꾸기\n",
    "print(\"결과값 : \", end = \"\")\n",
    "for a in y[0] :\n",
    "    print(list(num_dict.keys())[a.argmax(dim = -1)] ,end = \"\")\n"
   ]
  },
  {
   "cell_type": "code",
   "execution_count": null,
   "id": "04fdd2f1-892e-434c-91e9-0d1182ed26c7",
   "metadata": {},
   "outputs": [],
   "source": []
  }
 ],
 "metadata": {
  "kernelspec": {
   "display_name": "Python 3 (ipykernel)",
   "language": "python",
   "name": "python3"
  },
  "language_info": {
   "codemirror_mode": {
    "name": "ipython",
    "version": 3
   },
   "file_extension": ".py",
   "mimetype": "text/x-python",
   "name": "python",
   "nbconvert_exporter": "python",
   "pygments_lexer": "ipython3",
   "version": "3.12.7"
  }
 },
 "nbformat": 4,
 "nbformat_minor": 5
}
