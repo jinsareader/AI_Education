{
 "cells": [
  {
   "cell_type": "code",
   "execution_count": 1,
   "id": "6e3c7ba3-4cd9-40a9-b608-3ea825a30d64",
   "metadata": {},
   "outputs": [],
   "source": [
    "#onnx 불러와서\n",
    "\n",
    "#식 입력\n",
    "#식 전처리\n",
    "#onnx 계산\n",
    "#계산값 분석"
   ]
  },
  {
   "cell_type": "code",
   "execution_count": 2,
   "id": "017ceba1-b24d-40a3-87cf-6a06c04fa17a",
   "metadata": {},
   "outputs": [],
   "source": [
    "import os\n",
    "import sys\n",
    "sys.path.append(os.path.join(os.path.dirname(\"\"),\"..\"))\n",
    "\n",
    "import custom\n",
    "import onnxruntime\n",
    "import numpy as np"
   ]
  },
  {
   "cell_type": "code",
   "execution_count": 3,
   "id": "4e0c50e7-159d-47bf-859d-f5174000f9dc",
   "metadata": {},
   "outputs": [],
   "source": [
    "#onnx 불러오기\n",
    "\n",
    "encoder = onnxruntime.InferenceSession(\"num_encoder.onnx\", providers=[\"CPUExecutionProvider\"])\n",
    "decoder = onnxruntime.InferenceSession(\"num_decoder.onnx\", providers=[\"CPUExecutionProvider\"])\n"
   ]
  },
  {
   "cell_type": "code",
   "execution_count": 4,
   "id": "ab4421bf-e6fc-475c-a6d2-c2c485833676",
   "metadata": {},
   "outputs": [
    {
     "name": "stdout",
     "output_type": "stream",
     "text": [
      "{' ': 0, '1': 1, '2': 2, '3': 3, '4': 4, '5': 5, '6': 6, '7': 7, '8': 8, '9': 9, '0': 10, '+': 11}\n"
     ]
    }
   ],
   "source": [
    "## 숫자-라벨링 사전 정의\n",
    "\n",
    "num_dict = {' ': 0, '1': 1, '2': 2, '3': 3, '4': 4, '5': 5, '6': 6, '7': 7, '8': 8, '9': 9, '0': 10, '+': 11}\n",
    "\n",
    "print(num_dict)"
   ]
  },
  {
   "cell_type": "code",
   "execution_count": 5,
   "id": "2fa72b01-7144-4b34-98eb-5b4898d13f8c",
   "metadata": {},
   "outputs": [
    {
     "name": "stdin",
     "output_type": "stream",
     "text": [
      "식을 입력하세요 :  5+12\n"
     ]
    },
    {
     "name": "stdout",
     "output_type": "stream",
     "text": [
      "결과값 : 17  "
     ]
    }
   ],
   "source": [
    "#식 입력\n",
    "query = input(\"식을 입력하세요 : \")\n",
    "#식 전처리\n",
    "query = list(query) #str을 문자단위로 나누기\n",
    "label = custom.word_vectorize(query, num_dict, 7, False, \" \", \" \")\n",
    "label = [label]\n",
    "arr = np.array(label).astype(np.int64)\n",
    "#onnx 계산\n",
    "input_ = {encoder.get_inputs()[0].name : arr}\n",
    "output = encoder.run(None, input_)\n",
    "#output[0] : 실제 출력값, output[1] : h, output[2] : c\n",
    "input_name = decoder.get_inputs()\n",
    "input_ = {input_name[0].name : output[0], input_name[1].name : output[1], input_name[2].name : output[2]}\n",
    "output = decoder.run(None, input_)\n",
    "y = output[0]\n",
    "\n",
    "print(\"결과값 : \", end = \"\")\n",
    "for i in y[0] :\n",
    "    print(list(num_dict.keys())[i.argmax(axis = -1)], end = \"\")\n",
    "#계산값 분석"
   ]
  },
  {
   "cell_type": "code",
   "execution_count": null,
   "id": "4f369a60-4f26-439c-90fa-0edb0d7e160f",
   "metadata": {},
   "outputs": [],
   "source": []
  }
 ],
 "metadata": {
  "kernelspec": {
   "display_name": "Python 3 (ipykernel)",
   "language": "python",
   "name": "python3"
  },
  "language_info": {
   "codemirror_mode": {
    "name": "ipython",
    "version": 3
   },
   "file_extension": ".py",
   "mimetype": "text/x-python",
   "name": "python",
   "nbconvert_exporter": "python",
   "pygments_lexer": "ipython3",
   "version": "3.12.7"
  }
 },
 "nbformat": 4,
 "nbformat_minor": 5
}
