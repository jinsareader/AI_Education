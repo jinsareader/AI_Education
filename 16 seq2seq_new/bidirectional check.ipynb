{
 "cells": [
  {
   "cell_type": "code",
   "execution_count": 1,
   "id": "82278200-eed6-4c1e-9860-4d36139e688b",
   "metadata": {},
   "outputs": [],
   "source": [
    "import torch\n",
    "import torch.nn as nn"
   ]
  },
  {
   "cell_type": "code",
   "execution_count": 2,
   "id": "7ce64c31-eb61-4668-9d9c-6b3b4e221480",
   "metadata": {},
   "outputs": [],
   "source": [
    "rnn = nn.RNN(5,3,batch_first = True, bidirectional = True, num_layers = 2)"
   ]
  },
  {
   "cell_type": "code",
   "execution_count": 3,
   "id": "648dd306-9007-453d-9d49-a9218a7dc0ac",
   "metadata": {},
   "outputs": [
    {
     "name": "stdout",
     "output_type": "stream",
     "text": [
      "tensor([[[ 0.1319,  0.7672, -0.3622, -0.7937,  0.2348,  0.8363],\n",
      "         [-0.4497,  0.0440,  0.6871, -0.5716,  0.6775, -0.1743],\n",
      "         [-0.3545,  0.5942,  0.7546, -0.4184,  0.2521, -0.3916]],\n",
      "\n",
      "        [[-0.4405,  0.5250, -0.1028, -0.0992, -0.3538,  0.2637],\n",
      "         [-0.3758,  0.3292,  0.4154, -0.7774,  0.4615,  0.1255],\n",
      "         [-0.0990,  0.3328,  0.0657, -0.8148,  0.6041,  0.4332]]],\n",
      "       grad_fn=<TransposeBackward1>)\n",
      "tensor([[[ 0.9940, -0.7825,  0.8266],\n",
      "         [-0.9406, -0.7522,  0.2524],\n",
      "         [-0.3545,  0.5942,  0.7546],\n",
      "         [-0.7937,  0.2348,  0.8363]],\n",
      "\n",
      "        [[ 0.2655, -0.1487,  0.9430],\n",
      "         [ 0.3823, -0.2087, -0.1228],\n",
      "         [-0.0990,  0.3328,  0.0657],\n",
      "         [-0.0992, -0.3538,  0.2637]]], grad_fn=<PermuteBackward0>)\n"
     ]
    }
   ],
   "source": [
    "x = torch.randn(2,3,5)\n",
    "y, h = rnn(x)\n",
    "\n",
    "print(y)\n",
    "print(h.permute(1,0,2))"
   ]
  },
  {
   "cell_type": "code",
   "execution_count": 8,
   "id": "c00b8eb3-31b4-4257-be82-5e1473db3996",
   "metadata": {},
   "outputs": [
    {
     "name": "stdout",
     "output_type": "stream",
     "text": [
      "tensor([[[ 0.9940, -0.7825,  0.8266, -0.9406, -0.7522,  0.2524],\n",
      "         [-0.3545,  0.5942,  0.7546, -0.7937,  0.2348,  0.8363]],\n",
      "\n",
      "        [[ 0.2655, -0.1487,  0.9430,  0.3823, -0.2087, -0.1228],\n",
      "         [-0.0990,  0.3328,  0.0657, -0.0992, -0.3538,  0.2637]]],\n",
      "       grad_fn=<PermuteBackward0>)\n",
      "tensor([[[ 0.3197, -0.0942,  0.7906, -0.8672, -0.2587,  0.5444]],\n",
      "\n",
      "        [[ 0.0832,  0.0921,  0.5043,  0.1416, -0.2812,  0.0705]]],\n",
      "       grad_fn=<UnsqueezeBackward0>)\n"
     ]
    }
   ],
   "source": [
    "hf = h[::2]\n",
    "hb = h[1::2]\n",
    "new_h = torch.cat([hf, hb], dim = -1).permute(1,0,2).mean(dim = 1).unsqueeze(dim = 1) # peeky 알고리즘\n",
    "\n",
    "print(torch.cat([hf, hb], dim = -1).permute(1,0,2))\n",
    "print(new_h)"
   ]
  },
  {
   "cell_type": "code",
   "execution_count": null,
   "id": "d1929d0d-3940-49e7-b719-78c09f533a93",
   "metadata": {},
   "outputs": [],
   "source": []
  }
 ],
 "metadata": {
  "kernelspec": {
   "display_name": "Python 3 (ipykernel)",
   "language": "python",
   "name": "python3"
  },
  "language_info": {
   "codemirror_mode": {
    "name": "ipython",
    "version": 3
   },
   "file_extension": ".py",
   "mimetype": "text/x-python",
   "name": "python",
   "nbconvert_exporter": "python",
   "pygments_lexer": "ipython3",
   "version": "3.12.7"
  }
 },
 "nbformat": 4,
 "nbformat_minor": 5
}
