{
 "cells": [
  {
   "cell_type": "code",
   "execution_count": 1,
   "id": "82278200-eed6-4c1e-9860-4d36139e688b",
   "metadata": {},
   "outputs": [],
   "source": [
    "import torch\n",
    "import torch.nn as nn"
   ]
  },
  {
   "cell_type": "code",
   "execution_count": 2,
   "id": "7ce64c31-eb61-4668-9d9c-6b3b4e221480",
   "metadata": {},
   "outputs": [],
   "source": [
    "rnn = nn.RNN(5,3,batch_first = True, bidirectional = True, num_layers = 2)"
   ]
  },
  {
   "cell_type": "code",
   "execution_count": 3,
   "id": "648dd306-9007-453d-9d49-a9218a7dc0ac",
   "metadata": {},
   "outputs": [
    {
     "name": "stdout",
     "output_type": "stream",
     "text": [
      "tensor([[[-0.6856, -0.5147, -0.7547,  0.0339,  0.8284,  0.1965],\n",
      "         [-0.1969, -0.6126, -0.4921,  0.0496,  0.5074,  0.1886]]],\n",
      "       grad_fn=<TransposeBackward1>)\n",
      "tensor([[[ 0.7280,  0.1446,  0.9123]],\n",
      "\n",
      "        [[-0.8551,  0.7618, -0.6513]],\n",
      "\n",
      "        [[-0.1969, -0.6126, -0.4921]],\n",
      "\n",
      "        [[ 0.0339,  0.8284,  0.1965]]], grad_fn=<StackBackward0>)\n"
     ]
    }
   ],
   "source": [
    "x = torch.randn(1,2,5)\n",
    "y, h = rnn(x)\n",
    "\n",
    "print(y)\n",
    "print(h)"
   ]
  },
  {
   "cell_type": "code",
   "execution_count": 7,
   "id": "c00b8eb3-31b4-4257-be82-5e1473db3996",
   "metadata": {},
   "outputs": [
    {
     "name": "stdout",
     "output_type": "stream",
     "text": [
      "tensor([[[ 0.7280,  0.1446,  0.9123]],\n",
      "\n",
      "        [[-0.1969, -0.6126, -0.4921]]], grad_fn=<SliceBackward0>)\n",
      "tensor([[[-0.8551,  0.7618, -0.6513]],\n",
      "\n",
      "        [[ 0.0339,  0.8284,  0.1965]]], grad_fn=<SliceBackward0>)\n",
      "tensor([[[-0.1271,  0.9064,  0.2610]],\n",
      "\n",
      "        [[-0.1631,  0.2158, -0.2956]]], grad_fn=<AddBackward0>)\n",
      "tensor([[-0.1451,  0.5611, -0.0173]], grad_fn=<MeanBackward1>)\n"
     ]
    }
   ],
   "source": [
    "h_forward = h[::2]\n",
    "h_backward = h[1::2]\n",
    "\n",
    "print(h_forward)\n",
    "print(h_backward)\n",
    "\n",
    "new_h = h_forward + h_backward\n",
    "print(new_h)\n",
    "\n",
    "print(new_h.mean(dim = 0))"
   ]
  },
  {
   "cell_type": "code",
   "execution_count": null,
   "id": "48af3685-4a05-435f-9ae4-0f6a4f8853a3",
   "metadata": {},
   "outputs": [],
   "source": []
  }
 ],
 "metadata": {
  "kernelspec": {
   "display_name": "Python 3 (ipykernel)",
   "language": "python",
   "name": "python3"
  },
  "language_info": {
   "codemirror_mode": {
    "name": "ipython",
    "version": 3
   },
   "file_extension": ".py",
   "mimetype": "text/x-python",
   "name": "python",
   "nbconvert_exporter": "python",
   "pygments_lexer": "ipython3",
   "version": "3.12.7"
  }
 },
 "nbformat": 4,
 "nbformat_minor": 5
}
