{
 "cells": [
  {
   "cell_type": "code",
   "execution_count": 1,
   "id": "c83b15e6-2929-46ec-a173-dfd123d4f67b",
   "metadata": {},
   "outputs": [],
   "source": [
    "# torch 함수 불러오기\n",
    "# onnx로 변환하기\n",
    "# 변환된 onnx 검증하기"
   ]
  },
  {
   "cell_type": "code",
   "execution_count": 1,
   "id": "6693e4ef-52e9-4174-a587-577a5326b34b",
   "metadata": {},
   "outputs": [],
   "source": [
    "import numpy as np\n",
    "\n",
    "# torch 함수 불러오기\n",
    "import torch\n",
    "from add_ai5 import Encoder_n_Decoder\n",
    "# onnx로 변환하기\n",
    "import torch.onnx\n",
    "# 변환된 onnx 검증하기\n",
    "import onnx # 검증만\n",
    "import onnxruntime # 실제 계산까지"
   ]
  },
  {
   "cell_type": "code",
   "execution_count": 2,
   "id": "555f1089-8dc0-4699-9a32-ea9725a067ed",
   "metadata": {},
   "outputs": [
    {
     "name": "stdout",
     "output_type": "stream",
     "text": [
      "Encoder_n_Decoder(\n",
      "  (encoder): Encoder(\n",
      "    (embedding): Embedding(12, 11, padding_idx=0)\n",
      "    (rnn): LSTM(11, 11, batch_first=True, bidirectional=True)\n",
      "  )\n",
      "  (decoder): Decoder(\n",
      "    (embedding): Embedding(12, 11, padding_idx=0)\n",
      "    (attention): Attention(\n",
      "      (U): Linear(in_features=22, out_features=22, bias=True)\n",
      "      (W): Linear(in_features=22, out_features=22, bias=True)\n",
      "      (V): Linear(in_features=22, out_features=1, bias=True)\n",
      "    )\n",
      "    (rnn): LSTM(33, 11, batch_first=True, bidirectional=True)\n",
      "    (f): Linear(in_features=22, out_features=12, bias=True)\n",
      "  )\n",
      ")\n"
     ]
    }
   ],
   "source": [
    "# 함수 불러오기\n",
    "file_name = \"data/add_ai5\"\n",
    "\n",
    "F = torch.load(file_name + '.pt', weights_only=False, map_location='cpu') # cpu로 불러오기\n",
    "F.eval() # dropout 끄기\n",
    "\n",
    "print(F)"
   ]
  },
  {
   "cell_type": "code",
   "execution_count": 3,
   "id": "e794154a-1278-4819-ba15-dbfd5f1280a2",
   "metadata": {},
   "outputs": [
    {
     "name": "stderr",
     "output_type": "stream",
     "text": [
      "C:\\ProgramData\\anaconda3\\Lib\\site-packages\\torch\\onnx\\symbolic_opset9.py:4277: UserWarning: Exporting a model to ONNX with a batch_size other than 1, with a variable length with LSTM can cause an error when running the ONNX model with a different batch size. Make sure to save the model with a batch size of 1, or define the initial states (h0/c0) as inputs of the model. \n",
      "  warnings.warn(\n"
     ]
    }
   ],
   "source": [
    "# onnx로 변환하기\n",
    "x = torch.randint(0, 12, (1,7)).type(torch.long) # 입력값 더미 텐서\n",
    "dynamic_axes = {'x' : {0 : 'b', 1 : 'f'}, 'y' : {0 : 'b'}} # 가변길이 차원 지정 dict\n",
    "\n",
    "torch.onnx.export(\n",
    "    F,\n",
    "    x,\n",
    "    file_name + '.onnx',\n",
    "    export_params=True,\n",
    "    opset_version=20,\n",
    "    do_constant_folding=True,\n",
    "    input_names=['x'],\n",
    "    output_names=['y'],\n",
    "    dynamic_axes=dynamic_axes\n",
    ")"
   ]
  },
  {
   "cell_type": "code",
   "execution_count": 4,
   "id": "37263085-33bc-4e8c-b6ce-4c8c392b3a7c",
   "metadata": {},
   "outputs": [],
   "source": [
    "# onnx 확인하기\n",
    "onnx_F = onnx.load(file_name + '.onnx')\n",
    "\n",
    "onnx.checker.check_model(onnx_F) #문제 없이 저장이 되었으면 오류 메세지 없음"
   ]
  },
  {
   "cell_type": "code",
   "execution_count": 5,
   "id": "1a11cb8b-c834-4937-92e5-e0a4f0197121",
   "metadata": {},
   "outputs": [
    {
     "name": "stdout",
     "output_type": "stream",
     "text": [
      "[[[-13.583315    34.72702     10.444136    -9.719709   -15.5479145\n",
      "   -19.500704   -18.153072    -5.236818     7.994429    21.560867\n",
      "     7.541352    -2.3782923 ]\n",
      "  [ -6.397928     0.9416317  -13.6799555  -29.186928   -27.742537\n",
      "   -13.507702     6.2380376   15.831399    21.01223     20.760471\n",
      "    19.292858    -7.2076645 ]\n",
      "  [ -4.946788     4.5097914    8.566231     7.4153886    3.2191849\n",
      "    -0.41701412  -6.192226    -8.4336605   -4.781098     1.2866303\n",
      "     2.7624612   -8.654132  ]\n",
      "  [  8.594806    -3.6023984  -10.739      -18.167614   -18.337341\n",
      "   -11.474478    -6.3194966    3.727161    11.1729145   12.714137\n",
      "     8.067759   -11.955338  ]]]\n",
      "[[[-13.583313    34.727024    10.444137    -9.719709   -15.547916\n",
      "   -19.500704   -18.153065    -5.2368155    7.99443     21.560867\n",
      "     7.54135     -2.3782911 ]\n",
      "  [ -6.397927     0.94164395 -13.679943   -29.186918   -27.742538\n",
      "   -13.507708     6.238034    15.831395    21.012226    20.760477\n",
      "    19.29286     -7.2076626 ]\n",
      "  [ -4.946787     4.5097876    8.56623      7.4153914    3.219194\n",
      "    -0.41700718  -6.1922255   -8.433665    -4.781102     1.2866263\n",
      "     2.76246     -8.654133  ]\n",
      "  [  8.594801    -3.6023984  -10.738999   -18.167616   -18.337345\n",
      "   -11.47448     -6.319497     3.7271614   11.172916    12.714139\n",
      "     8.067762   -11.955338  ]]]\n"
     ]
    }
   ],
   "source": [
    "# 실제 계산값 비교\n",
    "onnx_F = onnxruntime.InferenceSession(file_name + '.onnx', providers=[\"CPUExecutionProvider\"])\n",
    "np_x = x.numpy()\n",
    "\n",
    "y = F(x) # torch 계산 값\n",
    "\n",
    "inputs = {onnx_F.get_inputs()[0].name : np_x}\n",
    "outputs = onnx_F.run(None, inputs)\n",
    "onnx_y = outputs[0] # onnx 계산 값\n",
    "\n",
    "print(y.detach().numpy())\n",
    "print(onnx_y)\n",
    "\n",
    "np.testing.assert_allclose(y.detach().numpy(), onnx_y, rtol=1e-03, atol=1e-05) #계산 결과가 오차범위 내 차이 없으면 오류 메세지 없음"
   ]
  },
  {
   "cell_type": "code",
   "execution_count": null,
   "id": "c738dc8b-f8d6-4355-9d7e-3ea9e20905d0",
   "metadata": {},
   "outputs": [],
   "source": []
  }
 ],
 "metadata": {
  "kernelspec": {
   "display_name": "Python 3 (ipykernel)",
   "language": "python",
   "name": "python3"
  },
  "language_info": {
   "codemirror_mode": {
    "name": "ipython",
    "version": 3
   },
   "file_extension": ".py",
   "mimetype": "text/x-python",
   "name": "python",
   "nbconvert_exporter": "python",
   "pygments_lexer": "ipython3",
   "version": "3.12.7"
  }
 },
 "nbformat": 4,
 "nbformat_minor": 5
}
