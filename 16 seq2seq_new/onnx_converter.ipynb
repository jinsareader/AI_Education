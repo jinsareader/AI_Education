{
 "cells": [
  {
   "cell_type": "code",
   "execution_count": 1,
   "id": "c83b15e6-2929-46ec-a173-dfd123d4f67b",
   "metadata": {},
   "outputs": [],
   "source": [
    "# torch 함수 불러오기\n",
    "# onnx로 변환하기\n",
    "# 변환된 onnx 검증하기"
   ]
  },
  {
   "cell_type": "code",
   "execution_count": 2,
   "id": "6693e4ef-52e9-4174-a587-577a5326b34b",
   "metadata": {},
   "outputs": [],
   "source": [
    "import numpy as np\n",
    "\n",
    "# torch 함수 불러오기\n",
    "import torch\n",
    "from add_ai3 import Encoder\n",
    "from add_ai3 import Decoder\n",
    "from add_ai3 import Encoder_n_Decoder\n",
    "# onnx로 변환하기\n",
    "import torch.onnx\n",
    "# 변환된 onnx 검증하기\n",
    "import onnx # 검증만\n",
    "import onnxruntime # 실제 계산까지"
   ]
  },
  {
   "cell_type": "code",
   "execution_count": 3,
   "id": "555f1089-8dc0-4699-9a32-ea9725a067ed",
   "metadata": {},
   "outputs": [
    {
     "name": "stdout",
     "output_type": "stream",
     "text": [
      "Encoder_n_Decoder(\n",
      "  (encoder): Encoder(\n",
      "    (embedding): Embedding(12, 11, padding_idx=0)\n",
      "    (rnn): LSTM(11, 11, batch_first=True, bidirectional=True)\n",
      "  )\n",
      "  (decoder): Decoder(\n",
      "    (embedding): Embedding(12, 11, padding_idx=0)\n",
      "    (rnn): LSTM(11, 11, batch_first=True)\n",
      "    (f): Linear(in_features=11, out_features=12, bias=True)\n",
      "  )\n",
      ")\n"
     ]
    }
   ],
   "source": [
    "# 함수 불러오기\n",
    "file_name = \"data/add_ai3\"\n",
    "\n",
    "F = torch.load(file_name + '.pt', weights_only=False, map_location='cpu') # cpu로 불러오기\n",
    "F.eval() # dropout 끄기\n",
    "\n",
    "print(F)"
   ]
  },
  {
   "cell_type": "code",
   "execution_count": 4,
   "id": "e794154a-1278-4819-ba15-dbfd5f1280a2",
   "metadata": {},
   "outputs": [
    {
     "name": "stderr",
     "output_type": "stream",
     "text": [
      "C:\\ProgramData\\anaconda3\\Lib\\site-packages\\torch\\onnx\\symbolic_opset9.py:4277: UserWarning: Exporting a model to ONNX with a batch_size other than 1, with a variable length with LSTM can cause an error when running the ONNX model with a different batch size. Make sure to save the model with a batch size of 1, or define the initial states (h0/c0) as inputs of the model. \n",
      "  warnings.warn(\n"
     ]
    }
   ],
   "source": [
    "# onnx로 변환하기\n",
    "x = torch.randint(0, 12, (1,7)).type(torch.long) # 입력값 더미 텐서\n",
    "dynamic_axes = {'x' : {0 : 'b', 1 : 'f'}, 'y' : {0 : 'b'}} # 가변길이 차원 지정 dict\n",
    "\n",
    "torch.onnx.export(\n",
    "    F,\n",
    "    x,\n",
    "    file_name + '.onnx',\n",
    "    export_params=True,\n",
    "    opset_version=20,\n",
    "    do_constant_folding=True,\n",
    "    input_names=['x'],\n",
    "    output_names=['y'],\n",
    "    dynamic_axes=dynamic_axes\n",
    ")"
   ]
  },
  {
   "cell_type": "code",
   "execution_count": 5,
   "id": "37263085-33bc-4e8c-b6ce-4c8c392b3a7c",
   "metadata": {},
   "outputs": [],
   "source": [
    "# onnx 확인하기\n",
    "onnx_F = onnx.load(file_name + '.onnx')\n",
    "\n",
    "onnx.checker.check_model(onnx_F) #문제 없이 저장이 되었으면 오류 메세지 없음"
   ]
  },
  {
   "cell_type": "code",
   "execution_count": 6,
   "id": "1a11cb8b-c834-4937-92e5-e0a4f0197121",
   "metadata": {},
   "outputs": [
    {
     "name": "stdout",
     "output_type": "stream",
     "text": [
      "[[[ -4.653347    15.551586     4.016596    -8.378742   -11.084572\n",
      "   -10.094458    -9.3693905   -5.136682     2.1106915   11.235995\n",
      "    13.876137    -7.186219  ]\n",
      "  [ -6.944753    10.291261    13.765766    14.775002    11.442588\n",
      "    -0.81896114 -13.110521   -18.0915     -16.792225    -9.171224\n",
      "     6.820837   -16.395786  ]\n",
      "  [-10.988034     9.514807    18.785196    19.970959    14.786121\n",
      "    -1.4053516  -18.219189   -26.284159   -22.684204   -10.169791\n",
      "     4.5456896  -17.916883  ]\n",
      "  [  2.4043918   13.664791    16.163265    13.507683     7.6822906\n",
      "    -5.1210337  -20.54197    -28.317373   -19.846909    -4.5340366\n",
      "     7.996483   -17.38576   ]]]\n",
      "[[[ -4.6533403  15.551567    4.016574   -8.378764  -11.08458\n",
      "   -10.094446   -9.369357   -5.136647    2.1107183  11.236009\n",
      "    13.876127   -7.1862206]\n",
      "  [ -6.944751   10.29125    13.765756   14.775003   11.442604\n",
      "    -0.8189323 -13.110493  -18.09149   -16.792233   -9.171246\n",
      "     6.820812  -16.39579  ]\n",
      "  [-10.988022    9.514816   18.785234   19.971016   14.786166\n",
      "    -1.4053376 -18.219215  -26.284212  -22.684261  -10.169833\n",
      "     4.545682  -17.916887 ]\n",
      "  [  2.4043937  13.664789   16.163258   13.507673    7.68228\n",
      "    -5.1210413 -20.541971  -28.31736   -19.846897   -4.534027\n",
      "     7.9964867 -17.385761 ]]]\n"
     ]
    }
   ],
   "source": [
    "# 실제 계산값 비교\n",
    "onnx_F = onnxruntime.InferenceSession(file_name + '.onnx', providers=[\"CPUExecutionProvider\"])\n",
    "np_x = x.numpy()\n",
    "\n",
    "y = F(x) # torch 계산 값\n",
    "\n",
    "inputs = {onnx_F.get_inputs()[0].name : np_x}\n",
    "outputs = onnx_F.run(None, inputs)\n",
    "onnx_y = outputs[0] # onnx 계산 값\n",
    "\n",
    "print(y.detach().numpy())\n",
    "print(onnx_y)\n",
    "\n",
    "np.testing.assert_allclose(y.detach().numpy(), onnx_y, rtol=1e-03, atol=1e-05) #계산 결과가 오차범위 내 차이 없으면 오류 메세지 없음"
   ]
  },
  {
   "cell_type": "code",
   "execution_count": null,
   "id": "c738dc8b-f8d6-4355-9d7e-3ea9e20905d0",
   "metadata": {},
   "outputs": [],
   "source": []
  }
 ],
 "metadata": {
  "kernelspec": {
   "display_name": "Python 3 (ipykernel)",
   "language": "python",
   "name": "python3"
  },
  "language_info": {
   "codemirror_mode": {
    "name": "ipython",
    "version": 3
   },
   "file_extension": ".py",
   "mimetype": "text/x-python",
   "name": "python",
   "nbconvert_exporter": "python",
   "pygments_lexer": "ipython3",
   "version": "3.12.7"
  }
 },
 "nbformat": 4,
 "nbformat_minor": 5
}
