{
 "cells": [
  {
   "cell_type": "code",
   "execution_count": 1,
   "id": "4f5e0875-4d5a-4d9f-94cc-ae2f9e2bcc99",
   "metadata": {},
   "outputs": [],
   "source": [
    "# 단어-라벨 사전 선언하기\n",
    "# onnx 형태의 신경망 불러오기\n",
    "\n",
    "# x 입력\n",
    "# x 전처리\n",
    "# y = F(x) (순전파)\n",
    "# y 해석\n",
    "## argmax\n"
   ]
  },
  {
   "cell_type": "code",
   "execution_count": 2,
   "id": "0eaaae60-f234-4194-9d3b-f0c07665cafc",
   "metadata": {},
   "outputs": [],
   "source": [
    "import os\n",
    "import sys\n",
    "sys.path.append(os.path.join(os.path.dirname(\"\"), \"..\"))\n",
    "import custom\n",
    "import numpy as np\n",
    "\n",
    "import onnxruntime"
   ]
  },
  {
   "cell_type": "code",
   "execution_count": 3,
   "id": "1d8c1d8e-058a-48d0-a30b-53c5fdaa25e4",
   "metadata": {},
   "outputs": [
    {
     "name": "stdout",
     "output_type": "stream",
     "text": [
      "{' ': 0, '1': 1, '2': 2, '3': 3, '4': 4, '5': 5, '6': 6, '7': 7, '8': 8, '9': 9, '0': 10, '+': 11}\n",
      "{0: ' ', 1: '1', 2: '2', 3: '3', 4: '4', 5: '5', 6: '6', 7: '7', 8: '8', 9: '9', 10: '0', 11: '+'}\n"
     ]
    }
   ],
   "source": [
    "# 단어-라벨 사전 선언하기\n",
    "num_dict = {}\n",
    "num_dict[' '] = 0\n",
    "\n",
    "for i in range(1,10) : #1~9까지 반복문으로 넣기\n",
    "    num_dict[str(i)] = i\n",
    "num_dict['0'] = 10\n",
    "num_dict['+'] = 11\n",
    "print(num_dict)\n",
    "\n",
    "# 라벨-단어 사전 선언하기\n",
    "label_dict = {v : k for k, v in num_dict.items()}\n",
    "print(label_dict)"
   ]
  },
  {
   "cell_type": "code",
   "execution_count": 4,
   "id": "fd8e6765-5550-402a-89e5-bf1b665cfaf4",
   "metadata": {},
   "outputs": [],
   "source": [
    "# onnx 형태의 신경망 불러오기\n",
    "file_name = 'data/add_ai4.onnx'\n",
    "F = onnxruntime.InferenceSession(file_name, providers=['CPUExecutionProvider'])\n"
   ]
  },
  {
   "cell_type": "code",
   "execution_count": 5,
   "id": "a6365717-2bf8-4dca-9c89-4c70d702e5f6",
   "metadata": {},
   "outputs": [],
   "source": [
    "def preprocess(text) :\n",
    "    temp = list(text)\n",
    "    li = custom.word_vectorize(temp, num_dict, 7, False, \" \", \" \")\n",
    "    li = [li]\n",
    "    arr = np.array(li).astype(np.int64)\n",
    "    return arr\n",
    "\n",
    "def cal(x) :\n",
    "    inputs = {F.get_inputs()[0].name : x}\n",
    "    outputs = F.run(None, inputs)\n",
    "    return outputs[0]\n",
    "\n",
    "def get_argmax(y) :\n",
    "    argmax = y.argmax(axis = -1).squeeze()\n",
    "    return argmax\n",
    "\n",
    "def get_argmax_text(y) :\n",
    "    argmax = get_argmax(y)\n",
    "    li = custom.word_vectorize(argmax, label_dict)\n",
    "    text = \"\".join(li)\n",
    "    return text"
   ]
  },
  {
   "cell_type": "code",
   "execution_count": 9,
   "id": "3db12c91-7d8e-465b-b12c-caa7499e7a3d",
   "metadata": {},
   "outputs": [
    {
     "name": "stdin",
     "output_type": "stream",
     "text": [
      "식을 입력하세요 :  123+123\n"
     ]
    },
    {
     "name": "stdout",
     "output_type": "stream",
     "text": [
      "[[[ -6.2257447  28.151447   38.39716    36.94293    16.660292\n",
      "   -12.01467   -37.178604  -45.512394  -29.742416    3.7014816\n",
      "    13.043042   -3.203846 ]\n",
      "  [-26.687317  -33.299175   -9.158546    9.561709   18.136482\n",
      "    13.152715   -5.7808604 -23.130136  -39.526222  -28.18854\n",
      "   -24.366058  -16.51363  ]\n",
      "  [ -6.53663   -22.353008  -19.29285   -12.45302     3.8496256\n",
      "    12.295399   13.244409    3.1699362  -7.9169526  -5.794999\n",
      "   -15.526749  -11.641131 ]\n",
      "  [ 36.790527  -21.465103  -19.951775  -15.365284   -2.4431858\n",
      "     1.8390905  -2.7150798  -6.237542   -6.2622643  -6.106427\n",
      "   -10.894492  -14.083832 ]]]\n",
      "246 \n"
     ]
    }
   ],
   "source": [
    "# x 입력\n",
    "query = input(\"식을 입력하세요 : \")\n",
    "# x 전처리\n",
    "x = preprocess(query)\n",
    "# y = F(x) (순전파)\n",
    "y = cal(x)\n",
    "# y 해석\n",
    "print(y)\n",
    "## argmax\n",
    "text = get_argmax_text(y)\n",
    "print(text)\n",
    "    "
   ]
  },
  {
   "cell_type": "code",
   "execution_count": null,
   "id": "fe093b21-8bff-4d4e-aa2a-9752941472cf",
   "metadata": {},
   "outputs": [],
   "source": []
  }
 ],
 "metadata": {
  "kernelspec": {
   "display_name": "Python 3 (ipykernel)",
   "language": "python",
   "name": "python3"
  },
  "language_info": {
   "codemirror_mode": {
    "name": "ipython",
    "version": 3
   },
   "file_extension": ".py",
   "mimetype": "text/x-python",
   "name": "python",
   "nbconvert_exporter": "python",
   "pygments_lexer": "ipython3",
   "version": "3.12.7"
  }
 },
 "nbformat": 4,
 "nbformat_minor": 5
}
