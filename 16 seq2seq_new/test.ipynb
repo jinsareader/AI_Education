{
 "cells": [
  {
   "cell_type": "code",
   "execution_count": 1,
   "id": "4f5e0875-4d5a-4d9f-94cc-ae2f9e2bcc99",
   "metadata": {},
   "outputs": [],
   "source": [
    "# 단어-라벨 사전 선언하기\n",
    "# onnx 형태의 신경망 불러오기\n",
    "\n",
    "# x 입력\n",
    "# x 전처리\n",
    "# y = F(x) (순전파)\n",
    "# y 해석\n",
    "## argmax\n"
   ]
  },
  {
   "cell_type": "code",
   "execution_count": 2,
   "id": "0eaaae60-f234-4194-9d3b-f0c07665cafc",
   "metadata": {},
   "outputs": [],
   "source": [
    "import os\n",
    "import sys\n",
    "sys.path.append(os.path.join(os.path.dirname(\"\"), \"..\"))\n",
    "import custom\n",
    "import numpy as np\n",
    "\n",
    "import onnxruntime"
   ]
  },
  {
   "cell_type": "code",
   "execution_count": 3,
   "id": "1d8c1d8e-058a-48d0-a30b-53c5fdaa25e4",
   "metadata": {},
   "outputs": [
    {
     "name": "stdout",
     "output_type": "stream",
     "text": [
      "{' ': 0, '1': 1, '2': 2, '3': 3, '4': 4, '5': 5, '6': 6, '7': 7, '8': 8, '9': 9, '0': 10, '+': 11}\n",
      "{0: ' ', 1: '1', 2: '2', 3: '3', 4: '4', 5: '5', 6: '6', 7: '7', 8: '8', 9: '9', 10: '0', 11: '+'}\n"
     ]
    }
   ],
   "source": [
    "# 단어-라벨 사전 선언하기\n",
    "num_dict = {}\n",
    "num_dict[' '] = 0\n",
    "\n",
    "for i in range(1,10) : #1~9까지 반복문으로 넣기\n",
    "    num_dict[str(i)] = i\n",
    "num_dict['0'] = 10\n",
    "num_dict['+'] = 11\n",
    "print(num_dict)\n",
    "\n",
    "# 라벨-단어 사전 선언하기\n",
    "label_dict = {v : k for k, v in num_dict.items()}\n",
    "print(label_dict)"
   ]
  },
  {
   "cell_type": "code",
   "execution_count": 4,
   "id": "fd8e6765-5550-402a-89e5-bf1b665cfaf4",
   "metadata": {},
   "outputs": [],
   "source": [
    "# onnx 형태의 신경망 불러오기\n",
    "file_name = 'data/add_ai2.onnx'\n",
    "F = onnxruntime.InferenceSession(file_name, providers=['CPUExecutionProvider'])\n"
   ]
  },
  {
   "cell_type": "code",
   "execution_count": 5,
   "id": "a6365717-2bf8-4dca-9c89-4c70d702e5f6",
   "metadata": {},
   "outputs": [],
   "source": [
    "def preprocess(text) :\n",
    "    temp = list(text)\n",
    "    li = custom.word_vectorize(temp, num_dict, 7, False, \" \", \" \")\n",
    "    li = [li]\n",
    "    arr = np.array(li).astype(np.int64)\n",
    "    return arr\n",
    "\n",
    "def cal(x) :\n",
    "    inputs = {F.get_inputs()[0].name : x}\n",
    "    outputs = F.run(None, inputs)\n",
    "    return outputs[0]\n",
    "\n",
    "def get_argmax(y) :\n",
    "    argmax = y.argmax(axis = -1).squeeze()\n",
    "    return argmax\n",
    "\n",
    "def get_argmax_text(y) :\n",
    "    argmax = get_argmax(y)\n",
    "    li = custom.word_vectorize(argmax, label_dict)\n",
    "    text = \"\".join(li)\n",
    "    return text"
   ]
  },
  {
   "cell_type": "code",
   "execution_count": 9,
   "id": "3db12c91-7d8e-465b-b12c-caa7499e7a3d",
   "metadata": {},
   "outputs": [
    {
     "name": "stdin",
     "output_type": "stream",
     "text": [
      "식을 입력하세요 :  42+7\n"
     ]
    },
    {
     "name": "stdout",
     "output_type": "stream",
     "text": [
      "[[[-1.7462547e+01 -5.9807138e+00 -2.2990782e+00  2.4666924e+00\n",
      "    7.7319427e+00  9.4942112e+00  7.4358902e+00  1.9768374e+00\n",
      "   -6.4410391e+00 -9.4723148e+00 -1.0116282e+01 -1.3906221e+01]\n",
      "  [-1.1583907e+01 -4.8451424e-03 -1.5085030e-01 -4.8786664e-01\n",
      "   -7.3213506e-01 -8.1277126e-01 -8.0562985e-01 -9.8025918e-01\n",
      "   -1.0535736e+00 -4.8986495e-02 -2.2845113e-01 -1.8882868e+01]\n",
      "  [ 6.7255869e+00 -2.7352843e+00 -1.8068240e+00 -1.0525099e+00\n",
      "   -4.3925142e-01 -5.5170065e-01 -8.4963334e-01 -1.8685243e+00\n",
      "   -2.8655627e+00 -3.1709406e+00 -3.3117588e+00 -1.5094848e+01]\n",
      "  [ 2.2328167e+01 -2.7764335e+00 -8.4913979e+00 -1.3081506e+01\n",
      "   -1.3380152e+01 -6.3583827e+00 -1.7816464e+00  4.2046299e+00\n",
      "    8.3099155e+00  7.7369967e+00  1.3508588e+00  1.5889056e+00]]]\n",
      "51  \n"
     ]
    }
   ],
   "source": [
    "# x 입력\n",
    "query = input(\"식을 입력하세요 : \")\n",
    "# x 전처리\n",
    "x = preprocess(query)\n",
    "# y = F(x) (순전파)\n",
    "y = cal(x)\n",
    "# y 해석\n",
    "print(y)\n",
    "## argmax\n",
    "text = get_argmax_text(y)\n",
    "print(text)\n",
    "    "
   ]
  },
  {
   "cell_type": "code",
   "execution_count": null,
   "id": "fe093b21-8bff-4d4e-aa2a-9752941472cf",
   "metadata": {},
   "outputs": [],
   "source": []
  }
 ],
 "metadata": {
  "kernelspec": {
   "display_name": "Python 3 (ipykernel)",
   "language": "python",
   "name": "python3"
  },
  "language_info": {
   "codemirror_mode": {
    "name": "ipython",
    "version": 3
   },
   "file_extension": ".py",
   "mimetype": "text/x-python",
   "name": "python",
   "nbconvert_exporter": "python",
   "pygments_lexer": "ipython3",
   "version": "3.12.7"
  }
 },
 "nbformat": 4,
 "nbformat_minor": 5
}
