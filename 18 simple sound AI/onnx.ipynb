{
 "cells": [
  {
   "cell_type": "code",
   "execution_count": 6,
   "id": "9bb4e84e-c636-4588-a1a8-b8fb560e2753",
   "metadata": {},
   "outputs": [],
   "source": [
    "import torch # torch 파일 불러오는 용도\n",
    "import torch.nn as nn\n",
    "import torch.onnx # torch, onnx 변환 용도\n",
    "import onnx # onnx 불러오고 실행\n",
    "import onnxruntime\n",
    "import numpy as np"
   ]
  },
  {
   "cell_type": "code",
   "execution_count": 2,
   "id": "25fb3e86-535e-4528-a566-2d985997d30d",
   "metadata": {},
   "outputs": [],
   "source": [
    "# 신경망 함수들 정의\n",
    "\n",
    "## Encoder\n",
    "class Encoder(nn.Module) :\n",
    "    def __init__(self) :\n",
    "        super().__init__()\n",
    "        self.rnn = nn.LSTM(13, 13, batch_first = True)\n",
    "    def forward(self, x) :\n",
    "        y, hc = self.rnn(x)\n",
    "        return y, hc\n",
    "        \n",
    "## Decoder \n",
    "class Decoder(nn.Module) :\n",
    "    def __init__(self) :\n",
    "        super().__init__()\n",
    "        self.f = nn.Linear(13, 7)\n",
    "    def forward(self, hc) :\n",
    "        h = hc[0] # h, c 중에서 h만 골라내기\n",
    "        h = h.reshape(-1, 13) # 3차원을 2차원으로 바꾸기\n",
    "        y = self.f(h)\n",
    "        return y"
   ]
  },
  {
   "cell_type": "code",
   "execution_count": 3,
   "id": "e58174eb-a297-44de-b421-603cc3b7edce",
   "metadata": {},
   "outputs": [
    {
     "name": "stdout",
     "output_type": "stream",
     "text": [
      "Encoder(\n",
      "  (rnn): LSTM(13, 13, batch_first=True)\n",
      ")\n"
     ]
    }
   ],
   "source": [
    "## Encoder\n",
    "# 함수 불러오기\n",
    "\n",
    "encoder = torch.load('encoder.pt', weights_only=False)\n",
    "encoder.eval()\n",
    "print(encoder)"
   ]
  },
  {
   "cell_type": "code",
   "execution_count": 4,
   "id": "7e1bc7a8-3b9f-46dc-8518-bf4baa935e0c",
   "metadata": {},
   "outputs": [
    {
     "name": "stderr",
     "output_type": "stream",
     "text": [
      "C:\\Users\\Administrator\\anaconda3\\Lib\\site-packages\\torch\\onnx\\symbolic_opset9.py:4244: UserWarning: Exporting a model to ONNX with a batch_size other than 1, with a variable length with LSTM can cause an error when running the ONNX model with a different batch size. Make sure to save the model with a batch size of 1, or define the initial states (h0/c0) as inputs of the model. \n",
      "  warnings.warn(\n"
     ]
    }
   ],
   "source": [
    "# onnx로 변환\n",
    "x = torch.randn(1,100,13) #더미 입력값\n",
    "dynamic_axes = {'input' : {0 : 'b', 1 : 'f'}, 'output' : {0 : 'b', 1 : 'f'}, 'output_h' : {1 : 'b'}, 'output_c' : {1 : 'b'}}\n",
    "\n",
    "torch.onnx.export(\n",
    "    encoder, # 변환할 신경망 함수\n",
    "    x, #신경망에 입력값\n",
    "    \"encoder.onnx\", #저장 파일 이름\n",
    "    export_params=True, #w,b값 저장\n",
    "    opset_version=10, #onnx 버전\n",
    "    do_constant_folding=True,\n",
    "    input_names=['input'],\n",
    "    output_names=['output', 'output_h', 'output_c'],\n",
    "    dynamic_axes=dynamic_axes #입력값과 출력값의 가변 차원 지정\n",
    ")\n"
   ]
  },
  {
   "cell_type": "code",
   "execution_count": 5,
   "id": "0d1dc476-4d22-43e7-a132-02af68194a44",
   "metadata": {},
   "outputs": [],
   "source": [
    "# 잘 저장되었는지 테스트\n",
    "\n",
    "onnx_encoder = onnx.load('encoder.onnx')\n",
    "onnx.checker.check_model(onnx_encoder)"
   ]
  },
  {
   "cell_type": "code",
   "execution_count": 9,
   "id": "1b99810c-e8f1-4089-8e4e-31c2cabdd0af",
   "metadata": {},
   "outputs": [],
   "source": [
    "# torch와 onnx 결과값 비교\n",
    "x = torch.randn(2,50,13)\n",
    "\n",
    "onnx_encoder = onnxruntime.InferenceSession('encoder.onnx', providers=['CPUExecutionProvider'])\n",
    "\n",
    "numpy_x = x.numpy().astype(np.float32)\n",
    "\n",
    "inputs = {onnx_encoder.get_inputs()[0].name : numpy_x}\n",
    "outputs = onnx_encoder.run(None, inputs)\n",
    "y, hc = encoder(x)\n",
    "\n",
    "np.testing.assert_allclose(y.detach().numpy(), outputs[0], rtol=1e-03, atol=1e-05) #\"LSTM 일반 출력값\"\n",
    "np.testing.assert_allclose(hc[0].detach().numpy(), outputs[1], rtol=1e-03, atol=1e-05) #\"h값\"\n",
    "np.testing.assert_allclose(hc[1].detach().numpy(), outputs[2], rtol=1e-03, atol=1e-05) #\"c값\""
   ]
  },
  {
   "cell_type": "code",
   "execution_count": null,
   "id": "5f1ee979-a71b-4a8a-a098-11ab8038139d",
   "metadata": {},
   "outputs": [],
   "source": []
  },
  {
   "cell_type": "code",
   "execution_count": 11,
   "id": "929ff052-c026-421b-9490-22d74880e379",
   "metadata": {},
   "outputs": [
    {
     "name": "stdout",
     "output_type": "stream",
     "text": [
      "Decoder(\n",
      "  (f): Linear(in_features=13, out_features=7, bias=True)\n",
      ")\n"
     ]
    }
   ],
   "source": [
    "##decoder\n",
    "# decoder 불러오기\n",
    "\n",
    "decoder = torch.load('decoder.pt', weights_only=False)\n",
    "decoder.eval()\n",
    "\n",
    "print(decoder)"
   ]
  },
  {
   "cell_type": "code",
   "execution_count": 18,
   "id": "eae604f5-4e7d-4d72-849b-bc6972ca1bb8",
   "metadata": {},
   "outputs": [],
   "source": [
    "# onnx 변환\n",
    "h = torch.randn(1,1,13) \n",
    "c = torch.randn(1,1,13)\n",
    "dynamic_axes = {'input_h' : {1 : 'b'}, 'input_c' : {1 : 'b'}, 'output' : {0 : 'b'}}\n",
    "\n",
    "torch.onnx.export(\n",
    "    decoder,\n",
    "    ((h, c),),\n",
    "    'decoder.onnx',\n",
    "    export_params = True,\n",
    "    opset_version = 10,\n",
    "    do_constant_folding= True,\n",
    "    input_names= ['input_h', 'input_c'],\n",
    "    output_names= ['output'],\n",
    "    dynamic_axes= dynamic_axes\n",
    ")"
   ]
  },
  {
   "cell_type": "code",
   "execution_count": 19,
   "id": "8ac52d6c-0a98-4256-b3bc-ab4a902a5752",
   "metadata": {},
   "outputs": [],
   "source": [
    "#변환 잘 되었는지 테스트\n",
    "\n",
    "onnx_decoder = onnx.load('decoder.onnx')\n",
    "onnx.checker.check_model(onnx_decoder)"
   ]
  },
  {
   "cell_type": "code",
   "execution_count": 24,
   "id": "bc43ca52-46bc-4dd0-90e6-5e5bd77a65f0",
   "metadata": {},
   "outputs": [
    {
     "name": "stdout",
     "output_type": "stream",
     "text": [
      "tensor([[-1.1032, -1.3631, -1.6473,  3.5648, -0.6208,  0.3505,  4.1633]],\n",
      "       grad_fn=<AddmmBackward0>)\n",
      "[[-1.1032197  -1.3630816  -1.6472695   3.5647705  -0.62077326  0.35049063\n",
      "   4.1633234 ]]\n"
     ]
    }
   ],
   "source": [
    "numpy_h = h.numpy()\n",
    "numpy_c = c.numpy()\n",
    "\n",
    "onnx_decoder = onnxruntime.InferenceSession('decoder.onnx', providers=['CPUExecutionProvider'])\n",
    "\n",
    "inputs = {onnx_decoder.get_inputs()[0].name : numpy_h}\n",
    "outputs = onnx_decoder.run(None, inputs)\n",
    "\n",
    "y = decoder((h, c))\n",
    "\n",
    "np.testing.assert_allclose(y.detach().numpy(), outputs[0], rtol=1e-03, atol=1e-05) #\"LSTM 일반 출력값\"\n",
    "\n",
    "print(y)\n",
    "print(outputs[0])"
   ]
  },
  {
   "cell_type": "code",
   "execution_count": null,
   "id": "b6da6dc6-1720-4ef7-9904-8dbe8f804a06",
   "metadata": {},
   "outputs": [],
   "source": []
  }
 ],
 "metadata": {
  "kernelspec": {
   "display_name": "Python 3 (ipykernel)",
   "language": "python",
   "name": "python3"
  },
  "language_info": {
   "codemirror_mode": {
    "name": "ipython",
    "version": 3
   },
   "file_extension": ".py",
   "mimetype": "text/x-python",
   "name": "python",
   "nbconvert_exporter": "python",
   "pygments_lexer": "ipython3",
   "version": "3.12.7"
  }
 },
 "nbformat": 4,
 "nbformat_minor": 5
}
