{
 "cells": [
  {
   "cell_type": "code",
   "execution_count": 1,
   "id": "b4ffc201-4c3b-42ee-b441-62293964b9d2",
   "metadata": {},
   "outputs": [],
   "source": [
    "import os\n",
    "import numpy as np\n",
    "from scipy.io import wavfile\n",
    "from python_speech_features import mfcc\n",
    "\n",
    "import torch\n",
    "import torch.nn as nn\n",
    "from torch.utils.data import DataLoader\n"
   ]
  },
  {
   "cell_type": "code",
   "execution_count": 2,
   "id": "31f4df2c-934b-4689-93a2-1e90a191b507",
   "metadata": {},
   "outputs": [
    {
     "name": "stdout",
     "output_type": "stream",
     "text": [
      "['.DS_Store', 'apple', 'banana', 'kiwi', 'lime', 'orange', 'peach', 'pineapple', 'README.md']\n",
      "['apple', 'banana', 'kiwi', 'lime', 'orange', 'peach', 'pineapple']\n"
     ]
    }
   ],
   "source": [
    "word_list = os.listdir(\"data/\")\n",
    "print(word_list)\n",
    "\n",
    "for w in word_list :\n",
    "    if w.find(\".\") >= 0 :\n",
    "        word_list.remove(w)\n",
    "\n",
    "print(word_list)"
   ]
  },
  {
   "cell_type": "code",
   "execution_count": 3,
   "id": "1e2dc9c7-2759-4999-a4a8-a9e24f71ee99",
   "metadata": {},
   "outputs": [
    {
     "name": "stdout",
     "output_type": "stream",
     "text": [
      "105\n",
      "torch.Size([1, 33, 13])\n"
     ]
    }
   ],
   "source": [
    "device = \"cuda\" if torch.cuda.is_available() else \"cpu\"\n",
    "\n",
    "data = []\n",
    "\n",
    "for i in range(len(word_list)) :\n",
    "    target = torch.tensor(i, dtype = torch.long, device = device).unsqueeze(0)\n",
    "    dir_ = os.path.join(\"data\", word_list[i])\n",
    "    for file in os.listdir(dir_) :\n",
    "        if file.find(\".wav\") < 0 :\n",
    "            continue\n",
    "        filedir = os.path.join(dir_, file)\n",
    "        freq, signal = wavfile.read(filedir)\n",
    "        seq = mfcc(signal, freq)\n",
    "        tensor_x = torch.tensor(seq, dtype = torch.float, device = device).unsqueeze(0)\n",
    "        data.append((tensor_x, target))\n",
    "\n",
    "print(len(data))\n",
    "print(data[0][0].shape)\n",
    "\n",
    "    "
   ]
  },
  {
   "cell_type": "code",
   "execution_count": 4,
   "id": "a965dff8-37ff-4589-a84a-c6ad1f1f71be",
   "metadata": {},
   "outputs": [
    {
     "name": "stdout",
     "output_type": "stream",
     "text": [
      "epoch 1 | loss 2.0029870124090285\n",
      "epoch 2 | loss 1.8198511725380306\n",
      "epoch 3 | loss 1.6447559038798014\n",
      "epoch 4 | loss 1.4747316281000773\n",
      "epoch 5 | loss 1.2947787687892005\n",
      "epoch 6 | loss 1.1292818818773542\n",
      "epoch 7 | loss 0.9831137895584107\n",
      "epoch 8 | loss 0.8611260998816718\n",
      "epoch 9 | loss 0.763541670356478\n",
      "epoch 10 | loss 0.6470174040113177\n",
      "epoch 11 | loss 0.578569879985991\n",
      "epoch 12 | loss 0.4785529958350318\n",
      "epoch 13 | loss 0.4243104487657547\n",
      "epoch 14 | loss 0.37913066915103366\n",
      "epoch 15 | loss 0.33824644549971533\n",
      "epoch 16 | loss 0.30302230765422183\n",
      "epoch 17 | loss 0.2723846958506675\n",
      "epoch 18 | loss 0.24420659400167918\n",
      "epoch 19 | loss 0.227638094269094\n",
      "epoch 20 | loss 0.20532201762710298\n",
      "epoch 21 | loss 0.1795580438914753\n",
      "epoch 22 | loss 0.15924676564477738\n",
      "epoch 23 | loss 0.14863436846506028\n",
      "epoch 24 | loss 0.1353179300824801\n",
      "epoch 25 | loss 0.12332987685998281\n",
      "epoch 26 | loss 0.1139418475329876\n",
      "epoch 27 | loss 0.10474772694565002\n",
      "epoch 28 | loss 0.09726871447194191\n",
      "epoch 29 | loss 0.08886730094395932\n",
      "epoch 30 | loss 0.08277199215122631\n"
     ]
    }
   ],
   "source": [
    "class NN(nn.Module) :\n",
    "    def __init__(self) :\n",
    "        super().__init__()\n",
    "        self.rnn = nn.LSTM(13, 20, batch_first = True)\n",
    "        self.f = nn.Sequential(\n",
    "            nn.Linear(20, 7)\n",
    "        )\n",
    "    def forward(self, x) :\n",
    "        x, h = self.rnn(x)\n",
    "        x = x[:,-1,:]\n",
    "        x = self.f(x)\n",
    "        return x\n",
    "\n",
    "F = NN().to(device)\n",
    "loss_function = nn.CrossEntropyLoss()\n",
    "optimizer = torch.optim.Adam(F.parameters(), lr = 0.0005)\n",
    "epoch = 30\n",
    "\n",
    "for e in range(epoch) :\n",
    "    F.train()\n",
    "    loss_sum = 0\n",
    "    for x, t in data :\n",
    "        y = F(x)\n",
    "\n",
    "        loss = loss_function(y, t)\n",
    "        loss_sum += loss.item()\n",
    "\n",
    "        loss.backward()\n",
    "        optimizer.step()\n",
    "        optimizer.zero_grad()\n",
    "    loss_sum /= len(data)\n",
    "\n",
    "    print(f\"epoch {e+1} | loss {loss_sum}\")\n",
    "\n",
    "    "
   ]
  },
  {
   "cell_type": "code",
   "execution_count": 5,
   "id": "b505b6bc-b464-49ba-a339-c6c42a9d0203",
   "metadata": {},
   "outputs": [
    {
     "name": "stdout",
     "output_type": "stream",
     "text": [
      "1.0\n"
     ]
    }
   ],
   "source": [
    "correct = 0\n",
    "F.eval()\n",
    "for x, t in data :\n",
    "    y = F(x)\n",
    "    if y.argmax().item() == t.item() :\n",
    "        correct += 1\n",
    "acc = correct / len(data)\n",
    "print(acc)"
   ]
  },
  {
   "cell_type": "code",
   "execution_count": 6,
   "id": "367ad6f9-a404-45cb-af78-b0fed8e3996a",
   "metadata": {},
   "outputs": [],
   "source": [
    "\n",
    "torch.save(F.to(\"cpu\"), \"word.pt\")"
   ]
  },
  {
   "cell_type": "code",
   "execution_count": null,
   "id": "3d7fcf2e-71fa-4497-aa8f-1cc3368e7612",
   "metadata": {},
   "outputs": [],
   "source": []
  }
 ],
 "metadata": {
  "kernelspec": {
   "display_name": "Python 3 (ipykernel)",
   "language": "python",
   "name": "python3"
  },
  "language_info": {
   "codemirror_mode": {
    "name": "ipython",
    "version": 3
   },
   "file_extension": ".py",
   "mimetype": "text/x-python",
   "name": "python",
   "nbconvert_exporter": "python",
   "pygments_lexer": "ipython3",
   "version": "3.12.7"
  }
 },
 "nbformat": 4,
 "nbformat_minor": 5
}
