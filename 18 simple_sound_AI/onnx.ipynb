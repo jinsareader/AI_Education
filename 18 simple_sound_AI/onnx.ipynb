{
 "cells": [
  {
   "cell_type": "code",
   "execution_count": 1,
   "id": "1060b457-f367-4cb0-bc4b-3cd49b71f806",
   "metadata": {},
   "outputs": [],
   "source": [
    "import torch\n",
    "import torch.nn as nn\n",
    "import torch.onnx\n",
    "import numpy as np\n",
    "import onnx\n",
    "import onnxruntime"
   ]
  },
  {
   "cell_type": "code",
   "execution_count": 2,
   "id": "86987e38-9e7e-4490-a98c-222e7ebdcfca",
   "metadata": {},
   "outputs": [],
   "source": [
    "class NN(nn.Module) :\n",
    "    def __init__(self) :\n",
    "        super().__init__()\n",
    "        self.rnn = nn.LSTM(13, 20, batch_first = True)\n",
    "        self.f = nn.Sequential(\n",
    "            nn.Linear(20, 7)\n",
    "        )\n",
    "    def forward(self, x) :\n",
    "        x, h = self.rnn(x)\n",
    "        x = x[:,-1,:]\n",
    "        x = self.f(x)\n",
    "        return x"
   ]
  },
  {
   "cell_type": "code",
   "execution_count": 3,
   "id": "bcf468d9-3d9e-4551-ac36-d1bbcfcdf8a4",
   "metadata": {},
   "outputs": [
    {
     "name": "stdout",
     "output_type": "stream",
     "text": [
      "NN(\n",
      "  (rnn): LSTM(13, 20, batch_first=True)\n",
      "  (f): Sequential(\n",
      "    (0): Linear(in_features=20, out_features=7, bias=True)\n",
      "  )\n",
      ")\n"
     ]
    }
   ],
   "source": [
    "torch_F = torch.load(\"word.pt\", weights_only=False)\n",
    "print(torch_F)"
   ]
  },
  {
   "cell_type": "code",
   "execution_count": 4,
   "id": "0f5f0df1-e78b-4302-8c39-8373bf3482d8",
   "metadata": {},
   "outputs": [
    {
     "name": "stderr",
     "output_type": "stream",
     "text": [
      "C:\\ProgramData\\anaconda3\\Lib\\site-packages\\torch\\onnx\\symbolic_opset9.py:4277: UserWarning: Exporting a model to ONNX with a batch_size other than 1, with a variable length with LSTM can cause an error when running the ONNX model with a different batch size. Make sure to save the model with a batch size of 1, or define the initial states (h0/c0) as inputs of the model. \n",
      "  warnings.warn(\n"
     ]
    }
   ],
   "source": [
    "x = torch.randn(1,50,13)\n",
    "dynamic_axes = {\"input\" : {0 : \"b\", 1 : \"f\"}, \"output\" : {0 : \"b\", 1 : \"f\"}}\n",
    "\n",
    "torch_F.eval()\n",
    "torch.onnx.export(\n",
    "    torch_F,\n",
    "    x,\n",
    "    \"word.onnx\",\n",
    "    export_params=True,\n",
    "    opset_version=10,\n",
    "    do_constant_folding=True,\n",
    "    input_names = [\"input\"],\n",
    "    output_names = [\"output\"],\n",
    "    dynamic_axes= dynamic_axes\n",
    ")"
   ]
  },
  {
   "cell_type": "code",
   "execution_count": 5,
   "id": "262b6037-5092-4822-adde-360314f88dcc",
   "metadata": {},
   "outputs": [
    {
     "name": "stdout",
     "output_type": "stream",
     "text": [
      "troch : [[-0.78478944  0.46747488 -0.11910145 -0.18749915  0.09459582  0.21879351\n",
      "  -0.36233234]\n",
      " [ 0.5598762   0.5391948   0.04662143 -0.73389095 -0.44629106 -0.5101722\n",
      "   0.21321933]]\n",
      "onnx : [array([[-0.7847895 ,  0.46747476, -0.11910145, -0.18749917,  0.09459579,\n",
      "         0.21879342, -0.3623323 ],\n",
      "       [ 0.5598761 ,  0.5391948 ,  0.04662149, -0.7338909 , -0.44629103,\n",
      "        -0.5101723 ,  0.2132193 ]], dtype=float32)]\n"
     ]
    }
   ],
   "source": [
    "onnx_F = onnxruntime.InferenceSession(\"word.onnx\", providers=[\"CPUExecutionProvider\"])\n",
    "\n",
    "np_x = np.random.randn(2,25,13).astype(np.float32)\n",
    "tensor_x = torch.tensor(np_x, dtype = torch.float)\n",
    "\n",
    "tensor_y = torch_F(tensor_x)\n",
    "inputs = {onnx_F.get_inputs()[0].name : np_x}\n",
    "np_y = onnx_F.run(None, inputs)\n",
    "\n",
    "print(\"troch :\", tensor_y.detach().numpy())\n",
    "print(\"onnx :\", np_y)\n"
   ]
  },
  {
   "cell_type": "code",
   "execution_count": null,
   "id": "c8e2a756-b3b0-4983-b5e5-78a25c0cddc7",
   "metadata": {},
   "outputs": [],
   "source": []
  }
 ],
 "metadata": {
  "kernelspec": {
   "display_name": "Python 3 (ipykernel)",
   "language": "python",
   "name": "python3"
  },
  "language_info": {
   "codemirror_mode": {
    "name": "ipython",
    "version": 3
   },
   "file_extension": ".py",
   "mimetype": "text/x-python",
   "name": "python",
   "nbconvert_exporter": "python",
   "pygments_lexer": "ipython3",
   "version": "3.12.7"
  }
 },
 "nbformat": 4,
 "nbformat_minor": 5
}
