{
 "cells": [
  {
   "cell_type": "code",
   "execution_count": 1,
   "id": "61d2c251-6579-43f4-8337-e355e99866fb",
   "metadata": {},
   "outputs": [],
   "source": [
    "import json\n",
    "import numpy as np\n",
    "import matplotlib.pyplot as plt\n",
    "from scipy.io.wavfile import write"
   ]
  },
  {
   "cell_type": "code",
   "execution_count": 2,
   "id": "7fe2dfb3-8f2c-410e-b060-4715bb3f1547",
   "metadata": {},
   "outputs": [],
   "source": [
    "def tone_sythesizer(freq, duration, amplitude = 1.0, sampling_freq = 44100) :\n",
    "    time_axis = np.linspace(0, duration, int(duration * sampling_freq))\n",
    "\n",
    "    signal = amplitude * np.sin(2 * np.pi * freq * time_axis)\n",
    "\n",
    "    return signal.astype(np.int16)"
   ]
  },
  {
   "cell_type": "code",
   "execution_count": 3,
   "id": "69e4053d-fe62-4307-8616-44ff5e19767c",
   "metadata": {},
   "outputs": [],
   "source": [
    "file_tone_single = \"generated_tone_single.wav\"\n",
    "file_tone_sequence = \"generated_tone_sequence.wav\""
   ]
  },
  {
   "cell_type": "code",
   "execution_count": 4,
   "id": "f7e687ad-82b7-4cf1-b429-ea7b790290fa",
   "metadata": {},
   "outputs": [
    {
     "name": "stdout",
     "output_type": "stream",
     "text": [
      "{'A': 440, 'Asharp': 466, 'B': 494, 'C': 523, 'Csharp': 554, 'D': 587, 'Dsharp': 622, 'E': 659, 'F': 698, 'Fsharp': 740, 'G': 784, 'Gsharp': 831}\n"
     ]
    }
   ],
   "source": [
    "mapping_file = \"sample/tone_mapping.json\"\n",
    "\n",
    "with open(mapping_file, mode = \"r\") as f:\n",
    "    tone_map = json.loads(f.read())\n",
    "\n",
    "print(tone_map)"
   ]
  },
  {
   "cell_type": "code",
   "execution_count": 5,
   "id": "623947d5-4188-482d-b4b5-3fe96158c933",
   "metadata": {},
   "outputs": [],
   "source": [
    "tone_name = \"F\"\n",
    "duration = 3\n",
    "amplitude = 12000\n",
    "sampling_freq = 44100\n",
    "tone_freq = tone_map[tone_name]\n",
    "\n",
    "synthesized_tone = tone_sythesizer(tone_freq, duration, amplitude, sampling_freq)\n",
    "\n",
    "write(file_tone_single, sampling_freq, synthesized_tone)"
   ]
  },
  {
   "cell_type": "code",
   "execution_count": null,
   "id": "7f1515d4-8106-4962-bc24-57cfa11d4855",
   "metadata": {},
   "outputs": [],
   "source": []
  },
  {
   "cell_type": "code",
   "execution_count": 6,
   "id": "4d4a38de-8004-4dda-a24c-1a9551e9141d",
   "metadata": {},
   "outputs": [],
   "source": [
    "tone_sequence = [('G', 0.4), ('D', 0.5), ('F', 0.3), ('C', 0.6), ('A', 0.4)]"
   ]
  },
  {
   "cell_type": "code",
   "execution_count": 7,
   "id": "60c18a10-1687-4fc5-a733-a55698648013",
   "metadata": {},
   "outputs": [],
   "source": [
    "signal = np.array([])\n",
    "for item in tone_sequence :\n",
    "    tone_name = item[0]\n",
    "    freq = tone_map[tone_name]\n",
    "    duration = item[1]\n",
    "\n",
    "    synthesized_tone = tone_sythesizer(freq, duration, amplitude, sampling_freq)\n",
    "\n",
    "    signal = np.append(signal, synthesized_tone, axis = 0)\n",
    "\n",
    "signal = signal.astype(np.int16)\n",
    "write(file_tone_sequence, sampling_freq, signal)"
   ]
  },
  {
   "cell_type": "code",
   "execution_count": null,
   "id": "cedaecf9-b9e3-4d3b-8a85-80f7be0c7fc3",
   "metadata": {},
   "outputs": [],
   "source": []
  }
 ],
 "metadata": {
  "kernelspec": {
   "display_name": "Python 3 (ipykernel)",
   "language": "python",
   "name": "python3"
  },
  "language_info": {
   "codemirror_mode": {
    "name": "ipython",
    "version": 3
   },
   "file_extension": ".py",
   "mimetype": "text/x-python",
   "name": "python",
   "nbconvert_exporter": "python",
   "pygments_lexer": "ipython3",
   "version": "3.12.7"
  }
 },
 "nbformat": 4,
 "nbformat_minor": 5
}
