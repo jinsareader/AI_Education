{
 "cells": [
  {
   "cell_type": "markdown",
   "id": "be18d25e-c03a-4357-a653-1c7b5510ef33",
   "metadata": {},
   "source": [
    "# 한국어의 특징\n",
    "\n",
    "## 한국어는 문법상 동사의 활용이 난해하고 조사의 존재 때문에 고립어인 영어보다 형태소 단위로 AI에게 학습시키기 난해하다.\n",
    "## 하지만 영어보다는 문자를 발음할 때의 규칙성이 더 높기 때문에 STT/TTS를 제작할 때는 음절 단위로 학습시키는게 더 유리하다.\n",
    "\n",
    "\n",
    "# 이를 위한 함수 chr(), ord()\n",
    "## chr() : 문자 하나를 유니코드 숫자 값으로 변환시키는 함수\n",
    "#### 예1) chr('A') == 65\n",
    "#### 예2) chr('가') == 0xAC00\n",
    "## ord() : 숫자를 해당 유니코드 숫자 값을 가진 문자 하나로 변환시키는 함수\n",
    "#### 예1) ord(97) == 'a'\n",
    "\n",
    "\n",
    "# 한국어 유니코드 완성형의 특징\n",
    "## 한국어 유니코드는 완성형으로 숫자 값이 배정되어 있으나 숫자값 배정에 규칙이 존재해서 초성, 중성, 종성 분리가 쉽다\n",
    "## 공식 : (초성 * 21 + 중성) * 28 + 종성 + 0xAC00\n",
    "#### 초성 :\n",
    "['ㄱ','ㄲ','ㄴ','ㄷ','ㄸ','ㄹ','ㅁ','ㅂ','ㅃ','ㅅ','ㅆ','ㅇ','ㅈ','ㅉ','ㅊ','ㅋ','ㅌ','ㅍ','ㅎ'] (19개)\n",
    "#### 중성 :\n",
    "['ㅏ','ㅐ','ㅑ','ㅒ','ㅓ','ㅔ','ㅕ','ㅖ','ㅗ','ㅘ','ㅙ','ㅚ','ㅛ','ㅜ','ㅝ','ㅞ','ㅟ','ㅠ','ㅡ','ㅢ','ㅣ'] (21개)\n",
    "#### 종성 : \n",
    "['','ㄱ','ㄲ','ㄳ','ㄴ','ㄵ','ㄶ','ㄷ','ㄹ','ㄺ','ㄻ','ㄼ','ㄽ','ㄾ','ㄿ','ㅀ','ㅁ','ㅂ','ㅄ','ㅅ','ㅆ','ㅇ','ㅈ','ㅊ','ㅋ','ㅌ','ㅍ','ㅎ'] (28개)\n",
    "#### 기타 특문을 위한 라벨링 :\n",
    "['pad','unk',' ','.','!','?'] (7개, 가변적)\n",
    "\n",
    "\n",
    "## 이를 위한 Multi-hot-encoding\n",
    "### 기존 One-hot-encoding과 달리 1의 값이 여러개인 인코딩 방식\n",
    "#### 예시로 '건'이라는 글자는\n",
    "#### 앞의 0~18번째 벡터 중 0번째가 1, 나머지가 0\n",
    "#### 중간의 0~20번째 백터 중 4번째가 1, 나머지가 0\n",
    "#### 뒤의 0~27번째 벡터 중 4번째가 1, 나머지가 0\n",
    "#### 위와 같이 표현이 가능하다\n",
    "\n",
    "\n",
    "\n",
    "\n",
    "\n",
    "\n",
    "참고 문헌 : https://koreascience.or.kr/article/CFKO201832073079068.pdf"
   ]
  },
  {
   "cell_type": "code",
   "execution_count": 1,
   "id": "e47dcbca-05d3-43a9-b084-cadb7734d02c",
   "metadata": {},
   "outputs": [],
   "source": [
    "import os\n",
    "import sys\n",
    "sys.path.append(os.path.join(os.path.dirname(\"\"), \"..\"))\n",
    "\n",
    "import custom\n",
    "import numpy"
   ]
  },
  {
   "cell_type": "code",
   "execution_count": 2,
   "id": "37292648-a9a5-45df-88d8-f3830263c762",
   "metadata": {},
   "outputs": [],
   "source": [
    "# 변환 작업을 함수화\n",
    "\n",
    "def korean_encoding(text : str) :\n",
    "    label = []\n",
    "    chars = list(text)\n",
    "    spe_ = ['<unk>',' ','.','!','?','','','','']\n",
    "    for c in chars :        \n",
    "        if c in spe_:\n",
    "            cho  = spe_.index(c) + 19 + 1\n",
    "            jung = 1\n",
    "            jong = 1\n",
    "            label.append(cho)\n",
    "            label.append(jung)\n",
    "            label.append(jong)\n",
    "            continue\n",
    "            \n",
    "        value = ord(c) - 0xAC00\n",
    "        if value < 0 or value >= 19*21*28 :\n",
    "            cho  = spe_.index('<unk>') + 19 + 1\n",
    "            jung = 1\n",
    "            jong = 1\n",
    "            label.append(cho)\n",
    "            label.append(jung)\n",
    "            label.append(jong)\n",
    "            continue\n",
    "            \n",
    "        jong = value % 28 + 1\n",
    "        jung = (value // 28) % 21 + 1\n",
    "        cho  = (value // 28) // 21 + 1\n",
    "        label.append(cho)\n",
    "        label.append(jung)\n",
    "        label.append(jong)\n",
    "        \n",
    "    label = numpy.array(label).astype(numpy.int64)\n",
    "    return label\n",
    "\n",
    "def korean_decoding(label) :\n",
    "    if len(label) % 3 != 0 :\n",
    "        raise Exception(\"data is corrupted!\")\n",
    "    \n",
    "    text = \"\"\n",
    "    spe_ = ['<unk>',' ','.','!','?','','','','']\n",
    "    \n",
    "    for i in range(len(label) // 3) :\n",
    "        cho  = label[i*3]\n",
    "        jung = label[i*3 + 1] \n",
    "        jong = label[i*3 + 2]\n",
    "\n",
    "        if (cho == 0) or (jung == 0) or (jong == 0):\n",
    "            break\n",
    "        if cho >= 20 :\n",
    "            text += spe_[cho - 20]\n",
    "            continue\n",
    "        \n",
    "        value = ((cho - 1) * 21 + (jung - 1)) * 28 + (jong - 1) + 0xAC00\n",
    "        text += chr(value)   \n",
    "    return text\n"
   ]
  },
  {
   "cell_type": "code",
   "execution_count": 3,
   "id": "1fdab156-4fbd-4222-bc14-58e62283597e",
   "metadata": {},
   "outputs": [
    {
     "name": "stdout",
     "output_type": "stream",
     "text": [
      "29\n",
      "29\n",
      "29\n"
     ]
    }
   ],
   "source": [
    "\n",
    "\n",
    "cho = ['<pad>','ㄱ','ㄲ','ㄴ','ㄷ','ㄸ','ㄹ','ㅁ','ㅂ','ㅃ','ㅅ','ㅆ','ㅇ','ㅈ','ㅉ','ㅊ','ㅋ','ㅌ','ㅍ','ㅎ','<unk>',' ','.','!','?','','','','']\n",
    "jung = ['<pad>','ㅏ','ㅐ','ㅑ','ㅒ','ㅓ','ㅔ','ㅕ','ㅖ','ㅗ','ㅘ','ㅙ','ㅚ','ㅛ','ㅜ','ㅝ','ㅞ','ㅟ','ㅠ','ㅡ','ㅢ','ㅣ','','','','','','','']\n",
    "jong = ['<pad>','','ㄱ','ㄲ','ㄳ','ㄴ','ㄵ','ㄶ','ㄷ','ㄹ','ㄺ','ㄻ','ㄼ','ㄽ','ㄾ','ㄿ','ㅀ','ㅁ','ㅂ','ㅄ','ㅅ','ㅆ','ㅇ','ㅈ','ㅊ','ㅋ','ㅌ','ㅍ','ㅎ']\n",
    "\n",
    "print(len(cho))\n",
    "print(len(jung))\n",
    "print(len(jong))"
   ]
  },
  {
   "cell_type": "code",
   "execution_count": 4,
   "id": "293b3433-2cdd-4030-8e31-17eb2aa0c118",
   "metadata": {},
   "outputs": [
    {
     "name": "stdout",
     "output_type": "stream",
     "text": [
      "ㄱ\n",
      "ㅓ\n",
      "ㄴ\n"
     ]
    }
   ],
   "source": [
    "value = ord('건') - 0xAC00\n",
    "chosung =  (value // 28) // 21 + 1\n",
    "jungsung = (value // 28) % 21 + 1\n",
    "jongsung = value % 28 + 1\n",
    "\n",
    "print(cho[chosung])\n",
    "print(jung[jungsung])\n",
    "print(jong[jongsung])"
   ]
  },
  {
   "cell_type": "code",
   "execution_count": 5,
   "id": "c595e305-389b-449a-9be8-09b854e51a24",
   "metadata": {},
   "outputs": [
    {
     "name": "stdout",
     "output_type": "stream",
     "text": [
      "건\n"
     ]
    }
   ],
   "source": [
    "value = ((cho.index('ㄱ') - 1) * 21 + (jung.index('ㅓ') - 1)) * 28 + (jong.index('ㄴ') - 1) + 0xAC00\n",
    "value_char = chr(value)\n",
    "print(value_char)"
   ]
  },
  {
   "cell_type": "code",
   "execution_count": 6,
   "id": "083ab1dd-03e1-468d-b197-5593d057b6ae",
   "metadata": {},
   "outputs": [
    {
     "name": "stdout",
     "output_type": "stream",
     "text": [
      "[ 1  5  5  1  1 22 21  1  1 19  1  1  3  6  1 12 13  1 22  1  1 20  1  1]\n",
      "건강 하네요.<unk>\n"
     ]
    }
   ],
   "source": [
    "ori_text = '건강 하네요.A'\n",
    "label = korean_encoding(ori_text)\n",
    "print(label)\n",
    "\n",
    "text = korean_decoding(label)\n",
    "print(text)"
   ]
  },
  {
   "cell_type": "code",
   "execution_count": 7,
   "id": "2e0c6cd8-45d2-4130-a902-ab2abc7c46c3",
   "metadata": {},
   "outputs": [
    {
     "name": "stdout",
     "output_type": "stream",
     "text": [
      "[ 1  5  5  1  1 22 21  1  1 19  1  1  3  6  1 12 13  1 22  1  1 20  1  1]\n",
      "건강 하네요.<unk>\n"
     ]
    }
   ],
   "source": [
    "ori_text = '건강 하네요.A'\n",
    "label = custom.korean_encoding(ori_text)\n",
    "print(label)\n",
    "\n",
    "text = custom.korean_decoding(label)\n",
    "print(text)"
   ]
  },
  {
   "cell_type": "code",
   "execution_count": null,
   "id": "d889317a-7ce1-4385-a579-eb108e06fefe",
   "metadata": {},
   "outputs": [],
   "source": []
  }
 ],
 "metadata": {
  "kernelspec": {
   "display_name": "Python 3 (ipykernel)",
   "language": "python",
   "name": "python3"
  },
  "language_info": {
   "codemirror_mode": {
    "name": "ipython",
    "version": 3
   },
   "file_extension": ".py",
   "mimetype": "text/x-python",
   "name": "python",
   "nbconvert_exporter": "python",
   "pygments_lexer": "ipython3",
   "version": "3.12.7"
  }
 },
 "nbformat": 4,
 "nbformat_minor": 5
}
