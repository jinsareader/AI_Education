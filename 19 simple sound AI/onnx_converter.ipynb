{
 "cells": [
  {
   "cell_type": "code",
   "execution_count": 1,
   "id": "3f830ae4-2136-4fcd-b826-c4a23021bbce",
   "metadata": {},
   "outputs": [],
   "source": [
    "import torch\n",
    "import torch.nn as nn\n",
    "import torch.onnx\n",
    "import onnx\n",
    "import onnxruntime\n",
    "import numpy as np"
   ]
  },
  {
   "cell_type": "code",
   "execution_count": 2,
   "id": "342683b0-eb72-4e21-b4c6-920d5238af1e",
   "metadata": {},
   "outputs": [],
   "source": [
    "from NN import Encoder_n_Decoder"
   ]
  },
  {
   "cell_type": "code",
   "execution_count": 3,
   "id": "e953802f-8bd3-46a4-8bb9-a0891f00221f",
   "metadata": {},
   "outputs": [
    {
     "name": "stdout",
     "output_type": "stream",
     "text": [
      "Encoder_n_Decoder(\n",
      "  (encoder): Encoder(\n",
      "    (norm): LayerNorm((32,), eps=1e-05, elementwise_affine=True)\n",
      "    (rnn): LSTM(32, 32, batch_first=True, bidirectional=True)\n",
      "  )\n",
      "  (decoder): Decoder(\n",
      "    (f): Sequential(\n",
      "      (0): Linear(in_features=64, out_features=16, bias=True)\n",
      "      (1): ReLU()\n",
      "      (2): Linear(in_features=16, out_features=7, bias=True)\n",
      "    )\n",
      "  )\n",
      ")\n"
     ]
    }
   ],
   "source": [
    "F = torch.load(\"sound_ai.pt\", weights_only=False)\n",
    "\n",
    "print(F)"
   ]
  },
  {
   "cell_type": "code",
   "execution_count": 4,
   "id": "13003c73-252e-4bf3-8384-8c85a483ae3e",
   "metadata": {},
   "outputs": [
    {
     "name": "stderr",
     "output_type": "stream",
     "text": [
      "C:\\ProgramData\\anaconda3\\Lib\\site-packages\\torch\\onnx\\symbolic_opset9.py:4277: UserWarning: Exporting a model to ONNX with a batch_size other than 1, with a variable length with LSTM can cause an error when running the ONNX model with a different batch size. Make sure to save the model with a batch size of 1, or define the initial states (h0/c0) as inputs of the model. \n",
      "  warnings.warn(\n"
     ]
    }
   ],
   "source": [
    "x = torch.randn(1,500,32)\n",
    "dynamic_axes = {\"x\" : {0 : 'b', 1 : 'f'}, \"y\" : {0 : 'b'}}\n",
    "\n",
    "torch.onnx.export(\n",
    "    F,\n",
    "    x,\n",
    "    \"sound_ai.onnx\",\n",
    "    export_params=True,\n",
    "    opset_version=20,\n",
    "    do_constant_folding=True,\n",
    "    input_names=[\"x\"],\n",
    "    output_names=[\"y\"],\n",
    "    dynamic_axes=dynamic_axes\n",
    ")"
   ]
  },
  {
   "cell_type": "code",
   "execution_count": 5,
   "id": "b14baa02-b0c2-4c7e-baef-5f26574e5b1b",
   "metadata": {},
   "outputs": [],
   "source": [
    "onnx_F = onnx.load('sound_ai.onnx')\n",
    "\n",
    "onnx.checker.check_model(onnx_F)"
   ]
  },
  {
   "cell_type": "code",
   "execution_count": 7,
   "id": "7b06a573-64bf-472a-830a-dbd2c1914cea",
   "metadata": {},
   "outputs": [],
   "source": [
    "onnx_F = onnxruntime.InferenceSession('sound_ai.onnx', providers=['CPUExecutionProvider'])\n",
    "\n",
    "np_x = np.random.randn(2,300,32).astype(np.float32)\n",
    "tensor_x = torch.tensor(np_x, dtype=torch.float)\n",
    "\n",
    "inputs = {onnx_F.get_inputs()[0].name : np_x}\n",
    "outputs = onnx_F.run(None, inputs)\n",
    "\n",
    "np_y = outputs[0]\n",
    "tensor_y = F(tensor_x)\n",
    "\n",
    "np.testing.assert_allclose(tensor_y.detach().numpy(), np_y, rtol=1e-03, atol=1e-05)"
   ]
  },
  {
   "cell_type": "code",
   "execution_count": null,
   "id": "9977b96b-bc81-4a41-8e75-51f4a7b2c830",
   "metadata": {},
   "outputs": [],
   "source": []
  }
 ],
 "metadata": {
  "kernelspec": {
   "display_name": "Python 3 (ipykernel)",
   "language": "python",
   "name": "python3"
  },
  "language_info": {
   "codemirror_mode": {
    "name": "ipython",
    "version": 3
   },
   "file_extension": ".py",
   "mimetype": "text/x-python",
   "name": "python",
   "nbconvert_exporter": "python",
   "pygments_lexer": "ipython3",
   "version": "3.12.7"
  }
 },
 "nbformat": 4,
 "nbformat_minor": 5
}
