{
 "cells": [
  {
   "cell_type": "code",
   "execution_count": 1,
   "id": "79225d27-1b2e-4d62-9731-6a1317edbeb9",
   "metadata": {},
   "outputs": [],
   "source": [
    "import pickle # 데이터 불러오는 용도 (벡터 리스트, 전처리 자료들 불러오는 용도)\n",
    "import numpy as np\n",
    "\n",
    "import torch\n",
    "import torch.nn as nn\n",
    "import torch.nn.functional as F\n",
    "from torch.utils.data import DataLoader"
   ]
  },
  {
   "cell_type": "code",
   "execution_count": 2,
   "id": "68f10a50-c05d-4c7b-af7b-d3bc97dea9b7",
   "metadata": {},
   "outputs": [
    {
     "name": "stdout",
     "output_type": "stream",
     "text": [
      "torch.Size([11181, 76])\n"
     ]
    }
   ],
   "source": [
    "# 벡터 리스트 불러오기\n",
    "device = \"cuda\" if torch.cuda.is_available() else \"cpu\"\n",
    "\n",
    "with open(\"sound_vector_list.pkl\", mode = \"rb\") as f:\n",
    "    vectors = torch.tensor(pickle.load(f), dtype = torch.float, device = device)\n",
    "with open(\"sound_dict.pkl\", mode = \"rb\") as f:\n",
    "    sound_dict = pickle.load(f)\n",
    "\n",
    "print(vectors.shape)\n",
    "pad_idx = sound_dict[\"<pad>\"]\n",
    "sos_idx = sound_dict[\"<sos>\"]\n",
    "eos_idx = sound_dict[\"<eos>\"]"
   ]
  },
  {
   "cell_type": "code",
   "execution_count": 3,
   "id": "82e09ca1-7bf6-424c-91f9-08aee8652f3c",
   "metadata": {},
   "outputs": [
    {
     "name": "stdout",
     "output_type": "stream",
     "text": [
      "torch.Size([10002, 196, 64])\n",
      "torch.Size([10002, 6])\n",
      "torch.Size([1250, 182, 64])\n",
      "torch.Size([1250, 6])\n",
      "101\n",
      "13\n"
     ]
    }
   ],
   "source": [
    "# 데이터 불러오기\n",
    "\n",
    "def dataload(x_file_name, t_file_name, batch_size, shuffle, device) :\n",
    "    with open(x_file_name, mode = \"rb\") as f:\n",
    "        tensor_x = torch.tensor(pickle.load(f), dtype = torch.float, device = device)\n",
    "        print(tensor_x.shape)\n",
    "    with open(t_file_name, mode = \"rb\") as f:\n",
    "        tensor_t = torch.tensor(pickle.load(f), dtype = torch.long, device = device)\n",
    "        print(tensor_t.shape)\n",
    "    return DataLoader(list(zip(tensor_x, tensor_t)), batch_size=batch_size, shuffle=shuffle)\n",
    "\n",
    "train_dataloader = dataload(\"data/sound_data_train.pkl\", \"data/text_data_train.pkl\", 100, True, device)\n",
    "test_dataloader = dataload(\"data/sound_data_test.pkl\", \"data/text_data_test.pkl\", 100, True, device)\n",
    "\n",
    "print(len(train_dataloader))\n",
    "print(len(test_dataloader))"
   ]
  },
  {
   "cell_type": "code",
   "execution_count": 4,
   "id": "a9a52df1-6a6d-41c1-99a1-9989470d33c0",
   "metadata": {},
   "outputs": [],
   "source": [
    "# 신경만 미리 만들어 놓은거 불러오기\n",
    "\n",
    "from NN import Encoder\n",
    "from NN import Attention\n",
    "from NN import Decoder"
   ]
  },
  {
   "cell_type": "code",
   "execution_count": 5,
   "id": "7a53852d-2cdc-4062-b5ff-3389c12caed6",
   "metadata": {},
   "outputs": [],
   "source": [
    "\n",
    "encoder = Encoder(64, vectors.shape[1], num_layers=2, bidirectional=True)\n",
    "decoder = Decoder(vectors, vectors.shape[1], num_layers=2, bidirectional=True, max_len=6, pad_idx=pad_idx, sos_idx=sos_idx)"
   ]
  }
 ],
 "metadata": {
  "kernelspec": {
   "display_name": "Python 3 (ipykernel)",
   "language": "python",
   "name": "python3"
  },
  "language_info": {
   "codemirror_mode": {
    "name": "ipython",
    "version": 3
   },
   "file_extension": ".py",
   "mimetype": "text/x-python",
   "name": "python",
   "nbconvert_exporter": "python",
   "pygments_lexer": "ipython3",
   "version": "3.12.7"
  }
 },
 "nbformat": 4,
 "nbformat_minor": 5
}
