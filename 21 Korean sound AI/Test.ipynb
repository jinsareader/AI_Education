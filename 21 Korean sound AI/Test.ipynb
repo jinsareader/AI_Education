{
 "cells": [
  {
   "cell_type": "code",
   "execution_count": 1,
   "id": "b6d01fba-6cbb-4279-8e6c-f3a26667eaa0",
   "metadata": {},
   "outputs": [],
   "source": [
    "#  신경망 출력값과 정답 비교\n",
    "import os\n",
    "import sys\n",
    "sys.path.append(os.path.join(os.path.dirname(\"\"), \"..\"))\n",
    "import custom\n",
    "\n",
    "import pickle\n",
    "import numpy as np\n",
    "import onnxruntime\n"
   ]
  },
  {
   "cell_type": "code",
   "execution_count": 2,
   "id": "1ee6d8f1-8a21-4c4c-af94-c92c2f408fdd",
   "metadata": {},
   "outputs": [],
   "source": [
    "# 테스트 할 데이터 불러오기\n",
    "\n",
    "with open(\"data/sound_data_train.pkl\", mode = \"rb\") as f:\n",
    "    sound_data = pickle.load(f)\n",
    "with open(\"data/text_data_train.pkl\", mode = \"rb\") as f:\n",
    "    text_data = pickle.load(f)\n",
    "\n",
    "# 음절 사전\n",
    "with open(\"sound_dict.pkl\", mode = \"rb\") as f:\n",
    "    sound_dict = pickle.load(f) #음절-라벨 사전\n",
    "num_dict = {v : k for k, v in sound_dict.items()} #라벨-음절 사전"
   ]
  },
  {
   "cell_type": "code",
   "execution_count": 3,
   "id": "58d2cf82-ef31-4425-b367-d71cb4540322",
   "metadata": {},
   "outputs": [],
   "source": [
    "# encoder, decoder 불러오기\n",
    "\n",
    "encoder = onnxruntime.InferenceSession(\"encoder.onnx\", providers=[\"CPUExecutionProvider\"])\n",
    "decoder = onnxruntime.InferenceSession(\"decoder.onnx\", providers=[\"CPUExecutionProvider\"])\n",
    "\n",
    "encoder_inputs = encoder.get_inputs()\n",
    "decoder_inputs = decoder.get_inputs()"
   ]
  },
  {
   "cell_type": "code",
   "execution_count": 4,
   "id": "e8e62677-7f16-4916-9404-f73b4bc5f7dc",
   "metadata": {},
   "outputs": [
    {
     "name": "stdout",
     "output_type": "stream",
     "text": [
      "캐삭빵<eos>\n",
      "쿼드라킬<eos>\n",
      "크리<eos>\n",
      "크카<eos>\n",
      "탑신병자<eos>\n",
      "탱커<eos>\n",
      "템빨<eos>\n",
      "템전<eos>\n",
      "트리플킬<eos>\n",
      "팀킬<eos>\n",
      "파덜어택<eos>\n",
      "펜타킬<eos>\n",
      "풀방<eos>\n",
      "피방<eos>\n",
      "피흡<eos>\n",
      "필수템<eos>\n",
      "팀킬<eos>\n",
      "하스데<eos>\n",
      "한타<eos>\n",
      "헤드샷<eos>\n"
     ]
    }
   ],
   "source": [
    "sos_idx = sound_dict['<sos>']\n",
    "eos_idx = sound_dict['<eos>']\n",
    "\n",
    "start_idx = 2001\n",
    "end_idx = 2020\n",
    "\n",
    "outputs_list = []\n",
    "for i in range(start_idx, end_idx+1) :\n",
    "    total_output = []\n",
    "    \n",
    "    x = sound_data[i:i+1] #소리 데이터 하나\n",
    "    # print(x.shape)\n",
    "    \n",
    "    # encoder 계산\n",
    "    x = x.astype(np.float32)\n",
    "    inputs = {encoder_inputs[0].name : x}\n",
    "    outs = encoder.run(None, inputs)\n",
    "    encoder_y = outs[0]\n",
    "    h = outs[1]\n",
    "    c = outs[2]\n",
    "    # decoder 계산\n",
    "    x = np.full((1,1), sos_idx).astype(np.int64) #처음 x가 필요, <SOS부터 시작>\n",
    "    while True:\n",
    "        inputs = {decoder_inputs[0].name : x, decoder_inputs[1].name : h, decoder_inputs[2].name : c, decoder_inputs[3].name : encoder_y}\n",
    "        outs = decoder.run(None, inputs)\n",
    "        decoder_y = outs[0]\n",
    "        h = outs[1]\n",
    "        c = outs[2]\n",
    "        x = np.argmax(decoder_y, axis = -1)\n",
    "        total_output.append(num_dict[x.item()])\n",
    "        if x.item() == eos_idx :\n",
    "            break\n",
    "    outputs_list.append(\"\".join(total_output))\n",
    "\n",
    "for a in outputs_list :\n",
    "    print(a)"
   ]
  },
  {
   "cell_type": "code",
   "execution_count": 5,
   "id": "a4fb9131-6c6d-404c-9ce8-7a222930fc25",
   "metadata": {},
   "outputs": [
    {
     "name": "stdout",
     "output_type": "stream",
     "text": [
      "캐삭빵<eos><pad><pad>\n",
      "쿼드라킬<eos><pad>\n",
      "크리<eos><pad><pad><pad>\n",
      "크카<eos><pad><pad><pad>\n",
      "탑신병자<eos><pad>\n",
      "탱커<eos><pad><pad><pad>\n",
      "템빨<eos><pad><pad><pad>\n",
      "템전<eos><pad><pad><pad>\n",
      "트리플킬<eos><pad>\n",
      "팀킬<eos><pad><pad><pad>\n",
      "파덜어택<eos><pad>\n",
      "펜타킬<eos><pad><pad>\n",
      "풀방<eos><pad><pad><pad>\n",
      "피방<eos><pad><pad><pad>\n",
      "피흡<eos><pad><pad><pad>\n",
      "필수템<eos><pad><pad>\n",
      "필킬<eos><pad><pad><pad>\n",
      "하스데<eos><pad><pad>\n",
      "한타<eos><pad><pad><pad>\n",
      "헤드샷<eos><pad><pad>\n"
     ]
    }
   ],
   "source": [
    "# print(text_data[start_idx:end_idx+1])\n",
    "\n",
    "text_list = []\n",
    "for i in range(start_idx, end_idx+1) :\n",
    "    text = custom.word_vectorize(text_data[i], num_dict)\n",
    "    text_list.append(\"\".join(text))\n",
    "\n",
    "for a in text_list :\n",
    "    print(a)"
   ]
  },
  {
   "cell_type": "code",
   "execution_count": null,
   "id": "6dc8b4f8-8e9a-4281-bd17-600920d0c24c",
   "metadata": {},
   "outputs": [],
   "source": []
  }
 ],
 "metadata": {
  "kernelspec": {
   "display_name": "Python 3 (ipykernel)",
   "language": "python",
   "name": "python3"
  },
  "language_info": {
   "codemirror_mode": {
    "name": "ipython",
    "version": 3
   },
   "file_extension": ".py",
   "mimetype": "text/x-python",
   "name": "python",
   "nbconvert_exporter": "python",
   "pygments_lexer": "ipython3",
   "version": "3.12.7"
  }
 },
 "nbformat": 4,
 "nbformat_minor": 5
}
