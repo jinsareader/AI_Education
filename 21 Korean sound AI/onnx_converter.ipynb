{
 "cells": [
  {
   "cell_type": "code",
   "execution_count": 1,
   "id": "abccdd58-e887-4077-b4ab-0a97edf2bf99",
   "metadata": {},
   "outputs": [],
   "source": [
    "import torch\n",
    "import torch.nn as nn\n",
    "import torch.nn.functional as F\n",
    "\n",
    "import torch.onnx\n",
    "import onnx\n",
    "import onnxruntime\n",
    "import numpy as np"
   ]
  },
  {
   "cell_type": "code",
   "execution_count": 2,
   "id": "61d44f69-d9a9-493e-8836-f4f6b8fa9424",
   "metadata": {},
   "outputs": [],
   "source": [
    "# 함수 선언\n",
    "\n",
    "from NN import Encoder\n",
    "from NN import Attention\n",
    "from NN import Decoder"
   ]
  },
  {
   "cell_type": "code",
   "execution_count": 3,
   "id": "5e2b8cc9-3c82-4f5b-8dd3-d6f5b7b3e7db",
   "metadata": {},
   "outputs": [
    {
     "name": "stdout",
     "output_type": "stream",
     "text": [
      "Encoder(\n",
      "  (norm): LayerNorm((64,), eps=1e-05, elementwise_affine=True)\n",
      "  (rnn): LSTM(64, 76, num_layers=2, batch_first=True, dropout=0.1, bidirectional=True)\n",
      "  (dropout): Dropout(p=0.1, inplace=False)\n",
      ")\n"
     ]
    }
   ],
   "source": [
    "# encoder 함수 불러오기\n",
    "\n",
    "encoder = torch.load(\"encoder.pt\", weights_only=False, map_location=\"cpu\")\n",
    "encoder.eval()\n",
    "\n",
    "print(encoder)"
   ]
  },
  {
   "cell_type": "code",
   "execution_count": 4,
   "id": "d3d92989-52e4-4dbe-8993-21e5aadf7848",
   "metadata": {},
   "outputs": [
    {
     "name": "stderr",
     "output_type": "stream",
     "text": [
      "C:\\Users\\Administrator\\anaconda3\\Lib\\site-packages\\torch\\onnx\\symbolic_opset9.py:4244: UserWarning: Exporting a model to ONNX with a batch_size other than 1, with a variable length with LSTM can cause an error when running the ONNX model with a different batch size. Make sure to save the model with a batch size of 1, or define the initial states (h0/c0) as inputs of the model. \n",
      "  warnings.warn(\n"
     ]
    }
   ],
   "source": [
    "# encoder 함수 저장\n",
    "\n",
    "x = torch.randn(1,100,64) # dummy 입력값 0번째 : 소리갯수, 1번째 : 소리길이, 2번째 : 소리벡터차원 \n",
    "dynamic_axes = {'x' : {1 : 'f'}, 'y' : {1 : 'f'}} #소리 길이만 가변 길이로 정하겠습니다 (소리 하나씩만 처리 가능한 onnx 신경망으로 저장)\n",
    "\n",
    "torch.onnx.export(\n",
    "    encoder,\n",
    "    x,\n",
    "    \"encoder.onnx\",\n",
    "    export_params=True, #W, b값\n",
    "    opset_version=20,\n",
    "    do_constant_folding=True, #상수 저장 방식\n",
    "    input_names=['x'], #onnx내 입력값 이름\n",
    "    output_names=['y','h','c'], #onnx내 출력값 이름\n",
    "    dynamic_axes=dynamic_axes, #가변길이 차원 지정\n",
    ")"
   ]
  },
  {
   "cell_type": "code",
   "execution_count": 5,
   "id": "94a515f8-656c-4be5-90e0-ec1d823f2e03",
   "metadata": {},
   "outputs": [],
   "source": [
    "onnx_F = onnxruntime.InferenceSession(\"encoder.onnx\", providers=[\"CPUExecutionProvider\"])\n",
    "np_x = np.random.randn(1,150,64).astype(np.float32)\n",
    "x = torch.tensor(np_x, dtype = torch.float)\n",
    "\n",
    "y, h, c = encoder(x) # torch 결과값\n",
    "\n",
    "inputs = {onnx_F.get_inputs()[0].name : np_x} \n",
    "outs = onnx_F.run(None, inputs) \n",
    "onnx_y = outs[0]\n",
    "onnx_h = outs[1]\n",
    "onnx_c = outs[2] # onnx\n",
    "\n",
    "np.testing.assert_allclose(y.detach().numpy(), onnx_y, rtol=1e-03, atol=1e-05)\n",
    "np.testing.assert_allclose(h.detach().numpy(), onnx_h, rtol=1e-03, atol=1e-05)\n",
    "np.testing.assert_allclose(c.detach().numpy(), onnx_c, rtol=1e-03, atol=1e-05)"
   ]
  },
  {
   "cell_type": "code",
   "execution_count": null,
   "id": "7163f34e-a959-462f-a328-1f5c55a21ebf",
   "metadata": {},
   "outputs": [],
   "source": []
  },
  {
   "cell_type": "code",
   "execution_count": 6,
   "id": "25dcf6ee-5a0d-43b8-b8ba-8f55f81fd9d3",
   "metadata": {},
   "outputs": [
    {
     "name": "stdout",
     "output_type": "stream",
     "text": [
      "Decoder(\n",
      "  (embedding): Embedding(11181, 76, padding_idx=0)\n",
      "  (attention): Attention(\n",
      "    (U): Linear(in_features=152, out_features=152, bias=True)\n",
      "    (W): Linear(in_features=152, out_features=152, bias=True)\n",
      "    (V): Linear(in_features=152, out_features=1, bias=True)\n",
      "  )\n",
      "  (rnn): LSTM(228, 76, num_layers=2, batch_first=True, dropout=0.1, bidirectional=True)\n",
      "  (f): Linear(in_features=380, out_features=11181, bias=True)\n",
      ")\n"
     ]
    }
   ],
   "source": [
    "# decoder 함수 불러오기\n",
    "\n",
    "decoder = torch.load(\"decoder.pt\", weights_only=False, map_location='cpu')\n",
    "decoder.eval()\n",
    "\n",
    "decoder.forward = decoder.forward_cal\n",
    "\n",
    "print(decoder)"
   ]
  },
  {
   "cell_type": "code",
   "execution_count": 7,
   "id": "9e37dc48-50f8-45f2-9c9a-d38e05ab8278",
   "metadata": {},
   "outputs": [],
   "source": [
    "# decoder 함수 저장\n",
    "\n",
    "x = torch.randint(0,11181,size = (1,1)).type(torch.long) # 더미 입력값 지정\n",
    "dynamic_axes = {'encoder_y' : {1 : 'f'}} \n",
    "#encoder 소리 길이만 가변적, 문장 하나만 처리하기 때문에 비가변적, decoder에 단어 넣을 때는 단어 하나만 넣기 때문에 비가변적\n",
    "\n",
    "torch.onnx.export(\n",
    "    decoder,\n",
    "    (x, h, c, y),\n",
    "    \"decoder.onnx\",\n",
    "    export_params=True,\n",
    "    opset_version=20,\n",
    "    do_constant_folding=True,\n",
    "    input_names = ['x','prev_h','prev_c','encoder_y'],\n",
    "    output_names = ['y','h','c'],\n",
    "    dynamic_axes=dynamic_axes\n",
    ")"
   ]
  }
 ],
 "metadata": {
  "kernelspec": {
   "display_name": "Python 3 (ipykernel)",
   "language": "python",
   "name": "python3"
  },
  "language_info": {
   "codemirror_mode": {
    "name": "ipython",
    "version": 3
   },
   "file_extension": ".py",
   "mimetype": "text/x-python",
   "name": "python",
   "nbconvert_exporter": "python",
   "pygments_lexer": "ipython3",
   "version": "3.12.7"
  }
 },
 "nbformat": 4,
 "nbformat_minor": 5
}
