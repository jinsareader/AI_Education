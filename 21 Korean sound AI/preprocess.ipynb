{
 "cells": [
  {
   "cell_type": "code",
   "execution_count": 1,
   "id": "8f7121ce-c15c-40fd-8dce-eee912f77b7c",
   "metadata": {},
   "outputs": [],
   "source": [
    "import os\n",
    "import sys\n",
    "import IPython\n",
    "os.environ['NUMBA_CACHE_DIR'] = IPython.paths.get_ipython_cache_dir()\n",
    "sys.path.append(os.path.join(os.path.dirname(\"\"), \"..\"))\n",
    "import custom\n",
    "import numpy as np\n",
    "\n",
    "import librosa # 음향 데이터 전처리(melspectogram)\n",
    "import json # 텍스트 데이터\n",
    "import pickle # 전처리 데이터 저장, 소리 사전\n",
    "from tqdm import tqdm"
   ]
  },
  {
   "cell_type": "code",
   "execution_count": 2,
   "id": "13476e65-da33-4af4-be27-7b54c4da7ac3",
   "metadata": {},
   "outputs": [
    {
     "name": "stdout",
     "output_type": "stream",
     "text": [
      "11181\n",
      "5538\n",
      "11174\n"
     ]
    }
   ],
   "source": [
    "# 소리 사전 불러오기\n",
    "\n",
    "with open(\"sound_dict.pkl\", mode = \"rb\") as f:\n",
    "    sound_dict = pickle.load(f)\n",
    "\n",
    "print(len(sound_dict))\n",
    "print(sound_dict['송'])\n",
    "print(sound_dict['<eos>'])"
   ]
  },
  {
   "cell_type": "code",
   "execution_count": 3,
   "id": "46283b42-7aca-4c8f-9fc6-2a6daaa523b0",
   "metadata": {},
   "outputs": [],
   "source": [
    "\n",
    "\n",
    "def preprocess(text_dir, sound_dir, text_save_dir, sound_save_dir, freq = 16000, n_mels = 64) :\n",
    "    text_folder_dir_list = os.listdir(text_dir)\n",
    "    \n",
    "    # print(text_folder_dir_list)\n",
    "    \n",
    "    sound_list = []\n",
    "    sound_len = []\n",
    "    text_list = []\n",
    "    text_len = []\n",
    "    \n",
    "    print(\"데이터 전처리\")\n",
    "    for folder in text_folder_dir_list : #소리 폴더 이름\n",
    "        if folder.find(\".\") >= 0 : # 폴더가 아닌 것 (확장자 표시하는 . 이 존재하는 것)\n",
    "            continue\n",
    "        sound_folder = folder.replace(\"L\",\"S\") # 소리 폴더 이름\n",
    "        sound_folder_dir = sound_dir + \"/\" + sound_folder # 소리 폴더 위치\n",
    "        # print(sound_folder_dir)\n",
    "        folder_dir = text_dir + \"/\" + folder # 텍스트 폴더 위치\n",
    "        text_file_dir_list = os.listdir(folder_dir)\n",
    "        # print(text_file_dir_list)\n",
    "        for file in tqdm(text_file_dir_list) : #텍스트 파일 이름\n",
    "            if file.find(\".json\") < 0 : #json 파일이 아닌 것\n",
    "                continue\n",
    "            file_dir = folder_dir + \"/\" + file #텍스트 파일 위치\n",
    "            with open(file_dir, mode = \"r\", encoding=\"UTF8\") as f :\n",
    "                text_data = json.load(f)\n",
    "            # print(text_data)\n",
    "            text = text_data['Dialogs'][0]['SpeakerText']\n",
    "            # print(text)\n",
    "            text = list(text) # 텍스트를 한 글자 씩 나눈 것\n",
    "            text.append('<eos>') \n",
    "            text = custom.word_vectorize(text, sound_dict)\n",
    "            text_list.append(text)\n",
    "            text_len.append(len(text))\n",
    "            \n",
    "            sound_file = text_data['MediaUrl'].split(\"/\")[-1]\n",
    "            sound_file_dir = sound_folder_dir + '/' + sound_file \n",
    "            \n",
    "            signal, freq = librosa.load(sound_file_dir, sr = freq)\n",
    "            S = librosa.feature.melspectrogram(y = signal, sr = freq, n_mels = n_mels) #멜스펙토그램 전처리\n",
    "            S = S.transpose(1,0)\n",
    "            # print(S.shape)\n",
    "            sound_list.append(S)\n",
    "            sound_len.append(len(S))\n",
    "    \n",
    "    max_text_len = max(text_len)\n",
    "    max_sound_len = max(sound_len)\n",
    "    \n",
    "    print(\"텍스트 패딩\")\n",
    "    pad_idx = sound_dict['<pad>']\n",
    "    for i in tqdm(range(len(text_list))) :\n",
    "        for j in range(max_text_len - len(text_list[i])) :\n",
    "            text_list[i].append(pad_idx)\n",
    "    text_list = np.array(text_list)\n",
    "    print(\"텍스트 데이터 형태 : \", text_list.shape)\n",
    "    \n",
    "    print(\"소리 패딩\")\n",
    "    for i in tqdm(range(len(sound_list))) :\n",
    "        pad_len = max_sound_len - len(sound_list[i])\n",
    "        if pad_len <= 0 :\n",
    "            continue\n",
    "        pad_array = np.zeros((pad_len,n_mels))\n",
    "        sound_list[i] = np.append(sound_list[i], pad_array, axis = 0)\n",
    "    sound_list = np.array(sound_list)\n",
    "    print(\"소리 데이터 형태 : \", sound_list.shape)\n",
    "    \n",
    "    print(\"데이터 저장\")\n",
    "    with open(sound_save_dir, mode = \"wb\") as f:\n",
    "        pickle.dump(sound_list, f)\n",
    "    with open(text_save_dir, mode = \"wb\") as f:\n",
    "        pickle.dump(text_list, f)    \n",
    "    print(\"저장 완료\")"
   ]
  },
  {
   "cell_type": "code",
   "execution_count": 4,
   "id": "9a801e43-ad78-4101-a529-fa570e3a94e1",
   "metadata": {},
   "outputs": [
    {
     "name": "stdout",
     "output_type": "stream",
     "text": [
      "데이터 전처리\n"
     ]
    },
    {
     "name": "stderr",
     "output_type": "stream",
     "text": [
      "100%|████████████████████████████████████████████████████████████████████████████████| 107/107 [00:05<00:00, 18.83it/s]\n",
      "100%|████████████████████████████████████████████████████████████████████████████████| 307/307 [00:05<00:00, 59.01it/s]\n",
      "100%|████████████████████████████████████████████████████████████████████████████████| 311/311 [00:05<00:00, 60.19it/s]\n",
      "100%|████████████████████████████████████████████████████████████████████████████████| 293/293 [00:04<00:00, 59.18it/s]\n",
      "100%|████████████████████████████████████████████████████████████████████████████████| 232/232 [00:04<00:00, 55.83it/s]\n"
     ]
    },
    {
     "name": "stdout",
     "output_type": "stream",
     "text": [
      "텍스트 패딩\n"
     ]
    },
    {
     "name": "stderr",
     "output_type": "stream",
     "text": [
      "100%|██████████████████████████████████████████████████████████████████████████| 1250/1250 [00:00<00:00, 878940.49it/s]\n"
     ]
    },
    {
     "name": "stdout",
     "output_type": "stream",
     "text": [
      "텍스트 데이터 형태 :  (1250, 6)\n",
      "소리 패딩\n"
     ]
    },
    {
     "name": "stderr",
     "output_type": "stream",
     "text": [
      "100%|███████████████████████████████████████████████████████████████████████████| 1250/1250 [00:00<00:00, 10496.17it/s]\n"
     ]
    },
    {
     "name": "stdout",
     "output_type": "stream",
     "text": [
      "소리 데이터 형태 :  (1250, 182, 64)\n",
      "데이터 저장\n",
      "저장 완료\n",
      "데이터 전처리\n"
     ]
    },
    {
     "name": "stderr",
     "output_type": "stream",
     "text": [
      "100%|████████████████████████████████████████████████████████████████████████████████| 857/857 [00:14<00:00, 60.40it/s]\n",
      "100%|██████████████████████████████████████████████████████████████████████████████| 2462/2462 [00:43<00:00, 56.29it/s]\n",
      "100%|██████████████████████████████████████████████████████████████████████████████| 2478/2478 [00:47<00:00, 52.42it/s]\n",
      "100%|██████████████████████████████████████████████████████████████████████████████| 2351/2351 [00:47<00:00, 49.09it/s]\n",
      "100%|██████████████████████████████████████████████████████████████████████████████| 1854/1854 [00:39<00:00, 46.55it/s]\n"
     ]
    },
    {
     "name": "stdout",
     "output_type": "stream",
     "text": [
      "텍스트 패딩\n"
     ]
    },
    {
     "name": "stderr",
     "output_type": "stream",
     "text": [
      "100%|████████████████████████████████████████████████████████████████████████| 10002/10002 [00:00<00:00, 847691.98it/s]\n"
     ]
    },
    {
     "name": "stdout",
     "output_type": "stream",
     "text": [
      "텍스트 데이터 형태 :  (10002, 6)\n",
      "소리 패딩\n"
     ]
    },
    {
     "name": "stderr",
     "output_type": "stream",
     "text": [
      "100%|██████████████████████████████████████████████████████████████████████████| 10002/10002 [00:01<00:00, 6330.86it/s]\n"
     ]
    },
    {
     "name": "stdout",
     "output_type": "stream",
     "text": [
      "소리 데이터 형태 :  (10002, 196, 64)\n",
      "데이터 저장\n",
      "저장 완료\n"
     ]
    }
   ],
   "source": [
    "os.makedirs('data/', exist_ok = True)\n",
    "\n",
    "text_dir = \"음성 자료/test/label\"\n",
    "sound_dir = \"음성 자료/test/data\"\n",
    "\n",
    "preprocess(text_dir, sound_dir, \"data/text_data_test.pkl\", \"data/sound_data_test.pkl\")\n",
    "\n",
    "\n",
    "text_dir = \"음성 자료/train/label\"\n",
    "sound_dir = \"음성 자료/train/data\"\n",
    "\n",
    "preprocess(text_dir, sound_dir, \"data/text_data_train.pkl\", \"data/sound_data_train.pkl\")"
   ]
  }
 ],
 "metadata": {
  "kernelspec": {
   "display_name": "Python 3 (ipykernel)",
   "language": "python",
   "name": "python3"
  },
  "language_info": {
   "codemirror_mode": {
    "name": "ipython",
    "version": 3
   },
   "file_extension": ".py",
   "mimetype": "text/x-python",
   "name": "python",
   "nbconvert_exporter": "python",
   "pygments_lexer": "ipython3",
   "version": "3.12.7"
  }
 },
 "nbformat": 4,
 "nbformat_minor": 5
}
