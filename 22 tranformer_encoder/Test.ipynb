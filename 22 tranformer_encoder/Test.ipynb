{
 "cells": [
  {
   "cell_type": "code",
   "execution_count": 1,
   "id": "cc3cf421-f410-415f-b21e-4f4b02ab3fea",
   "metadata": {},
   "outputs": [],
   "source": [
    "# 단어-라벨 dict 불러오기\n",
    "# onnx 불러오기\n",
    "\n",
    "# 문장 입력하고\n",
    "# 문장 tokenize and labeling (전처리)\n",
    "# 문장을 신경망 안에 넣어서\n",
    "# 결과값 해석"
   ]
  },
  {
   "cell_type": "code",
   "execution_count": 2,
   "id": "469a7fe3-b663-40b2-a399-70f5cfb54eb0",
   "metadata": {},
   "outputs": [],
   "source": [
    "# 모듈 import\n",
    "import os\n",
    "import sys\n",
    "sys.path.append(os.path.join(os.path.dirname(\"\"), \"..\"))\n",
    "import custom\n",
    "\n",
    "import numpy as np\n",
    "import pickle\n",
    "import onnxruntime\n",
    "\n",
    "from kiwipiepy import Kiwi\n",
    "kiwi = Kiwi()"
   ]
  },
  {
   "cell_type": "code",
   "execution_count": 3,
   "id": "07ed2806-7b9e-4021-a78c-f79a2e869f48",
   "metadata": {},
   "outputs": [
    {
     "name": "stdout",
     "output_type": "stream",
     "text": [
      "30187\n"
     ]
    }
   ],
   "source": [
    "# 감정 list\n",
    "targets = ['공포', '놀람', '분노', '슬픔', '중립', '행복', '혐오']\n",
    "\n",
    "# 단어-라벨 dict 불러오기\n",
    "with open(\"korean_word.pkl\", mode = \"rb\") as f:\n",
    "    word_dict = pickle.load(f)\n",
    "\n",
    "print(len(word_dict))"
   ]
  },
  {
   "cell_type": "code",
   "execution_count": 4,
   "id": "50c767ce-afb6-4650-b0ec-58ecc126a0f1",
   "metadata": {},
   "outputs": [],
   "source": [
    "# 신경망 불러오기\n",
    "\n",
    "F = onnxruntime.InferenceSession(\"encoder.onnx\", providers=[\"CPUExecutionProvider\"])\n"
   ]
  },
  {
   "cell_type": "code",
   "execution_count": 5,
   "id": "b889a44c-a8e3-43fe-9238-7c977350891e",
   "metadata": {},
   "outputs": [],
   "source": [
    "# 함수들 구현\n",
    "def preprocess(text) :\n",
    "    word_list = []\n",
    "    text = custom.text_preprocess_kor(text, end_mark=True, chosung=False)\n",
    "    temp = kiwi.tokenize(text, z_coda=True, compatible_jamo=True, split_complex=True)\n",
    "    for w in temp :\n",
    "        word_list.append(w.form)\n",
    "    label = custom.word_vectorize(word_list, word_dict)\n",
    "    label = [label] # 차원만 2차원으로 하나 늘려주기\n",
    "\n",
    "    unk_list = custom.get_unk_words(word_list, word_dict) # 단어 사전에 없는단어 찾는 함수\n",
    "\n",
    "    return label, unk_list\n",
    "\n",
    "def cal(x) :\n",
    "    x = np.array(x).astype(np.int64)\n",
    "    inputs = {F.get_inputs()[0].name : x}\n",
    "    outs = F.run(None, inputs)\n",
    "    y = outs[0]\n",
    "    return y\n",
    "\n",
    "def get_argmax(y) :\n",
    "    argmax = np.argmax(y, axis = -1).item()\n",
    "    return f\"감정 : {targets[argmax]}\"\n",
    "\n",
    "def get_softmax(y) :\n",
    "    softmax = (np.exp(y - y.max())) / (np.sum(np.exp(y - y.max())))\n",
    "    softmax = (softmax * 100).astype(np.int16).squeeze()\n",
    "    text = \"\"\n",
    "    for i in range(len(targets)) :\n",
    "        temp = f\"\\t{targets[i]} : {softmax[i].item()}\\n\"\n",
    "        text += temp\n",
    "    return text\n",
    "        "
   ]
  },
  {
   "cell_type": "code",
   "execution_count": 8,
   "id": "fa9c361b-0ee2-40a0-9bbb-3ed6d06ba50c",
   "metadata": {},
   "outputs": [
    {
     "name": "stdin",
     "output_type": "stream",
     "text": [
      "문장을 입력하세요 :  화났어\n"
     ]
    },
    {
     "name": "stdout",
     "output_type": "stream",
     "text": [
      "[[-2.276331   -0.52149147  0.9693935  -1.258428    1.2194386  -2.2651768\n",
      "  -2.056033  ]]\n",
      "감정 : 중립\n",
      "\t공포 : 1\n",
      "\t놀람 : 8\n",
      "\t분노 : 36\n",
      "\t슬픔 : 3\n",
      "\t중립 : 46\n",
      "\t행복 : 1\n",
      "\t혐오 : 1\n",
      "\n"
     ]
    }
   ],
   "source": [
    "# 문장 입력하고\n",
    "query = input(\"문장을 입력하세요 : \")\n",
    "# 문장 tokenize and labeling (전처리)\n",
    "label, unk = preprocess(query)\n",
    "# 문장을 신경망 안에 넣어서\n",
    "y = cal(label)\n",
    "# 결과값 해석\n",
    "print(y)\n",
    "print(get_argmax(y))\n",
    "print(get_softmax(y))"
   ]
  },
  {
   "cell_type": "code",
   "execution_count": 7,
   "id": "928e94c1-f926-471b-a1b8-9d98952bbd31",
   "metadata": {},
   "outputs": [],
   "source": [
    "# test = \"안녕하세요 반갑습니다!\"\n",
    "\n",
    "# temp = kiwi.tokenize(test)\n",
    "# print(temp)"
   ]
  },
  {
   "cell_type": "code",
   "execution_count": null,
   "id": "669c37e9-a06f-4736-be1b-cb7a8f200369",
   "metadata": {},
   "outputs": [],
   "source": []
  }
 ],
 "metadata": {
  "kernelspec": {
   "display_name": "Python 3 (ipykernel)",
   "language": "python",
   "name": "python3"
  },
  "language_info": {
   "codemirror_mode": {
    "name": "ipython",
    "version": 3
   },
   "file_extension": ".py",
   "mimetype": "text/x-python",
   "name": "python",
   "nbconvert_exporter": "python",
   "pygments_lexer": "ipython3",
   "version": "3.12.7"
  }
 },
 "nbformat": 4,
 "nbformat_minor": 5
}
