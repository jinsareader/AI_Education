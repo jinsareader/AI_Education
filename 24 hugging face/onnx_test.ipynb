{
 "cells": [
  {
   "cell_type": "code",
   "execution_count": 1,
   "id": "9d4a2b62-4b47-4c33-95ea-dec96c20777b",
   "metadata": {},
   "outputs": [],
   "source": [
    "import sys\n",
    "import os\n",
    "import IPython\n",
    "os.environ['NUMBA_CACHE_DIR'] = IPython.paths.get_ipython_cache_dir() # librosa 충돌 방지\n",
    "sys.path.append(os.path.join(os.path.dirname(\"\"), \"..\")) # custom import 용도\n",
    "import custom\n",
    "import numpy as np \n",
    "\n",
    "from transformers import AutoProcessor, AutoModelForCTC # hugging face 전처리 함수, 신경망 함수\n",
    "import json # 음절-라벨 사전\n",
    "import librosa # 소리 파일 불러오기\n",
    "\n",
    "import torch # torch.tensor 형태로 전처리, 신경망에서 출력 받아서 데이터 처리"
   ]
  },
  {
   "cell_type": "code",
   "execution_count": 2,
   "id": "fea0470c-3428-41e3-b4f4-c1c5b8899420",
   "metadata": {},
   "outputs": [],
   "source": [
    "# 전처리 함수 불러오기\n",
    "load_directory = './STT/'\n",
    "\n",
    "tokenizer = AutoProcessor.from_pretrained(load_directory)"
   ]
  },
  {
   "cell_type": "code",
   "execution_count": 3,
   "id": "a04ac88b",
   "metadata": {},
   "outputs": [
    {
     "name": "stdout",
     "output_type": "stream",
     "text": [
      "WARNING:tensorflow:From C:\\ProgramData\\anaconda3\\Lib\\site-packages\\tf_keras\\src\\losses.py:2976: The name tf.losses.sparse_softmax_cross_entropy is deprecated. Please use tf.compat.v1.losses.sparse_softmax_cross_entropy instead.\n",
      "\n"
     ]
    },
    {
     "name": "stderr",
     "output_type": "stream",
     "text": [
      "Using a slow image processor as `use_fast` is unset and a slow processor was saved with this model. `use_fast=True` will be the default behavior in v4.52, even if the model was saved with a slow processor. This will result in minor differences in outputs. You'll still be able to use a slow processor with `use_fast=False`.\n",
      "C:\\ProgramData\\anaconda3\\Lib\\site-packages\\transformers\\models\\wav2vec2\\modeling_wav2vec2.py:839: TracerWarning: Converting a tensor to a Python boolean might cause the trace to be incorrect. We can't record the data flow of Python values, so this value will be treated as a constant in the future. This means that the trace might not generalize to other inputs!\n",
      "  if attn_output.size() != (bsz, self.num_heads, tgt_len, self.head_dim):\n"
     ]
    }
   ],
   "source": [
    "# 신경망 함수 ONNX로 불러와서 저장하기\n",
    "from optimum.onnxruntime import ORTModelForCTC as ORT\n",
    "\n",
    "os.makedirs(\"onnx\", exist_ok=True)\n",
    "save_directory = \"./onnx/\"\n",
    "\n",
    "model = ORT.from_pretrained(load_directory, export=True)\n",
    "model.save_pretrained(save_directory)\n"
   ]
  },
  {
   "cell_type": "code",
   "execution_count": 4,
   "id": "7761f5ce",
   "metadata": {},
   "outputs": [],
   "source": [
    "# onnx 불러오기\n",
    "import onnxruntime\n",
    "\n",
    "model = onnxruntime.InferenceSession(\"onnx/model.onnx\", providers=[\"CPUExecutionProvider\"])"
   ]
  },
  {
   "cell_type": "code",
   "execution_count": 5,
   "id": "76ccf7be",
   "metadata": {},
   "outputs": [
    {
     "name": "stdout",
     "output_type": "stream",
     "text": [
      "1452\n"
     ]
    }
   ],
   "source": [
    "# 음절-라벨 사전 불러오기\n",
    "with open(\"STT/vocab.json\", mode = \"r\", encoding = \"UTF8\") as f:\n",
    "    sound_dict = json.load(f)\n",
    "    num_dict = {v : k for k, v in sound_dict.items()}\n",
    "\n",
    "print(len(sound_dict))"
   ]
  },
  {
   "cell_type": "code",
   "execution_count": 6,
   "id": "eab67668-30bf-4a48-8985-451445806de0",
   "metadata": {},
   "outputs": [
    {
     "name": "stdout",
     "output_type": "stream",
     "text": [
      "(52302,)\n",
      "float32\n",
      "16000\n",
      "-0.38356403 0.33580145\n",
      "\n",
      "[0. 0. 0. ... 0. 0. 0.]\n"
     ]
    }
   ],
   "source": [
    "# 테스트용 소리 파일 불러오기\n",
    "\n",
    "file = \"test.wav\"\n",
    "\n",
    "sig, freq = librosa.load(file, sr = 16000)\n",
    "print(sig.shape)\n",
    "print(sig.dtype)\n",
    "print(freq)\n",
    "print(sig.min(), sig.max())\n",
    "print()\n",
    "print(sig)"
   ]
  },
  {
   "cell_type": "code",
   "execution_count": 7,
   "id": "0aabdcc3",
   "metadata": {},
   "outputs": [
    {
     "name": "stdout",
     "output_type": "stream",
     "text": [
      "[[-0.00025988 -0.00025988 -0.00025988 ... -0.00025988 -0.00025988\n",
      "  -0.00025988]]\n",
      "(1, 52302)\n"
     ]
    }
   ],
   "source": [
    "# hugging face 전처리 함수\n",
    "\n",
    "data = tokenizer(sig, sampling_rate=freq, return_tensors=\"np\").input_values\n",
    "\n",
    "print(data)\n",
    "print(data.shape)"
   ]
  },
  {
   "cell_type": "code",
   "execution_count": 8,
   "id": "8f237f70",
   "metadata": {},
   "outputs": [
    {
     "name": "stdout",
     "output_type": "stream",
     "text": [
      "[[[  2.769337    -0.68285066  -5.853647   ...  16.073282   -11.053328\n",
      "   -11.028539  ]\n",
      "  [  2.5907173   -0.844246    -5.6037292  ...  19.421173   -12.814463\n",
      "   -12.8727    ]\n",
      "  [  2.7734795   -0.90178263  -5.6587214  ...  20.029228   -13.323929\n",
      "   -13.375254  ]\n",
      "  ...\n",
      "  [  0.8001082   -1.4135631   -6.508258   ...  21.919247   -13.695276\n",
      "   -13.874016  ]\n",
      "  [  5.0337906   -0.8160259   -7.1028633  ...  22.983784   -15.232948\n",
      "   -15.400426  ]\n",
      "  [ 20.932737     0.91462773  -2.1320825  ...   7.1835904   -5.4667106\n",
      "    -5.3573294 ]]]\n",
      "(1, 163, 1454)\n"
     ]
    }
   ],
   "source": [
    "# onnx 신경망 함수\n",
    "\n",
    "inputs = {model.get_inputs()[0].name : data}\n",
    "outs = model.run(None, inputs)\n",
    "y = outs[0]\n",
    "\n",
    "print(y)\n",
    "print(y.shape)"
   ]
  },
  {
   "cell_type": "code",
   "execution_count": 9,
   "id": "f0925a27",
   "metadata": {},
   "outputs": [
    {
     "name": "stdout",
     "output_type": "stream",
     "text": [
      "디법프 \n"
     ]
    }
   ],
   "source": [
    "# 결과값 해석\n",
    "\n",
    "argmax = np.argmax(y, axis = -1).squeeze().tolist() # numpy.array를 list로 변환\n",
    "\n",
    "text = custom.word_vectorize(argmax, num_dict)\n",
    "text = \"\".join(text).replace(\"[PAD]\",\"\").replace(\"|\",\" \")\n",
    "\n",
    "print(text)"
   ]
  }
 ],
 "metadata": {
  "kernelspec": {
   "display_name": "Python 3 (ipykernel)",
   "language": "python",
   "name": "python3"
  },
  "language_info": {
   "codemirror_mode": {
    "name": "ipython",
    "version": 3
   },
   "file_extension": ".py",
   "mimetype": "text/x-python",
   "name": "python",
   "nbconvert_exporter": "python",
   "pygments_lexer": "ipython3",
   "version": "3.12.7"
  }
 },
 "nbformat": 4,
 "nbformat_minor": 5
}
