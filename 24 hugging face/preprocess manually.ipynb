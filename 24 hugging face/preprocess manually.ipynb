{
 "cells": [
  {
   "cell_type": "code",
   "execution_count": null,
   "id": "6ca75e59-9eef-470e-a378-f6db0bfa5736",
   "metadata": {},
   "outputs": [],
   "source": [
    "import sys\n",
    "import os\n",
    "import IPython\n",
    "os.environ['NUMBA_CACHE_DIR'] = IPython.paths.get_ipython_cache_dir() # librosa 충돌 방지\n",
    "\n",
    "import librosa\n",
    "import numpy as np"
   ]
  },
  {
   "cell_type": "code",
   "execution_count": 25,
   "id": "68d0e3fd-d14e-411a-a521-814e49e92443",
   "metadata": {},
   "outputs": [
    {
     "name": "stdout",
     "output_type": "stream",
     "text": [
      "[[-0.0002599 -0.0002599 -0.0002599 ... -0.0002599 -0.0002599 -0.0002599]]\n",
      "(1, 52302)\n",
      "1.000000\n",
      "-0.000000\n"
     ]
    }
   ],
   "source": [
    "sig, freq = librosa.load(\"test.wav\", sr = 16000)\n",
    "\n",
    "data1 = (sig - sig.mean()) / sig.std()\n",
    "data1 = np.expand_dims(data1, axis = 0)\n",
    "\n",
    "print(data1)\n",
    "print(data1.shape)\n",
    "\n",
    "print(\"%f\" %(data1.std()))\n",
    "print(\"%f\" %(data1.mean()))"
   ]
  },
  {
   "cell_type": "code",
   "execution_count": 26,
   "id": "ff84edbc-4f37-4081-b875-41c45f09e0c2",
   "metadata": {},
   "outputs": [
    {
     "name": "stdout",
     "output_type": "stream",
     "text": [
      "[[-0.00025988 -0.00025988 -0.00025988 ... -0.00025988 -0.00025988\n",
      "  -0.00025988]]\n",
      "(1, 52302)\n",
      "0.999943\n",
      "-0.000000\n"
     ]
    }
   ],
   "source": [
    "from transformers import AutoProcessor # hugging face 전처리 함수, 신경망 함수\n",
    "load_directory = './STT/'\n",
    "tokenizer = AutoProcessor.from_pretrained(load_directory)\n",
    "data2 = tokenizer(sig, sampling_rate=freq, return_tensors=\"np\").input_values\n",
    "\n",
    "print(data2)\n",
    "print(data2.shape)\n",
    "\n",
    "print(\"%f\" %(data2.std()))\n",
    "print(\"%f\" %(data2.mean()))\n"
   ]
  },
  {
   "cell_type": "code",
   "execution_count": 28,
   "id": "f328653f-e7bc-44a6-a4b0-ca78be4fa1f7",
   "metadata": {},
   "outputs": [],
   "source": [
    "\n",
    "\n",
    "np.testing.assert_allclose(data1, data2, rtol=1e-03, atol=1e-05)"
   ]
  }
 ],
 "metadata": {
  "kernelspec": {
   "display_name": "base",
   "language": "python",
   "name": "python3"
  },
  "language_info": {
   "codemirror_mode": {
    "name": "ipython",
    "version": 3
   },
   "file_extension": ".py",
   "mimetype": "text/x-python",
   "name": "python",
   "nbconvert_exporter": "python",
   "pygments_lexer": "ipython3",
   "version": "3.12.7"
  }
 },
 "nbformat": 4,
 "nbformat_minor": 5
}
