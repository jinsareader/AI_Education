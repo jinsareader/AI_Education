{
 "cells": [
  {
   "cell_type": "code",
   "execution_count": null,
   "id": "9d4a2b62-4b47-4c33-95ea-dec96c20777b",
   "metadata": {},
   "outputs": [],
   "source": [
    "import sys\n",
    "import os\n",
    "import IPython\n",
    "os.environ['NUMBA_CACHE_DIR'] = IPython.paths.get_ipython_cache_dir() # librosa 충돌 방지\n",
    "sys.path.append(os.path.join(os.path.dirname(\"\"), \"..\")) # custom import 용도\n",
    "import custom\n",
    "import numpy as np \n",
    "\n",
    "from transformers import AutoProcessor, AutoModelForCTC # hugging face 전처리 함수, 신경망 함수\n",
    "import json # 음절-라벨 사전\n",
    "import librosa # 소리 파일 불러오기\n",
    "\n",
    "import torch # torch.tensor 형태로 전처리, 신경망에서 출력 받아서 데이터 처리"
   ]
  },
  {
   "cell_type": "code",
   "execution_count": null,
   "id": "fea0470c-3428-41e3-b4f4-c1c5b8899420",
   "metadata": {},
   "outputs": [],
   "source": [
    "# 전처리 함수, 신경망 함수 불러오기\n",
    "load_directory = './STT/'\n",
    "\n",
    "model = AutoModelForCTC.from_pretrained(load_directory)\n",
    "tokenizer = AutoProcessor.from_pretrained(load_directory)"
   ]
  },
  {
   "cell_type": "code",
   "execution_count": null,
   "id": "76ccf7be",
   "metadata": {},
   "outputs": [
    {
     "name": "stdout",
     "output_type": "stream",
     "text": [
      "1452\n"
     ]
    }
   ],
   "source": [
    "# 음절-라벨 사전 불러오기\n",
    "with open(\"STT/vocab.json\", mode = \"r\") as f:\n",
    "    sound_dict = json.load(f)\n",
    "    num_dict = {v : k for k, v in sound_dict.items()}\n",
    "\n",
    "print(len(sound_dict))"
   ]
  },
  {
   "cell_type": "code",
   "execution_count": null,
   "id": "eab67668-30bf-4a48-8985-451445806de0",
   "metadata": {},
   "outputs": [
    {
     "name": "stdout",
     "output_type": "stream",
     "text": [
      "(52302,)\n",
      "float32\n",
      "16000\n",
      "-0.38356403 0.33580145\n"
     ]
    }
   ],
   "source": [
    "# 테스트용 소리 파일 불러오기\n",
    "\n",
    "file = \"test.wav\"\n",
    "\n",
    "sig, freq = librosa.load(file, sr = 16000)\n",
    "print(sig.shape)\n",
    "print(sig.dtype)\n",
    "print(freq)\n",
    "print(sig.min(), sig.max())"
   ]
  },
  {
   "cell_type": "code",
   "execution_count": null,
   "id": "0aabdcc3",
   "metadata": {},
   "outputs": [
    {
     "name": "stdout",
     "output_type": "stream",
     "text": [
      "tensor([[-0.0003, -0.0003, -0.0003,  ..., -0.0003, -0.0003, -0.0003]])\n",
      "torch.Size([1, 52302])\n"
     ]
    }
   ],
   "source": [
    "# hugging face 전처리 함수\n",
    "\n",
    "data = tokenizer(sig, sampling_rate=freq, return_tensors=\"pt\").input_values\n",
    "print(data)\n",
    "print(data.shape)"
   ]
  },
  {
   "cell_type": "code",
   "execution_count": null,
   "id": "8f237f70",
   "metadata": {},
   "outputs": [
    {
     "name": "stdout",
     "output_type": "stream",
     "text": [
      "tensor([[[  2.7693,  -0.6829,  -5.8537,  ...,  16.0733, -11.0533, -11.0285],\n",
      "         [  2.5907,  -0.8442,  -5.6037,  ...,  19.4212, -12.8144, -12.8727],\n",
      "         [  2.7735,  -0.9018,  -5.6587,  ...,  20.0292, -13.3239, -13.3753],\n",
      "         ...,\n",
      "         [  0.8001,  -1.4136,  -6.5083,  ...,  21.9192, -13.6953, -13.8740],\n",
      "         [  5.0338,  -0.8160,  -7.1029,  ...,  22.9838, -15.2330, -15.4004],\n",
      "         [ 20.9327,   0.9146,  -2.1321,  ...,   7.1836,  -5.4667,  -5.3573]]],\n",
      "       grad_fn=<ViewBackward0>)\n",
      "torch.Size([1, 163, 1454])\n"
     ]
    }
   ],
   "source": [
    "# hugging face 신경망 함수\n",
    "\n",
    "y = model(data).logits\n",
    "print(y)\n",
    "print(y.shape)"
   ]
  },
  {
   "cell_type": "code",
   "execution_count": null,
   "id": "f0925a27",
   "metadata": {},
   "outputs": [
    {
     "name": "stdout",
     "output_type": "stream",
     "text": [
      "디법프 \n"
     ]
    }
   ],
   "source": [
    "# 결과값 해석\n",
    "\n",
    "argmax = torch.argmax(y, dim = -1).squeeze().detach().numpy().tolist() # torch data를 list로 변환\n",
    "\n",
    "text = custom.word_vectorize(argmax, num_dict)\n",
    "text = \"\".join(text).replace(\"[PAD]\",\"\").replace(\"|\",\" \")\n",
    "\n",
    "print(text)"
   ]
  }
 ],
 "metadata": {
  "kernelspec": {
   "display_name": "base",
   "language": "python",
   "name": "python3"
  },
  "language_info": {
   "codemirror_mode": {
    "name": "ipython",
    "version": 3
   },
   "file_extension": ".py",
   "mimetype": "text/x-python",
   "name": "python",
   "nbconvert_exporter": "python",
   "pygments_lexer": "ipython3",
   "version": "3.12.7"
  }
 },
 "nbformat": 4,
 "nbformat_minor": 5
}
